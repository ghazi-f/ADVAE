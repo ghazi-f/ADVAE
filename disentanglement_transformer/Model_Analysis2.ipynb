{
 "cells": [
  {
   "cell_type": "markdown",
   "metadata": {
    "collapsed": true
   },
   "source": [
    "# Instanciating the model\n"
   ]
  },
  {
   "cell_type": "code",
   "execution_count": 1,
   "metadata": {},
   "outputs": [
    {
     "name": "stderr",
     "output_type": "stream",
     "text": [
      "error loading _jsonnet (this is expected on Windows), treating C:\\Users\\ghazy\\AppData\\Local\\Temp\\tmpu16ks0t_\\config.json as plain json\n"
     ]
    },
    {
     "name": "stdout",
     "output_type": "stream",
     "text": [
      "Mean length:  8.900745464443235  Quantiles .25, 0.5, 0.7, and 0.9 : [ 7.  8. 10. 13. 14. 15.] std: 2.6633922182479695 n_examples: 90011\nMean length:  8.924245452728362  Quantiles .25, 0.5, 0.7, and 0.9 : [ 7.  9. 10. 13. 14. 15.] std: 2.655226481623664 n_examples: 5003\n"
     ]
    },
    {
     "name": "stdout",
     "output_type": "stream",
     "text": [
      "Mean length:  8.9166  Quantiles .25, 0.5, 0.7, and 0.9 : [ 7.  9. 10. 13. 14. 15.] std: 2.6672166091264504 n_examples: 5000\nWords:  11895 , On device:  cuda\nLoss Type:  VAE\n"
     ]
    },
    {
     "name": "stdout",
     "output_type": "stream",
     "text": [
      "Loaded model at step 7928\nUnsupervised training examples:  90112\nUnsupervised val examples:  53376\nNumber of parameters:  10.12 M\nInference parameters:  03.33 M\nGeneration parameters:  08.31 M\nEmbedding parameters:  01.52 M\n"
     ]
    }
   ],
   "source": [
    "from time import time\n",
    "import argparse\n",
    "\n",
    "from torch import device\n",
    "import torch\n",
    "from torch import optim\n",
    "import numpy as np\n",
    "\n",
    "from data_prep import NLIGenData2, OntoGenData, HuggingYelp2\n",
    "\n",
    "from disentanglement_transformer.models import DisentanglementTransformerVAE as Model\n",
    "from disentanglement_transformer.h_params import DefaultTransformerHParams as HParams\n",
    "from disentanglement_transformer.graphs import *\n",
    "from components.criteria import *\n",
    "parser = argparse.ArgumentParser()\n",
    "from torch.nn import MultiheadAttention\n",
    "# Training and Optimization\n",
    "k, kz, klstm = 4, 16, 2\n",
    "parser.add_argument(\"--test_name\", default='unnamed', type=str)\n",
    "parser.add_argument(\"--data\", default='nli', choices=[\"nli\", \"ontonotes\", \"yelp\"], type=str)\n",
    "parser.add_argument(\"--max_len\", default=17, type=int)\n",
    "parser.add_argument(\"--batch_size\", default=128, type=int)\n",
    "parser.add_argument(\"--grad_accu\", default=1, type=int)\n",
    "parser.add_argument(\"--n_epochs\", default=10000, type=int)\n",
    "parser.add_argument(\"--test_freq\", default=32, type=int)\n",
    "parser.add_argument(\"--complete_test_freq\", default=160, type=int)\n",
    "parser.add_argument(\"--generation_weight\", default=1, type=float)\n",
    "parser.add_argument(\"--device\", default='cuda:0', choices=[\"cuda:0\", \"cuda:1\", \"cuda:2\", \"cpu\"], type=str)\n",
    "parser.add_argument(\"--embedding_dim\", default=128, type=int)#################\"\n",
    "parser.add_argument(\"--pretrained_embeddings\", default=False, type=bool)#################\"\n",
    "parser.add_argument(\"--z_size\", default=96*kz, type=int)#################\"\n",
    "parser.add_argument(\"--z_emb_dim\", default=192*k, type=int)#################\"\n",
    "parser.add_argument(\"--n_latents\", default=[16, 16, 16], nargs='+', type=int)#################\"\n",
    "parser.add_argument(\"--text_rep_l\", default=3, type=int)\n",
    "parser.add_argument(\"--text_rep_h\", default=192*k, type=int)\n",
    "parser.add_argument(\"--encoder_h\", default=192*k, type=int)#################\"\n",
    "parser.add_argument(\"--encoder_l\", default=2, type=int)#################\"\n",
    "parser.add_argument(\"--decoder_h\", default=192*k, type=int)\n",
    "parser.add_argument(\"--decoder_l\", default=2, type=int)#################\"\n",
    "parser.add_argument(\"--highway\", default=False, type=bool)\n",
    "parser.add_argument(\"--markovian\", default=True, type=bool)\n",
    "parser.add_argument('--minimal_enc', dest='minimal_enc', action='store_true')\n",
    "parser.add_argument('--no-minimal_enc', dest='minimal_enc', action='store_false')\n",
    "parser.set_defaults(minimal_enc=False)\n",
    "parser.add_argument(\"--losses\", default='VAE', choices=[\"VAE\", \"IWAE\"], type=str)\n",
    "parser.add_argument(\"--graph\", default='Normal', choices=[\"Discrete\", \"IndepInfer\", \"Normal\", \"NormalConGen\", \"NormalSimplePrior\",\n",
    "                                                          \"Normal2\",  \"NormalLSTM\"], type=str)\n",
    "parser.add_argument(\"--training_iw_samples\", default=1, type=int)\n",
    "parser.add_argument(\"--testing_iw_samples\", default=5, type=int)\n",
    "parser.add_argument(\"--test_prior_samples\", default=10, type=int)\n",
    "parser.add_argument(\"--anneal_kl0\", default=3000, type=int)\n",
    "parser.add_argument(\"--anneal_kl1\", default=6000, type=int)\n",
    "parser.add_argument(\"--grad_clip\", default=5., type=float)\n",
    "parser.add_argument(\"--kl_th\", default=0/(768*k/2), type=float or None)\n",
    "parser.add_argument(\"--max_elbo1\", default=6.0, type=float)\n",
    "parser.add_argument(\"--max_elbo2\", default=4.0, type=float)\n",
    "parser.add_argument(\"--max_elbo_choice\", default=10, type=int)\n",
    "parser.add_argument(\"--kl_beta\", default=0.35, type=int)\n",
    "parser.add_argument(\"--dropout\", default=0.3, type=float)\n",
    "parser.add_argument(\"--word_dropout\", default=0.1, type=float)\n",
    "parser.add_argument(\"--l2_reg\", default=0, type=float)\n",
    "parser.add_argument(\"--lr\", default=2e-4, type=float)\n",
    "parser.add_argument(\"--lr_reduction\", default=4., type=float)\n",
    "parser.add_argument(\"--wait_epochs\", default=1, type=float)\n",
    "parser.add_argument(\"--save_all\", default=True, type=bool)\n",
    "\n",
    "flags, _ = parser.parse_known_args()\n",
    "\n",
    "# Manual Settings, Deactivate before pushing\n",
    "if True:\n",
    "    flags.batch_size = 128\n",
    "    flags.grad_accu = 1\n",
    "    flags.max_len = 17\n",
    "    flags.graph = \"IndepInfer\"\n",
    "    flags.test_name = \"nliLM/iwtest\"\n",
    "    flags.data = \"nli\"\n",
    "    flags.n_latents = [4]\n",
    "\n",
    "# torch.autograd.set_detect_anomaly(True)\n",
    "GRAPH = {\"Discrete\": get_discrete_auto_regressive_graph,\n",
    "         \"IndepInfer\": get_structured_auto_regressive_indep_graph,\n",
    "         \"Normal\": get_structured_auto_regressive_graph,\n",
    "         \"NormalConGen\": get_structured_auto_regressive_graphConGen,\n",
    "         \"Normal2\": get_structured_auto_regressive_graph2,\n",
    "         \"NormalLSTM\": get_lstm_graph,\n",
    "         \"NormalSimplePrior\": get_structured_auto_regressive_simple_prior}[flags.graph]\n",
    "if flags.graph == \"NormalLSTM\":\n",
    "    flags.encoder_h = int(flags.encoder_h/k*klstm)\n",
    "Data = {\"nli\": NLIGenData2, \"ontonotes\": OntoGenData, \"yelp\": HuggingYelp2}[flags.data]\n",
    "MAX_LEN = flags.max_len\n",
    "BATCH_SIZE = flags.batch_size\n",
    "GRAD_ACCU = flags.grad_accu\n",
    "N_EPOCHS = flags.n_epochs\n",
    "TEST_FREQ = flags.test_freq\n",
    "COMPLETE_TEST_FREQ = flags.complete_test_freq\n",
    "DEVICE = device(flags.device)\n",
    "# This prevents illegal memory access on multigpu machines (unresolved issue on torch's github)\n",
    "if flags.device.startswith('cuda'):\n",
    "    torch.cuda.set_device(int(flags.device[-1]))\n",
    "LOSSES = {'IWAE': [IWLBo],\n",
    "          'VAE': [ELBo]}[flags.losses]\n",
    "\n",
    "ANNEAL_KL = [flags.anneal_kl0*flags.grad_accu, flags.anneal_kl1*flags.grad_accu]\n",
    "LOSS_PARAMS = [1]\n",
    "if flags.grad_accu > 1:\n",
    "    LOSS_PARAMS = [w/flags.grad_accu for w in LOSS_PARAMS]\n",
    "\n",
    "data = Data(MAX_LEN, BATCH_SIZE, N_EPOCHS, DEVICE, pretrained=flags.pretrained_embeddings)\n",
    "h_params = HParams(len(data.vocab.itos), len(data.tags.itos) if flags.data == 'yelp' else None, MAX_LEN, BATCH_SIZE, N_EPOCHS,\n",
    "                   device=DEVICE, vocab_ignore_index=data.vocab.stoi['<pad>'], decoder_h=flags.decoder_h,\n",
    "                   decoder_l=flags.decoder_l, encoder_h=flags.encoder_h, encoder_l=flags.encoder_l,\n",
    "                   text_rep_h=flags.text_rep_h, text_rep_l=flags.text_rep_l,\n",
    "                   test_name=flags.test_name, grad_accumulation_steps=GRAD_ACCU,\n",
    "                   optimizer_kwargs={'lr': flags.lr, #'weight_decay': flags.l2_reg, 't0':100, 'lambd':0.},\n",
    "                                     'weight_decay': flags.l2_reg, 'betas': (0.9, 0.99)},\n",
    "                   is_weighted=[], graph_generator=GRAPH,\n",
    "                   z_size=flags.z_size, embedding_dim=flags.embedding_dim, anneal_kl=ANNEAL_KL,\n",
    "                   grad_clip=flags.grad_clip*flags.grad_accu, kl_th=flags.kl_th, highway=flags.highway,\n",
    "                   losses=LOSSES, dropout=flags.dropout, training_iw_samples=flags.training_iw_samples,\n",
    "                   testing_iw_samples=flags.testing_iw_samples, loss_params=LOSS_PARAMS, optimizer=optim.AdamW,\n",
    "                   markovian=flags.markovian, word_dropout=flags.word_dropout, contiguous_lm=False,\n",
    "                   test_prior_samples=flags.test_prior_samples, n_latents=flags.n_latents,\n",
    "                   max_elbo=[flags.max_elbo_choice, flags.max_elbo1],  # max_elbo is paper's beta\n",
    "                   z_emb_dim=flags.z_emb_dim, minimal_enc=flags.minimal_enc, kl_beta=flags.kl_beta)\n",
    "val_iterator = iter(data.val_iter)\n",
    "print(\"Words: \", len(data.vocab.itos), \", On device: \", DEVICE.type)\n",
    "print(\"Loss Type: \", flags.losses)\n",
    "model = Model(data.vocab, data.tags, h_params, wvs=data.wvs, dataset=flags.data)\n",
    "if DEVICE.type == 'cuda':\n",
    "    model.cuda(DEVICE)\n",
    "\n",
    "total_unsupervised_train_samples = len(data.train_iter)*BATCH_SIZE\n",
    "total_unsupervised_val_samples = len(data.val_iter)*BATCH_SIZE\n",
    "print(\"Unsupervised training examples: \", total_unsupervised_train_samples)\n",
    "print(\"Unsupervised val examples: \", total_unsupervised_val_samples)\n",
    "current_time = time()\n",
    "#print(model)\n",
    "number_parameters = sum(p.numel() for p in model.parameters() if p.requires_grad)\n",
    "print(\"Number of parameters: \", \"{0:05.2f} M\".format(number_parameters/1e6))\n",
    "number_parameters = sum(p.numel() for p in model.infer_bn.parameters() if p.requires_grad)\n",
    "print(\"Inference parameters: \", \"{0:05.2f} M\".format(number_parameters/1e6))\n",
    "number_parameters = sum(p.numel() for p in model.gen_bn.parameters() if p.requires_grad)\n",
    "print(\"Generation parameters: \", \"{0:05.2f} M\".format(number_parameters/1e6))\n",
    "number_parameters = sum(p.numel() for p in model.word_embeddings.parameters() if p.requires_grad)\n",
    "print(\"Embedding parameters: \", \"{0:05.2f} M\".format(number_parameters/1e6))"
   ]
  },
  {
   "cell_type": "code",
   "execution_count": 38,
   "metadata": {},
   "outputs": [],
   "source": [
    "import pandas as pd\n",
    "from tqdm import tqdm\n",
    "      \n",
    "# import spacy\n",
    "# nlp = spacy.load(\"en_core_web_sm\")\n",
    "\n",
    "from allennlp.predictors.predictor import Predictor\n",
    "# predictor = Predictor.from_path(\"https://storage.googleapis.com/allennlp-public-models/openie-model.2020.03.26.tar.gz\")\n",
    "# const_predictor = Predictor.from_path(\"https://storage.googleapis.com/allennlp-public-models/elmo-constituency-parser-2020.02.10.tar.gz\")\n",
    "\n",
    "# def batch_sent_relations(sents):\n",
    "#     target = [{'sentence': sent} for sent in sents]\n",
    "#     preds = predictor.predict_batch_json(target)\n",
    "#     sent_dicts = []\n",
    "#     for pred in preds:\n",
    "#         sent_dict = {'ARG0': '', 'V': '', 'ARG1': '', 'ARG*': ''}\n",
    "#         if len(pred['verbs']):\n",
    "#             el = pred['verbs'][0]\n",
    "#             for v_i in el['description'].split('[')[1:]:\n",
    "#                 in_bracket = v_i.split(']')[0]\n",
    "#                 try:\n",
    "#                     arg_l, arg_str = in_bracket.split(':')\n",
    "#                     if arg_l in sent_dict:\n",
    "#                         sent_dict[arg_l] = arg_str\n",
    "#                     else:\n",
    "#                         sent_dict['ARG*'] = ''.join([sent_dict['ARG*'], arg_str])\n",
    "#                 except ValueError as e:\n",
    "#                     print('this raised an anomaly:', el)\n",
    "#         if sent_dict['ARG0'] == '':\n",
    "#             sent_dict['ARG0'] = sent_dict['ARG1']\n",
    "#             sent_dict['ARG1'] = ''\n",
    "#         sent_dicts.append(sent_dict)\n",
    "#     return sent_dicts\n",
    "\n",
    "\n",
    "def shallow_constituents(sents, verbose=0):\n",
    "    target = [{'sentence': sent} for sent in sents]\n",
    "    preds = const_predictor.predict_batch_json(target)\n",
    "    outputs = []\n",
    "    for pred in preds:\n",
    "        root_c = pred['hierplane_tree']['root']['children']\n",
    "        subj, verb, np, pp = '', '', '', ''\n",
    "        parsing_error = False\n",
    "        try:\n",
    "            subj = [c['word'] for c in root_c if c['nodeType']=='NP'][0]\n",
    "            VP_c = [c for c in root_c if c['nodeType']=='VP'][0]['children']\n",
    "            if not any([c['nodeType'].startswith('VB') for c in VP_c]):\n",
    "                outputs.append({'subj':subj, 'verb':'', 'np':'', 'pp':''})\n",
    "                continue\n",
    "            verb = [c['word'] for c in VP_c if c['nodeType'].startswith('VB')][0]\n",
    "            \n",
    "            np = [c['word'] for c in VP_c if c['nodeType']=='NP'][0] if any([c['nodeType']=='NP' for c in VP_c]) else ''\n",
    "            pp = [c['word'] for c in VP_c if c['nodeType']=='PP'][0] if any([c['nodeType']=='PP' for c in VP_c]) else ''\n",
    "            if verbose: \n",
    "                print([[c['nodeType'],c['word']] for c in VP_c])\n",
    "            while any([c['nodeType'] == 'VP' for c in VP_c]):\n",
    "                VP_c = [c for c in VP_c if c['nodeType']=='VP'][0]['children']\n",
    "                if verbose: \n",
    "                    print([[c['nodeType'],c['word']] for c in VP_c])\n",
    "                verb += ' '+[c['word'] for c in VP_c if c['nodeType'].startswith('VB')][0]\n",
    "                if any([c['nodeType']=='NP' for c in VP_c]):\n",
    "                    for np_i in [c['word'] for c in VP_c if c['nodeType']=='NP']:\n",
    "                        np += ' '+np_i\n",
    "                if any([c['nodeType']=='PP' for c in VP_c]):\n",
    "                    for pp_i in [c['word'] for c in VP_c if c['nodeType']=='PP']:\n",
    "                        pp += ' '+pp_i\n",
    "        except IndexError:\n",
    "            parsing_error = True\n",
    "        outputs.append({'subj':subj, 'verb':verb, 'np':np, 'pp':pp, 'err': parsing_error})\n",
    "    return outputs\n",
    "\n",
    "def shallow_dependencies(sents):\n",
    "    docs = nlp.pipe(sents)\n",
    "    relations = []\n",
    "    for doc in docs:\n",
    "        subj, verb, dobj, pobj = ['', []], ['', []], ['', []], ['', []]\n",
    "        for i, tok in enumerate(doc):\n",
    "            if tok.dep_ =='ROOT':\n",
    "                verb = [tok.text, [tok.i]]\n",
    "            if tok.dep_ == 'nsubj' and subj[0] == '':\n",
    "                subj = [' '.join([toki.text for toki in tok.subtree]), [toki.i for toki in tok.subtree]]\n",
    "            if tok.dep_ == 'dobj' and dobj[0] == '':\n",
    "                dobj = [' '.join([toki.text for toki in tok.subtree]), [toki.i for toki in tok.subtree]]\n",
    "            if tok.dep_ == 'pobj' and pobj[0] == '':\n",
    "                pobj = [' '.join([toki.text for toki in tok.subtree]), [toki.i for toki in tok.subtree]]\n",
    "        relations.append({'text':{'subj': subj[0], 'verb': verb[0], 'dobj': dobj[0], 'pobj': pobj[0]},\n",
    "                         'idx':{'subj': subj[1], 'verb': verb[1], 'dobj': dobj[1], 'pobj': pobj[1]}})\n",
    "    return relations\n",
    "\n",
    "def get_sentence_statistics(orig, sen, orig_relations=None, relations=None):\n",
    "    same_struct = True\n",
    "    error = orig_relations.pop('err', None) or relations.pop('err', None)\n",
    "    for k in orig_relations.keys():\n",
    "        if (orig_relations[k] == '' and relations[k] != '') or (orig_relations[k] == '' and relations[k] != ''):\n",
    "            same_struct = False\n",
    "    def get_diff(arg):\n",
    "        if orig_relations[arg] != '' and relations[arg] != '':\n",
    "            return orig_relations[arg] != relations[arg], False\n",
    "        else: \n",
    "            return False, orig_relations[arg] != relations[arg]\n",
    "    return get_diff('subj'), get_diff('verb'), get_diff('np'), get_diff('pp'), same_struct, error\n",
    "    # return get_diff('ARG0'), get_diff('V'), get_diff('ARG1'), get_diff('ARG*'), same_struct\n",
    "\n",
    "def get_sentence_statistics2(orig, sen, orig_relations=None, relations=None):\n",
    "    orig_relations, relations = orig_relations['text'], relations['text']\n",
    "    same_struct = True\n",
    "    for k in orig_relations.keys():\n",
    "        if (orig_relations[k] == '' and relations[k] != '') or (orig_relations[k] == '' and relations[k] != ''):\n",
    "            same_struct = False\n",
    "    def get_diff(arg):\n",
    "        if orig_relations[arg] != '' and relations[arg] != '':\n",
    "            return orig_relations[arg] != relations[arg], False\n",
    "        else: \n",
    "            return False, orig_relations[arg] != relations[arg]\n",
    "    return get_diff('subj'), get_diff('verb'), get_diff('dobj'), get_diff('pobj'), same_struct\n",
    "\n",
    "\n",
    "\n",
    "def _get_stat_data_frame(model, n_samples=20, n_alterations=10, batch_size=10):\n",
    "    stats = []\n",
    "    nlatents = model.h_params.n_latents\n",
    "    # Generating n_samples sentences    \n",
    "    text, samples, _ = model.get_sentences(n_samples=batch_size, gen_len=model.h_params.max_len-1,\n",
    "                                                sample_w=False, vary_z=True, complete=None)\n",
    "    orig_rels = shallow_dependencies(text)\n",
    "    for _ in tqdm(range(int(n_samples / batch_size)), desc=\"Generating original sentences\"):\n",
    "        text_i, samples_i, _ = model.get_sentences(n_samples=batch_size, gen_len=model.h_params.max_len-1,\n",
    "                                                    sample_w=False, vary_z=True, complete=None)\n",
    "        text.extend(text_i)\n",
    "        for k in samples.keys():\n",
    "            samples[k] = torch.cat([samples[k], samples_i[k]])\n",
    "        orig_rels.extend(shallow_dependencies(text_i))\n",
    "    for i in range(int(n_samples / batch_size)):\n",
    "        for j in tqdm(range(sum(nlatents)), desc=\"Processing sample {}\".format(str(i))):\n",
    "            # Altering the sentences\n",
    "            alt_text, _ = model._get_alternative_sentences(\n",
    "                                                       prev_latent_vals={k: v[i * batch_size:(i + 1) * batch_size]\n",
    "                                                                         for k, v in samples.items()},\n",
    "                                                       params=None, var_z_ids=[j], n_samples=n_alterations,\n",
    "                                                       gen_len=model.h_params.max_len-1, complete=None)\n",
    "            alt_rels = shallow_dependencies(alt_text)\n",
    "            # Getting alteration statistics\n",
    "            for k in range(n_alterations * batch_size):\n",
    "                orig_text = text[(i * batch_size) + k % batch_size]\n",
    "                try:\n",
    "                    arg0_diff, v_diff, arg1_diff, arg_star_diff, same_struct = \\\n",
    "                        get_sentence_statistics2(orig_text, alt_text[k], orig_rels[(i * batch_size) + k % batch_size],\n",
    "                                                alt_rels[k])\n",
    "                except RecursionError or IndexError:\n",
    "                    continue\n",
    "                stats.append([orig_text, alt_text[k], j, int(arg0_diff[0]), int(v_diff[0]), \n",
    "                              int(arg1_diff[0]), int(arg_star_diff[0]), int(arg0_diff[1]), int(v_diff[1]), \n",
    "                              int(arg1_diff[1]), int(arg_star_diff[1]), same_struct])\n",
    "\n",
    "    header = ['original', 'altered', 'alteration_id', 'subj_diff', 'verb_diff', 'dobj_diff', 'pobj_diff',\n",
    "              'subj_struct', 'verb_struct', 'dobj_struct', 'pobj_struct', 'same_struct']\n",
    "    df = pd.DataFrame(stats, columns=header)\n",
    "    return df "
   ]
  },
  {
   "cell_type": "code",
   "execution_count": 8,
   "metadata": {},
   "outputs": [
    {
     "name": "stdout",
     "output_type": "stream",
     "text": [
      "[{'ARG0': ' The man', 'V': ' breathing', 'ARG1': '', 'ARG*': ''}, {'ARG0': ' a group of people', 'V': ' gave', 'ARG1': ' a bike', 'ARG*': ' the boy in summer'}]\nARG0 : False\nV : False\nARG1 : False\n"
     ]
    }
   ],
   "source": [
    "\n",
    "ex_sens = ['The man is breathing', \"a group of people gave the boy a bike in summer\"]\n",
    "rels = batch_sent_relations(ex_sens)\n",
    "print(rels)\n",
    "for arg in ['ARG0', 'V', 'ARG1']:\n",
    "    print(arg, ':', rels[0][arg]==rels[1][arg])"
   ]
  },
  {
   "cell_type": "code",
   "execution_count": 50,
   "metadata": {
    "collapsed": true
   },
   "outputs": [
    {
     "name": "stderr",
     "output_type": "stream",
     "text": [
      "\rGenerating original sentences:   0%|          | 0/100 [00:00<?, ?it/s]"
     ]
    },
    {
     "name": "stderr",
     "output_type": "stream",
     "text": [
      "\rGenerating original sentences:   1%|          | 1/100 [00:00<00:38,  2.54it/s]"
     ]
    },
    {
     "name": "stderr",
     "output_type": "stream",
     "text": [
      "\rGenerating original sentences:   2%|▏         | 2/100 [00:00<00:39,  2.48it/s]"
     ]
    },
    {
     "name": "stderr",
     "output_type": "stream",
     "text": [
      "\rGenerating original sentences:   3%|▎         | 3/100 [00:01<00:39,  2.44it/s]"
     ]
    },
    {
     "name": "stderr",
     "output_type": "stream",
     "text": [
      "\rGenerating original sentences:   4%|▍         | 4/100 [00:01<00:38,  2.49it/s]"
     ]
    },
    {
     "name": "stderr",
     "output_type": "stream",
     "text": [
      "\rGenerating original sentences:   5%|▌         | 5/100 [00:02<00:37,  2.53it/s]"
     ]
    },
    {
     "name": "stderr",
     "output_type": "stream",
     "text": [
      "\rGenerating original sentences:   6%|▌         | 6/100 [00:02<00:37,  2.53it/s]"
     ]
    },
    {
     "name": "stderr",
     "output_type": "stream",
     "text": [
      "\rGenerating original sentences:   7%|▋         | 7/100 [00:02<00:36,  2.56it/s]"
     ]
    },
    {
     "name": "stderr",
     "output_type": "stream",
     "text": [
      "\rGenerating original sentences:   8%|▊         | 8/100 [00:03<00:34,  2.66it/s]"
     ]
    },
    {
     "name": "stderr",
     "output_type": "stream",
     "text": [
      "\rGenerating original sentences:   9%|▉         | 9/100 [00:03<00:34,  2.66it/s]"
     ]
    },
    {
     "name": "stderr",
     "output_type": "stream",
     "text": [
      "\rGenerating original sentences:  10%|█         | 10/100 [00:03<00:33,  2.68it/s]"
     ]
    },
    {
     "name": "stderr",
     "output_type": "stream",
     "text": [
      "\rGenerating original sentences:  11%|█         | 11/100 [00:04<00:33,  2.69it/s]"
     ]
    },
    {
     "name": "stderr",
     "output_type": "stream",
     "text": [
      "\rGenerating original sentences:  12%|█▏        | 12/100 [00:04<00:32,  2.72it/s]"
     ]
    },
    {
     "name": "stderr",
     "output_type": "stream",
     "text": [
      "\rGenerating original sentences:  13%|█▎        | 13/100 [00:04<00:31,  2.73it/s]"
     ]
    },
    {
     "name": "stderr",
     "output_type": "stream",
     "text": [
      "\rGenerating original sentences:  14%|█▍        | 14/100 [00:05<00:30,  2.81it/s]"
     ]
    },
    {
     "name": "stderr",
     "output_type": "stream",
     "text": [
      "\rGenerating original sentences:  15%|█▌        | 15/100 [00:05<00:29,  2.86it/s]"
     ]
    },
    {
     "name": "stderr",
     "output_type": "stream",
     "text": [
      "\rGenerating original sentences:  16%|█▌        | 16/100 [00:05<00:29,  2.84it/s]"
     ]
    },
    {
     "name": "stderr",
     "output_type": "stream",
     "text": [
      "\rGenerating original sentences:  17%|█▋        | 17/100 [00:06<00:29,  2.85it/s]"
     ]
    },
    {
     "name": "stderr",
     "output_type": "stream",
     "text": [
      "\rGenerating original sentences:  18%|█▊        | 18/100 [00:06<00:28,  2.84it/s]"
     ]
    },
    {
     "name": "stderr",
     "output_type": "stream",
     "text": [
      "\rGenerating original sentences:  19%|█▉        | 19/100 [00:07<00:27,  2.90it/s]"
     ]
    },
    {
     "name": "stderr",
     "output_type": "stream",
     "text": [
      "\rGenerating original sentences:  20%|██        | 20/100 [00:07<00:27,  2.89it/s]"
     ]
    },
    {
     "name": "stderr",
     "output_type": "stream",
     "text": [
      "\rGenerating original sentences:  21%|██        | 21/100 [00:07<00:27,  2.88it/s]"
     ]
    },
    {
     "name": "stderr",
     "output_type": "stream",
     "text": [
      "\rGenerating original sentences:  22%|██▏       | 22/100 [00:08<00:26,  2.89it/s]"
     ]
    },
    {
     "name": "stderr",
     "output_type": "stream",
     "text": [
      "\rGenerating original sentences:  23%|██▎       | 23/100 [00:08<00:26,  2.93it/s]"
     ]
    },
    {
     "name": "stderr",
     "output_type": "stream",
     "text": [
      "\rGenerating original sentences:  24%|██▍       | 24/100 [00:08<00:26,  2.90it/s]"
     ]
    },
    {
     "name": "stderr",
     "output_type": "stream",
     "text": [
      "\rGenerating original sentences:  25%|██▌       | 25/100 [00:09<00:25,  2.91it/s]"
     ]
    },
    {
     "name": "stderr",
     "output_type": "stream",
     "text": [
      "\rGenerating original sentences:  26%|██▌       | 26/100 [00:09<00:25,  2.92it/s]"
     ]
    },
    {
     "name": "stderr",
     "output_type": "stream",
     "text": [
      "\rGenerating original sentences:  27%|██▋       | 27/100 [00:09<00:25,  2.88it/s]"
     ]
    },
    {
     "name": "stderr",
     "output_type": "stream",
     "text": [
      "\rGenerating original sentences:  28%|██▊       | 28/100 [00:10<00:24,  2.90it/s]"
     ]
    },
    {
     "name": "stderr",
     "output_type": "stream",
     "text": [
      "\rGenerating original sentences:  29%|██▉       | 29/100 [00:10<00:24,  2.92it/s]"
     ]
    },
    {
     "name": "stderr",
     "output_type": "stream",
     "text": [
      "\rGenerating original sentences:  30%|███       | 30/100 [00:10<00:24,  2.87it/s]"
     ]
    },
    {
     "name": "stderr",
     "output_type": "stream",
     "text": [
      "\rGenerating original sentences:  31%|███       | 31/100 [00:11<00:24,  2.85it/s]"
     ]
    },
    {
     "name": "stderr",
     "output_type": "stream",
     "text": [
      "\rGenerating original sentences:  32%|███▏      | 32/100 [00:11<00:23,  2.86it/s]"
     ]
    },
    {
     "name": "stderr",
     "output_type": "stream",
     "text": [
      "\rGenerating original sentences:  33%|███▎      | 33/100 [00:11<00:23,  2.86it/s]"
     ]
    },
    {
     "name": "stderr",
     "output_type": "stream",
     "text": [
      "\rGenerating original sentences:  34%|███▍      | 34/100 [00:12<00:23,  2.82it/s]"
     ]
    },
    {
     "name": "stderr",
     "output_type": "stream",
     "text": [
      "\rGenerating original sentences:  35%|███▌      | 35/100 [00:12<00:23,  2.78it/s]"
     ]
    },
    {
     "name": "stderr",
     "output_type": "stream",
     "text": [
      "\rGenerating original sentences:  36%|███▌      | 36/100 [00:12<00:23,  2.73it/s]"
     ]
    },
    {
     "name": "stderr",
     "output_type": "stream",
     "text": [
      "\rGenerating original sentences:  37%|███▋      | 37/100 [00:13<00:22,  2.80it/s]"
     ]
    },
    {
     "name": "stderr",
     "output_type": "stream",
     "text": [
      "\rGenerating original sentences:  38%|███▊      | 38/100 [00:13<00:22,  2.82it/s]"
     ]
    },
    {
     "name": "stderr",
     "output_type": "stream",
     "text": [
      "\rGenerating original sentences:  39%|███▉      | 39/100 [00:14<00:21,  2.81it/s]"
     ]
    },
    {
     "name": "stderr",
     "output_type": "stream",
     "text": [
      "\rGenerating original sentences:  40%|████      | 40/100 [00:14<00:21,  2.80it/s]"
     ]
    },
    {
     "name": "stderr",
     "output_type": "stream",
     "text": [
      "\rGenerating original sentences:  41%|████      | 41/100 [00:14<00:20,  2.82it/s]"
     ]
    },
    {
     "name": "stderr",
     "output_type": "stream",
     "text": [
      "\rGenerating original sentences:  42%|████▏     | 42/100 [00:15<00:20,  2.80it/s]"
     ]
    },
    {
     "name": "stderr",
     "output_type": "stream",
     "text": [
      "\rGenerating original sentences:  43%|████▎     | 43/100 [00:15<00:20,  2.83it/s]"
     ]
    },
    {
     "name": "stderr",
     "output_type": "stream",
     "text": [
      "\rGenerating original sentences:  44%|████▍     | 44/100 [00:15<00:20,  2.79it/s]"
     ]
    },
    {
     "name": "stderr",
     "output_type": "stream",
     "text": [
      "\rGenerating original sentences:  45%|████▌     | 45/100 [00:16<00:20,  2.74it/s]"
     ]
    },
    {
     "name": "stderr",
     "output_type": "stream",
     "text": [
      "\rGenerating original sentences:  46%|████▌     | 46/100 [00:16<00:19,  2.79it/s]"
     ]
    },
    {
     "name": "stderr",
     "output_type": "stream",
     "text": [
      "\rGenerating original sentences:  47%|████▋     | 47/100 [00:16<00:19,  2.76it/s]"
     ]
    },
    {
     "name": "stderr",
     "output_type": "stream",
     "text": [
      "\rGenerating original sentences:  48%|████▊     | 48/100 [00:17<00:18,  2.82it/s]"
     ]
    },
    {
     "name": "stderr",
     "output_type": "stream",
     "text": [
      "\rGenerating original sentences:  49%|████▉     | 49/100 [00:17<00:17,  2.84it/s]"
     ]
    },
    {
     "name": "stderr",
     "output_type": "stream",
     "text": [
      "\rGenerating original sentences:  50%|█████     | 50/100 [00:17<00:17,  2.90it/s]"
     ]
    },
    {
     "name": "stderr",
     "output_type": "stream",
     "text": [
      "\rGenerating original sentences:  51%|█████     | 51/100 [00:18<00:17,  2.83it/s]"
     ]
    },
    {
     "name": "stderr",
     "output_type": "stream",
     "text": [
      "\rGenerating original sentences:  52%|█████▏    | 52/100 [00:18<00:17,  2.80it/s]"
     ]
    },
    {
     "name": "stderr",
     "output_type": "stream",
     "text": [
      "\rGenerating original sentences:  53%|█████▎    | 53/100 [00:19<00:16,  2.82it/s]"
     ]
    },
    {
     "name": "stderr",
     "output_type": "stream",
     "text": [
      "\rGenerating original sentences:  54%|█████▍    | 54/100 [00:19<00:16,  2.79it/s]"
     ]
    },
    {
     "name": "stderr",
     "output_type": "stream",
     "text": [
      "\rGenerating original sentences:  55%|█████▌    | 55/100 [00:19<00:15,  2.82it/s]"
     ]
    },
    {
     "name": "stderr",
     "output_type": "stream",
     "text": [
      "\rGenerating original sentences:  56%|█████▌    | 56/100 [00:20<00:17,  2.45it/s]"
     ]
    },
    {
     "name": "stderr",
     "output_type": "stream",
     "text": [
      "\rGenerating original sentences:  57%|█████▋    | 57/100 [00:20<00:16,  2.61it/s]"
     ]
    },
    {
     "name": "stderr",
     "output_type": "stream",
     "text": [
      "\rGenerating original sentences:  58%|█████▊    | 58/100 [00:20<00:15,  2.68it/s]"
     ]
    },
    {
     "name": "stderr",
     "output_type": "stream",
     "text": [
      "\rGenerating original sentences:  59%|█████▉    | 59/100 [00:21<00:14,  2.75it/s]"
     ]
    },
    {
     "name": "stderr",
     "output_type": "stream",
     "text": [
      "\rGenerating original sentences:  60%|██████    | 60/100 [00:21<00:14,  2.79it/s]"
     ]
    },
    {
     "name": "stderr",
     "output_type": "stream",
     "text": [
      "\rGenerating original sentences:  61%|██████    | 61/100 [00:21<00:13,  2.84it/s]"
     ]
    },
    {
     "name": "stderr",
     "output_type": "stream",
     "text": [
      "\rGenerating original sentences:  62%|██████▏   | 62/100 [00:22<00:13,  2.91it/s]"
     ]
    },
    {
     "name": "stderr",
     "output_type": "stream",
     "text": [
      "\rGenerating original sentences:  63%|██████▎   | 63/100 [00:22<00:12,  2.88it/s]"
     ]
    },
    {
     "name": "stderr",
     "output_type": "stream",
     "text": [
      "\rGenerating original sentences:  64%|██████▍   | 64/100 [00:22<00:12,  2.90it/s]"
     ]
    },
    {
     "name": "stderr",
     "output_type": "stream",
     "text": [
      "\rGenerating original sentences:  65%|██████▌   | 65/100 [00:23<00:12,  2.89it/s]"
     ]
    },
    {
     "name": "stderr",
     "output_type": "stream",
     "text": [
      "\rGenerating original sentences:  66%|██████▌   | 66/100 [00:23<00:11,  2.89it/s]"
     ]
    },
    {
     "name": "stderr",
     "output_type": "stream",
     "text": [
      "\rGenerating original sentences:  67%|██████▋   | 67/100 [00:24<00:11,  2.88it/s]"
     ]
    },
    {
     "name": "stderr",
     "output_type": "stream",
     "text": [
      "\rGenerating original sentences:  68%|██████▊   | 68/100 [00:24<00:11,  2.81it/s]"
     ]
    },
    {
     "name": "stderr",
     "output_type": "stream",
     "text": [
      "\rGenerating original sentences:  69%|██████▉   | 69/100 [00:24<00:10,  2.87it/s]"
     ]
    },
    {
     "name": "stderr",
     "output_type": "stream",
     "text": [
      "\rGenerating original sentences:  70%|███████   | 70/100 [00:25<00:10,  2.87it/s]"
     ]
    },
    {
     "name": "stderr",
     "output_type": "stream",
     "text": [
      "\rGenerating original sentences:  71%|███████   | 71/100 [00:25<00:10,  2.90it/s]"
     ]
    },
    {
     "name": "stderr",
     "output_type": "stream",
     "text": [
      "\rGenerating original sentences:  72%|███████▏  | 72/100 [00:25<00:09,  2.83it/s]"
     ]
    },
    {
     "name": "stderr",
     "output_type": "stream",
     "text": [
      "\rGenerating original sentences:  73%|███████▎  | 73/100 [00:26<00:09,  2.82it/s]"
     ]
    },
    {
     "name": "stderr",
     "output_type": "stream",
     "text": [
      "\rGenerating original sentences:  74%|███████▍  | 74/100 [00:26<00:09,  2.81it/s]"
     ]
    },
    {
     "name": "stderr",
     "output_type": "stream",
     "text": [
      "\rGenerating original sentences:  75%|███████▌  | 75/100 [00:26<00:09,  2.76it/s]"
     ]
    },
    {
     "name": "stderr",
     "output_type": "stream",
     "text": [
      "\rGenerating original sentences:  76%|███████▌  | 76/100 [00:27<00:08,  2.78it/s]"
     ]
    },
    {
     "name": "stderr",
     "output_type": "stream",
     "text": [
      "\rGenerating original sentences:  77%|███████▋  | 77/100 [00:27<00:08,  2.83it/s]"
     ]
    },
    {
     "name": "stderr",
     "output_type": "stream",
     "text": [
      "\rGenerating original sentences:  78%|███████▊  | 78/100 [00:27<00:07,  2.77it/s]"
     ]
    },
    {
     "name": "stderr",
     "output_type": "stream",
     "text": [
      "\rGenerating original sentences:  79%|███████▉  | 79/100 [00:28<00:07,  2.77it/s]"
     ]
    },
    {
     "name": "stderr",
     "output_type": "stream",
     "text": [
      "\rGenerating original sentences:  80%|████████  | 80/100 [00:28<00:07,  2.81it/s]"
     ]
    },
    {
     "name": "stderr",
     "output_type": "stream",
     "text": [
      "\rGenerating original sentences:  81%|████████  | 81/100 [00:29<00:06,  2.76it/s]"
     ]
    },
    {
     "name": "stderr",
     "output_type": "stream",
     "text": [
      "\rGenerating original sentences:  82%|████████▏ | 82/100 [00:29<00:06,  2.73it/s]"
     ]
    },
    {
     "name": "stderr",
     "output_type": "stream",
     "text": [
      "\rGenerating original sentences:  83%|████████▎ | 83/100 [00:29<00:06,  2.80it/s]"
     ]
    },
    {
     "name": "stderr",
     "output_type": "stream",
     "text": [
      "\rGenerating original sentences:  84%|████████▍ | 84/100 [00:30<00:05,  2.78it/s]"
     ]
    },
    {
     "name": "stderr",
     "output_type": "stream",
     "text": [
      "\rGenerating original sentences:  85%|████████▌ | 85/100 [00:30<00:05,  2.85it/s]"
     ]
    },
    {
     "name": "stderr",
     "output_type": "stream",
     "text": [
      "\rGenerating original sentences:  86%|████████▌ | 86/100 [00:30<00:04,  2.84it/s]"
     ]
    },
    {
     "name": "stderr",
     "output_type": "stream",
     "text": [
      "\rGenerating original sentences:  87%|████████▋ | 87/100 [00:31<00:04,  2.79it/s]"
     ]
    },
    {
     "name": "stderr",
     "output_type": "stream",
     "text": [
      "\rGenerating original sentences:  88%|████████▊ | 88/100 [00:31<00:04,  2.76it/s]"
     ]
    },
    {
     "name": "stderr",
     "output_type": "stream",
     "text": [
      "\rGenerating original sentences:  89%|████████▉ | 89/100 [00:31<00:03,  2.80it/s]"
     ]
    },
    {
     "name": "stderr",
     "output_type": "stream",
     "text": [
      "\rGenerating original sentences:  90%|█████████ | 90/100 [00:32<00:03,  2.85it/s]"
     ]
    },
    {
     "name": "stderr",
     "output_type": "stream",
     "text": [
      "\rGenerating original sentences:  91%|█████████ | 91/100 [00:32<00:03,  2.82it/s]"
     ]
    },
    {
     "name": "stderr",
     "output_type": "stream",
     "text": [
      "\rGenerating original sentences:  92%|█████████▏| 92/100 [00:32<00:02,  2.89it/s]"
     ]
    },
    {
     "name": "stderr",
     "output_type": "stream",
     "text": [
      "\rGenerating original sentences:  93%|█████████▎| 93/100 [00:33<00:02,  2.80it/s]"
     ]
    },
    {
     "name": "stderr",
     "output_type": "stream",
     "text": [
      "\rGenerating original sentences:  94%|█████████▍| 94/100 [00:33<00:02,  2.77it/s]"
     ]
    },
    {
     "name": "stderr",
     "output_type": "stream",
     "text": [
      "\rGenerating original sentences:  95%|█████████▌| 95/100 [00:33<00:01,  2.82it/s]"
     ]
    },
    {
     "name": "stderr",
     "output_type": "stream",
     "text": [
      "\rGenerating original sentences:  96%|█████████▌| 96/100 [00:34<00:01,  2.85it/s]"
     ]
    },
    {
     "name": "stderr",
     "output_type": "stream",
     "text": [
      "\rGenerating original sentences:  97%|█████████▋| 97/100 [00:34<00:01,  2.88it/s]"
     ]
    },
    {
     "name": "stderr",
     "output_type": "stream",
     "text": [
      "\rGenerating original sentences:  98%|█████████▊| 98/100 [00:35<00:00,  2.83it/s]"
     ]
    },
    {
     "name": "stderr",
     "output_type": "stream",
     "text": [
      "\rGenerating original sentences:  99%|█████████▉| 99/100 [00:35<00:00,  2.85it/s]"
     ]
    },
    {
     "name": "stderr",
     "output_type": "stream",
     "text": [
      "\rGenerating original sentences: 100%|██████████| 100/100 [00:35<00:00,  2.84it/s]"
     ]
    },
    {
     "name": "stderr",
     "output_type": "stream",
     "text": [
      "\rGenerating original sentences: 100%|██████████| 100/100 [00:35<00:00,  2.80it/s]"
     ]
    },
    {
     "name": "stderr",
     "output_type": "stream",
     "text": [
      "\n\rProcessing sample 0:   0%|          | 0/4 [00:00<?, ?it/s]"
     ]
    },
    {
     "name": "stderr",
     "output_type": "stream",
     "text": [
      "\rProcessing sample 0:  25%|██▌       | 1/4 [00:00<00:01,  2.68it/s]"
     ]
    },
    {
     "name": "stderr",
     "output_type": "stream",
     "text": [
      "\rProcessing sample 0:  50%|█████     | 2/4 [00:00<00:00,  2.64it/s]"
     ]
    },
    {
     "name": "stderr",
     "output_type": "stream",
     "text": [
      "\rProcessing sample 0:  75%|███████▌  | 3/4 [00:01<00:00,  2.72it/s]"
     ]
    },
    {
     "name": "stderr",
     "output_type": "stream",
     "text": [
      "\rProcessing sample 0: 100%|██████████| 4/4 [00:01<00:00,  2.72it/s]"
     ]
    },
    {
     "name": "stderr",
     "output_type": "stream",
     "text": [
      "\rProcessing sample 0: 100%|██████████| 4/4 [00:01<00:00,  2.71it/s]"
     ]
    },
    {
     "name": "stderr",
     "output_type": "stream",
     "text": [
      "\n\rProcessing sample 1:   0%|          | 0/4 [00:00<?, ?it/s]"
     ]
    },
    {
     "name": "stderr",
     "output_type": "stream",
     "text": [
      "\rProcessing sample 1:  25%|██▌       | 1/4 [00:00<00:01,  2.70it/s]"
     ]
    },
    {
     "name": "stderr",
     "output_type": "stream",
     "text": [
      "\rProcessing sample 1:  50%|█████     | 2/4 [00:00<00:00,  2.72it/s]"
     ]
    },
    {
     "name": "stderr",
     "output_type": "stream",
     "text": [
      "\rProcessing sample 1:  75%|███████▌  | 3/4 [00:01<00:00,  2.67it/s]"
     ]
    },
    {
     "name": "stderr",
     "output_type": "stream",
     "text": [
      "\rProcessing sample 1: 100%|██████████| 4/4 [00:01<00:00,  2.68it/s]"
     ]
    },
    {
     "name": "stderr",
     "output_type": "stream",
     "text": [
      "\rProcessing sample 1: 100%|██████████| 4/4 [00:01<00:00,  2.68it/s]"
     ]
    },
    {
     "name": "stderr",
     "output_type": "stream",
     "text": [
      "\n\rProcessing sample 2:   0%|          | 0/4 [00:00<?, ?it/s]"
     ]
    },
    {
     "name": "stderr",
     "output_type": "stream",
     "text": [
      "\rProcessing sample 2:  25%|██▌       | 1/4 [00:00<00:01,  2.90it/s]"
     ]
    },
    {
     "name": "stderr",
     "output_type": "stream",
     "text": [
      "\rProcessing sample 2:  50%|█████     | 2/4 [00:00<00:00,  2.91it/s]"
     ]
    },
    {
     "name": "stderr",
     "output_type": "stream",
     "text": [
      "\rProcessing sample 2:  75%|███████▌  | 3/4 [00:01<00:00,  2.85it/s]"
     ]
    },
    {
     "name": "stderr",
     "output_type": "stream",
     "text": [
      "\rProcessing sample 2: 100%|██████████| 4/4 [00:01<00:00,  2.85it/s]"
     ]
    },
    {
     "name": "stderr",
     "output_type": "stream",
     "text": [
      "\rProcessing sample 2: 100%|██████████| 4/4 [00:01<00:00,  2.85it/s]"
     ]
    },
    {
     "name": "stderr",
     "output_type": "stream",
     "text": [
      "\n\rProcessing sample 3:   0%|          | 0/4 [00:00<?, ?it/s]"
     ]
    },
    {
     "name": "stderr",
     "output_type": "stream",
     "text": [
      "\rProcessing sample 3:  25%|██▌       | 1/4 [00:00<00:01,  2.86it/s]"
     ]
    },
    {
     "name": "stderr",
     "output_type": "stream",
     "text": [
      "\rProcessing sample 3:  50%|█████     | 2/4 [00:00<00:00,  2.84it/s]"
     ]
    },
    {
     "name": "stderr",
     "output_type": "stream",
     "text": [
      "\rProcessing sample 3:  75%|███████▌  | 3/4 [00:01<00:00,  2.80it/s]"
     ]
    },
    {
     "name": "stderr",
     "output_type": "stream",
     "text": [
      "\rProcessing sample 3: 100%|██████████| 4/4 [00:01<00:00,  2.73it/s]"
     ]
    },
    {
     "name": "stderr",
     "output_type": "stream",
     "text": [
      "\rProcessing sample 3: 100%|██████████| 4/4 [00:01<00:00,  2.73it/s]"
     ]
    },
    {
     "name": "stderr",
     "output_type": "stream",
     "text": [
      "\n\rProcessing sample 4:   0%|          | 0/4 [00:00<?, ?it/s]"
     ]
    },
    {
     "name": "stderr",
     "output_type": "stream",
     "text": [
      "\rProcessing sample 4:  25%|██▌       | 1/4 [00:00<00:01,  2.60it/s]"
     ]
    },
    {
     "name": "stderr",
     "output_type": "stream",
     "text": [
      "\rProcessing sample 4:  50%|█████     | 2/4 [00:00<00:00,  2.69it/s]"
     ]
    },
    {
     "name": "stderr",
     "output_type": "stream",
     "text": [
      "\rProcessing sample 4:  75%|███████▌  | 3/4 [00:01<00:00,  2.67it/s]"
     ]
    },
    {
     "name": "stderr",
     "output_type": "stream",
     "text": [
      "\rProcessing sample 4: 100%|██████████| 4/4 [00:01<00:00,  2.76it/s]"
     ]
    },
    {
     "name": "stderr",
     "output_type": "stream",
     "text": [
      "\rProcessing sample 4: 100%|██████████| 4/4 [00:01<00:00,  2.77it/s]"
     ]
    },
    {
     "name": "stderr",
     "output_type": "stream",
     "text": [
      "\n\rProcessing sample 5:   0%|          | 0/4 [00:00<?, ?it/s]"
     ]
    },
    {
     "name": "stderr",
     "output_type": "stream",
     "text": [
      "\rProcessing sample 5:  25%|██▌       | 1/4 [00:00<00:01,  2.70it/s]"
     ]
    },
    {
     "name": "stderr",
     "output_type": "stream",
     "text": [
      "\rProcessing sample 5:  50%|█████     | 2/4 [00:00<00:00,  2.73it/s]"
     ]
    },
    {
     "name": "stderr",
     "output_type": "stream",
     "text": [
      "\rProcessing sample 5:  75%|███████▌  | 3/4 [00:01<00:00,  2.76it/s]"
     ]
    },
    {
     "name": "stderr",
     "output_type": "stream",
     "text": [
      "\rProcessing sample 5: 100%|██████████| 4/4 [00:01<00:00,  2.82it/s]"
     ]
    },
    {
     "name": "stderr",
     "output_type": "stream",
     "text": [
      "\rProcessing sample 5: 100%|██████████| 4/4 [00:01<00:00,  2.82it/s]"
     ]
    },
    {
     "name": "stderr",
     "output_type": "stream",
     "text": [
      "\n\rProcessing sample 6:   0%|          | 0/4 [00:00<?, ?it/s]"
     ]
    },
    {
     "name": "stderr",
     "output_type": "stream",
     "text": [
      "\rProcessing sample 6:  25%|██▌       | 1/4 [00:00<00:01,  2.80it/s]"
     ]
    },
    {
     "name": "stderr",
     "output_type": "stream",
     "text": [
      "\rProcessing sample 6:  50%|█████     | 2/4 [00:00<00:00,  2.77it/s]"
     ]
    },
    {
     "name": "stderr",
     "output_type": "stream",
     "text": [
      "\rProcessing sample 6:  75%|███████▌  | 3/4 [00:01<00:00,  2.79it/s]"
     ]
    },
    {
     "name": "stderr",
     "output_type": "stream",
     "text": [
      "\rProcessing sample 6: 100%|██████████| 4/4 [00:01<00:00,  2.83it/s]"
     ]
    },
    {
     "name": "stderr",
     "output_type": "stream",
     "text": [
      "\rProcessing sample 6: 100%|██████████| 4/4 [00:01<00:00,  2.82it/s]"
     ]
    },
    {
     "name": "stderr",
     "output_type": "stream",
     "text": [
      "\n\rProcessing sample 7:   0%|          | 0/4 [00:00<?, ?it/s]"
     ]
    },
    {
     "name": "stderr",
     "output_type": "stream",
     "text": [
      "\rProcessing sample 7:  25%|██▌       | 1/4 [00:00<00:01,  2.79it/s]"
     ]
    },
    {
     "name": "stderr",
     "output_type": "stream",
     "text": [
      "\rProcessing sample 7:  50%|█████     | 2/4 [00:00<00:00,  2.75it/s]"
     ]
    },
    {
     "name": "stderr",
     "output_type": "stream",
     "text": [
      "\rProcessing sample 7:  75%|███████▌  | 3/4 [00:01<00:00,  2.71it/s]"
     ]
    },
    {
     "name": "stderr",
     "output_type": "stream",
     "text": [
      "\rProcessing sample 7: 100%|██████████| 4/4 [00:01<00:00,  2.68it/s]"
     ]
    },
    {
     "name": "stderr",
     "output_type": "stream",
     "text": [
      "\rProcessing sample 7: 100%|██████████| 4/4 [00:01<00:00,  2.67it/s]"
     ]
    },
    {
     "name": "stderr",
     "output_type": "stream",
     "text": [
      "\n\rProcessing sample 8:   0%|          | 0/4 [00:00<?, ?it/s]"
     ]
    },
    {
     "name": "stderr",
     "output_type": "stream",
     "text": [
      "\rProcessing sample 8:  25%|██▌       | 1/4 [00:00<00:01,  2.85it/s]"
     ]
    },
    {
     "name": "stderr",
     "output_type": "stream",
     "text": [
      "\rProcessing sample 8:  50%|█████     | 2/4 [00:00<00:00,  2.80it/s]"
     ]
    },
    {
     "name": "stderr",
     "output_type": "stream",
     "text": [
      "\rProcessing sample 8:  75%|███████▌  | 3/4 [00:01<00:00,  2.84it/s]"
     ]
    },
    {
     "name": "stderr",
     "output_type": "stream",
     "text": [
      "\rProcessing sample 8: 100%|██████████| 4/4 [00:01<00:00,  2.85it/s]"
     ]
    },
    {
     "name": "stderr",
     "output_type": "stream",
     "text": [
      "\rProcessing sample 8: 100%|██████████| 4/4 [00:01<00:00,  2.84it/s]"
     ]
    },
    {
     "name": "stderr",
     "output_type": "stream",
     "text": [
      "\n\rProcessing sample 9:   0%|          | 0/4 [00:00<?, ?it/s]"
     ]
    },
    {
     "name": "stderr",
     "output_type": "stream",
     "text": [
      "\rProcessing sample 9:  25%|██▌       | 1/4 [00:00<00:01,  2.76it/s]"
     ]
    },
    {
     "name": "stderr",
     "output_type": "stream",
     "text": [
      "\rProcessing sample 9:  50%|█████     | 2/4 [00:00<00:00,  2.78it/s]"
     ]
    },
    {
     "name": "stderr",
     "output_type": "stream",
     "text": [
      "\rProcessing sample 9:  75%|███████▌  | 3/4 [00:01<00:00,  2.80it/s]"
     ]
    },
    {
     "name": "stderr",
     "output_type": "stream",
     "text": [
      "\rProcessing sample 9: 100%|██████████| 4/4 [00:01<00:00,  2.83it/s]"
     ]
    },
    {
     "name": "stderr",
     "output_type": "stream",
     "text": [
      "\rProcessing sample 9: 100%|██████████| 4/4 [00:01<00:00,  2.83it/s]"
     ]
    },
    {
     "name": "stderr",
     "output_type": "stream",
     "text": [
      "\n\rProcessing sample 10:   0%|          | 0/4 [00:00<?, ?it/s]"
     ]
    },
    {
     "name": "stderr",
     "output_type": "stream",
     "text": [
      "\rProcessing sample 10:  25%|██▌       | 1/4 [00:00<00:01,  2.83it/s]"
     ]
    },
    {
     "name": "stderr",
     "output_type": "stream",
     "text": [
      "\rProcessing sample 10:  50%|█████     | 2/4 [00:00<00:00,  2.74it/s]"
     ]
    },
    {
     "name": "stderr",
     "output_type": "stream",
     "text": [
      "\rProcessing sample 10:  75%|███████▌  | 3/4 [00:01<00:00,  2.70it/s]"
     ]
    },
    {
     "name": "stderr",
     "output_type": "stream",
     "text": [
      "\rProcessing sample 10: 100%|██████████| 4/4 [00:01<00:00,  2.77it/s]"
     ]
    },
    {
     "name": "stderr",
     "output_type": "stream",
     "text": [
      "\rProcessing sample 10: 100%|██████████| 4/4 [00:01<00:00,  2.72it/s]"
     ]
    },
    {
     "name": "stderr",
     "output_type": "stream",
     "text": [
      "\n\rProcessing sample 11:   0%|          | 0/4 [00:00<?, ?it/s]"
     ]
    },
    {
     "name": "stderr",
     "output_type": "stream",
     "text": [
      "\rProcessing sample 11:  25%|██▌       | 1/4 [00:00<00:01,  2.91it/s]"
     ]
    },
    {
     "name": "stderr",
     "output_type": "stream",
     "text": [
      "\rProcessing sample 11:  50%|█████     | 2/4 [00:00<00:00,  2.88it/s]"
     ]
    },
    {
     "name": "stderr",
     "output_type": "stream",
     "text": [
      "\rProcessing sample 11:  75%|███████▌  | 3/4 [00:01<00:00,  2.78it/s]"
     ]
    },
    {
     "name": "stderr",
     "output_type": "stream",
     "text": [
      "\rProcessing sample 11: 100%|██████████| 4/4 [00:01<00:00,  2.76it/s]"
     ]
    },
    {
     "name": "stderr",
     "output_type": "stream",
     "text": [
      "\rProcessing sample 11: 100%|██████████| 4/4 [00:01<00:00,  2.75it/s]"
     ]
    },
    {
     "name": "stderr",
     "output_type": "stream",
     "text": [
      "\n\rProcessing sample 12:   0%|          | 0/4 [00:00<?, ?it/s]"
     ]
    },
    {
     "name": "stderr",
     "output_type": "stream",
     "text": [
      "\rProcessing sample 12:  25%|██▌       | 1/4 [00:00<00:01,  2.85it/s]"
     ]
    },
    {
     "name": "stderr",
     "output_type": "stream",
     "text": [
      "\rProcessing sample 12:  50%|█████     | 2/4 [00:00<00:00,  2.87it/s]"
     ]
    },
    {
     "name": "stderr",
     "output_type": "stream",
     "text": [
      "\rProcessing sample 12:  75%|███████▌  | 3/4 [00:01<00:00,  2.89it/s]"
     ]
    },
    {
     "name": "stderr",
     "output_type": "stream",
     "text": [
      "\rProcessing sample 12: 100%|██████████| 4/4 [00:01<00:00,  2.88it/s]"
     ]
    },
    {
     "name": "stderr",
     "output_type": "stream",
     "text": [
      "\rProcessing sample 12: 100%|██████████| 4/4 [00:01<00:00,  2.89it/s]"
     ]
    },
    {
     "name": "stderr",
     "output_type": "stream",
     "text": [
      "\n\rProcessing sample 13:   0%|          | 0/4 [00:00<?, ?it/s]"
     ]
    },
    {
     "name": "stderr",
     "output_type": "stream",
     "text": [
      "\rProcessing sample 13:  25%|██▌       | 1/4 [00:00<00:01,  2.82it/s]"
     ]
    },
    {
     "name": "stderr",
     "output_type": "stream",
     "text": [
      "\rProcessing sample 13:  50%|█████     | 2/4 [00:00<00:00,  2.82it/s]"
     ]
    },
    {
     "name": "stderr",
     "output_type": "stream",
     "text": [
      "\rProcessing sample 13:  75%|███████▌  | 3/4 [00:01<00:00,  2.84it/s]"
     ]
    },
    {
     "name": "stderr",
     "output_type": "stream",
     "text": [
      "\rProcessing sample 13: 100%|██████████| 4/4 [00:01<00:00,  2.86it/s]"
     ]
    },
    {
     "name": "stderr",
     "output_type": "stream",
     "text": [
      "\rProcessing sample 13: 100%|██████████| 4/4 [00:01<00:00,  2.86it/s]"
     ]
    },
    {
     "name": "stderr",
     "output_type": "stream",
     "text": [
      "\n\rProcessing sample 14:   0%|          | 0/4 [00:00<?, ?it/s]"
     ]
    },
    {
     "name": "stderr",
     "output_type": "stream",
     "text": [
      "\rProcessing sample 14:  25%|██▌       | 1/4 [00:00<00:01,  2.79it/s]"
     ]
    },
    {
     "name": "stderr",
     "output_type": "stream",
     "text": [
      "\rProcessing sample 14:  50%|█████     | 2/4 [00:00<00:00,  2.83it/s]"
     ]
    },
    {
     "name": "stderr",
     "output_type": "stream",
     "text": [
      "\rProcessing sample 14:  75%|███████▌  | 3/4 [00:01<00:00,  2.84it/s]"
     ]
    },
    {
     "name": "stderr",
     "output_type": "stream",
     "text": [
      "\rProcessing sample 14: 100%|██████████| 4/4 [00:01<00:00,  2.85it/s]"
     ]
    },
    {
     "name": "stderr",
     "output_type": "stream",
     "text": [
      "\rProcessing sample 14: 100%|██████████| 4/4 [00:01<00:00,  2.86it/s]"
     ]
    },
    {
     "name": "stderr",
     "output_type": "stream",
     "text": [
      "\n\rProcessing sample 15:   0%|          | 0/4 [00:00<?, ?it/s]"
     ]
    },
    {
     "name": "stderr",
     "output_type": "stream",
     "text": [
      "\rProcessing sample 15:  25%|██▌       | 1/4 [00:00<00:01,  2.73it/s]"
     ]
    },
    {
     "name": "stderr",
     "output_type": "stream",
     "text": [
      "\rProcessing sample 15:  50%|█████     | 2/4 [00:00<00:00,  2.76it/s]"
     ]
    },
    {
     "name": "stderr",
     "output_type": "stream",
     "text": [
      "\rProcessing sample 15:  75%|███████▌  | 3/4 [00:01<00:00,  2.74it/s]"
     ]
    },
    {
     "name": "stderr",
     "output_type": "stream",
     "text": [
      "\rProcessing sample 15: 100%|██████████| 4/4 [00:01<00:00,  2.77it/s]"
     ]
    },
    {
     "name": "stderr",
     "output_type": "stream",
     "text": [
      "\rProcessing sample 15: 100%|██████████| 4/4 [00:01<00:00,  2.77it/s]"
     ]
    },
    {
     "name": "stderr",
     "output_type": "stream",
     "text": [
      "\n\rProcessing sample 16:   0%|          | 0/4 [00:00<?, ?it/s]"
     ]
    },
    {
     "name": "stderr",
     "output_type": "stream",
     "text": [
      "\rProcessing sample 16:  25%|██▌       | 1/4 [00:00<00:01,  2.75it/s]"
     ]
    },
    {
     "name": "stderr",
     "output_type": "stream",
     "text": [
      "\rProcessing sample 16:  50%|█████     | 2/4 [00:00<00:00,  2.72it/s]"
     ]
    },
    {
     "name": "stderr",
     "output_type": "stream",
     "text": [
      "\rProcessing sample 16:  75%|███████▌  | 3/4 [00:01<00:00,  2.76it/s]"
     ]
    },
    {
     "name": "stderr",
     "output_type": "stream",
     "text": [
      "\rProcessing sample 16: 100%|██████████| 4/4 [00:01<00:00,  2.74it/s]"
     ]
    },
    {
     "name": "stderr",
     "output_type": "stream",
     "text": [
      "\rProcessing sample 16: 100%|██████████| 4/4 [00:01<00:00,  2.73it/s]"
     ]
    },
    {
     "name": "stderr",
     "output_type": "stream",
     "text": [
      "\n\rProcessing sample 17:   0%|          | 0/4 [00:00<?, ?it/s]"
     ]
    },
    {
     "name": "stderr",
     "output_type": "stream",
     "text": [
      "\rProcessing sample 17:  25%|██▌       | 1/4 [00:00<00:01,  2.67it/s]"
     ]
    },
    {
     "name": "stderr",
     "output_type": "stream",
     "text": [
      "\rProcessing sample 17:  50%|█████     | 2/4 [00:00<00:00,  2.76it/s]"
     ]
    },
    {
     "name": "stderr",
     "output_type": "stream",
     "text": [
      "\rProcessing sample 17:  75%|███████▌  | 3/4 [00:01<00:00,  2.74it/s]"
     ]
    },
    {
     "name": "stderr",
     "output_type": "stream",
     "text": [
      "\rProcessing sample 17: 100%|██████████| 4/4 [00:01<00:00,  2.82it/s]"
     ]
    },
    {
     "name": "stderr",
     "output_type": "stream",
     "text": [
      "\rProcessing sample 17: 100%|██████████| 4/4 [00:01<00:00,  2.84it/s]"
     ]
    },
    {
     "name": "stderr",
     "output_type": "stream",
     "text": [
      "\n\rProcessing sample 18:   0%|          | 0/4 [00:00<?, ?it/s]"
     ]
    },
    {
     "name": "stderr",
     "output_type": "stream",
     "text": [
      "\rProcessing sample 18:  25%|██▌       | 1/4 [00:00<00:01,  2.56it/s]"
     ]
    },
    {
     "name": "stderr",
     "output_type": "stream",
     "text": [
      "\rProcessing sample 18:  50%|█████     | 2/4 [00:00<00:00,  2.64it/s]"
     ]
    },
    {
     "name": "stderr",
     "output_type": "stream",
     "text": [
      "\rProcessing sample 18:  75%|███████▌  | 3/4 [00:01<00:00,  2.72it/s]"
     ]
    },
    {
     "name": "stderr",
     "output_type": "stream",
     "text": [
      "\rProcessing sample 18: 100%|██████████| 4/4 [00:01<00:00,  2.78it/s]"
     ]
    },
    {
     "name": "stderr",
     "output_type": "stream",
     "text": [
      "\rProcessing sample 18: 100%|██████████| 4/4 [00:01<00:00,  2.80it/s]"
     ]
    },
    {
     "name": "stderr",
     "output_type": "stream",
     "text": [
      "\n\rProcessing sample 19:   0%|          | 0/4 [00:00<?, ?it/s]"
     ]
    },
    {
     "name": "stderr",
     "output_type": "stream",
     "text": [
      "\rProcessing sample 19:  25%|██▌       | 1/4 [00:00<00:01,  2.49it/s]"
     ]
    },
    {
     "name": "stderr",
     "output_type": "stream",
     "text": [
      "\rProcessing sample 19:  50%|█████     | 2/4 [00:00<00:00,  2.57it/s]"
     ]
    },
    {
     "name": "stderr",
     "output_type": "stream",
     "text": [
      "\rProcessing sample 19:  75%|███████▌  | 3/4 [00:01<00:00,  2.62it/s]"
     ]
    },
    {
     "name": "stderr",
     "output_type": "stream",
     "text": [
      "\rProcessing sample 19: 100%|██████████| 4/4 [00:01<00:00,  2.66it/s]"
     ]
    },
    {
     "name": "stderr",
     "output_type": "stream",
     "text": [
      "\rProcessing sample 19: 100%|██████████| 4/4 [00:01<00:00,  2.69it/s]"
     ]
    },
    {
     "name": "stderr",
     "output_type": "stream",
     "text": [
      "\n\rProcessing sample 20:   0%|          | 0/4 [00:00<?, ?it/s]"
     ]
    },
    {
     "name": "stderr",
     "output_type": "stream",
     "text": [
      "\rProcessing sample 20:  25%|██▌       | 1/4 [00:00<00:01,  2.67it/s]"
     ]
    },
    {
     "name": "stderr",
     "output_type": "stream",
     "text": [
      "\rProcessing sample 20:  50%|█████     | 2/4 [00:00<00:00,  2.71it/s]"
     ]
    },
    {
     "name": "stderr",
     "output_type": "stream",
     "text": [
      "\rProcessing sample 20:  75%|███████▌  | 3/4 [00:01<00:00,  2.69it/s]"
     ]
    },
    {
     "name": "stderr",
     "output_type": "stream",
     "text": [
      "\rProcessing sample 20: 100%|██████████| 4/4 [00:01<00:00,  2.75it/s]"
     ]
    },
    {
     "name": "stderr",
     "output_type": "stream",
     "text": [
      "\rProcessing sample 20: 100%|██████████| 4/4 [00:01<00:00,  2.75it/s]"
     ]
    },
    {
     "name": "stderr",
     "output_type": "stream",
     "text": [
      "\n\rProcessing sample 21:   0%|          | 0/4 [00:00<?, ?it/s]"
     ]
    },
    {
     "name": "stderr",
     "output_type": "stream",
     "text": [
      "\rProcessing sample 21:  25%|██▌       | 1/4 [00:00<00:01,  2.67it/s]"
     ]
    },
    {
     "name": "stderr",
     "output_type": "stream",
     "text": [
      "\rProcessing sample 21:  50%|█████     | 2/4 [00:00<00:00,  2.69it/s]"
     ]
    },
    {
     "name": "stderr",
     "output_type": "stream",
     "text": [
      "\rProcessing sample 21:  75%|███████▌  | 3/4 [00:01<00:00,  2.68it/s]"
     ]
    },
    {
     "name": "stderr",
     "output_type": "stream",
     "text": [
      "\rProcessing sample 21: 100%|██████████| 4/4 [00:01<00:00,  2.72it/s]"
     ]
    },
    {
     "name": "stderr",
     "output_type": "stream",
     "text": [
      "\rProcessing sample 21: 100%|██████████| 4/4 [00:01<00:00,  2.72it/s]"
     ]
    },
    {
     "name": "stderr",
     "output_type": "stream",
     "text": [
      "\n\rProcessing sample 22:   0%|          | 0/4 [00:00<?, ?it/s]"
     ]
    },
    {
     "name": "stderr",
     "output_type": "stream",
     "text": [
      "\rProcessing sample 22:  25%|██▌       | 1/4 [00:00<00:01,  2.72it/s]"
     ]
    },
    {
     "name": "stderr",
     "output_type": "stream",
     "text": [
      "\rProcessing sample 22:  50%|█████     | 2/4 [00:00<00:00,  2.78it/s]"
     ]
    },
    {
     "name": "stderr",
     "output_type": "stream",
     "text": [
      "\rProcessing sample 22:  75%|███████▌  | 3/4 [00:01<00:00,  2.73it/s]"
     ]
    },
    {
     "name": "stderr",
     "output_type": "stream",
     "text": [
      "\rProcessing sample 22: 100%|██████████| 4/4 [00:01<00:00,  2.73it/s]"
     ]
    },
    {
     "name": "stderr",
     "output_type": "stream",
     "text": [
      "\rProcessing sample 22: 100%|██████████| 4/4 [00:01<00:00,  2.75it/s]"
     ]
    },
    {
     "name": "stderr",
     "output_type": "stream",
     "text": [
      "\n\rProcessing sample 23:   0%|          | 0/4 [00:00<?, ?it/s]"
     ]
    },
    {
     "name": "stderr",
     "output_type": "stream",
     "text": [
      "\rProcessing sample 23:  25%|██▌       | 1/4 [00:00<00:01,  2.79it/s]"
     ]
    },
    {
     "name": "stderr",
     "output_type": "stream",
     "text": [
      "\rProcessing sample 23:  50%|█████     | 2/4 [00:00<00:00,  2.84it/s]"
     ]
    },
    {
     "name": "stderr",
     "output_type": "stream",
     "text": [
      "\rProcessing sample 23:  75%|███████▌  | 3/4 [00:01<00:00,  2.78it/s]"
     ]
    },
    {
     "name": "stderr",
     "output_type": "stream",
     "text": [
      "\rProcessing sample 23: 100%|██████████| 4/4 [00:01<00:00,  2.77it/s]"
     ]
    },
    {
     "name": "stderr",
     "output_type": "stream",
     "text": [
      "\rProcessing sample 23: 100%|██████████| 4/4 [00:01<00:00,  2.78it/s]"
     ]
    },
    {
     "name": "stderr",
     "output_type": "stream",
     "text": [
      "\n\rProcessing sample 24:   0%|          | 0/4 [00:00<?, ?it/s]"
     ]
    },
    {
     "name": "stderr",
     "output_type": "stream",
     "text": [
      "\rProcessing sample 24:  25%|██▌       | 1/4 [00:00<00:01,  2.78it/s]"
     ]
    },
    {
     "name": "stderr",
     "output_type": "stream",
     "text": [
      "\rProcessing sample 24:  50%|█████     | 2/4 [00:00<00:00,  2.81it/s]"
     ]
    },
    {
     "name": "stderr",
     "output_type": "stream",
     "text": [
      "\rProcessing sample 24:  75%|███████▌  | 3/4 [00:01<00:00,  2.84it/s]"
     ]
    },
    {
     "name": "stderr",
     "output_type": "stream",
     "text": [
      "\rProcessing sample 24: 100%|██████████| 4/4 [00:01<00:00,  2.86it/s]"
     ]
    },
    {
     "name": "stderr",
     "output_type": "stream",
     "text": [
      "\rProcessing sample 24: 100%|██████████| 4/4 [00:01<00:00,  2.87it/s]"
     ]
    },
    {
     "name": "stderr",
     "output_type": "stream",
     "text": [
      "\n\rProcessing sample 25:   0%|          | 0/4 [00:00<?, ?it/s]"
     ]
    },
    {
     "name": "stderr",
     "output_type": "stream",
     "text": [
      "\rProcessing sample 25:  25%|██▌       | 1/4 [00:00<00:01,  2.53it/s]"
     ]
    },
    {
     "name": "stderr",
     "output_type": "stream",
     "text": [
      "\rProcessing sample 25:  50%|█████     | 2/4 [00:00<00:00,  2.60it/s]"
     ]
    },
    {
     "name": "stderr",
     "output_type": "stream",
     "text": [
      "\rProcessing sample 25:  75%|███████▌  | 3/4 [00:01<00:00,  2.64it/s]"
     ]
    },
    {
     "name": "stderr",
     "output_type": "stream",
     "text": [
      "\rProcessing sample 25: 100%|██████████| 4/4 [00:01<00:00,  2.72it/s]"
     ]
    },
    {
     "name": "stderr",
     "output_type": "stream",
     "text": [
      "\rProcessing sample 25: 100%|██████████| 4/4 [00:01<00:00,  2.74it/s]"
     ]
    },
    {
     "name": "stderr",
     "output_type": "stream",
     "text": [
      "\n\rProcessing sample 26:   0%|          | 0/4 [00:00<?, ?it/s]"
     ]
    },
    {
     "name": "stderr",
     "output_type": "stream",
     "text": [
      "\rProcessing sample 26:  25%|██▌       | 1/4 [00:00<00:01,  2.79it/s]"
     ]
    },
    {
     "name": "stderr",
     "output_type": "stream",
     "text": [
      "\rProcessing sample 26:  50%|█████     | 2/4 [00:00<00:00,  2.77it/s]"
     ]
    },
    {
     "name": "stderr",
     "output_type": "stream",
     "text": [
      "\rProcessing sample 26:  75%|███████▌  | 3/4 [00:01<00:00,  2.77it/s]"
     ]
    },
    {
     "name": "stderr",
     "output_type": "stream",
     "text": [
      "\rProcessing sample 26: 100%|██████████| 4/4 [00:01<00:00,  2.78it/s]"
     ]
    },
    {
     "name": "stderr",
     "output_type": "stream",
     "text": [
      "\rProcessing sample 26: 100%|██████████| 4/4 [00:01<00:00,  2.77it/s]"
     ]
    },
    {
     "name": "stderr",
     "output_type": "stream",
     "text": [
      "\n\rProcessing sample 27:   0%|          | 0/4 [00:00<?, ?it/s]"
     ]
    },
    {
     "name": "stderr",
     "output_type": "stream",
     "text": [
      "\rProcessing sample 27:  25%|██▌       | 1/4 [00:00<00:01,  2.71it/s]"
     ]
    },
    {
     "name": "stderr",
     "output_type": "stream",
     "text": [
      "\rProcessing sample 27:  50%|█████     | 2/4 [00:00<00:00,  2.72it/s]"
     ]
    },
    {
     "name": "stderr",
     "output_type": "stream",
     "text": [
      "\rProcessing sample 27:  75%|███████▌  | 3/4 [00:01<00:00,  2.76it/s]"
     ]
    },
    {
     "name": "stderr",
     "output_type": "stream",
     "text": [
      "\rProcessing sample 27: 100%|██████████| 4/4 [00:01<00:00,  2.82it/s]"
     ]
    },
    {
     "name": "stderr",
     "output_type": "stream",
     "text": [
      "\rProcessing sample 27: 100%|██████████| 4/4 [00:01<00:00,  2.81it/s]"
     ]
    },
    {
     "name": "stderr",
     "output_type": "stream",
     "text": [
      "\n\rProcessing sample 28:   0%|          | 0/4 [00:00<?, ?it/s]"
     ]
    },
    {
     "name": "stderr",
     "output_type": "stream",
     "text": [
      "\rProcessing sample 28:  25%|██▌       | 1/4 [00:00<00:01,  2.69it/s]"
     ]
    },
    {
     "name": "stderr",
     "output_type": "stream",
     "text": [
      "\rProcessing sample 28:  50%|█████     | 2/4 [00:00<00:00,  2.64it/s]"
     ]
    },
    {
     "name": "stderr",
     "output_type": "stream",
     "text": [
      "\rProcessing sample 28:  75%|███████▌  | 3/4 [00:01<00:00,  2.69it/s]"
     ]
    },
    {
     "name": "stderr",
     "output_type": "stream",
     "text": [
      "\rProcessing sample 28: 100%|██████████| 4/4 [00:01<00:00,  2.59it/s]"
     ]
    },
    {
     "name": "stderr",
     "output_type": "stream",
     "text": [
      "\rProcessing sample 28: 100%|██████████| 4/4 [00:01<00:00,  2.59it/s]"
     ]
    },
    {
     "name": "stderr",
     "output_type": "stream",
     "text": [
      "\n\rProcessing sample 29:   0%|          | 0/4 [00:00<?, ?it/s]"
     ]
    },
    {
     "name": "stderr",
     "output_type": "stream",
     "text": [
      "\rProcessing sample 29:  25%|██▌       | 1/4 [00:00<00:01,  2.73it/s]"
     ]
    },
    {
     "name": "stderr",
     "output_type": "stream",
     "text": [
      "\rProcessing sample 29:  50%|█████     | 2/4 [00:00<00:00,  2.74it/s]"
     ]
    },
    {
     "name": "stderr",
     "output_type": "stream",
     "text": [
      "\rProcessing sample 29:  75%|███████▌  | 3/4 [00:01<00:00,  2.76it/s]"
     ]
    },
    {
     "name": "stderr",
     "output_type": "stream",
     "text": [
      "\rProcessing sample 29: 100%|██████████| 4/4 [00:01<00:00,  2.74it/s]"
     ]
    },
    {
     "name": "stderr",
     "output_type": "stream",
     "text": [
      "\rProcessing sample 29: 100%|██████████| 4/4 [00:01<00:00,  2.75it/s]"
     ]
    },
    {
     "name": "stderr",
     "output_type": "stream",
     "text": [
      "\n\rProcessing sample 30:   0%|          | 0/4 [00:00<?, ?it/s]"
     ]
    },
    {
     "name": "stderr",
     "output_type": "stream",
     "text": [
      "\rProcessing sample 30:  25%|██▌       | 1/4 [00:00<00:01,  2.69it/s]"
     ]
    },
    {
     "name": "stderr",
     "output_type": "stream",
     "text": [
      "\rProcessing sample 30:  50%|█████     | 2/4 [00:00<00:00,  2.72it/s]"
     ]
    },
    {
     "name": "stderr",
     "output_type": "stream",
     "text": [
      "\rProcessing sample 30:  75%|███████▌  | 3/4 [00:01<00:00,  2.79it/s]"
     ]
    },
    {
     "name": "stderr",
     "output_type": "stream",
     "text": [
      "\rProcessing sample 30: 100%|██████████| 4/4 [00:01<00:00,  2.78it/s]"
     ]
    },
    {
     "name": "stderr",
     "output_type": "stream",
     "text": [
      "\rProcessing sample 30: 100%|██████████| 4/4 [00:01<00:00,  2.80it/s]"
     ]
    },
    {
     "name": "stderr",
     "output_type": "stream",
     "text": [
      "\n\rProcessing sample 31:   0%|          | 0/4 [00:00<?, ?it/s]"
     ]
    },
    {
     "name": "stderr",
     "output_type": "stream",
     "text": [
      "\rProcessing sample 31:  25%|██▌       | 1/4 [00:00<00:01,  2.70it/s]"
     ]
    },
    {
     "name": "stderr",
     "output_type": "stream",
     "text": [
      "\rProcessing sample 31:  50%|█████     | 2/4 [00:00<00:00,  2.74it/s]"
     ]
    },
    {
     "name": "stderr",
     "output_type": "stream",
     "text": [
      "\rProcessing sample 31:  75%|███████▌  | 3/4 [00:01<00:00,  2.78it/s]"
     ]
    },
    {
     "name": "stderr",
     "output_type": "stream",
     "text": [
      "\rProcessing sample 31: 100%|██████████| 4/4 [00:01<00:00,  2.76it/s]"
     ]
    },
    {
     "name": "stderr",
     "output_type": "stream",
     "text": [
      "\rProcessing sample 31: 100%|██████████| 4/4 [00:01<00:00,  2.78it/s]"
     ]
    },
    {
     "name": "stderr",
     "output_type": "stream",
     "text": [
      "\n\rProcessing sample 32:   0%|          | 0/4 [00:00<?, ?it/s]"
     ]
    },
    {
     "name": "stderr",
     "output_type": "stream",
     "text": [
      "\rProcessing sample 32:  25%|██▌       | 1/4 [00:00<00:01,  2.73it/s]"
     ]
    },
    {
     "name": "stderr",
     "output_type": "stream",
     "text": [
      "\rProcessing sample 32:  50%|█████     | 2/4 [00:00<00:00,  2.79it/s]"
     ]
    },
    {
     "name": "stderr",
     "output_type": "stream",
     "text": [
      "\rProcessing sample 32:  75%|███████▌  | 3/4 [00:01<00:00,  2.79it/s]"
     ]
    },
    {
     "name": "stderr",
     "output_type": "stream",
     "text": [
      "\rProcessing sample 32: 100%|██████████| 4/4 [00:01<00:00,  2.78it/s]"
     ]
    },
    {
     "name": "stderr",
     "output_type": "stream",
     "text": [
      "\rProcessing sample 32: 100%|██████████| 4/4 [00:01<00:00,  2.80it/s]"
     ]
    },
    {
     "name": "stderr",
     "output_type": "stream",
     "text": [
      "\n\rProcessing sample 33:   0%|          | 0/4 [00:00<?, ?it/s]"
     ]
    },
    {
     "name": "stderr",
     "output_type": "stream",
     "text": [
      "\rProcessing sample 33:  25%|██▌       | 1/4 [00:00<00:01,  2.75it/s]"
     ]
    },
    {
     "name": "stderr",
     "output_type": "stream",
     "text": [
      "\rProcessing sample 33:  50%|█████     | 2/4 [00:00<00:00,  2.77it/s]"
     ]
    },
    {
     "name": "stderr",
     "output_type": "stream",
     "text": [
      "\rProcessing sample 33:  75%|███████▌  | 3/4 [00:01<00:00,  2.75it/s]"
     ]
    },
    {
     "name": "stderr",
     "output_type": "stream",
     "text": [
      "\rProcessing sample 33: 100%|██████████| 4/4 [00:01<00:00,  2.76it/s]"
     ]
    },
    {
     "name": "stderr",
     "output_type": "stream",
     "text": [
      "\rProcessing sample 33: 100%|██████████| 4/4 [00:01<00:00,  2.76it/s]"
     ]
    },
    {
     "name": "stderr",
     "output_type": "stream",
     "text": [
      "\n\rProcessing sample 34:   0%|          | 0/4 [00:00<?, ?it/s]"
     ]
    },
    {
     "name": "stderr",
     "output_type": "stream",
     "text": [
      "\rProcessing sample 34:  25%|██▌       | 1/4 [00:00<00:01,  2.80it/s]"
     ]
    },
    {
     "name": "stderr",
     "output_type": "stream",
     "text": [
      "\rProcessing sample 34:  50%|█████     | 2/4 [00:00<00:00,  2.80it/s]"
     ]
    },
    {
     "name": "stderr",
     "output_type": "stream",
     "text": [
      "\rProcessing sample 34:  75%|███████▌  | 3/4 [00:01<00:00,  2.71it/s]"
     ]
    },
    {
     "name": "stderr",
     "output_type": "stream",
     "text": [
      "\rProcessing sample 34: 100%|██████████| 4/4 [00:01<00:00,  2.75it/s]"
     ]
    },
    {
     "name": "stderr",
     "output_type": "stream",
     "text": [
      "\rProcessing sample 34: 100%|██████████| 4/4 [00:01<00:00,  2.73it/s]"
     ]
    },
    {
     "name": "stderr",
     "output_type": "stream",
     "text": [
      "\n\rProcessing sample 35:   0%|          | 0/4 [00:00<?, ?it/s]"
     ]
    },
    {
     "name": "stderr",
     "output_type": "stream",
     "text": [
      "\rProcessing sample 35:  25%|██▌       | 1/4 [00:00<00:01,  2.82it/s]"
     ]
    },
    {
     "name": "stderr",
     "output_type": "stream",
     "text": [
      "\rProcessing sample 35:  50%|█████     | 2/4 [00:00<00:00,  2.86it/s]"
     ]
    },
    {
     "name": "stderr",
     "output_type": "stream",
     "text": [
      "\rProcessing sample 35:  75%|███████▌  | 3/4 [00:01<00:00,  2.87it/s]"
     ]
    },
    {
     "name": "stderr",
     "output_type": "stream",
     "text": [
      "\rProcessing sample 35: 100%|██████████| 4/4 [00:01<00:00,  2.90it/s]"
     ]
    },
    {
     "name": "stderr",
     "output_type": "stream",
     "text": [
      "\rProcessing sample 35: 100%|██████████| 4/4 [00:01<00:00,  2.91it/s]"
     ]
    },
    {
     "name": "stderr",
     "output_type": "stream",
     "text": [
      "\n\rProcessing sample 36:   0%|          | 0/4 [00:00<?, ?it/s]"
     ]
    },
    {
     "name": "stderr",
     "output_type": "stream",
     "text": [
      "\rProcessing sample 36:  25%|██▌       | 1/4 [00:00<00:01,  2.75it/s]"
     ]
    },
    {
     "name": "stderr",
     "output_type": "stream",
     "text": [
      "\rProcessing sample 36:  50%|█████     | 2/4 [00:00<00:00,  2.73it/s]"
     ]
    },
    {
     "name": "stderr",
     "output_type": "stream",
     "text": [
      "\rProcessing sample 36:  75%|███████▌  | 3/4 [00:01<00:00,  2.75it/s]"
     ]
    },
    {
     "name": "stderr",
     "output_type": "stream",
     "text": [
      "\rProcessing sample 36: 100%|██████████| 4/4 [00:01<00:00,  2.71it/s]"
     ]
    },
    {
     "name": "stderr",
     "output_type": "stream",
     "text": [
      "\rProcessing sample 36: 100%|██████████| 4/4 [00:01<00:00,  2.71it/s]"
     ]
    },
    {
     "name": "stderr",
     "output_type": "stream",
     "text": [
      "\n\rProcessing sample 37:   0%|          | 0/4 [00:00<?, ?it/s]"
     ]
    },
    {
     "name": "stderr",
     "output_type": "stream",
     "text": [
      "\rProcessing sample 37:  25%|██▌       | 1/4 [00:00<00:01,  2.59it/s]"
     ]
    },
    {
     "name": "stderr",
     "output_type": "stream",
     "text": [
      "\rProcessing sample 37:  50%|█████     | 2/4 [00:00<00:00,  2.56it/s]"
     ]
    },
    {
     "name": "stderr",
     "output_type": "stream",
     "text": [
      "\rProcessing sample 37:  75%|███████▌  | 3/4 [00:01<00:00,  2.63it/s]"
     ]
    },
    {
     "name": "stderr",
     "output_type": "stream",
     "text": [
      "\rProcessing sample 37: 100%|██████████| 4/4 [00:01<00:00,  2.72it/s]"
     ]
    },
    {
     "name": "stderr",
     "output_type": "stream",
     "text": [
      "\rProcessing sample 37: 100%|██████████| 4/4 [00:01<00:00,  2.70it/s]"
     ]
    },
    {
     "name": "stderr",
     "output_type": "stream",
     "text": [
      "\n\rProcessing sample 38:   0%|          | 0/4 [00:00<?, ?it/s]"
     ]
    },
    {
     "name": "stderr",
     "output_type": "stream",
     "text": [
      "\rProcessing sample 38:  25%|██▌       | 1/4 [00:00<00:01,  2.77it/s]"
     ]
    },
    {
     "name": "stderr",
     "output_type": "stream",
     "text": [
      "\rProcessing sample 38:  50%|█████     | 2/4 [00:00<00:00,  2.79it/s]"
     ]
    },
    {
     "name": "stderr",
     "output_type": "stream",
     "text": [
      "\rProcessing sample 38:  75%|███████▌  | 3/4 [00:01<00:00,  2.81it/s]"
     ]
    },
    {
     "name": "stderr",
     "output_type": "stream",
     "text": [
      "\rProcessing sample 38: 100%|██████████| 4/4 [00:01<00:00,  2.84it/s]"
     ]
    },
    {
     "name": "stderr",
     "output_type": "stream",
     "text": [
      "\rProcessing sample 38: 100%|██████████| 4/4 [00:01<00:00,  2.84it/s]"
     ]
    },
    {
     "name": "stderr",
     "output_type": "stream",
     "text": [
      "\n\rProcessing sample 39:   0%|          | 0/4 [00:00<?, ?it/s]"
     ]
    },
    {
     "name": "stderr",
     "output_type": "stream",
     "text": [
      "\rProcessing sample 39:  25%|██▌       | 1/4 [00:00<00:01,  2.71it/s]"
     ]
    },
    {
     "name": "stderr",
     "output_type": "stream",
     "text": [
      "\rProcessing sample 39:  50%|█████     | 2/4 [00:00<00:00,  2.77it/s]"
     ]
    },
    {
     "name": "stderr",
     "output_type": "stream",
     "text": [
      "\rProcessing sample 39:  75%|███████▌  | 3/4 [00:01<00:00,  2.79it/s]"
     ]
    },
    {
     "name": "stderr",
     "output_type": "stream",
     "text": [
      "\rProcessing sample 39: 100%|██████████| 4/4 [00:01<00:00,  2.74it/s]"
     ]
    },
    {
     "name": "stderr",
     "output_type": "stream",
     "text": [
      "\rProcessing sample 39: 100%|██████████| 4/4 [00:01<00:00,  2.77it/s]"
     ]
    },
    {
     "name": "stderr",
     "output_type": "stream",
     "text": [
      "\n\rProcessing sample 40:   0%|          | 0/4 [00:00<?, ?it/s]"
     ]
    },
    {
     "name": "stderr",
     "output_type": "stream",
     "text": [
      "\rProcessing sample 40:  25%|██▌       | 1/4 [00:00<00:01,  2.71it/s]"
     ]
    },
    {
     "name": "stderr",
     "output_type": "stream",
     "text": [
      "\rProcessing sample 40:  50%|█████     | 2/4 [00:00<00:00,  2.70it/s]"
     ]
    },
    {
     "name": "stderr",
     "output_type": "stream",
     "text": [
      "\rProcessing sample 40:  75%|███████▌  | 3/4 [00:01<00:00,  2.69it/s]"
     ]
    },
    {
     "name": "stderr",
     "output_type": "stream",
     "text": [
      "\rProcessing sample 40: 100%|██████████| 4/4 [00:01<00:00,  2.73it/s]"
     ]
    },
    {
     "name": "stderr",
     "output_type": "stream",
     "text": [
      "\rProcessing sample 40: 100%|██████████| 4/4 [00:01<00:00,  2.71it/s]"
     ]
    },
    {
     "name": "stderr",
     "output_type": "stream",
     "text": [
      "\n\rProcessing sample 41:   0%|          | 0/4 [00:00<?, ?it/s]"
     ]
    },
    {
     "name": "stderr",
     "output_type": "stream",
     "text": [
      "\rProcessing sample 41:  25%|██▌       | 1/4 [00:00<00:01,  2.57it/s]"
     ]
    },
    {
     "name": "stderr",
     "output_type": "stream",
     "text": [
      "\rProcessing sample 41:  50%|█████     | 2/4 [00:00<00:00,  2.63it/s]"
     ]
    },
    {
     "name": "stderr",
     "output_type": "stream",
     "text": [
      "\rProcessing sample 41:  75%|███████▌  | 3/4 [00:01<00:00,  2.66it/s]"
     ]
    },
    {
     "name": "stderr",
     "output_type": "stream",
     "text": [
      "\rProcessing sample 41: 100%|██████████| 4/4 [00:01<00:00,  2.70it/s]"
     ]
    },
    {
     "name": "stderr",
     "output_type": "stream",
     "text": [
      "\rProcessing sample 41: 100%|██████████| 4/4 [00:01<00:00,  2.72it/s]"
     ]
    },
    {
     "name": "stderr",
     "output_type": "stream",
     "text": [
      "\n\rProcessing sample 42:   0%|          | 0/4 [00:00<?, ?it/s]"
     ]
    },
    {
     "name": "stderr",
     "output_type": "stream",
     "text": [
      "\rProcessing sample 42:  25%|██▌       | 1/4 [00:00<00:01,  2.88it/s]"
     ]
    },
    {
     "name": "stderr",
     "output_type": "stream",
     "text": [
      "\rProcessing sample 42:  50%|█████     | 2/4 [00:00<00:00,  2.84it/s]"
     ]
    },
    {
     "name": "stderr",
     "output_type": "stream",
     "text": [
      "\rProcessing sample 42:  75%|███████▌  | 3/4 [00:01<00:00,  2.78it/s]"
     ]
    },
    {
     "name": "stderr",
     "output_type": "stream",
     "text": [
      "\rProcessing sample 42: 100%|██████████| 4/4 [00:01<00:00,  2.75it/s]"
     ]
    },
    {
     "name": "stderr",
     "output_type": "stream",
     "text": [
      "\rProcessing sample 42: 100%|██████████| 4/4 [00:01<00:00,  2.74it/s]"
     ]
    },
    {
     "name": "stderr",
     "output_type": "stream",
     "text": [
      "\n\rProcessing sample 43:   0%|          | 0/4 [00:00<?, ?it/s]"
     ]
    },
    {
     "name": "stderr",
     "output_type": "stream",
     "text": [
      "\rProcessing sample 43:  25%|██▌       | 1/4 [00:00<00:01,  2.48it/s]"
     ]
    },
    {
     "name": "stderr",
     "output_type": "stream",
     "text": [
      "\rProcessing sample 43:  50%|█████     | 2/4 [00:00<00:00,  2.52it/s]"
     ]
    },
    {
     "name": "stderr",
     "output_type": "stream",
     "text": [
      "\rProcessing sample 43:  75%|███████▌  | 3/4 [00:01<00:00,  2.61it/s]"
     ]
    },
    {
     "name": "stderr",
     "output_type": "stream",
     "text": [
      "\rProcessing sample 43: 100%|██████████| 4/4 [00:01<00:00,  2.62it/s]"
     ]
    },
    {
     "name": "stderr",
     "output_type": "stream",
     "text": [
      "\rProcessing sample 43: 100%|██████████| 4/4 [00:01<00:00,  2.64it/s]"
     ]
    },
    {
     "name": "stderr",
     "output_type": "stream",
     "text": [
      "\n\rProcessing sample 44:   0%|          | 0/4 [00:00<?, ?it/s]"
     ]
    },
    {
     "name": "stderr",
     "output_type": "stream",
     "text": [
      "\rProcessing sample 44:  25%|██▌       | 1/4 [00:00<00:01,  2.64it/s]"
     ]
    },
    {
     "name": "stderr",
     "output_type": "stream",
     "text": [
      "\rProcessing sample 44:  50%|█████     | 2/4 [00:00<00:00,  2.61it/s]"
     ]
    },
    {
     "name": "stderr",
     "output_type": "stream",
     "text": [
      "\rProcessing sample 44:  75%|███████▌  | 3/4 [00:01<00:00,  2.59it/s]"
     ]
    },
    {
     "name": "stderr",
     "output_type": "stream",
     "text": [
      "\rProcessing sample 44: 100%|██████████| 4/4 [00:01<00:00,  2.67it/s]"
     ]
    },
    {
     "name": "stderr",
     "output_type": "stream",
     "text": [
      "\rProcessing sample 44: 100%|██████████| 4/4 [00:01<00:00,  2.64it/s]"
     ]
    },
    {
     "name": "stderr",
     "output_type": "stream",
     "text": [
      "\n\rProcessing sample 45:   0%|          | 0/4 [00:00<?, ?it/s]"
     ]
    },
    {
     "name": "stderr",
     "output_type": "stream",
     "text": [
      "\rProcessing sample 45:  25%|██▌       | 1/4 [00:00<00:01,  2.45it/s]"
     ]
    },
    {
     "name": "stderr",
     "output_type": "stream",
     "text": [
      "\rProcessing sample 45:  50%|█████     | 2/4 [00:00<00:00,  2.52it/s]"
     ]
    },
    {
     "name": "stderr",
     "output_type": "stream",
     "text": [
      "\rProcessing sample 45:  75%|███████▌  | 3/4 [00:01<00:00,  2.61it/s]"
     ]
    },
    {
     "name": "stderr",
     "output_type": "stream",
     "text": [
      "\rProcessing sample 45: 100%|██████████| 4/4 [00:01<00:00,  2.62it/s]"
     ]
    },
    {
     "name": "stderr",
     "output_type": "stream",
     "text": [
      "\rProcessing sample 45: 100%|██████████| 4/4 [00:01<00:00,  2.65it/s]"
     ]
    },
    {
     "name": "stderr",
     "output_type": "stream",
     "text": [
      "\n\rProcessing sample 46:   0%|          | 0/4 [00:00<?, ?it/s]"
     ]
    },
    {
     "name": "stderr",
     "output_type": "stream",
     "text": [
      "\rProcessing sample 46:  25%|██▌       | 1/4 [00:00<00:01,  2.70it/s]"
     ]
    },
    {
     "name": "stderr",
     "output_type": "stream",
     "text": [
      "\rProcessing sample 46:  50%|█████     | 2/4 [00:00<00:00,  2.67it/s]"
     ]
    },
    {
     "name": "stderr",
     "output_type": "stream",
     "text": [
      "\rProcessing sample 46:  75%|███████▌  | 3/4 [00:01<00:00,  2.64it/s]"
     ]
    },
    {
     "name": "stderr",
     "output_type": "stream",
     "text": [
      "\rProcessing sample 46: 100%|██████████| 4/4 [00:01<00:00,  2.63it/s]"
     ]
    },
    {
     "name": "stderr",
     "output_type": "stream",
     "text": [
      "\rProcessing sample 46: 100%|██████████| 4/4 [00:01<00:00,  2.62it/s]"
     ]
    },
    {
     "name": "stderr",
     "output_type": "stream",
     "text": [
      "\n\rProcessing sample 47:   0%|          | 0/4 [00:00<?, ?it/s]"
     ]
    },
    {
     "name": "stderr",
     "output_type": "stream",
     "text": [
      "\rProcessing sample 47:  25%|██▌       | 1/4 [00:00<00:01,  2.65it/s]"
     ]
    },
    {
     "name": "stderr",
     "output_type": "stream",
     "text": [
      "\rProcessing sample 47:  50%|█████     | 2/4 [00:00<00:00,  2.68it/s]"
     ]
    },
    {
     "name": "stderr",
     "output_type": "stream",
     "text": [
      "\rProcessing sample 47:  75%|███████▌  | 3/4 [00:01<00:00,  2.68it/s]"
     ]
    },
    {
     "name": "stderr",
     "output_type": "stream",
     "text": [
      "\rProcessing sample 47: 100%|██████████| 4/4 [00:01<00:00,  2.69it/s]"
     ]
    },
    {
     "name": "stderr",
     "output_type": "stream",
     "text": [
      "\rProcessing sample 47: 100%|██████████| 4/4 [00:01<00:00,  2.70it/s]"
     ]
    },
    {
     "name": "stderr",
     "output_type": "stream",
     "text": [
      "\n\rProcessing sample 48:   0%|          | 0/4 [00:00<?, ?it/s]"
     ]
    },
    {
     "name": "stderr",
     "output_type": "stream",
     "text": [
      "\rProcessing sample 48:  25%|██▌       | 1/4 [00:00<00:01,  2.62it/s]"
     ]
    },
    {
     "name": "stderr",
     "output_type": "stream",
     "text": [
      "\rProcessing sample 48:  50%|█████     | 2/4 [00:00<00:00,  2.66it/s]"
     ]
    },
    {
     "name": "stderr",
     "output_type": "stream",
     "text": [
      "\rProcessing sample 48:  75%|███████▌  | 3/4 [00:01<00:00,  2.67it/s]"
     ]
    },
    {
     "name": "stderr",
     "output_type": "stream",
     "text": [
      "\rProcessing sample 48: 100%|██████████| 4/4 [00:01<00:00,  2.71it/s]"
     ]
    },
    {
     "name": "stderr",
     "output_type": "stream",
     "text": [
      "\rProcessing sample 48: 100%|██████████| 4/4 [00:01<00:00,  2.72it/s]"
     ]
    },
    {
     "name": "stderr",
     "output_type": "stream",
     "text": [
      "\n\rProcessing sample 49:   0%|          | 0/4 [00:00<?, ?it/s]"
     ]
    },
    {
     "name": "stderr",
     "output_type": "stream",
     "text": [
      "\rProcessing sample 49:  25%|██▌       | 1/4 [00:00<00:01,  2.62it/s]"
     ]
    },
    {
     "name": "stderr",
     "output_type": "stream",
     "text": [
      "\rProcessing sample 49:  50%|█████     | 2/4 [00:00<00:00,  2.62it/s]"
     ]
    },
    {
     "name": "stderr",
     "output_type": "stream",
     "text": [
      "\rProcessing sample 49:  75%|███████▌  | 3/4 [00:01<00:00,  2.65it/s]"
     ]
    },
    {
     "name": "stderr",
     "output_type": "stream",
     "text": [
      "\rProcessing sample 49: 100%|██████████| 4/4 [00:01<00:00,  2.63it/s]"
     ]
    },
    {
     "name": "stderr",
     "output_type": "stream",
     "text": [
      "\rProcessing sample 49: 100%|██████████| 4/4 [00:01<00:00,  2.64it/s]"
     ]
    },
    {
     "name": "stderr",
     "output_type": "stream",
     "text": [
      "\n\rProcessing sample 50:   0%|          | 0/4 [00:00<?, ?it/s]"
     ]
    },
    {
     "name": "stderr",
     "output_type": "stream",
     "text": [
      "\rProcessing sample 50:  25%|██▌       | 1/4 [00:00<00:01,  2.68it/s]"
     ]
    },
    {
     "name": "stderr",
     "output_type": "stream",
     "text": [
      "\rProcessing sample 50:  50%|█████     | 2/4 [00:00<00:00,  2.70it/s]"
     ]
    },
    {
     "name": "stderr",
     "output_type": "stream",
     "text": [
      "\rProcessing sample 50:  75%|███████▌  | 3/4 [00:01<00:00,  2.72it/s]"
     ]
    },
    {
     "name": "stderr",
     "output_type": "stream",
     "text": [
      "\rProcessing sample 50: 100%|██████████| 4/4 [00:01<00:00,  2.73it/s]"
     ]
    },
    {
     "name": "stderr",
     "output_type": "stream",
     "text": [
      "\rProcessing sample 50: 100%|██████████| 4/4 [00:01<00:00,  2.74it/s]"
     ]
    },
    {
     "name": "stderr",
     "output_type": "stream",
     "text": [
      "\n\rProcessing sample 51:   0%|          | 0/4 [00:00<?, ?it/s]"
     ]
    },
    {
     "name": "stderr",
     "output_type": "stream",
     "text": [
      "\rProcessing sample 51:  25%|██▌       | 1/4 [00:00<00:01,  2.64it/s]"
     ]
    },
    {
     "name": "stderr",
     "output_type": "stream",
     "text": [
      "\rProcessing sample 51:  50%|█████     | 2/4 [00:00<00:00,  2.61it/s]"
     ]
    },
    {
     "name": "stderr",
     "output_type": "stream",
     "text": [
      "\rProcessing sample 51:  75%|███████▌  | 3/4 [00:01<00:00,  2.65it/s]"
     ]
    },
    {
     "name": "stderr",
     "output_type": "stream",
     "text": [
      "\rProcessing sample 51: 100%|██████████| 4/4 [00:01<00:00,  2.74it/s]"
     ]
    },
    {
     "name": "stderr",
     "output_type": "stream",
     "text": [
      "\rProcessing sample 51: 100%|██████████| 4/4 [00:01<00:00,  2.72it/s]"
     ]
    },
    {
     "name": "stderr",
     "output_type": "stream",
     "text": [
      "\n\rProcessing sample 52:   0%|          | 0/4 [00:00<?, ?it/s]"
     ]
    },
    {
     "name": "stderr",
     "output_type": "stream",
     "text": [
      "\rProcessing sample 52:  25%|██▌       | 1/4 [00:00<00:01,  2.60it/s]"
     ]
    },
    {
     "name": "stderr",
     "output_type": "stream",
     "text": [
      "\rProcessing sample 52:  50%|█████     | 2/4 [00:00<00:00,  2.65it/s]"
     ]
    },
    {
     "name": "stderr",
     "output_type": "stream",
     "text": [
      "\rProcessing sample 52:  75%|███████▌  | 3/4 [00:01<00:00,  2.70it/s]"
     ]
    },
    {
     "name": "stderr",
     "output_type": "stream",
     "text": [
      "\rProcessing sample 52: 100%|██████████| 4/4 [00:01<00:00,  2.76it/s]"
     ]
    },
    {
     "name": "stderr",
     "output_type": "stream",
     "text": [
      "\rProcessing sample 52: 100%|██████████| 4/4 [00:01<00:00,  2.78it/s]"
     ]
    },
    {
     "name": "stderr",
     "output_type": "stream",
     "text": [
      "\n\rProcessing sample 53:   0%|          | 0/4 [00:00<?, ?it/s]"
     ]
    },
    {
     "name": "stderr",
     "output_type": "stream",
     "text": [
      "\rProcessing sample 53:  25%|██▌       | 1/4 [00:00<00:01,  2.66it/s]"
     ]
    },
    {
     "name": "stderr",
     "output_type": "stream",
     "text": [
      "\rProcessing sample 53:  50%|█████     | 2/4 [00:00<00:00,  2.65it/s]"
     ]
    },
    {
     "name": "stderr",
     "output_type": "stream",
     "text": [
      "\rProcessing sample 53:  75%|███████▌  | 3/4 [00:01<00:00,  2.67it/s]"
     ]
    },
    {
     "name": "stderr",
     "output_type": "stream",
     "text": [
      "\rProcessing sample 53: 100%|██████████| 4/4 [00:01<00:00,  2.74it/s]"
     ]
    },
    {
     "name": "stderr",
     "output_type": "stream",
     "text": [
      "\rProcessing sample 53: 100%|██████████| 4/4 [00:01<00:00,  2.72it/s]"
     ]
    },
    {
     "name": "stderr",
     "output_type": "stream",
     "text": [
      "\n\rProcessing sample 54:   0%|          | 0/4 [00:00<?, ?it/s]"
     ]
    },
    {
     "name": "stderr",
     "output_type": "stream",
     "text": [
      "\rProcessing sample 54:  25%|██▌       | 1/4 [00:00<00:01,  2.59it/s]"
     ]
    },
    {
     "name": "stderr",
     "output_type": "stream",
     "text": [
      "\rProcessing sample 54:  50%|█████     | 2/4 [00:00<00:00,  2.70it/s]"
     ]
    },
    {
     "name": "stderr",
     "output_type": "stream",
     "text": [
      "\rProcessing sample 54:  75%|███████▌  | 3/4 [00:01<00:00,  2.70it/s]"
     ]
    },
    {
     "name": "stderr",
     "output_type": "stream",
     "text": [
      "\rProcessing sample 54: 100%|██████████| 4/4 [00:01<00:00,  2.71it/s]"
     ]
    },
    {
     "name": "stderr",
     "output_type": "stream",
     "text": [
      "\rProcessing sample 54: 100%|██████████| 4/4 [00:01<00:00,  2.75it/s]"
     ]
    },
    {
     "name": "stderr",
     "output_type": "stream",
     "text": [
      "\n\rProcessing sample 55:   0%|          | 0/4 [00:00<?, ?it/s]"
     ]
    },
    {
     "name": "stderr",
     "output_type": "stream",
     "text": [
      "\rProcessing sample 55:  25%|██▌       | 1/4 [00:00<00:01,  2.57it/s]"
     ]
    },
    {
     "name": "stderr",
     "output_type": "stream",
     "text": [
      "\rProcessing sample 55:  50%|█████     | 2/4 [00:00<00:00,  2.60it/s]"
     ]
    },
    {
     "name": "stderr",
     "output_type": "stream",
     "text": [
      "\rProcessing sample 55:  75%|███████▌  | 3/4 [00:01<00:00,  2.56it/s]"
     ]
    },
    {
     "name": "stderr",
     "output_type": "stream",
     "text": [
      "\rProcessing sample 55: 100%|██████████| 4/4 [00:01<00:00,  2.58it/s]"
     ]
    },
    {
     "name": "stderr",
     "output_type": "stream",
     "text": [
      "\rProcessing sample 55: 100%|██████████| 4/4 [00:01<00:00,  2.58it/s]"
     ]
    },
    {
     "name": "stderr",
     "output_type": "stream",
     "text": [
      "\n\rProcessing sample 56:   0%|          | 0/4 [00:00<?, ?it/s]"
     ]
    },
    {
     "name": "stderr",
     "output_type": "stream",
     "text": [
      "\rProcessing sample 56:  25%|██▌       | 1/4 [00:00<00:01,  2.67it/s]"
     ]
    },
    {
     "name": "stderr",
     "output_type": "stream",
     "text": [
      "\rProcessing sample 56:  50%|█████     | 2/4 [00:00<00:00,  2.62it/s]"
     ]
    },
    {
     "name": "stderr",
     "output_type": "stream",
     "text": [
      "\rProcessing sample 56:  75%|███████▌  | 3/4 [00:01<00:00,  2.66it/s]"
     ]
    },
    {
     "name": "stderr",
     "output_type": "stream",
     "text": [
      "\rProcessing sample 56: 100%|██████████| 4/4 [00:01<00:00,  2.62it/s]"
     ]
    },
    {
     "name": "stderr",
     "output_type": "stream",
     "text": [
      "\rProcessing sample 56: 100%|██████████| 4/4 [00:01<00:00,  2.61it/s]"
     ]
    },
    {
     "name": "stderr",
     "output_type": "stream",
     "text": [
      "\n\rProcessing sample 57:   0%|          | 0/4 [00:00<?, ?it/s]"
     ]
    },
    {
     "name": "stderr",
     "output_type": "stream",
     "text": [
      "\rProcessing sample 57:  25%|██▌       | 1/4 [00:00<00:01,  2.39it/s]"
     ]
    },
    {
     "name": "stderr",
     "output_type": "stream",
     "text": [
      "\rProcessing sample 57:  50%|█████     | 2/4 [00:00<00:00,  2.47it/s]"
     ]
    },
    {
     "name": "stderr",
     "output_type": "stream",
     "text": [
      "\rProcessing sample 57:  75%|███████▌  | 3/4 [00:01<00:00,  2.53it/s]"
     ]
    },
    {
     "name": "stderr",
     "output_type": "stream",
     "text": [
      "\rProcessing sample 57: 100%|██████████| 4/4 [00:01<00:00,  2.61it/s]"
     ]
    },
    {
     "name": "stderr",
     "output_type": "stream",
     "text": [
      "\rProcessing sample 57: 100%|██████████| 4/4 [00:01<00:00,  2.63it/s]"
     ]
    },
    {
     "name": "stderr",
     "output_type": "stream",
     "text": [
      "\n\rProcessing sample 58:   0%|          | 0/4 [00:00<?, ?it/s]"
     ]
    },
    {
     "name": "stderr",
     "output_type": "stream",
     "text": [
      "\rProcessing sample 58:  25%|██▌       | 1/4 [00:00<00:01,  2.50it/s]"
     ]
    },
    {
     "name": "stderr",
     "output_type": "stream",
     "text": [
      "\rProcessing sample 58:  50%|█████     | 2/4 [00:00<00:00,  2.55it/s]"
     ]
    },
    {
     "name": "stderr",
     "output_type": "stream",
     "text": [
      "\rProcessing sample 58:  75%|███████▌  | 3/4 [00:01<00:00,  2.56it/s]"
     ]
    },
    {
     "name": "stderr",
     "output_type": "stream",
     "text": [
      "\rProcessing sample 58: 100%|██████████| 4/4 [00:01<00:00,  2.65it/s]"
     ]
    },
    {
     "name": "stderr",
     "output_type": "stream",
     "text": [
      "\rProcessing sample 58: 100%|██████████| 4/4 [00:01<00:00,  2.65it/s]"
     ]
    },
    {
     "name": "stderr",
     "output_type": "stream",
     "text": [
      "\n\rProcessing sample 59:   0%|          | 0/4 [00:00<?, ?it/s]"
     ]
    },
    {
     "name": "stderr",
     "output_type": "stream",
     "text": [
      "\rProcessing sample 59:  25%|██▌       | 1/4 [00:00<00:01,  2.41it/s]"
     ]
    },
    {
     "name": "stderr",
     "output_type": "stream",
     "text": [
      "\rProcessing sample 59:  50%|█████     | 2/4 [00:00<00:00,  2.49it/s]"
     ]
    },
    {
     "name": "stderr",
     "output_type": "stream",
     "text": [
      "\rProcessing sample 59:  75%|███████▌  | 3/4 [00:01<00:00,  2.49it/s]"
     ]
    },
    {
     "name": "stderr",
     "output_type": "stream",
     "text": [
      "\rProcessing sample 59: 100%|██████████| 4/4 [00:01<00:00,  2.57it/s]"
     ]
    },
    {
     "name": "stderr",
     "output_type": "stream",
     "text": [
      "\rProcessing sample 59: 100%|██████████| 4/4 [00:01<00:00,  2.58it/s]"
     ]
    },
    {
     "name": "stderr",
     "output_type": "stream",
     "text": [
      "\n\rProcessing sample 60:   0%|          | 0/4 [00:00<?, ?it/s]"
     ]
    },
    {
     "name": "stderr",
     "output_type": "stream",
     "text": [
      "\rProcessing sample 60:  25%|██▌       | 1/4 [00:00<00:01,  2.34it/s]"
     ]
    },
    {
     "name": "stderr",
     "output_type": "stream",
     "text": [
      "\rProcessing sample 60:  50%|█████     | 2/4 [00:00<00:00,  2.45it/s]"
     ]
    },
    {
     "name": "stderr",
     "output_type": "stream",
     "text": [
      "\rProcessing sample 60:  75%|███████▌  | 3/4 [00:01<00:00,  2.52it/s]"
     ]
    },
    {
     "name": "stderr",
     "output_type": "stream",
     "text": [
      "\rProcessing sample 60: 100%|██████████| 4/4 [00:01<00:00,  2.61it/s]"
     ]
    },
    {
     "name": "stderr",
     "output_type": "stream",
     "text": [
      "\rProcessing sample 60: 100%|██████████| 4/4 [00:01<00:00,  2.65it/s]"
     ]
    },
    {
     "name": "stderr",
     "output_type": "stream",
     "text": [
      "\n\rProcessing sample 61:   0%|          | 0/4 [00:00<?, ?it/s]"
     ]
    },
    {
     "name": "stderr",
     "output_type": "stream",
     "text": [
      "\rProcessing sample 61:  25%|██▌       | 1/4 [00:00<00:01,  2.56it/s]"
     ]
    },
    {
     "name": "stderr",
     "output_type": "stream",
     "text": [
      "\rProcessing sample 61:  50%|█████     | 2/4 [00:00<00:00,  2.52it/s]"
     ]
    },
    {
     "name": "stderr",
     "output_type": "stream",
     "text": [
      "\rProcessing sample 61:  75%|███████▌  | 3/4 [00:01<00:00,  2.46it/s]"
     ]
    },
    {
     "name": "stderr",
     "output_type": "stream",
     "text": [
      "\rProcessing sample 61: 100%|██████████| 4/4 [00:01<00:00,  2.41it/s]"
     ]
    },
    {
     "name": "stderr",
     "output_type": "stream",
     "text": [
      "\rProcessing sample 61: 100%|██████████| 4/4 [00:01<00:00,  2.40it/s]"
     ]
    },
    {
     "name": "stderr",
     "output_type": "stream",
     "text": [
      "\n\rProcessing sample 62:   0%|          | 0/4 [00:00<?, ?it/s]"
     ]
    },
    {
     "name": "stderr",
     "output_type": "stream",
     "text": [
      "\rProcessing sample 62:  25%|██▌       | 1/4 [00:00<00:01,  2.58it/s]"
     ]
    },
    {
     "name": "stderr",
     "output_type": "stream",
     "text": [
      "\rProcessing sample 62:  50%|█████     | 2/4 [00:00<00:00,  2.63it/s]"
     ]
    },
    {
     "name": "stderr",
     "output_type": "stream",
     "text": [
      "\rProcessing sample 62:  75%|███████▌  | 3/4 [00:01<00:00,  2.64it/s]"
     ]
    },
    {
     "name": "stderr",
     "output_type": "stream",
     "text": [
      "\rProcessing sample 62: 100%|██████████| 4/4 [00:01<00:00,  2.62it/s]"
     ]
    },
    {
     "name": "stderr",
     "output_type": "stream",
     "text": [
      "\rProcessing sample 62: 100%|██████████| 4/4 [00:01<00:00,  2.64it/s]"
     ]
    },
    {
     "name": "stderr",
     "output_type": "stream",
     "text": [
      "\n\rProcessing sample 63:   0%|          | 0/4 [00:00<?, ?it/s]"
     ]
    },
    {
     "name": "stderr",
     "output_type": "stream",
     "text": [
      "\rProcessing sample 63:  25%|██▌       | 1/4 [00:00<00:01,  2.66it/s]"
     ]
    },
    {
     "name": "stderr",
     "output_type": "stream",
     "text": [
      "\rProcessing sample 63:  50%|█████     | 2/4 [00:00<00:00,  2.63it/s]"
     ]
    },
    {
     "name": "stderr",
     "output_type": "stream",
     "text": [
      "\rProcessing sample 63:  75%|███████▌  | 3/4 [00:01<00:00,  2.65it/s]"
     ]
    },
    {
     "name": "stderr",
     "output_type": "stream",
     "text": [
      "\rProcessing sample 63: 100%|██████████| 4/4 [00:01<00:00,  2.66it/s]"
     ]
    },
    {
     "name": "stderr",
     "output_type": "stream",
     "text": [
      "\rProcessing sample 63: 100%|██████████| 4/4 [00:01<00:00,  2.64it/s]"
     ]
    },
    {
     "name": "stderr",
     "output_type": "stream",
     "text": [
      "\n\rProcessing sample 64:   0%|          | 0/4 [00:00<?, ?it/s]"
     ]
    },
    {
     "name": "stderr",
     "output_type": "stream",
     "text": [
      "\rProcessing sample 64:  25%|██▌       | 1/4 [00:00<00:01,  2.40it/s]"
     ]
    },
    {
     "name": "stderr",
     "output_type": "stream",
     "text": [
      "\rProcessing sample 64:  50%|█████     | 2/4 [00:00<00:00,  2.47it/s]"
     ]
    },
    {
     "name": "stderr",
     "output_type": "stream",
     "text": [
      "\rProcessing sample 64:  75%|███████▌  | 3/4 [00:01<00:00,  2.56it/s]"
     ]
    },
    {
     "name": "stderr",
     "output_type": "stream",
     "text": [
      "\rProcessing sample 64: 100%|██████████| 4/4 [00:01<00:00,  2.57it/s]"
     ]
    },
    {
     "name": "stderr",
     "output_type": "stream",
     "text": [
      "\rProcessing sample 64: 100%|██████████| 4/4 [00:01<00:00,  2.60it/s]"
     ]
    },
    {
     "name": "stderr",
     "output_type": "stream",
     "text": [
      "\n\rProcessing sample 65:   0%|          | 0/4 [00:00<?, ?it/s]"
     ]
    },
    {
     "name": "stderr",
     "output_type": "stream",
     "text": [
      "\rProcessing sample 65:  25%|██▌       | 1/4 [00:00<00:01,  2.63it/s]"
     ]
    },
    {
     "name": "stderr",
     "output_type": "stream",
     "text": [
      "\rProcessing sample 65:  50%|█████     | 2/4 [00:00<00:00,  2.65it/s]"
     ]
    },
    {
     "name": "stderr",
     "output_type": "stream",
     "text": [
      "\rProcessing sample 65:  75%|███████▌  | 3/4 [00:01<00:00,  2.70it/s]"
     ]
    },
    {
     "name": "stderr",
     "output_type": "stream",
     "text": [
      "\rProcessing sample 65: 100%|██████████| 4/4 [00:01<00:00,  2.67it/s]"
     ]
    },
    {
     "name": "stderr",
     "output_type": "stream",
     "text": [
      "\rProcessing sample 65: 100%|██████████| 4/4 [00:01<00:00,  2.69it/s]"
     ]
    },
    {
     "name": "stderr",
     "output_type": "stream",
     "text": [
      "\n\rProcessing sample 66:   0%|          | 0/4 [00:00<?, ?it/s]"
     ]
    },
    {
     "name": "stderr",
     "output_type": "stream",
     "text": [
      "\rProcessing sample 66:  25%|██▌       | 1/4 [00:00<00:01,  2.78it/s]"
     ]
    },
    {
     "name": "stderr",
     "output_type": "stream",
     "text": [
      "\rProcessing sample 66:  50%|█████     | 2/4 [00:00<00:00,  2.72it/s]"
     ]
    },
    {
     "name": "stderr",
     "output_type": "stream",
     "text": [
      "\rProcessing sample 66:  75%|███████▌  | 3/4 [00:01<00:00,  2.71it/s]"
     ]
    },
    {
     "name": "stderr",
     "output_type": "stream",
     "text": [
      "\rProcessing sample 66: 100%|██████████| 4/4 [00:01<00:00,  2.61it/s]"
     ]
    },
    {
     "name": "stderr",
     "output_type": "stream",
     "text": [
      "\rProcessing sample 66: 100%|██████████| 4/4 [00:01<00:00,  2.61it/s]"
     ]
    },
    {
     "name": "stderr",
     "output_type": "stream",
     "text": [
      "\n\rProcessing sample 67:   0%|          | 0/4 [00:00<?, ?it/s]"
     ]
    },
    {
     "name": "stderr",
     "output_type": "stream",
     "text": [
      "\rProcessing sample 67:  25%|██▌       | 1/4 [00:00<00:01,  2.75it/s]"
     ]
    },
    {
     "name": "stderr",
     "output_type": "stream",
     "text": [
      "\rProcessing sample 67:  50%|█████     | 2/4 [00:00<00:00,  2.72it/s]"
     ]
    },
    {
     "name": "stderr",
     "output_type": "stream",
     "text": [
      "\rProcessing sample 67:  75%|███████▌  | 3/4 [00:01<00:00,  2.74it/s]"
     ]
    },
    {
     "name": "stderr",
     "output_type": "stream",
     "text": [
      "\rProcessing sample 67: 100%|██████████| 4/4 [00:01<00:00,  2.69it/s]"
     ]
    },
    {
     "name": "stderr",
     "output_type": "stream",
     "text": [
      "\rProcessing sample 67: 100%|██████████| 4/4 [00:01<00:00,  2.69it/s]"
     ]
    },
    {
     "name": "stderr",
     "output_type": "stream",
     "text": [
      "\n\rProcessing sample 68:   0%|          | 0/4 [00:00<?, ?it/s]"
     ]
    },
    {
     "name": "stderr",
     "output_type": "stream",
     "text": [
      "\rProcessing sample 68:  25%|██▌       | 1/4 [00:00<00:01,  2.78it/s]"
     ]
    },
    {
     "name": "stderr",
     "output_type": "stream",
     "text": [
      "\rProcessing sample 68:  50%|█████     | 2/4 [00:00<00:00,  2.77it/s]"
     ]
    },
    {
     "name": "stderr",
     "output_type": "stream",
     "text": [
      "\rProcessing sample 68:  75%|███████▌  | 3/4 [00:01<00:00,  2.73it/s]"
     ]
    },
    {
     "name": "stderr",
     "output_type": "stream",
     "text": [
      "\rProcessing sample 68: 100%|██████████| 4/4 [00:01<00:00,  2.69it/s]"
     ]
    },
    {
     "name": "stderr",
     "output_type": "stream",
     "text": [
      "\rProcessing sample 68: 100%|██████████| 4/4 [00:01<00:00,  2.69it/s]"
     ]
    },
    {
     "name": "stderr",
     "output_type": "stream",
     "text": [
      "\n\rProcessing sample 69:   0%|          | 0/4 [00:00<?, ?it/s]"
     ]
    },
    {
     "name": "stderr",
     "output_type": "stream",
     "text": [
      "\rProcessing sample 69:  25%|██▌       | 1/4 [00:00<00:01,  2.62it/s]"
     ]
    },
    {
     "name": "stderr",
     "output_type": "stream",
     "text": [
      "\rProcessing sample 69:  50%|█████     | 2/4 [00:00<00:00,  2.61it/s]"
     ]
    },
    {
     "name": "stderr",
     "output_type": "stream",
     "text": [
      "\rProcessing sample 69:  75%|███████▌  | 3/4 [00:01<00:00,  2.62it/s]"
     ]
    },
    {
     "name": "stderr",
     "output_type": "stream",
     "text": [
      "\rProcessing sample 69: 100%|██████████| 4/4 [00:01<00:00,  2.63it/s]"
     ]
    },
    {
     "name": "stderr",
     "output_type": "stream",
     "text": [
      "\rProcessing sample 69: 100%|██████████| 4/4 [00:01<00:00,  2.62it/s]"
     ]
    },
    {
     "name": "stderr",
     "output_type": "stream",
     "text": [
      "\n\rProcessing sample 70:   0%|          | 0/4 [00:00<?, ?it/s]"
     ]
    },
    {
     "name": "stderr",
     "output_type": "stream",
     "text": [
      "\rProcessing sample 70:  25%|██▌       | 1/4 [00:00<00:01,  2.58it/s]"
     ]
    },
    {
     "name": "stderr",
     "output_type": "stream",
     "text": [
      "\rProcessing sample 70:  50%|█████     | 2/4 [00:00<00:00,  2.62it/s]"
     ]
    },
    {
     "name": "stderr",
     "output_type": "stream",
     "text": [
      "\rProcessing sample 70:  75%|███████▌  | 3/4 [00:01<00:00,  2.67it/s]"
     ]
    },
    {
     "name": "stderr",
     "output_type": "stream",
     "text": [
      "\rProcessing sample 70: 100%|██████████| 4/4 [00:01<00:00,  2.69it/s]"
     ]
    },
    {
     "name": "stderr",
     "output_type": "stream",
     "text": [
      "\rProcessing sample 70: 100%|██████████| 4/4 [00:01<00:00,  2.70it/s]"
     ]
    },
    {
     "name": "stderr",
     "output_type": "stream",
     "text": [
      "\n\rProcessing sample 71:   0%|          | 0/4 [00:00<?, ?it/s]"
     ]
    },
    {
     "name": "stderr",
     "output_type": "stream",
     "text": [
      "\rProcessing sample 71:  25%|██▌       | 1/4 [00:00<00:01,  2.71it/s]"
     ]
    },
    {
     "name": "stderr",
     "output_type": "stream",
     "text": [
      "\rProcessing sample 71:  50%|█████     | 2/4 [00:00<00:00,  2.74it/s]"
     ]
    },
    {
     "name": "stderr",
     "output_type": "stream",
     "text": [
      "\rProcessing sample 71:  75%|███████▌  | 3/4 [00:01<00:00,  2.76it/s]"
     ]
    },
    {
     "name": "stderr",
     "output_type": "stream",
     "text": [
      "\rProcessing sample 71: 100%|██████████| 4/4 [00:01<00:00,  2.70it/s]"
     ]
    },
    {
     "name": "stderr",
     "output_type": "stream",
     "text": [
      "\rProcessing sample 71: 100%|██████████| 4/4 [00:01<00:00,  2.72it/s]"
     ]
    },
    {
     "name": "stderr",
     "output_type": "stream",
     "text": [
      "\n\rProcessing sample 72:   0%|          | 0/4 [00:00<?, ?it/s]"
     ]
    },
    {
     "name": "stderr",
     "output_type": "stream",
     "text": [
      "\rProcessing sample 72:  25%|██▌       | 1/4 [00:00<00:01,  2.42it/s]"
     ]
    },
    {
     "name": "stderr",
     "output_type": "stream",
     "text": [
      "\rProcessing sample 72:  50%|█████     | 2/4 [00:00<00:00,  2.54it/s]"
     ]
    },
    {
     "name": "stderr",
     "output_type": "stream",
     "text": [
      "\rProcessing sample 72:  75%|███████▌  | 3/4 [00:01<00:00,  2.56it/s]"
     ]
    },
    {
     "name": "stderr",
     "output_type": "stream",
     "text": [
      "\rProcessing sample 72: 100%|██████████| 4/4 [00:01<00:00,  2.58it/s]"
     ]
    },
    {
     "name": "stderr",
     "output_type": "stream",
     "text": [
      "\rProcessing sample 72: 100%|██████████| 4/4 [00:01<00:00,  2.61it/s]"
     ]
    },
    {
     "name": "stderr",
     "output_type": "stream",
     "text": [
      "\n\rProcessing sample 73:   0%|          | 0/4 [00:00<?, ?it/s]"
     ]
    },
    {
     "name": "stderr",
     "output_type": "stream",
     "text": [
      "\rProcessing sample 73:  25%|██▌       | 1/4 [00:00<00:01,  2.62it/s]"
     ]
    },
    {
     "name": "stderr",
     "output_type": "stream",
     "text": [
      "\rProcessing sample 73:  50%|█████     | 2/4 [00:00<00:00,  2.66it/s]"
     ]
    },
    {
     "name": "stderr",
     "output_type": "stream",
     "text": [
      "\rProcessing sample 73:  75%|███████▌  | 3/4 [00:01<00:00,  2.66it/s]"
     ]
    },
    {
     "name": "stderr",
     "output_type": "stream",
     "text": [
      "\rProcessing sample 73: 100%|██████████| 4/4 [00:01<00:00,  2.72it/s]"
     ]
    },
    {
     "name": "stderr",
     "output_type": "stream",
     "text": [
      "\rProcessing sample 73: 100%|██████████| 4/4 [00:01<00:00,  2.72it/s]"
     ]
    },
    {
     "name": "stderr",
     "output_type": "stream",
     "text": [
      "\n\rProcessing sample 74:   0%|          | 0/4 [00:00<?, ?it/s]"
     ]
    },
    {
     "name": "stderr",
     "output_type": "stream",
     "text": [
      "\rProcessing sample 74:  25%|██▌       | 1/4 [00:00<00:01,  2.79it/s]"
     ]
    },
    {
     "name": "stderr",
     "output_type": "stream",
     "text": [
      "\rProcessing sample 74:  50%|█████     | 2/4 [00:00<00:00,  2.72it/s]"
     ]
    },
    {
     "name": "stderr",
     "output_type": "stream",
     "text": [
      "\rProcessing sample 74:  75%|███████▌  | 3/4 [00:01<00:00,  2.68it/s]"
     ]
    },
    {
     "name": "stderr",
     "output_type": "stream",
     "text": [
      "\rProcessing sample 74: 100%|██████████| 4/4 [00:01<00:00,  2.70it/s]"
     ]
    },
    {
     "name": "stderr",
     "output_type": "stream",
     "text": [
      "\rProcessing sample 74: 100%|██████████| 4/4 [00:01<00:00,  2.67it/s]"
     ]
    },
    {
     "name": "stderr",
     "output_type": "stream",
     "text": [
      "\n\rProcessing sample 75:   0%|          | 0/4 [00:00<?, ?it/s]"
     ]
    },
    {
     "name": "stderr",
     "output_type": "stream",
     "text": [
      "\rProcessing sample 75:  25%|██▌       | 1/4 [00:00<00:01,  2.33it/s]"
     ]
    },
    {
     "name": "stderr",
     "output_type": "stream",
     "text": [
      "\rProcessing sample 75:  50%|█████     | 2/4 [00:00<00:00,  2.42it/s]"
     ]
    },
    {
     "name": "stderr",
     "output_type": "stream",
     "text": [
      "\rProcessing sample 75:  75%|███████▌  | 3/4 [00:01<00:00,  2.51it/s]"
     ]
    },
    {
     "name": "stderr",
     "output_type": "stream",
     "text": [
      "\rProcessing sample 75: 100%|██████████| 4/4 [00:01<00:00,  2.56it/s]"
     ]
    },
    {
     "name": "stderr",
     "output_type": "stream",
     "text": [
      "\rProcessing sample 75: 100%|██████████| 4/4 [00:01<00:00,  2.60it/s]"
     ]
    },
    {
     "name": "stderr",
     "output_type": "stream",
     "text": [
      "\n\rProcessing sample 76:   0%|          | 0/4 [00:00<?, ?it/s]"
     ]
    },
    {
     "name": "stderr",
     "output_type": "stream",
     "text": [
      "\rProcessing sample 76:  25%|██▌       | 1/4 [00:00<00:01,  2.63it/s]"
     ]
    },
    {
     "name": "stderr",
     "output_type": "stream",
     "text": [
      "\rProcessing sample 76:  50%|█████     | 2/4 [00:00<00:00,  2.60it/s]"
     ]
    },
    {
     "name": "stderr",
     "output_type": "stream",
     "text": [
      "\rProcessing sample 76:  75%|███████▌  | 3/4 [00:01<00:00,  2.63it/s]"
     ]
    },
    {
     "name": "stderr",
     "output_type": "stream",
     "text": [
      "\rProcessing sample 76: 100%|██████████| 4/4 [00:01<00:00,  2.69it/s]"
     ]
    },
    {
     "name": "stderr",
     "output_type": "stream",
     "text": [
      "\rProcessing sample 76: 100%|██████████| 4/4 [00:01<00:00,  2.67it/s]"
     ]
    },
    {
     "name": "stderr",
     "output_type": "stream",
     "text": [
      "\n\rProcessing sample 77:   0%|          | 0/4 [00:00<?, ?it/s]"
     ]
    },
    {
     "name": "stderr",
     "output_type": "stream",
     "text": [
      "\rProcessing sample 77:  25%|██▌       | 1/4 [00:00<00:01,  2.55it/s]"
     ]
    },
    {
     "name": "stderr",
     "output_type": "stream",
     "text": [
      "\rProcessing sample 77:  50%|█████     | 2/4 [00:00<00:00,  2.52it/s]"
     ]
    },
    {
     "name": "stderr",
     "output_type": "stream",
     "text": [
      "\rProcessing sample 77:  75%|███████▌  | 3/4 [00:01<00:00,  2.56it/s]"
     ]
    },
    {
     "name": "stderr",
     "output_type": "stream",
     "text": [
      "\rProcessing sample 77: 100%|██████████| 4/4 [00:01<00:00,  2.58it/s]"
     ]
    },
    {
     "name": "stderr",
     "output_type": "stream",
     "text": [
      "\rProcessing sample 77: 100%|██████████| 4/4 [00:01<00:00,  2.57it/s]"
     ]
    },
    {
     "name": "stderr",
     "output_type": "stream",
     "text": [
      "\n\rProcessing sample 78:   0%|          | 0/4 [00:00<?, ?it/s]"
     ]
    },
    {
     "name": "stderr",
     "output_type": "stream",
     "text": [
      "\rProcessing sample 78:  25%|██▌       | 1/4 [00:00<00:01,  2.49it/s]"
     ]
    },
    {
     "name": "stderr",
     "output_type": "stream",
     "text": [
      "\rProcessing sample 78:  50%|█████     | 2/4 [00:00<00:00,  2.59it/s]"
     ]
    },
    {
     "name": "stderr",
     "output_type": "stream",
     "text": [
      "\rProcessing sample 78:  75%|███████▌  | 3/4 [00:01<00:00,  2.60it/s]"
     ]
    },
    {
     "name": "stderr",
     "output_type": "stream",
     "text": [
      "\rProcessing sample 78: 100%|██████████| 4/4 [00:01<00:00,  2.60it/s]"
     ]
    },
    {
     "name": "stderr",
     "output_type": "stream",
     "text": [
      "\rProcessing sample 78: 100%|██████████| 4/4 [00:01<00:00,  2.64it/s]"
     ]
    },
    {
     "name": "stderr",
     "output_type": "stream",
     "text": [
      "\n\rProcessing sample 79:   0%|          | 0/4 [00:00<?, ?it/s]"
     ]
    },
    {
     "name": "stderr",
     "output_type": "stream",
     "text": [
      "\rProcessing sample 79:  25%|██▌       | 1/4 [00:00<00:01,  2.58it/s]"
     ]
    },
    {
     "name": "stderr",
     "output_type": "stream",
     "text": [
      "\rProcessing sample 79:  50%|█████     | 2/4 [00:00<00:00,  2.63it/s]"
     ]
    },
    {
     "name": "stderr",
     "output_type": "stream",
     "text": [
      "\rProcessing sample 79:  75%|███████▌  | 3/4 [00:01<00:00,  2.62it/s]"
     ]
    },
    {
     "name": "stderr",
     "output_type": "stream",
     "text": [
      "\rProcessing sample 79: 100%|██████████| 4/4 [00:01<00:00,  2.64it/s]"
     ]
    },
    {
     "name": "stderr",
     "output_type": "stream",
     "text": [
      "\rProcessing sample 79: 100%|██████████| 4/4 [00:01<00:00,  2.65it/s]"
     ]
    },
    {
     "name": "stderr",
     "output_type": "stream",
     "text": [
      "\n\rProcessing sample 80:   0%|          | 0/4 [00:00<?, ?it/s]"
     ]
    },
    {
     "name": "stderr",
     "output_type": "stream",
     "text": [
      "\rProcessing sample 80:  25%|██▌       | 1/4 [00:00<00:01,  2.46it/s]"
     ]
    },
    {
     "name": "stderr",
     "output_type": "stream",
     "text": [
      "\rProcessing sample 80:  50%|█████     | 2/4 [00:00<00:00,  2.52it/s]"
     ]
    },
    {
     "name": "stderr",
     "output_type": "stream",
     "text": [
      "\rProcessing sample 80:  75%|███████▌  | 3/4 [00:01<00:00,  2.52it/s]"
     ]
    },
    {
     "name": "stderr",
     "output_type": "stream",
     "text": [
      "\rProcessing sample 80: 100%|██████████| 4/4 [00:01<00:00,  2.55it/s]"
     ]
    },
    {
     "name": "stderr",
     "output_type": "stream",
     "text": [
      "\rProcessing sample 80: 100%|██████████| 4/4 [00:01<00:00,  2.56it/s]"
     ]
    },
    {
     "name": "stderr",
     "output_type": "stream",
     "text": [
      "\n\rProcessing sample 81:   0%|          | 0/4 [00:00<?, ?it/s]"
     ]
    },
    {
     "name": "stderr",
     "output_type": "stream",
     "text": [
      "\rProcessing sample 81:  25%|██▌       | 1/4 [00:00<00:01,  2.41it/s]"
     ]
    },
    {
     "name": "stderr",
     "output_type": "stream",
     "text": [
      "\rProcessing sample 81:  50%|█████     | 2/4 [00:00<00:00,  2.50it/s]"
     ]
    },
    {
     "name": "stderr",
     "output_type": "stream",
     "text": [
      "\rProcessing sample 81:  75%|███████▌  | 3/4 [00:01<00:00,  2.58it/s]"
     ]
    },
    {
     "name": "stderr",
     "output_type": "stream",
     "text": [
      "\rProcessing sample 81: 100%|██████████| 4/4 [00:01<00:00,  2.60it/s]"
     ]
    },
    {
     "name": "stderr",
     "output_type": "stream",
     "text": [
      "\rProcessing sample 81: 100%|██████████| 4/4 [00:01<00:00,  2.63it/s]"
     ]
    },
    {
     "name": "stderr",
     "output_type": "stream",
     "text": [
      "\n\rProcessing sample 82:   0%|          | 0/4 [00:00<?, ?it/s]"
     ]
    },
    {
     "name": "stderr",
     "output_type": "stream",
     "text": [
      "\rProcessing sample 82:  25%|██▌       | 1/4 [00:00<00:01,  2.70it/s]"
     ]
    },
    {
     "name": "stderr",
     "output_type": "stream",
     "text": [
      "\rProcessing sample 82:  50%|█████     | 2/4 [00:00<00:00,  2.59it/s]"
     ]
    },
    {
     "name": "stderr",
     "output_type": "stream",
     "text": [
      "\rProcessing sample 82:  75%|███████▌  | 3/4 [00:01<00:00,  2.52it/s]"
     ]
    },
    {
     "name": "stderr",
     "output_type": "stream",
     "text": [
      "\rProcessing sample 82: 100%|██████████| 4/4 [00:01<00:00,  2.51it/s]"
     ]
    },
    {
     "name": "stderr",
     "output_type": "stream",
     "text": [
      "\rProcessing sample 82: 100%|██████████| 4/4 [00:01<00:00,  2.47it/s]"
     ]
    },
    {
     "name": "stderr",
     "output_type": "stream",
     "text": [
      "\n\rProcessing sample 83:   0%|          | 0/4 [00:00<?, ?it/s]"
     ]
    },
    {
     "name": "stderr",
     "output_type": "stream",
     "text": [
      "\rProcessing sample 83:  25%|██▌       | 1/4 [00:00<00:01,  2.39it/s]"
     ]
    },
    {
     "name": "stderr",
     "output_type": "stream",
     "text": [
      "\rProcessing sample 83:  50%|█████     | 2/4 [00:00<00:00,  2.40it/s]"
     ]
    },
    {
     "name": "stderr",
     "output_type": "stream",
     "text": [
      "\rProcessing sample 83:  75%|███████▌  | 3/4 [00:01<00:00,  2.47it/s]"
     ]
    },
    {
     "name": "stderr",
     "output_type": "stream",
     "text": [
      "\rProcessing sample 83: 100%|██████████| 4/4 [00:01<00:00,  2.54it/s]"
     ]
    },
    {
     "name": "stderr",
     "output_type": "stream",
     "text": [
      "\rProcessing sample 83: 100%|██████████| 4/4 [00:01<00:00,  2.54it/s]"
     ]
    },
    {
     "name": "stderr",
     "output_type": "stream",
     "text": [
      "\n\rProcessing sample 84:   0%|          | 0/4 [00:00<?, ?it/s]"
     ]
    },
    {
     "name": "stderr",
     "output_type": "stream",
     "text": [
      "\rProcessing sample 84:  25%|██▌       | 1/4 [00:00<00:01,  2.55it/s]"
     ]
    },
    {
     "name": "stderr",
     "output_type": "stream",
     "text": [
      "\rProcessing sample 84:  50%|█████     | 2/4 [00:00<00:00,  2.58it/s]"
     ]
    },
    {
     "name": "stderr",
     "output_type": "stream",
     "text": [
      "\rProcessing sample 84:  75%|███████▌  | 3/4 [00:01<00:00,  2.60it/s]"
     ]
    },
    {
     "name": "stderr",
     "output_type": "stream",
     "text": [
      "\rProcessing sample 84: 100%|██████████| 4/4 [00:01<00:00,  2.66it/s]"
     ]
    },
    {
     "name": "stderr",
     "output_type": "stream",
     "text": [
      "\rProcessing sample 84: 100%|██████████| 4/4 [00:01<00:00,  2.66it/s]"
     ]
    },
    {
     "name": "stderr",
     "output_type": "stream",
     "text": [
      "\n\rProcessing sample 85:   0%|          | 0/4 [00:00<?, ?it/s]"
     ]
    },
    {
     "name": "stderr",
     "output_type": "stream",
     "text": [
      "\rProcessing sample 85:  25%|██▌       | 1/4 [00:00<00:01,  2.73it/s]"
     ]
    },
    {
     "name": "stderr",
     "output_type": "stream",
     "text": [
      "\rProcessing sample 85:  50%|█████     | 2/4 [00:00<00:00,  2.69it/s]"
     ]
    },
    {
     "name": "stderr",
     "output_type": "stream",
     "text": [
      "\rProcessing sample 85:  75%|███████▌  | 3/4 [00:01<00:00,  2.72it/s]"
     ]
    },
    {
     "name": "stderr",
     "output_type": "stream",
     "text": [
      "\rProcessing sample 85: 100%|██████████| 4/4 [00:01<00:00,  2.77it/s]"
     ]
    },
    {
     "name": "stderr",
     "output_type": "stream",
     "text": [
      "\rProcessing sample 85: 100%|██████████| 4/4 [00:01<00:00,  2.75it/s]"
     ]
    },
    {
     "name": "stderr",
     "output_type": "stream",
     "text": [
      "\n\rProcessing sample 86:   0%|          | 0/4 [00:00<?, ?it/s]"
     ]
    },
    {
     "name": "stderr",
     "output_type": "stream",
     "text": [
      "\rProcessing sample 86:  25%|██▌       | 1/4 [00:00<00:01,  2.35it/s]"
     ]
    },
    {
     "name": "stderr",
     "output_type": "stream",
     "text": [
      "\rProcessing sample 86:  50%|█████     | 2/4 [00:00<00:00,  2.45it/s]"
     ]
    },
    {
     "name": "stderr",
     "output_type": "stream",
     "text": [
      "\rProcessing sample 86:  75%|███████▌  | 3/4 [00:01<00:00,  2.51it/s]"
     ]
    },
    {
     "name": "stderr",
     "output_type": "stream",
     "text": [
      "\rProcessing sample 86: 100%|██████████| 4/4 [00:01<00:00,  2.44it/s]"
     ]
    },
    {
     "name": "stderr",
     "output_type": "stream",
     "text": [
      "\rProcessing sample 86: 100%|██████████| 4/4 [00:01<00:00,  2.48it/s]"
     ]
    },
    {
     "name": "stderr",
     "output_type": "stream",
     "text": [
      "\n\rProcessing sample 87:   0%|          | 0/4 [00:00<?, ?it/s]"
     ]
    },
    {
     "name": "stderr",
     "output_type": "stream",
     "text": [
      "\rProcessing sample 87:  25%|██▌       | 1/4 [00:00<00:01,  2.60it/s]"
     ]
    },
    {
     "name": "stderr",
     "output_type": "stream",
     "text": [
      "\rProcessing sample 87:  50%|█████     | 2/4 [00:00<00:00,  2.67it/s]"
     ]
    },
    {
     "name": "stderr",
     "output_type": "stream",
     "text": [
      "\rProcessing sample 87:  75%|███████▌  | 3/4 [00:01<00:00,  2.66it/s]"
     ]
    },
    {
     "name": "stderr",
     "output_type": "stream",
     "text": [
      "\rProcessing sample 87: 100%|██████████| 4/4 [00:01<00:00,  2.72it/s]"
     ]
    },
    {
     "name": "stderr",
     "output_type": "stream",
     "text": [
      "\rProcessing sample 87: 100%|██████████| 4/4 [00:01<00:00,  2.73it/s]"
     ]
    },
    {
     "name": "stderr",
     "output_type": "stream",
     "text": [
      "\n\rProcessing sample 88:   0%|          | 0/4 [00:00<?, ?it/s]"
     ]
    },
    {
     "name": "stderr",
     "output_type": "stream",
     "text": [
      "\rProcessing sample 88:  25%|██▌       | 1/4 [00:00<00:01,  2.64it/s]"
     ]
    },
    {
     "name": "stderr",
     "output_type": "stream",
     "text": [
      "\rProcessing sample 88:  50%|█████     | 2/4 [00:00<00:00,  2.67it/s]"
     ]
    },
    {
     "name": "stderr",
     "output_type": "stream",
     "text": [
      "\rProcessing sample 88:  75%|███████▌  | 3/4 [00:01<00:00,  2.59it/s]"
     ]
    },
    {
     "name": "stderr",
     "output_type": "stream",
     "text": [
      "\rProcessing sample 88: 100%|██████████| 4/4 [00:01<00:00,  2.60it/s]"
     ]
    },
    {
     "name": "stderr",
     "output_type": "stream",
     "text": [
      "\rProcessing sample 88: 100%|██████████| 4/4 [00:01<00:00,  2.60it/s]"
     ]
    },
    {
     "name": "stderr",
     "output_type": "stream",
     "text": [
      "\n\rProcessing sample 89:   0%|          | 0/4 [00:00<?, ?it/s]"
     ]
    },
    {
     "name": "stderr",
     "output_type": "stream",
     "text": [
      "\rProcessing sample 89:  25%|██▌       | 1/4 [00:00<00:01,  2.53it/s]"
     ]
    },
    {
     "name": "stderr",
     "output_type": "stream",
     "text": [
      "\rProcessing sample 89:  50%|█████     | 2/4 [00:00<00:00,  2.60it/s]"
     ]
    },
    {
     "name": "stderr",
     "output_type": "stream",
     "text": [
      "\rProcessing sample 89:  75%|███████▌  | 3/4 [00:01<00:00,  2.63it/s]"
     ]
    },
    {
     "name": "stderr",
     "output_type": "stream",
     "text": [
      "\rProcessing sample 89: 100%|██████████| 4/4 [00:01<00:00,  2.70it/s]"
     ]
    },
    {
     "name": "stderr",
     "output_type": "stream",
     "text": [
      "\rProcessing sample 89: 100%|██████████| 4/4 [00:01<00:00,  2.71it/s]"
     ]
    },
    {
     "name": "stderr",
     "output_type": "stream",
     "text": [
      "\n\rProcessing sample 90:   0%|          | 0/4 [00:00<?, ?it/s]"
     ]
    },
    {
     "name": "stderr",
     "output_type": "stream",
     "text": [
      "\rProcessing sample 90:  25%|██▌       | 1/4 [00:00<00:01,  2.39it/s]"
     ]
    },
    {
     "name": "stderr",
     "output_type": "stream",
     "text": [
      "\rProcessing sample 90:  50%|█████     | 2/4 [00:00<00:00,  2.48it/s]"
     ]
    },
    {
     "name": "stderr",
     "output_type": "stream",
     "text": [
      "\rProcessing sample 90:  75%|███████▌  | 3/4 [00:01<00:00,  2.52it/s]"
     ]
    },
    {
     "name": "stderr",
     "output_type": "stream",
     "text": [
      "\rProcessing sample 90: 100%|██████████| 4/4 [00:01<00:00,  2.55it/s]"
     ]
    },
    {
     "name": "stderr",
     "output_type": "stream",
     "text": [
      "\rProcessing sample 90: 100%|██████████| 4/4 [00:01<00:00,  2.58it/s]"
     ]
    },
    {
     "name": "stderr",
     "output_type": "stream",
     "text": [
      "\n\rProcessing sample 91:   0%|          | 0/4 [00:00<?, ?it/s]"
     ]
    },
    {
     "name": "stderr",
     "output_type": "stream",
     "text": [
      "\rProcessing sample 91:  25%|██▌       | 1/4 [00:00<00:01,  2.33it/s]"
     ]
    },
    {
     "name": "stderr",
     "output_type": "stream",
     "text": [
      "\rProcessing sample 91:  50%|█████     | 2/4 [00:00<00:00,  2.46it/s]"
     ]
    },
    {
     "name": "stderr",
     "output_type": "stream",
     "text": [
      "\rProcessing sample 91:  75%|███████▌  | 3/4 [00:01<00:00,  2.43it/s]"
     ]
    },
    {
     "name": "stderr",
     "output_type": "stream",
     "text": [
      "\rProcessing sample 91: 100%|██████████| 4/4 [00:01<00:00,  2.52it/s]"
     ]
    },
    {
     "name": "stderr",
     "output_type": "stream",
     "text": [
      "\rProcessing sample 91: 100%|██████████| 4/4 [00:01<00:00,  2.55it/s]"
     ]
    },
    {
     "name": "stderr",
     "output_type": "stream",
     "text": [
      "\n\rProcessing sample 92:   0%|          | 0/4 [00:00<?, ?it/s]"
     ]
    },
    {
     "name": "stderr",
     "output_type": "stream",
     "text": [
      "\rProcessing sample 92:  25%|██▌       | 1/4 [00:00<00:01,  2.63it/s]"
     ]
    },
    {
     "name": "stderr",
     "output_type": "stream",
     "text": [
      "\rProcessing sample 92:  50%|█████     | 2/4 [00:00<00:00,  2.59it/s]"
     ]
    },
    {
     "name": "stderr",
     "output_type": "stream",
     "text": [
      "\rProcessing sample 92:  75%|███████▌  | 3/4 [00:01<00:00,  2.55it/s]"
     ]
    },
    {
     "name": "stderr",
     "output_type": "stream",
     "text": [
      "\rProcessing sample 92: 100%|██████████| 4/4 [00:01<00:00,  2.50it/s]"
     ]
    },
    {
     "name": "stderr",
     "output_type": "stream",
     "text": [
      "\rProcessing sample 92: 100%|██████████| 4/4 [00:01<00:00,  2.49it/s]"
     ]
    },
    {
     "name": "stderr",
     "output_type": "stream",
     "text": [
      "\n\rProcessing sample 93:   0%|          | 0/4 [00:00<?, ?it/s]"
     ]
    },
    {
     "name": "stderr",
     "output_type": "stream",
     "text": [
      "\rProcessing sample 93:  25%|██▌       | 1/4 [00:00<00:01,  2.65it/s]"
     ]
    },
    {
     "name": "stderr",
     "output_type": "stream",
     "text": [
      "\rProcessing sample 93:  50%|█████     | 2/4 [00:00<00:00,  2.65it/s]"
     ]
    },
    {
     "name": "stderr",
     "output_type": "stream",
     "text": [
      "\rProcessing sample 93:  75%|███████▌  | 3/4 [00:01<00:00,  2.68it/s]"
     ]
    },
    {
     "name": "stderr",
     "output_type": "stream",
     "text": [
      "\rProcessing sample 93: 100%|██████████| 4/4 [00:01<00:00,  2.65it/s]"
     ]
    },
    {
     "name": "stderr",
     "output_type": "stream",
     "text": [
      "\rProcessing sample 93: 100%|██████████| 4/4 [00:01<00:00,  2.66it/s]"
     ]
    },
    {
     "name": "stderr",
     "output_type": "stream",
     "text": [
      "\n\rProcessing sample 94:   0%|          | 0/4 [00:00<?, ?it/s]"
     ]
    },
    {
     "name": "stderr",
     "output_type": "stream",
     "text": [
      "\rProcessing sample 94:  25%|██▌       | 1/4 [00:00<00:01,  2.50it/s]"
     ]
    },
    {
     "name": "stderr",
     "output_type": "stream",
     "text": [
      "\rProcessing sample 94:  50%|█████     | 2/4 [00:00<00:00,  2.56it/s]"
     ]
    },
    {
     "name": "stderr",
     "output_type": "stream",
     "text": [
      "\rProcessing sample 94:  75%|███████▌  | 3/4 [00:01<00:00,  2.56it/s]"
     ]
    },
    {
     "name": "stderr",
     "output_type": "stream",
     "text": [
      "\rProcessing sample 94: 100%|██████████| 4/4 [00:01<00:00,  2.56it/s]"
     ]
    },
    {
     "name": "stderr",
     "output_type": "stream",
     "text": [
      "\rProcessing sample 94: 100%|██████████| 4/4 [00:01<00:00,  2.58it/s]"
     ]
    },
    {
     "name": "stderr",
     "output_type": "stream",
     "text": [
      "\n\rProcessing sample 95:   0%|          | 0/4 [00:00<?, ?it/s]"
     ]
    },
    {
     "name": "stderr",
     "output_type": "stream",
     "text": [
      "\rProcessing sample 95:  25%|██▌       | 1/4 [00:00<00:01,  2.60it/s]"
     ]
    },
    {
     "name": "stderr",
     "output_type": "stream",
     "text": [
      "\rProcessing sample 95:  50%|█████     | 2/4 [00:00<00:00,  2.58it/s]"
     ]
    },
    {
     "name": "stderr",
     "output_type": "stream",
     "text": [
      "\rProcessing sample 95:  75%|███████▌  | 3/4 [00:01<00:00,  2.65it/s]"
     ]
    },
    {
     "name": "stderr",
     "output_type": "stream",
     "text": [
      "\rProcessing sample 95: 100%|██████████| 4/4 [00:01<00:00,  2.59it/s]"
     ]
    },
    {
     "name": "stderr",
     "output_type": "stream",
     "text": [
      "\rProcessing sample 95: 100%|██████████| 4/4 [00:01<00:00,  2.59it/s]"
     ]
    },
    {
     "name": "stderr",
     "output_type": "stream",
     "text": [
      "\n\rProcessing sample 96:   0%|          | 0/4 [00:00<?, ?it/s]"
     ]
    },
    {
     "name": "stderr",
     "output_type": "stream",
     "text": [
      "\rProcessing sample 96:  25%|██▌       | 1/4 [00:00<00:01,  2.55it/s]"
     ]
    },
    {
     "name": "stderr",
     "output_type": "stream",
     "text": [
      "\rProcessing sample 96:  50%|█████     | 2/4 [00:00<00:00,  2.59it/s]"
     ]
    },
    {
     "name": "stderr",
     "output_type": "stream",
     "text": [
      "\rProcessing sample 96:  75%|███████▌  | 3/4 [00:01<00:00,  2.58it/s]"
     ]
    },
    {
     "name": "stderr",
     "output_type": "stream",
     "text": [
      "\rProcessing sample 96: 100%|██████████| 4/4 [00:01<00:00,  2.53it/s]"
     ]
    },
    {
     "name": "stderr",
     "output_type": "stream",
     "text": [
      "\rProcessing sample 96: 100%|██████████| 4/4 [00:01<00:00,  2.55it/s]"
     ]
    },
    {
     "name": "stderr",
     "output_type": "stream",
     "text": [
      "\n\rProcessing sample 97:   0%|          | 0/4 [00:00<?, ?it/s]"
     ]
    },
    {
     "name": "stderr",
     "output_type": "stream",
     "text": [
      "\rProcessing sample 97:  25%|██▌       | 1/4 [00:00<00:01,  2.50it/s]"
     ]
    },
    {
     "name": "stderr",
     "output_type": "stream",
     "text": [
      "\rProcessing sample 97:  50%|█████     | 2/4 [00:00<00:00,  2.54it/s]"
     ]
    },
    {
     "name": "stderr",
     "output_type": "stream",
     "text": [
      "\rProcessing sample 97:  75%|███████▌  | 3/4 [00:01<00:00,  2.55it/s]"
     ]
    },
    {
     "name": "stderr",
     "output_type": "stream",
     "text": [
      "\rProcessing sample 97: 100%|██████████| 4/4 [00:01<00:00,  2.62it/s]"
     ]
    },
    {
     "name": "stderr",
     "output_type": "stream",
     "text": [
      "\rProcessing sample 97: 100%|██████████| 4/4 [00:01<00:00,  2.62it/s]"
     ]
    },
    {
     "name": "stderr",
     "output_type": "stream",
     "text": [
      "\n\rProcessing sample 98:   0%|          | 0/4 [00:00<?, ?it/s]"
     ]
    },
    {
     "name": "stderr",
     "output_type": "stream",
     "text": [
      "\rProcessing sample 98:  25%|██▌       | 1/4 [00:00<00:01,  2.54it/s]"
     ]
    },
    {
     "name": "stderr",
     "output_type": "stream",
     "text": [
      "\rProcessing sample 98:  50%|█████     | 2/4 [00:00<00:00,  2.60it/s]"
     ]
    },
    {
     "name": "stderr",
     "output_type": "stream",
     "text": [
      "\rProcessing sample 98:  75%|███████▌  | 3/4 [00:01<00:00,  2.62it/s]"
     ]
    },
    {
     "name": "stderr",
     "output_type": "stream",
     "text": [
      "\rProcessing sample 98: 100%|██████████| 4/4 [00:01<00:00,  2.59it/s]"
     ]
    },
    {
     "name": "stderr",
     "output_type": "stream",
     "text": [
      "\rProcessing sample 98: 100%|██████████| 4/4 [00:01<00:00,  2.62it/s]"
     ]
    },
    {
     "name": "stderr",
     "output_type": "stream",
     "text": [
      "\n\rProcessing sample 99:   0%|          | 0/4 [00:00<?, ?it/s]"
     ]
    },
    {
     "name": "stderr",
     "output_type": "stream",
     "text": [
      "\rProcessing sample 99:  25%|██▌       | 1/4 [00:00<00:01,  2.76it/s]"
     ]
    },
    {
     "name": "stderr",
     "output_type": "stream",
     "text": [
      "\rProcessing sample 99:  50%|█████     | 2/4 [00:00<00:00,  2.79it/s]"
     ]
    },
    {
     "name": "stderr",
     "output_type": "stream",
     "text": [
      "\rProcessing sample 99:  75%|███████▌  | 3/4 [00:01<00:00,  2.69it/s]"
     ]
    },
    {
     "name": "stderr",
     "output_type": "stream",
     "text": [
      "\rProcessing sample 99: 100%|██████████| 4/4 [00:01<00:00,  2.70it/s]"
     ]
    },
    {
     "name": "stderr",
     "output_type": "stream",
     "text": [
      "\rProcessing sample 99: 100%|██████████| 4/4 [00:01<00:00,  2.69it/s]"
     ]
    },
    {
     "name": "stderr",
     "output_type": "stream",
     "text": [
      "\n"
     ]
    }
   ],
   "source": [
    "df = _get_stat_data_frame(model, n_samples=10000, n_alterations=1, batch_size=100)\n",
    "model.infer_bn.clear_values()\n",
    "model.gen_bn.clear_values()"
   ]
  },
  {
   "cell_type": "code",
   "execution_count": 49,
   "metadata": {},
   "outputs": [
    {
     "name": "stdout",
     "output_type": "stream",
     "text": [
      "8000\nDisentanglement score 0.4224999999999999\nDisentanglement score 0.39999999999999997\nDisentanglement score 0.3625000000000001\nDisentanglement score 0.4574999999999999\nDisentanglement score 0.43500000000000005\n0.4154999999999999 0.0323805497173843\n               subj_diff  verb_diff  dobj_diff  pobj_diff\nalteration_id                                            \n0                 0.4305     0.8855     0.1885     0.2410\n1                 0.4125     0.6960     0.2260     0.3030\n2                 0.4045     0.6700     0.2180     0.2705\n3                 0.6635     0.7305     0.2045     0.2800\nDisentanglement score 0.4189999999999999\nNumber of fixed structure pairs: 4558\n               subj_diff  verb_diff  dobj_diff  pobj_diff\nalteration_id                                            \n0               0.436563   0.830170   0.331668   0.402597\n1               0.407807   0.584718   0.335548   0.438538\n2               0.415776   0.552999   0.314708   0.394412\n3               0.666373   0.607394   0.321303   0.428697\nsubj_diff 3 0.2298098028731832\nverb_diff 0 0.22277546397264703\ndobj_diff 1 0.00387984108914341\npobj_diff 1 0.00984102288147487\nDisentanglement score 0.4663061308164485\n"
     ]
    }
   ],
   "source": [
    "print(len(df))\n",
    "scores = []\n",
    "div_by = 5\n",
    "for i in range(div_by):\n",
    "    grouped_diff = df[int(i*len(df)/div_by):int((i+1)*len(df)/div_by)].groupby('alteration_id').mean()\n",
    "    [['subj_diff', 'verb_diff', 'dobj_diff', 'pobj_diff']]\n",
    "    # print(grouped_diff)#\n",
    "    disent_score = 0\n",
    "    for lab in ['subj_diff', 'verb_diff', 'dobj_diff', 'pobj_diff']:\n",
    "        top2 = np.array(grouped_diff.nlargest(2, lab)[lab])\n",
    "        diff = top2[0]-top2[1]\n",
    "        # print(lab, diff)\n",
    "        disent_score += diff\n",
    "    print(\"Disentanglement score\", disent_score)\n",
    "    scores.append(disent_score)\n",
    "print(np.mean(scores), np.std(scores))\n",
    "grouped_diff = df.groupby('alteration_id').mean()[['subj_diff', 'verb_diff', 'dobj_diff', 'pobj_diff']]\n",
    "print(grouped_diff)#\n",
    "disent_score = 0\n",
    "for lab in ['subj_diff', 'verb_diff', 'dobj_diff', 'pobj_diff']:\n",
    "    top2 = np.array(grouped_diff.nlargest(2, lab)[lab])\n",
    "    diff = top2[0]-top2[1]\n",
    "    # print(lab, diff)\n",
    "    disent_score += diff\n",
    "print(\"Disentanglement score\", disent_score)\n",
    "\n",
    "df_fix = df[df['same_struct']==True]\n",
    "print(\"Number of fixed structure pairs:\", len(df_fix))\n",
    "grouped_diff = df_fix.groupby('alteration_id').mean()[['subj_diff', 'verb_diff', 'dobj_diff', 'pobj_diff']]\n",
    "print(grouped_diff)#\n",
    "disent_score = 0\n",
    "for lab in ['subj_diff', 'verb_diff', 'dobj_diff', 'pobj_diff']:#, 'arg_star_diff']:\n",
    "    highest_idx = grouped_diff[lab].argmax()\n",
    "    top2 = np.array(grouped_diff.nlargest(2, lab)[lab])\n",
    "    diff = top2[0]-top2[1]\n",
    "    print(lab, highest_idx, diff)\n",
    "    disent_score += diff\n",
    "    #grouped_diff = grouped_diff.drop(highest_idx)\n",
    "print(\"Disentanglement score\", disent_score)"
   ]
  },
  {
   "cell_type": "code",
   "execution_count": 118,
   "metadata": {
    "collapsed": true
   },
   "outputs": [
    {
     "name": "stdout",
     "output_type": "stream",
     "text": [
      "(10, 4, 2, 18)\n"
     ]
    }
   ],
   "source": [
    "from components.links import CoattentiveTransformerLink, ConditionalCoattentiveTransformerLink\n",
    "import seaborn as sns\n",
    "import pandas as pd\n",
    "import matplotlib.pyplot as plt\n",
    "\n",
    "\n",
    "def get_attention_weights(sentences, lvs):\n",
    "    # Encoding sentences\n",
    "    encoded = []\n",
    "    lens = []\n",
    "    for sen in sentences:\n",
    "        sen_enc = [data.vocab.stoi[w] for w in sen.split(' ')]\n",
    "        lens.append(min(len(sen_enc), MAX_LEN))\n",
    "        if len(sen_enc)>=MAX_LEN:\n",
    "            sen_enc = sen_enc[:MAX_LEN]\n",
    "        else:\n",
    "            sen_enc = sen_enc+[data.vocab.stoi['<pad>']]*(MAX_LEN-len(sen_enc))\n",
    "        encoded.append(sen_enc)\n",
    "    encoded = torch.Tensor(encoded).to(DEVICE).long()\n",
    "    lens = torch.Tensor(lens).to(DEVICE).long()\n",
    "    CoattentiveTransformerLink.get_att, ConditionalCoattentiveTransformerLink.get_att = True, True\n",
    "    model.infer_bn({'x': encoded}, lens=lens)\n",
    "    CoattentiveTransformerLink.get_att, ConditionalCoattentiveTransformerLink.get_att = False, False\n",
    "    all_att_weights = []\n",
    "    for i in range(len(h_params.n_latents)):\n",
    "        trans_mod = model.infer_bn.approximator[model.infer_bn.name_to_v['z{}'.format(i+1)]]\n",
    "        all_att_weights.append(trans_mod.att_vals)\n",
    "    att_weights = []\n",
    "    for lv in lvs:\n",
    "        var_att_weights = []\n",
    "        lv_layer = sum([lv > sum(h_params.n_latents[:i+1]) for i in range(len(h_params.n_latents))])\n",
    "        rank = lv - sum(h_params.n_latents[:lv_layer])\n",
    "        for layer_att_vals in all_att_weights[lv_layer]:\n",
    "            soft_att_vals = layer_att_vals\n",
    "            att_out = torch.cat([soft_att_vals[:, rank, :MAX_LEN], soft_att_vals[:, rank, MAX_LEN:].sum(-1).unsqueeze(-1)]\n",
    "                                , -1)\n",
    "            if lv_layer==2:\n",
    "                att_out[..., -1] *= 0\n",
    "            var_att_weights.append(att_out.cpu().detach().numpy())\n",
    "        att_weights.append(var_att_weights)\n",
    "    return np.transpose(np.array(att_weights), (2, 0, 1, 3))\n",
    "\n",
    "def display_attention(sentence, att_weights, variables):\n",
    "    toked = sentence.split(' ')\n",
    "    toked += ['<pad>']*(MAX_LEN-len(toked))+['<latent>']\n",
    "    index = []\n",
    "    for i in range(len(variables)):\n",
    "        for j in range(len(att_weights[i])):\n",
    "            index.append(str(variables[i])+'_'+str(j))\n",
    "    att_weights = att_weights.reshape(-1, MAX_LEN+1)\n",
    "    data = pd.DataFrame(att_weights#[:, :len(toked)].reshape((len(att_weights), len(toked)))\n",
    "                        , columns=toked, index=index)\n",
    "    sns_plot = plt.figure(figsize=(15, 2.8))\n",
    "    ax = plt.axes()\n",
    "    g = sns.heatmap(data, annot=True, yticklabels=True, ax=ax)\n",
    "    ax.set_title('')\n",
    "    for tick in g.get_xticklabels():\n",
    "        tick.set_color('black')\n",
    "    for tick in g.get_yticklabels():\n",
    "        tick.set_color('black')\n",
    "    g.set_ylim([0, len(index)])\n",
    "    #g.set_xticklabels(data.axes[1], rotation=55, ha=\"center\", labelcolor='white')\n",
    "    # g.get_figure()\n",
    "    # plt.show()\n",
    "    return sns_plot\n",
    "\n",
    "\n",
    "sentences = ['a man is standing .',\n",
    "             'two little girls are standing .',\n",
    "             \"a girl is holding a toy\", \n",
    "              \"a girl with a white hat is holding a toy .\", \n",
    "              \"a girl is playing in a street\", \"a girl with a black coat is playing in a street .\", \n",
    "             \"a girl and a boy are playing in the street .\",\n",
    "             'a group of people are sitting around a table .']\n",
    "vars = [0, 1, 2, 3]\n",
    "att_w = get_attention_weights(sentences, vars)\n",
    "print(att_w.shape)\n",
    "\n",
    "# for sen_idx in range(len(sentences)):\n",
    "#     sns_plot = display_attention(sentences[sen_idx], att_w[sen_idx], vars)\n",
    "#     sns_plot.savefig(\"att_{}.png\".format(sen_idx)) "
   ]
  },
  {
   "cell_type": "code",
   "execution_count": 169,
   "metadata": {
    "collapsed": true
   },
   "outputs": [],
   "source": [
    "\n",
    "def get_att_and_rel_idx(text_in):\n",
    "    max_len = text_in.shape[-1]\n",
    "    text_sents = [' '.join([model.index[model.generated_v].itos[w] \n",
    "                            for w in s]).replace(' <pad>', '').replace(' <eos>', '')\n",
    "                  for s in text_in]\n",
    "    # Getting relations' positions\n",
    "    rel_idx = [out['idx'] for out in shallow_dependencies(text_sents)]\n",
    "    # Getting layer wise attention values\n",
    "    \n",
    "    CoattentiveTransformerLink.get_att, ConditionalCoattentiveTransformerLink.get_att = True, True\n",
    "    model.infer_bn({'x': text_in})\n",
    "    CoattentiveTransformerLink.get_att, ConditionalCoattentiveTransformerLink.get_att = False, False\n",
    "    all_att_weights = []\n",
    "    for i in range(len(h_params.n_latents)):\n",
    "        trans_mod = model.infer_bn.approximator[model.infer_bn.name_to_v['z{}'.format(i+1)]]\n",
    "        all_att_weights.append(trans_mod.att_vals)\n",
    "    att_weights = []\n",
    "    for lv in range(sum(model.h_params.n_latents)):\n",
    "        var_att_weights = []\n",
    "        lv_layer = sum([lv > sum(h_params.n_latents[:i+1]) for i in range(len(h_params.n_latents))])\n",
    "        rank = lv - sum(h_params.n_latents[:lv_layer])\n",
    "        for layer_att_vals in all_att_weights[lv_layer]:\n",
    "            soft_att_vals = layer_att_vals\n",
    "            att_out = torch.cat([soft_att_vals[:, rank,\n",
    "                                 :max_len], soft_att_vals[:, rank, max_len:].sum(-1).unsqueeze(-1)]\n",
    "                                , -1)\n",
    "            if lv_layer==2:\n",
    "                att_out[..., -1] *= 0\n",
    "            var_att_weights.append(att_out.cpu().detach().numpy())\n",
    "        att_weights.append(var_att_weights)\n",
    "    # att_vals shape:[sent, lv, layer, tok]\n",
    "    att_vals = np.transpose(np.array(att_weights), (2, 0, 1, 3)).mean(-2)\n",
    "    att_maxes = att_vals.argmax(-1).tolist()\n",
    "    return rel_idx, att_maxes"
   ]
  },
  {
   "cell_type": "code",
   "execution_count": 150,
   "metadata": {
    "collapsed": true
   },
   "outputs": [
    {
     "name": "stderr",
     "output_type": "stream",
     "text": [
      "\rGetting Model Accuracy:   0%|          | 0/417 [00:00<?, ?it/s]"
     ]
    },
    {
     "name": "stderr",
     "output_type": "stream",
     "text": [
      "\rGetting Model Accuracy:   0%|          | 2/417 [00:00<00:22, 18.74it/s]"
     ]
    },
    {
     "name": "stderr",
     "output_type": "stream",
     "text": [
      "\rGetting Model Accuracy:   1%|          | 5/417 [00:00<00:20, 20.52it/s]"
     ]
    },
    {
     "name": "stderr",
     "output_type": "stream",
     "text": [
      "\rGetting Model Accuracy:   2%|▏         | 8/417 [00:00<00:19, 20.89it/s]"
     ]
    },
    {
     "name": "stderr",
     "output_type": "stream",
     "text": [
      "\rGetting Model Accuracy:   3%|▎         | 11/417 [00:00<00:19, 21.07it/s]"
     ]
    },
    {
     "name": "stderr",
     "output_type": "stream",
     "text": [
      "\rGetting Model Accuracy:   3%|▎         | 14/417 [00:00<00:18, 21.51it/s]"
     ]
    },
    {
     "name": "stderr",
     "output_type": "stream",
     "text": [
      "\rGetting Model Accuracy:   4%|▍         | 17/417 [00:00<00:18, 21.69it/s]"
     ]
    },
    {
     "name": "stderr",
     "output_type": "stream",
     "text": [
      "\rGetting Model Accuracy:   5%|▍         | 20/417 [00:00<00:17, 22.35it/s]"
     ]
    },
    {
     "name": "stderr",
     "output_type": "stream",
     "text": [
      "\rGetting Model Accuracy:   6%|▌         | 23/417 [00:01<00:17, 22.94it/s]"
     ]
    },
    {
     "name": "stderr",
     "output_type": "stream",
     "text": [
      "\rGetting Model Accuracy:   6%|▌         | 26/417 [00:01<00:17, 22.69it/s]"
     ]
    },
    {
     "name": "stderr",
     "output_type": "stream",
     "text": [
      "\rGetting Model Accuracy:   7%|▋         | 29/417 [00:01<00:17, 22.17it/s]"
     ]
    },
    {
     "name": "stderr",
     "output_type": "stream",
     "text": [
      "\rGetting Model Accuracy:   8%|▊         | 32/417 [00:01<00:17, 21.81it/s]"
     ]
    },
    {
     "name": "stderr",
     "output_type": "stream",
     "text": [
      "\rGetting Model Accuracy:   8%|▊         | 35/417 [00:01<00:17, 22.29it/s]"
     ]
    },
    {
     "name": "stderr",
     "output_type": "stream",
     "text": [
      "\rGetting Model Accuracy:   9%|▉         | 38/417 [00:01<00:18, 20.43it/s]"
     ]
    },
    {
     "name": "stderr",
     "output_type": "stream",
     "text": [
      "\rGetting Model Accuracy:  10%|▉         | 41/417 [00:01<00:18, 19.91it/s]"
     ]
    },
    {
     "name": "stderr",
     "output_type": "stream",
     "text": [
      "\rGetting Model Accuracy:  11%|█         | 44/417 [00:02<00:18, 20.24it/s]"
     ]
    },
    {
     "name": "stderr",
     "output_type": "stream",
     "text": [
      "\rGetting Model Accuracy:  11%|█▏        | 47/417 [00:02<00:18, 20.06it/s]"
     ]
    },
    {
     "name": "stderr",
     "output_type": "stream",
     "text": [
      "\rGetting Model Accuracy:  12%|█▏        | 50/417 [00:02<00:17, 21.34it/s]"
     ]
    },
    {
     "name": "stderr",
     "output_type": "stream",
     "text": [
      "\rGetting Model Accuracy:  13%|█▎        | 53/417 [00:02<00:16, 22.09it/s]"
     ]
    },
    {
     "name": "stderr",
     "output_type": "stream",
     "text": [
      "\rGetting Model Accuracy:  13%|█▎        | 56/417 [00:02<00:15, 23.01it/s]"
     ]
    },
    {
     "name": "stderr",
     "output_type": "stream",
     "text": [
      "\rGetting Model Accuracy:  14%|█▍        | 59/417 [00:02<00:15, 22.79it/s]"
     ]
    },
    {
     "name": "stderr",
     "output_type": "stream",
     "text": [
      "\rGetting Model Accuracy:  15%|█▍        | 62/417 [00:02<00:15, 23.10it/s]"
     ]
    },
    {
     "name": "stderr",
     "output_type": "stream",
     "text": [
      "\rGetting Model Accuracy:  16%|█▌        | 65/417 [00:02<00:15, 22.90it/s]"
     ]
    },
    {
     "name": "stderr",
     "output_type": "stream",
     "text": [
      "\rGetting Model Accuracy:  16%|█▋        | 68/417 [00:03<00:15, 23.24it/s]"
     ]
    },
    {
     "name": "stderr",
     "output_type": "stream",
     "text": [
      "\rGetting Model Accuracy:  17%|█▋        | 71/417 [00:03<00:14, 23.43it/s]"
     ]
    },
    {
     "name": "stderr",
     "output_type": "stream",
     "text": [
      "\rGetting Model Accuracy:  18%|█▊        | 74/417 [00:03<00:14, 23.45it/s]"
     ]
    },
    {
     "name": "stderr",
     "output_type": "stream",
     "text": [
      "\rGetting Model Accuracy:  18%|█▊        | 77/417 [00:03<00:14, 23.57it/s]"
     ]
    },
    {
     "name": "stderr",
     "output_type": "stream",
     "text": [
      "\rGetting Model Accuracy:  19%|█▉        | 80/417 [00:03<00:14, 23.33it/s]"
     ]
    },
    {
     "name": "stderr",
     "output_type": "stream",
     "text": [
      "\rGetting Model Accuracy:  20%|█▉        | 83/417 [00:03<00:14, 23.49it/s]"
     ]
    },
    {
     "name": "stderr",
     "output_type": "stream",
     "text": [
      "\rGetting Model Accuracy:  21%|██        | 86/417 [00:03<00:14, 23.22it/s]"
     ]
    },
    {
     "name": "stderr",
     "output_type": "stream",
     "text": [
      "\rGetting Model Accuracy:  21%|██▏       | 89/417 [00:03<00:14, 22.98it/s]"
     ]
    },
    {
     "name": "stderr",
     "output_type": "stream",
     "text": [
      "\rGetting Model Accuracy:  22%|██▏       | 92/417 [00:04<00:14, 23.19it/s]"
     ]
    },
    {
     "name": "stderr",
     "output_type": "stream",
     "text": [
      "\rGetting Model Accuracy:  23%|██▎       | 95/417 [00:04<00:13, 23.55it/s]"
     ]
    },
    {
     "name": "stderr",
     "output_type": "stream",
     "text": [
      "\rGetting Model Accuracy:  24%|██▎       | 98/417 [00:04<00:13, 23.32it/s]"
     ]
    },
    {
     "name": "stderr",
     "output_type": "stream",
     "text": [
      "\rGetting Model Accuracy:  24%|██▍       | 101/417 [00:04<00:13, 24.22it/s]"
     ]
    },
    {
     "name": "stderr",
     "output_type": "stream",
     "text": [
      "\rGetting Model Accuracy:  25%|██▍       | 104/417 [00:04<00:12, 24.96it/s]"
     ]
    },
    {
     "name": "stderr",
     "output_type": "stream",
     "text": [
      "\rGetting Model Accuracy:  26%|██▌       | 107/417 [00:04<00:12, 25.63it/s]"
     ]
    },
    {
     "name": "stderr",
     "output_type": "stream",
     "text": [
      "\rGetting Model Accuracy:  26%|██▋       | 110/417 [00:04<00:12, 25.01it/s]"
     ]
    },
    {
     "name": "stderr",
     "output_type": "stream",
     "text": [
      "\rGetting Model Accuracy:  27%|██▋       | 113/417 [00:04<00:11, 25.54it/s]"
     ]
    },
    {
     "name": "stderr",
     "output_type": "stream",
     "text": [
      "\rGetting Model Accuracy:  28%|██▊       | 116/417 [00:05<00:11, 26.06it/s]"
     ]
    },
    {
     "name": "stderr",
     "output_type": "stream",
     "text": [
      "\rGetting Model Accuracy:  29%|██▊       | 119/417 [00:05<00:11, 26.36it/s]"
     ]
    },
    {
     "name": "stderr",
     "output_type": "stream",
     "text": [
      "\rGetting Model Accuracy:  29%|██▉       | 122/417 [00:05<00:11, 26.65it/s]"
     ]
    },
    {
     "name": "stderr",
     "output_type": "stream",
     "text": [
      "\rGetting Model Accuracy:  30%|██▉       | 125/417 [00:05<00:10, 26.78it/s]"
     ]
    },
    {
     "name": "stderr",
     "output_type": "stream",
     "text": [
      "\rGetting Model Accuracy:  31%|███       | 128/417 [00:05<00:11, 25.84it/s]"
     ]
    },
    {
     "name": "stderr",
     "output_type": "stream",
     "text": [
      "\rGetting Model Accuracy:  31%|███▏      | 131/417 [00:05<00:10, 26.20it/s]"
     ]
    },
    {
     "name": "stderr",
     "output_type": "stream",
     "text": [
      "\rGetting Model Accuracy:  32%|███▏      | 134/417 [00:05<00:10, 26.47it/s]"
     ]
    },
    {
     "name": "stderr",
     "output_type": "stream",
     "text": [
      "\rGetting Model Accuracy:  33%|███▎      | 137/417 [00:05<00:10, 26.79it/s]"
     ]
    },
    {
     "name": "stderr",
     "output_type": "stream",
     "text": [
      "\rGetting Model Accuracy:  34%|███▎      | 140/417 [00:05<00:10, 26.96it/s]"
     ]
    },
    {
     "name": "stderr",
     "output_type": "stream",
     "text": [
      "\rGetting Model Accuracy:  34%|███▍      | 143/417 [00:06<00:10, 27.00it/s]"
     ]
    },
    {
     "name": "stderr",
     "output_type": "stream",
     "text": [
      "\rGetting Model Accuracy:  35%|███▌      | 146/417 [00:06<00:10, 27.03it/s]"
     ]
    },
    {
     "name": "stderr",
     "output_type": "stream",
     "text": [
      "\rGetting Model Accuracy:  36%|███▌      | 149/417 [00:06<00:09, 26.91it/s]"
     ]
    },
    {
     "name": "stderr",
     "output_type": "stream",
     "text": [
      "\rGetting Model Accuracy:  36%|███▋      | 152/417 [00:06<00:09, 26.75it/s]"
     ]
    },
    {
     "name": "stderr",
     "output_type": "stream",
     "text": [
      "\rGetting Model Accuracy:  37%|███▋      | 155/417 [00:06<00:09, 26.85it/s]"
     ]
    },
    {
     "name": "stderr",
     "output_type": "stream",
     "text": [
      "\rGetting Model Accuracy:  38%|███▊      | 158/417 [00:06<00:09, 27.00it/s]"
     ]
    },
    {
     "name": "stderr",
     "output_type": "stream",
     "text": [
      "\rGetting Model Accuracy:  39%|███▊      | 161/417 [00:06<00:09, 26.05it/s]"
     ]
    },
    {
     "name": "stderr",
     "output_type": "stream",
     "text": [
      "\rGetting Model Accuracy:  39%|███▉      | 164/417 [00:06<00:09, 25.94it/s]"
     ]
    },
    {
     "name": "stderr",
     "output_type": "stream",
     "text": [
      "\rGetting Model Accuracy:  40%|████      | 167/417 [00:06<00:09, 25.68it/s]"
     ]
    },
    {
     "name": "stderr",
     "output_type": "stream",
     "text": [
      "\rGetting Model Accuracy:  41%|████      | 170/417 [00:07<00:09, 25.82it/s]"
     ]
    },
    {
     "name": "stderr",
     "output_type": "stream",
     "text": [
      "\rGetting Model Accuracy:  41%|████▏     | 173/417 [00:07<00:09, 26.05it/s]"
     ]
    },
    {
     "name": "stderr",
     "output_type": "stream",
     "text": [
      "\rGetting Model Accuracy:  42%|████▏     | 176/417 [00:07<00:09, 25.88it/s]"
     ]
    },
    {
     "name": "stderr",
     "output_type": "stream",
     "text": [
      "\rGetting Model Accuracy:  43%|████▎     | 179/417 [00:07<00:09, 26.17it/s]"
     ]
    },
    {
     "name": "stderr",
     "output_type": "stream",
     "text": [
      "\rGetting Model Accuracy:  44%|████▎     | 182/417 [00:07<00:09, 25.83it/s]"
     ]
    },
    {
     "name": "stderr",
     "output_type": "stream",
     "text": [
      "\rGetting Model Accuracy:  44%|████▍     | 185/417 [00:07<00:08, 26.13it/s]"
     ]
    },
    {
     "name": "stderr",
     "output_type": "stream",
     "text": [
      "\rGetting Model Accuracy:  45%|████▌     | 188/417 [00:07<00:08, 26.28it/s]"
     ]
    },
    {
     "name": "stderr",
     "output_type": "stream",
     "text": [
      "\rGetting Model Accuracy:  46%|████▌     | 191/417 [00:07<00:08, 26.59it/s]"
     ]
    },
    {
     "name": "stderr",
     "output_type": "stream",
     "text": [
      "\rGetting Model Accuracy:  47%|████▋     | 194/417 [00:07<00:08, 26.74it/s]"
     ]
    },
    {
     "name": "stderr",
     "output_type": "stream",
     "text": [
      "\rGetting Model Accuracy:  47%|████▋     | 197/417 [00:08<00:08, 26.84it/s]"
     ]
    },
    {
     "name": "stderr",
     "output_type": "stream",
     "text": [
      "\rGetting Model Accuracy:  48%|████▊     | 200/417 [00:08<00:08, 26.99it/s]"
     ]
    },
    {
     "name": "stderr",
     "output_type": "stream",
     "text": [
      "\rGetting Model Accuracy:  49%|████▊     | 203/417 [00:08<00:08, 26.32it/s]"
     ]
    },
    {
     "name": "stderr",
     "output_type": "stream",
     "text": [
      "\rGetting Model Accuracy:  49%|████▉     | 206/417 [00:08<00:08, 25.40it/s]"
     ]
    },
    {
     "name": "stderr",
     "output_type": "stream",
     "text": [
      "\rGetting Model Accuracy:  50%|█████     | 209/417 [00:08<00:08, 25.76it/s]"
     ]
    },
    {
     "name": "stderr",
     "output_type": "stream",
     "text": [
      "\rGetting Model Accuracy:  51%|█████     | 212/417 [00:08<00:07, 25.68it/s]"
     ]
    },
    {
     "name": "stderr",
     "output_type": "stream",
     "text": [
      "\rGetting Model Accuracy:  52%|█████▏    | 215/417 [00:08<00:07, 25.69it/s]"
     ]
    },
    {
     "name": "stderr",
     "output_type": "stream",
     "text": [
      "\rGetting Model Accuracy:  52%|█████▏    | 218/417 [00:08<00:07, 25.96it/s]"
     ]
    },
    {
     "name": "stderr",
     "output_type": "stream",
     "text": [
      "\rGetting Model Accuracy:  53%|█████▎    | 221/417 [00:09<00:07, 25.75it/s]"
     ]
    },
    {
     "name": "stderr",
     "output_type": "stream",
     "text": [
      "\rGetting Model Accuracy:  54%|█████▎    | 224/417 [00:09<00:07, 25.94it/s]"
     ]
    },
    {
     "name": "stderr",
     "output_type": "stream",
     "text": [
      "\rGetting Model Accuracy:  54%|█████▍    | 227/417 [00:09<00:07, 26.41it/s]"
     ]
    },
    {
     "name": "stderr",
     "output_type": "stream",
     "text": [
      "\rGetting Model Accuracy:  55%|█████▌    | 230/417 [00:09<00:07, 26.55it/s]"
     ]
    },
    {
     "name": "stderr",
     "output_type": "stream",
     "text": [
      "\rGetting Model Accuracy:  56%|█████▌    | 233/417 [00:09<00:06, 26.71it/s]"
     ]
    },
    {
     "name": "stderr",
     "output_type": "stream",
     "text": [
      "\rGetting Model Accuracy:  57%|█████▋    | 236/417 [00:09<00:06, 26.68it/s]"
     ]
    },
    {
     "name": "stderr",
     "output_type": "stream",
     "text": [
      "\rGetting Model Accuracy:  57%|█████▋    | 239/417 [00:09<00:06, 26.81it/s]"
     ]
    },
    {
     "name": "stderr",
     "output_type": "stream",
     "text": [
      "\rGetting Model Accuracy:  58%|█████▊    | 242/417 [00:09<00:06, 26.97it/s]"
     ]
    },
    {
     "name": "stderr",
     "output_type": "stream",
     "text": [
      "\rGetting Model Accuracy:  59%|█████▉    | 245/417 [00:09<00:06, 26.30it/s]"
     ]
    },
    {
     "name": "stderr",
     "output_type": "stream",
     "text": [
      "\rGetting Model Accuracy:  59%|█████▉    | 248/417 [00:10<00:06, 26.39it/s]"
     ]
    },
    {
     "name": "stderr",
     "output_type": "stream",
     "text": [
      "\rGetting Model Accuracy:  60%|██████    | 251/417 [00:10<00:06, 26.81it/s]"
     ]
    },
    {
     "name": "stderr",
     "output_type": "stream",
     "text": [
      "\rGetting Model Accuracy:  61%|██████    | 254/417 [00:10<00:06, 27.04it/s]"
     ]
    },
    {
     "name": "stderr",
     "output_type": "stream",
     "text": [
      "\rGetting Model Accuracy:  62%|██████▏   | 257/417 [00:10<00:05, 26.99it/s]"
     ]
    },
    {
     "name": "stderr",
     "output_type": "stream",
     "text": [
      "\rGetting Model Accuracy:  62%|██████▏   | 260/417 [00:10<00:06, 25.97it/s]"
     ]
    },
    {
     "name": "stderr",
     "output_type": "stream",
     "text": [
      "\rGetting Model Accuracy:  63%|██████▎   | 263/417 [00:10<00:05, 26.16it/s]"
     ]
    },
    {
     "name": "stderr",
     "output_type": "stream",
     "text": [
      "\rGetting Model Accuracy:  64%|██████▍   | 266/417 [00:10<00:05, 26.37it/s]"
     ]
    },
    {
     "name": "stderr",
     "output_type": "stream",
     "text": [
      "\rGetting Model Accuracy:  65%|██████▍   | 269/417 [00:10<00:05, 26.65it/s]"
     ]
    },
    {
     "name": "stderr",
     "output_type": "stream",
     "text": [
      "\rGetting Model Accuracy:  65%|██████▌   | 272/417 [00:10<00:05, 26.86it/s]"
     ]
    },
    {
     "name": "stderr",
     "output_type": "stream",
     "text": [
      "\rGetting Model Accuracy:  66%|██████▌   | 275/417 [00:11<00:05, 26.93it/s]"
     ]
    },
    {
     "name": "stderr",
     "output_type": "stream",
     "text": [
      "\rGetting Model Accuracy:  67%|██████▋   | 278/417 [00:11<00:05, 27.13it/s]"
     ]
    },
    {
     "name": "stderr",
     "output_type": "stream",
     "text": [
      "\rGetting Model Accuracy:  67%|██████▋   | 281/417 [00:11<00:05, 27.04it/s]"
     ]
    },
    {
     "name": "stderr",
     "output_type": "stream",
     "text": [
      "\rGetting Model Accuracy:  68%|██████▊   | 284/417 [00:11<00:04, 26.99it/s]"
     ]
    },
    {
     "name": "stderr",
     "output_type": "stream",
     "text": [
      "\rGetting Model Accuracy:  69%|██████▉   | 287/417 [00:11<00:04, 27.09it/s]"
     ]
    },
    {
     "name": "stderr",
     "output_type": "stream",
     "text": [
      "\rGetting Model Accuracy:  70%|██████▉   | 290/417 [00:11<00:04, 27.02it/s]"
     ]
    },
    {
     "name": "stderr",
     "output_type": "stream",
     "text": [
      "\rGetting Model Accuracy:  70%|███████   | 293/417 [00:11<00:04, 27.12it/s]"
     ]
    },
    {
     "name": "stderr",
     "output_type": "stream",
     "text": [
      "\rGetting Model Accuracy:  71%|███████   | 296/417 [00:11<00:04, 26.97it/s]"
     ]
    },
    {
     "name": "stderr",
     "output_type": "stream",
     "text": [
      "\rGetting Model Accuracy:  72%|███████▏  | 299/417 [00:11<00:04, 26.86it/s]"
     ]
    },
    {
     "name": "stderr",
     "output_type": "stream",
     "text": [
      "\rGetting Model Accuracy:  72%|███████▏  | 302/417 [00:12<00:04, 27.01it/s]"
     ]
    },
    {
     "name": "stderr",
     "output_type": "stream",
     "text": [
      "\rGetting Model Accuracy:  73%|███████▎  | 305/417 [00:12<00:04, 26.96it/s]"
     ]
    },
    {
     "name": "stderr",
     "output_type": "stream",
     "text": [
      "\rGetting Model Accuracy:  74%|███████▍  | 308/417 [00:12<00:04, 27.15it/s]"
     ]
    },
    {
     "name": "stderr",
     "output_type": "stream",
     "text": [
      "\rGetting Model Accuracy:  75%|███████▍  | 311/417 [00:12<00:03, 27.21it/s]"
     ]
    },
    {
     "name": "stderr",
     "output_type": "stream",
     "text": [
      "\rGetting Model Accuracy:  75%|███████▌  | 314/417 [00:12<00:03, 27.25it/s]"
     ]
    },
    {
     "name": "stderr",
     "output_type": "stream",
     "text": [
      "\rGetting Model Accuracy:  76%|███████▌  | 317/417 [00:12<00:03, 26.35it/s]"
     ]
    },
    {
     "name": "stderr",
     "output_type": "stream",
     "text": [
      "\rGetting Model Accuracy:  77%|███████▋  | 320/417 [00:12<00:03, 26.64it/s]"
     ]
    },
    {
     "name": "stderr",
     "output_type": "stream",
     "text": [
      "\rGetting Model Accuracy:  77%|███████▋  | 323/417 [00:12<00:03, 26.70it/s]"
     ]
    },
    {
     "name": "stderr",
     "output_type": "stream",
     "text": [
      "\rGetting Model Accuracy:  78%|███████▊  | 326/417 [00:12<00:03, 26.97it/s]"
     ]
    },
    {
     "name": "stderr",
     "output_type": "stream",
     "text": [
      "\rGetting Model Accuracy:  79%|███████▉  | 329/417 [00:13<00:03, 26.72it/s]"
     ]
    },
    {
     "name": "stderr",
     "output_type": "stream",
     "text": [
      "\rGetting Model Accuracy:  80%|███████▉  | 332/417 [00:13<00:03, 25.86it/s]"
     ]
    },
    {
     "name": "stderr",
     "output_type": "stream",
     "text": [
      "\rGetting Model Accuracy:  80%|████████  | 335/417 [00:13<00:03, 26.29it/s]"
     ]
    },
    {
     "name": "stderr",
     "output_type": "stream",
     "text": [
      "\rGetting Model Accuracy:  81%|████████  | 338/417 [00:13<00:02, 26.53it/s]"
     ]
    },
    {
     "name": "stderr",
     "output_type": "stream",
     "text": [
      "\rGetting Model Accuracy:  82%|████████▏ | 341/417 [00:13<00:02, 26.77it/s]"
     ]
    },
    {
     "name": "stderr",
     "output_type": "stream",
     "text": [
      "\rGetting Model Accuracy:  82%|████████▏ | 344/417 [00:13<00:02, 26.87it/s]"
     ]
    },
    {
     "name": "stderr",
     "output_type": "stream",
     "text": [
      "\rGetting Model Accuracy:  83%|████████▎ | 347/417 [00:13<00:02, 26.16it/s]"
     ]
    },
    {
     "name": "stderr",
     "output_type": "stream",
     "text": [
      "\rGetting Model Accuracy:  84%|████████▍ | 350/417 [00:13<00:02, 26.30it/s]"
     ]
    },
    {
     "name": "stderr",
     "output_type": "stream",
     "text": [
      "\rGetting Model Accuracy:  85%|████████▍ | 353/417 [00:13<00:02, 26.60it/s]"
     ]
    },
    {
     "name": "stderr",
     "output_type": "stream",
     "text": [
      "\rGetting Model Accuracy:  85%|████████▌ | 356/417 [00:14<00:02, 26.75it/s]"
     ]
    },
    {
     "name": "stderr",
     "output_type": "stream",
     "text": [
      "\rGetting Model Accuracy:  86%|████████▌ | 359/417 [00:14<00:02, 26.09it/s]"
     ]
    },
    {
     "name": "stderr",
     "output_type": "stream",
     "text": [
      "\rGetting Model Accuracy:  87%|████████▋ | 362/417 [00:14<00:02, 26.31it/s]"
     ]
    },
    {
     "name": "stderr",
     "output_type": "stream",
     "text": [
      "\rGetting Model Accuracy:  88%|████████▊ | 365/417 [00:14<00:01, 26.61it/s]"
     ]
    },
    {
     "name": "stderr",
     "output_type": "stream",
     "text": [
      "\rGetting Model Accuracy:  88%|████████▊ | 368/417 [00:14<00:01, 25.66it/s]"
     ]
    },
    {
     "name": "stderr",
     "output_type": "stream",
     "text": [
      "\rGetting Model Accuracy:  89%|████████▉ | 371/417 [00:14<00:01, 26.08it/s]"
     ]
    },
    {
     "name": "stderr",
     "output_type": "stream",
     "text": [
      "\rGetting Model Accuracy:  90%|████████▉ | 374/417 [00:14<00:01, 26.31it/s]"
     ]
    },
    {
     "name": "stderr",
     "output_type": "stream",
     "text": [
      "\rGetting Model Accuracy:  90%|█████████ | 377/417 [00:14<00:01, 25.59it/s]"
     ]
    },
    {
     "name": "stderr",
     "output_type": "stream",
     "text": [
      "\rGetting Model Accuracy:  91%|█████████ | 380/417 [00:15<00:01, 25.89it/s]"
     ]
    },
    {
     "name": "stderr",
     "output_type": "stream",
     "text": [
      "\rGetting Model Accuracy:  92%|█████████▏| 383/417 [00:15<00:01, 26.10it/s]"
     ]
    },
    {
     "name": "stderr",
     "output_type": "stream",
     "text": [
      "\rGetting Model Accuracy:  93%|█████████▎| 386/417 [00:15<00:01, 26.33it/s]"
     ]
    },
    {
     "name": "stderr",
     "output_type": "stream",
     "text": [
      "\rGetting Model Accuracy:  93%|█████████▎| 389/417 [00:15<00:01, 26.48it/s]"
     ]
    },
    {
     "name": "stderr",
     "output_type": "stream",
     "text": [
      "\rGetting Model Accuracy:  94%|█████████▍| 392/417 [00:15<00:00, 26.32it/s]"
     ]
    },
    {
     "name": "stderr",
     "output_type": "stream",
     "text": [
      "\rGetting Model Accuracy:  95%|█████████▍| 395/417 [00:15<00:00, 26.55it/s]"
     ]
    },
    {
     "name": "stderr",
     "output_type": "stream",
     "text": [
      "\rGetting Model Accuracy:  95%|█████████▌| 398/417 [00:15<00:00, 26.50it/s]"
     ]
    },
    {
     "name": "stderr",
     "output_type": "stream",
     "text": [
      "\rGetting Model Accuracy:  96%|█████████▌| 401/417 [00:15<00:00, 26.60it/s]"
     ]
    },
    {
     "name": "stderr",
     "output_type": "stream",
     "text": [
      "\rGetting Model Accuracy:  97%|█████████▋| 404/417 [00:15<00:00, 26.75it/s]"
     ]
    },
    {
     "name": "stderr",
     "output_type": "stream",
     "text": [
      "\rGetting Model Accuracy:  98%|█████████▊| 407/417 [00:16<00:00, 27.07it/s]"
     ]
    },
    {
     "name": "stderr",
     "output_type": "stream",
     "text": [
      "\rGetting Model Accuracy:  98%|█████████▊| 410/417 [00:16<00:00, 26.79it/s]"
     ]
    },
    {
     "name": "stderr",
     "output_type": "stream",
     "text": [
      "\rGetting Model Accuracy:  99%|█████████▉| 413/417 [00:16<00:00, 26.81it/s]"
     ]
    },
    {
     "name": "stderr",
     "output_type": "stream",
     "text": [
      "\rGetting Model Accuracy: 100%|█████████▉| 416/417 [00:16<00:00, 26.68it/s]"
     ]
    },
    {
     "name": "stderr",
     "output_type": "stream",
     "text": [
      "\rGetting Model Accuracy: 100%|██████████| 417/417 [00:16<00:00, 25.43it/s]"
     ]
    },
    {
     "name": "stderr",
     "output_type": "stream",
     "text": [
      "\n"
     ]
    }
   ],
   "source": [
    "rel_idx, att_maxes = [], []\n",
    "for i, batch in enumerate(tqdm(data.val_iter, desc=\"Getting model relationship accuracy\")):\n",
    "    rel_idx_i, att_maxes_i = get_att_and_rel_idx(batch.text[..., 1:])\n",
    "    rel_idx.extend(rel_idx_i)\n",
    "    att_maxes.extend(att_maxes_i)\n",
    "    \n",
    "    \n",
    "data.reinit_iterator('valid')"
   ]
  },
  {
   "cell_type": "code",
   "execution_count": 173,
   "metadata": {
    "collapsed": true
   },
   "outputs": [
    {
     "name": "stderr",
     "output_type": "stream",
     "text": [
      "\rGetting model relationship accuracy:   0%|          | 0/417 [00:00<?, ?it/s]"
     ]
    },
    {
     "name": "stderr",
     "output_type": "stream",
     "text": [
      "\rGetting model relationship accuracy:   0%|          | 2/417 [00:00<00:22, 18.74it/s]"
     ]
    },
    {
     "name": "stderr",
     "output_type": "stream",
     "text": [
      "\rGetting model relationship accuracy:   1%|          | 5/417 [00:00<00:20, 19.72it/s]"
     ]
    },
    {
     "name": "stderr",
     "output_type": "stream",
     "text": [
      "\rGetting model relationship accuracy:   2%|▏         | 8/417 [00:00<00:19, 21.29it/s]"
     ]
    },
    {
     "name": "stderr",
     "output_type": "stream",
     "text": [
      "\rGetting model relationship accuracy:   3%|▎         | 11/417 [00:00<00:18, 22.45it/s]"
     ]
    },
    {
     "name": "stderr",
     "output_type": "stream",
     "text": [
      "\rGetting model relationship accuracy:   3%|▎         | 14/417 [00:00<00:17, 23.17it/s]"
     ]
    },
    {
     "name": "stderr",
     "output_type": "stream",
     "text": [
      "\rGetting model relationship accuracy:   4%|▍         | 17/417 [00:00<00:16, 23.77it/s]"
     ]
    },
    {
     "name": "stderr",
     "output_type": "stream",
     "text": [
      "\rGetting model relationship accuracy:   5%|▍         | 20/417 [00:00<00:16, 23.36it/s]"
     ]
    },
    {
     "name": "stderr",
     "output_type": "stream",
     "text": [
      "\rGetting model relationship accuracy:   6%|▌         | 23/417 [00:00<00:16, 24.07it/s]"
     ]
    },
    {
     "name": "stderr",
     "output_type": "stream",
     "text": [
      "\rGetting model relationship accuracy:   6%|▌         | 26/417 [00:01<00:15, 24.48it/s]"
     ]
    },
    {
     "name": "stderr",
     "output_type": "stream",
     "text": [
      "\rGetting model relationship accuracy:   7%|▋         | 29/417 [00:01<00:16, 23.01it/s]"
     ]
    },
    {
     "name": "stderr",
     "output_type": "stream",
     "text": [
      "\rGetting model relationship accuracy:   8%|▊         | 32/417 [00:01<00:16, 23.70it/s]"
     ]
    },
    {
     "name": "stderr",
     "output_type": "stream",
     "text": [
      "\rGetting model relationship accuracy:   8%|▊         | 35/417 [00:01<00:16, 22.94it/s]"
     ]
    },
    {
     "name": "stderr",
     "output_type": "stream",
     "text": [
      "\rGetting model relationship accuracy:   9%|▉         | 38/417 [00:01<00:16, 22.58it/s]"
     ]
    },
    {
     "name": "stderr",
     "output_type": "stream",
     "text": [
      "\rGetting model relationship accuracy:  10%|▉         | 41/417 [00:01<00:16, 22.34it/s]"
     ]
    },
    {
     "name": "stderr",
     "output_type": "stream",
     "text": [
      "\rGetting model relationship accuracy:  11%|█         | 44/417 [00:01<00:16, 22.37it/s]"
     ]
    },
    {
     "name": "stderr",
     "output_type": "stream",
     "text": [
      "\rGetting model relationship accuracy:  11%|█▏        | 47/417 [00:02<00:15, 23.39it/s]"
     ]
    },
    {
     "name": "stderr",
     "output_type": "stream",
     "text": [
      "\rGetting model relationship accuracy:  12%|█▏        | 50/417 [00:02<00:15, 23.59it/s]"
     ]
    },
    {
     "name": "stderr",
     "output_type": "stream",
     "text": [
      "\rGetting model relationship accuracy:  13%|█▎        | 53/417 [00:02<00:15, 23.13it/s]"
     ]
    },
    {
     "name": "stderr",
     "output_type": "stream",
     "text": [
      "\rGetting model relationship accuracy:  13%|█▎        | 56/417 [00:02<00:16, 21.96it/s]"
     ]
    },
    {
     "name": "stderr",
     "output_type": "stream",
     "text": [
      "\rGetting model relationship accuracy:  14%|█▍        | 59/417 [00:02<00:15, 22.61it/s]"
     ]
    },
    {
     "name": "stderr",
     "output_type": "stream",
     "text": [
      "\rGetting model relationship accuracy:  15%|█▍        | 62/417 [00:02<00:16, 21.49it/s]"
     ]
    },
    {
     "name": "stderr",
     "output_type": "stream",
     "text": [
      "\rGetting model relationship accuracy:  16%|█▌        | 65/417 [00:02<00:16, 21.17it/s]"
     ]
    },
    {
     "name": "stderr",
     "output_type": "stream",
     "text": [
      "\rGetting model relationship accuracy:  16%|█▋        | 68/417 [00:02<00:16, 21.59it/s]"
     ]
    },
    {
     "name": "stderr",
     "output_type": "stream",
     "text": [
      "\rGetting model relationship accuracy:  17%|█▋        | 71/417 [00:03<00:15, 22.32it/s]"
     ]
    },
    {
     "name": "stderr",
     "output_type": "stream",
     "text": [
      "\rGetting model relationship accuracy:  18%|█▊        | 74/417 [00:03<00:14, 23.30it/s]"
     ]
    },
    {
     "name": "stderr",
     "output_type": "stream",
     "text": [
      "\rGetting model relationship accuracy:  18%|█▊        | 77/417 [00:03<00:14, 23.80it/s]"
     ]
    },
    {
     "name": "stderr",
     "output_type": "stream",
     "text": [
      "\rGetting model relationship accuracy:  19%|█▉        | 80/417 [00:03<00:13, 24.46it/s]"
     ]
    },
    {
     "name": "stderr",
     "output_type": "stream",
     "text": [
      "\rGetting model relationship accuracy:  20%|█▉        | 83/417 [00:03<00:13, 24.05it/s]"
     ]
    },
    {
     "name": "stderr",
     "output_type": "stream",
     "text": [
      "\rGetting model relationship accuracy:  21%|██        | 86/417 [00:03<00:13, 23.83it/s]"
     ]
    },
    {
     "name": "stderr",
     "output_type": "stream",
     "text": [
      "\rGetting model relationship accuracy:  21%|██▏       | 89/417 [00:03<00:14, 23.39it/s]"
     ]
    },
    {
     "name": "stderr",
     "output_type": "stream",
     "text": [
      "\rGetting model relationship accuracy:  22%|██▏       | 92/417 [00:03<00:13, 23.76it/s]"
     ]
    },
    {
     "name": "stderr",
     "output_type": "stream",
     "text": [
      "\rGetting model relationship accuracy:  23%|██▎       | 95/417 [00:04<00:13, 24.31it/s]"
     ]
    },
    {
     "name": "stderr",
     "output_type": "stream",
     "text": [
      "\rGetting model relationship accuracy:  24%|██▎       | 98/417 [00:04<00:13, 24.30it/s]"
     ]
    },
    {
     "name": "stderr",
     "output_type": "stream",
     "text": [
      "\rGetting model relationship accuracy:  24%|██▍       | 101/417 [00:04<00:13, 23.99it/s]"
     ]
    },
    {
     "name": "stderr",
     "output_type": "stream",
     "text": [
      "\rGetting model relationship accuracy:  25%|██▍       | 104/417 [00:04<00:13, 23.96it/s]"
     ]
    },
    {
     "name": "stderr",
     "output_type": "stream",
     "text": [
      "\rGetting model relationship accuracy:  26%|██▌       | 107/417 [00:04<00:12, 24.40it/s]"
     ]
    },
    {
     "name": "stderr",
     "output_type": "stream",
     "text": [
      "\rGetting model relationship accuracy:  26%|██▋       | 110/417 [00:04<00:12, 24.24it/s]"
     ]
    },
    {
     "name": "stderr",
     "output_type": "stream",
     "text": [
      "\rGetting model relationship accuracy:  27%|██▋       | 113/417 [00:04<00:12, 24.30it/s]"
     ]
    },
    {
     "name": "stderr",
     "output_type": "stream",
     "text": [
      "\rGetting model relationship accuracy:  28%|██▊       | 116/417 [00:04<00:12, 25.02it/s]"
     ]
    },
    {
     "name": "stderr",
     "output_type": "stream",
     "text": [
      "\rGetting model relationship accuracy:  29%|██▊       | 119/417 [00:05<00:11, 25.48it/s]"
     ]
    },
    {
     "name": "stderr",
     "output_type": "stream",
     "text": [
      "\rGetting model relationship accuracy:  29%|██▉       | 122/417 [00:05<00:11, 26.01it/s]"
     ]
    },
    {
     "name": "stderr",
     "output_type": "stream",
     "text": [
      "\rGetting model relationship accuracy:  30%|██▉       | 125/417 [00:05<00:11, 26.33it/s]"
     ]
    },
    {
     "name": "stderr",
     "output_type": "stream",
     "text": [
      "\rGetting model relationship accuracy:  31%|███       | 128/417 [00:05<00:10, 26.48it/s]"
     ]
    },
    {
     "name": "stderr",
     "output_type": "stream",
     "text": [
      "\rGetting model relationship accuracy:  31%|███▏      | 131/417 [00:05<00:10, 26.81it/s]"
     ]
    },
    {
     "name": "stderr",
     "output_type": "stream",
     "text": [
      "\rGetting model relationship accuracy:  32%|███▏      | 134/417 [00:05<00:10, 26.82it/s]"
     ]
    },
    {
     "name": "stderr",
     "output_type": "stream",
     "text": [
      "\rGetting model relationship accuracy:  33%|███▎      | 137/417 [00:05<00:10, 26.98it/s]"
     ]
    },
    {
     "name": "stderr",
     "output_type": "stream",
     "text": [
      "\rGetting model relationship accuracy:  34%|███▎      | 140/417 [00:05<00:10, 27.01it/s]"
     ]
    },
    {
     "name": "stderr",
     "output_type": "stream",
     "text": [
      "\rGetting model relationship accuracy:  34%|███▍      | 143/417 [00:05<00:10, 26.54it/s]"
     ]
    },
    {
     "name": "stderr",
     "output_type": "stream",
     "text": [
      "\rGetting model relationship accuracy:  35%|███▌      | 146/417 [00:06<00:10, 25.55it/s]"
     ]
    },
    {
     "name": "stderr",
     "output_type": "stream",
     "text": [
      "\rGetting model relationship accuracy:  36%|███▌      | 149/417 [00:06<00:10, 24.71it/s]"
     ]
    },
    {
     "name": "stderr",
     "output_type": "stream",
     "text": [
      "\rGetting model relationship accuracy:  36%|███▋      | 152/417 [00:06<00:10, 25.32it/s]"
     ]
    },
    {
     "name": "stderr",
     "output_type": "stream",
     "text": [
      "\rGetting model relationship accuracy:  37%|███▋      | 155/417 [00:06<00:10, 25.56it/s]"
     ]
    },
    {
     "name": "stderr",
     "output_type": "stream",
     "text": [
      "\rGetting model relationship accuracy:  38%|███▊      | 158/417 [00:06<00:10, 24.91it/s]"
     ]
    },
    {
     "name": "stderr",
     "output_type": "stream",
     "text": [
      "\rGetting model relationship accuracy:  39%|███▊      | 161/417 [00:07<00:28,  8.85it/s]"
     ]
    },
    {
     "name": "stderr",
     "output_type": "stream",
     "text": [
      "\rGetting model relationship accuracy:  39%|███▉      | 164/417 [00:07<00:23, 10.89it/s]"
     ]
    },
    {
     "name": "stderr",
     "output_type": "stream",
     "text": [
      "\rGetting model relationship accuracy:  40%|████      | 167/417 [00:07<00:19, 13.15it/s]"
     ]
    },
    {
     "name": "stderr",
     "output_type": "stream",
     "text": [
      "\rGetting model relationship accuracy:  41%|████      | 170/417 [00:07<00:16, 15.41it/s]"
     ]
    },
    {
     "name": "stderr",
     "output_type": "stream",
     "text": [
      "\rGetting model relationship accuracy:  41%|████▏     | 173/417 [00:07<00:14, 17.42it/s]"
     ]
    },
    {
     "name": "stderr",
     "output_type": "stream",
     "text": [
      "\rGetting model relationship accuracy:  42%|████▏     | 176/417 [00:08<00:12, 19.33it/s]"
     ]
    },
    {
     "name": "stderr",
     "output_type": "stream",
     "text": [
      "\rGetting model relationship accuracy:  43%|████▎     | 179/417 [00:08<00:11, 21.10it/s]"
     ]
    },
    {
     "name": "stderr",
     "output_type": "stream",
     "text": [
      "\rGetting model relationship accuracy:  44%|████▎     | 182/417 [00:08<00:10, 22.65it/s]"
     ]
    },
    {
     "name": "stderr",
     "output_type": "stream",
     "text": [
      "\rGetting model relationship accuracy:  44%|████▍     | 185/417 [00:08<00:09, 23.94it/s]"
     ]
    },
    {
     "name": "stderr",
     "output_type": "stream",
     "text": [
      "\rGetting model relationship accuracy:  45%|████▌     | 188/417 [00:08<00:09, 24.75it/s]"
     ]
    },
    {
     "name": "stderr",
     "output_type": "stream",
     "text": [
      "\rGetting model relationship accuracy:  46%|████▌     | 191/417 [00:08<00:08, 25.22it/s]"
     ]
    },
    {
     "name": "stderr",
     "output_type": "stream",
     "text": [
      "\rGetting model relationship accuracy:  47%|████▋     | 194/417 [00:08<00:08, 25.89it/s]"
     ]
    },
    {
     "name": "stderr",
     "output_type": "stream",
     "text": [
      "\rGetting model relationship accuracy:  47%|████▋     | 197/417 [00:08<00:08, 25.83it/s]"
     ]
    },
    {
     "name": "stderr",
     "output_type": "stream",
     "text": [
      "\rGetting model relationship accuracy:  48%|████▊     | 200/417 [00:08<00:08, 25.93it/s]"
     ]
    },
    {
     "name": "stderr",
     "output_type": "stream",
     "text": [
      "\rGetting model relationship accuracy:  49%|████▊     | 203/417 [00:09<00:08, 26.00it/s]"
     ]
    },
    {
     "name": "stderr",
     "output_type": "stream",
     "text": [
      "\rGetting model relationship accuracy:  49%|████▉     | 206/417 [00:09<00:08, 26.11it/s]"
     ]
    },
    {
     "name": "stderr",
     "output_type": "stream",
     "text": [
      "\rGetting model relationship accuracy:  50%|█████     | 209/417 [00:09<00:08, 25.14it/s]"
     ]
    },
    {
     "name": "stderr",
     "output_type": "stream",
     "text": [
      "\rGetting model relationship accuracy:  51%|█████     | 212/417 [00:09<00:08, 24.81it/s]"
     ]
    },
    {
     "name": "stderr",
     "output_type": "stream",
     "text": [
      "\rGetting model relationship accuracy:  52%|█████▏    | 215/417 [00:09<00:08, 24.58it/s]"
     ]
    },
    {
     "name": "stderr",
     "output_type": "stream",
     "text": [
      "\rGetting model relationship accuracy:  52%|█████▏    | 218/417 [00:09<00:07, 25.22it/s]"
     ]
    },
    {
     "name": "stderr",
     "output_type": "stream",
     "text": [
      "\rGetting model relationship accuracy:  53%|█████▎    | 221/417 [00:09<00:07, 25.30it/s]"
     ]
    },
    {
     "name": "stderr",
     "output_type": "stream",
     "text": [
      "\rGetting model relationship accuracy:  54%|█████▎    | 224/417 [00:09<00:07, 25.62it/s]"
     ]
    },
    {
     "name": "stderr",
     "output_type": "stream",
     "text": [
      "\rGetting model relationship accuracy:  54%|█████▍    | 227/417 [00:09<00:07, 25.71it/s]"
     ]
    },
    {
     "name": "stderr",
     "output_type": "stream",
     "text": [
      "\rGetting model relationship accuracy:  55%|█████▌    | 230/417 [00:10<00:07, 24.10it/s]"
     ]
    },
    {
     "name": "stderr",
     "output_type": "stream",
     "text": [
      "\rGetting model relationship accuracy:  56%|█████▌    | 233/417 [00:10<00:07, 24.03it/s]"
     ]
    },
    {
     "name": "stderr",
     "output_type": "stream",
     "text": [
      "\rGetting model relationship accuracy:  57%|█████▋    | 236/417 [00:10<00:07, 23.10it/s]"
     ]
    },
    {
     "name": "stderr",
     "output_type": "stream",
     "text": [
      "\rGetting model relationship accuracy:  57%|█████▋    | 239/417 [00:10<00:08, 22.09it/s]"
     ]
    },
    {
     "name": "stderr",
     "output_type": "stream",
     "text": [
      "\rGetting model relationship accuracy:  58%|█████▊    | 242/417 [00:10<00:07, 22.25it/s]"
     ]
    },
    {
     "name": "stderr",
     "output_type": "stream",
     "text": [
      "\rGetting model relationship accuracy:  59%|█████▉    | 245/417 [00:10<00:07, 23.02it/s]"
     ]
    },
    {
     "name": "stderr",
     "output_type": "stream",
     "text": [
      "\rGetting model relationship accuracy:  59%|█████▉    | 248/417 [00:10<00:07, 22.90it/s]"
     ]
    },
    {
     "name": "stderr",
     "output_type": "stream",
     "text": [
      "\rGetting model relationship accuracy:  60%|██████    | 251/417 [00:11<00:06, 23.85it/s]"
     ]
    },
    {
     "name": "stderr",
     "output_type": "stream",
     "text": [
      "\rGetting model relationship accuracy:  61%|██████    | 254/417 [00:11<00:06, 23.41it/s]"
     ]
    },
    {
     "name": "stderr",
     "output_type": "stream",
     "text": [
      "\rGetting model relationship accuracy:  62%|██████▏   | 257/417 [00:11<00:06, 23.11it/s]"
     ]
    },
    {
     "name": "stderr",
     "output_type": "stream",
     "text": [
      "\rGetting model relationship accuracy:  62%|██████▏   | 260/417 [00:11<00:06, 23.07it/s]"
     ]
    },
    {
     "name": "stderr",
     "output_type": "stream",
     "text": [
      "\rGetting model relationship accuracy:  63%|██████▎   | 263/417 [00:11<00:06, 23.09it/s]"
     ]
    },
    {
     "name": "stderr",
     "output_type": "stream",
     "text": [
      "\rGetting model relationship accuracy:  64%|██████▍   | 266/417 [00:11<00:06, 22.79it/s]"
     ]
    },
    {
     "name": "stderr",
     "output_type": "stream",
     "text": [
      "\rGetting model relationship accuracy:  65%|██████▍   | 269/417 [00:11<00:06, 23.00it/s]"
     ]
    },
    {
     "name": "stderr",
     "output_type": "stream",
     "text": [
      "\rGetting model relationship accuracy:  65%|██████▌   | 272/417 [00:11<00:06, 22.47it/s]"
     ]
    },
    {
     "name": "stderr",
     "output_type": "stream",
     "text": [
      "\rGetting model relationship accuracy:  66%|██████▌   | 275/417 [00:12<00:06, 23.19it/s]"
     ]
    },
    {
     "name": "stderr",
     "output_type": "stream",
     "text": [
      "\rGetting model relationship accuracy:  67%|██████▋   | 278/417 [00:12<00:06, 22.45it/s]"
     ]
    },
    {
     "name": "stderr",
     "output_type": "stream",
     "text": [
      "\rGetting model relationship accuracy:  67%|██████▋   | 281/417 [00:12<00:06, 21.40it/s]"
     ]
    },
    {
     "name": "stderr",
     "output_type": "stream",
     "text": [
      "\rGetting model relationship accuracy:  68%|██████▊   | 284/417 [00:12<00:06, 20.97it/s]"
     ]
    },
    {
     "name": "stderr",
     "output_type": "stream",
     "text": [
      "\rGetting model relationship accuracy:  69%|██████▉   | 287/417 [00:12<00:06, 20.65it/s]"
     ]
    },
    {
     "name": "stderr",
     "output_type": "stream",
     "text": [
      "\rGetting model relationship accuracy:  70%|██████▉   | 290/417 [00:12<00:05, 21.20it/s]"
     ]
    },
    {
     "name": "stderr",
     "output_type": "stream",
     "text": [
      "\rGetting model relationship accuracy:  70%|███████   | 293/417 [00:12<00:05, 21.99it/s]"
     ]
    },
    {
     "name": "stderr",
     "output_type": "stream",
     "text": [
      "\rGetting model relationship accuracy:  71%|███████   | 296/417 [00:13<00:05, 22.83it/s]"
     ]
    },
    {
     "name": "stderr",
     "output_type": "stream",
     "text": [
      "\rGetting model relationship accuracy:  72%|███████▏  | 299/417 [00:13<00:05, 23.18it/s]"
     ]
    },
    {
     "name": "stderr",
     "output_type": "stream",
     "text": [
      "\rGetting model relationship accuracy:  72%|███████▏  | 302/417 [00:13<00:04, 23.78it/s]"
     ]
    },
    {
     "name": "stderr",
     "output_type": "stream",
     "text": [
      "\rGetting model relationship accuracy:  73%|███████▎  | 305/417 [00:13<00:04, 23.25it/s]"
     ]
    },
    {
     "name": "stderr",
     "output_type": "stream",
     "text": [
      "\rGetting model relationship accuracy:  74%|███████▍  | 308/417 [00:13<00:04, 23.22it/s]"
     ]
    },
    {
     "name": "stderr",
     "output_type": "stream",
     "text": [
      "\rGetting model relationship accuracy:  75%|███████▍  | 311/417 [00:13<00:04, 23.41it/s]"
     ]
    },
    {
     "name": "stderr",
     "output_type": "stream",
     "text": [
      "\rGetting model relationship accuracy:  75%|███████▌  | 314/417 [00:13<00:04, 23.77it/s]"
     ]
    },
    {
     "name": "stderr",
     "output_type": "stream",
     "text": [
      "\rGetting model relationship accuracy:  76%|███████▌  | 317/417 [00:13<00:04, 23.92it/s]"
     ]
    },
    {
     "name": "stderr",
     "output_type": "stream",
     "text": [
      "\rGetting model relationship accuracy:  77%|███████▋  | 320/417 [00:14<00:04, 23.90it/s]"
     ]
    },
    {
     "name": "stderr",
     "output_type": "stream",
     "text": [
      "\rGetting model relationship accuracy:  77%|███████▋  | 323/417 [00:14<00:03, 24.54it/s]"
     ]
    },
    {
     "name": "stderr",
     "output_type": "stream",
     "text": [
      "\rGetting model relationship accuracy:  78%|███████▊  | 326/417 [00:14<00:03, 25.19it/s]"
     ]
    },
    {
     "name": "stderr",
     "output_type": "stream",
     "text": [
      "\rGetting model relationship accuracy:  79%|███████▉  | 329/417 [00:14<00:03, 25.73it/s]"
     ]
    },
    {
     "name": "stderr",
     "output_type": "stream",
     "text": [
      "\rGetting model relationship accuracy:  80%|███████▉  | 332/417 [00:14<00:03, 26.13it/s]"
     ]
    },
    {
     "name": "stderr",
     "output_type": "stream",
     "text": [
      "\rGetting model relationship accuracy:  80%|████████  | 335/417 [00:14<00:03, 26.48it/s]"
     ]
    },
    {
     "name": "stderr",
     "output_type": "stream",
     "text": [
      "\rGetting model relationship accuracy:  81%|████████  | 338/417 [00:14<00:02, 26.45it/s]"
     ]
    },
    {
     "name": "stderr",
     "output_type": "stream",
     "text": [
      "\rGetting model relationship accuracy:  82%|████████▏ | 341/417 [00:14<00:02, 26.43it/s]"
     ]
    },
    {
     "name": "stderr",
     "output_type": "stream",
     "text": [
      "\rGetting model relationship accuracy:  82%|████████▏ | 344/417 [00:14<00:02, 26.35it/s]"
     ]
    },
    {
     "name": "stderr",
     "output_type": "stream",
     "text": [
      "\rGetting model relationship accuracy:  83%|████████▎ | 347/417 [00:15<00:02, 26.57it/s]"
     ]
    },
    {
     "name": "stderr",
     "output_type": "stream",
     "text": [
      "\rGetting model relationship accuracy:  84%|████████▍ | 350/417 [00:15<00:02, 26.87it/s]"
     ]
    },
    {
     "name": "stderr",
     "output_type": "stream",
     "text": [
      "\rGetting model relationship accuracy:  85%|████████▍ | 353/417 [00:15<00:02, 26.65it/s]"
     ]
    },
    {
     "name": "stderr",
     "output_type": "stream",
     "text": [
      "\rGetting model relationship accuracy:  85%|████████▌ | 356/417 [00:15<00:02, 26.02it/s]"
     ]
    },
    {
     "name": "stderr",
     "output_type": "stream",
     "text": [
      "\rGetting model relationship accuracy:  86%|████████▌ | 359/417 [00:15<00:02, 26.27it/s]"
     ]
    },
    {
     "name": "stderr",
     "output_type": "stream",
     "text": [
      "\rGetting model relationship accuracy:  87%|████████▋ | 362/417 [00:15<00:02, 25.83it/s]"
     ]
    },
    {
     "name": "stderr",
     "output_type": "stream",
     "text": [
      "\rGetting model relationship accuracy:  88%|████████▊ | 365/417 [00:15<00:01, 26.13it/s]"
     ]
    },
    {
     "name": "stderr",
     "output_type": "stream",
     "text": [
      "\rGetting model relationship accuracy:  88%|████████▊ | 368/417 [00:15<00:01, 26.27it/s]"
     ]
    },
    {
     "name": "stderr",
     "output_type": "stream",
     "text": [
      "\rGetting model relationship accuracy:  89%|████████▉ | 371/417 [00:15<00:01, 26.52it/s]"
     ]
    },
    {
     "name": "stderr",
     "output_type": "stream",
     "text": [
      "\rGetting model relationship accuracy:  90%|████████▉ | 374/417 [00:16<00:01, 26.55it/s]"
     ]
    },
    {
     "name": "stderr",
     "output_type": "stream",
     "text": [
      "\rGetting model relationship accuracy:  90%|█████████ | 377/417 [00:16<00:01, 26.50it/s]"
     ]
    },
    {
     "name": "stderr",
     "output_type": "stream",
     "text": [
      "\rGetting model relationship accuracy:  91%|█████████ | 380/417 [00:16<00:01, 26.75it/s]"
     ]
    },
    {
     "name": "stderr",
     "output_type": "stream",
     "text": [
      "\rGetting model relationship accuracy:  92%|█████████▏| 383/417 [00:16<00:01, 26.78it/s]"
     ]
    },
    {
     "name": "stderr",
     "output_type": "stream",
     "text": [
      "\rGetting model relationship accuracy:  93%|█████████▎| 386/417 [00:16<00:01, 26.95it/s]"
     ]
    },
    {
     "name": "stderr",
     "output_type": "stream",
     "text": [
      "\rGetting model relationship accuracy:  93%|█████████▎| 389/417 [00:16<00:01, 26.99it/s]"
     ]
    },
    {
     "name": "stderr",
     "output_type": "stream",
     "text": [
      "\rGetting model relationship accuracy:  94%|█████████▍| 392/417 [00:16<00:00, 27.10it/s]"
     ]
    },
    {
     "name": "stderr",
     "output_type": "stream",
     "text": [
      "\rGetting model relationship accuracy:  95%|█████████▍| 395/417 [00:16<00:00, 26.95it/s]"
     ]
    },
    {
     "name": "stderr",
     "output_type": "stream",
     "text": [
      "\rGetting model relationship accuracy:  95%|█████████▌| 398/417 [00:16<00:00, 26.92it/s]"
     ]
    },
    {
     "name": "stderr",
     "output_type": "stream",
     "text": [
      "\rGetting model relationship accuracy:  96%|█████████▌| 401/417 [00:17<00:00, 26.69it/s]"
     ]
    },
    {
     "name": "stderr",
     "output_type": "stream",
     "text": [
      "\rGetting model relationship accuracy:  97%|█████████▋| 404/417 [00:17<00:00, 26.53it/s]"
     ]
    },
    {
     "name": "stderr",
     "output_type": "stream",
     "text": [
      "\rGetting model relationship accuracy:  98%|█████████▊| 407/417 [00:17<00:00, 26.63it/s]"
     ]
    },
    {
     "name": "stderr",
     "output_type": "stream",
     "text": [
      "\rGetting model relationship accuracy:  98%|█████████▊| 410/417 [00:17<00:00, 26.69it/s]"
     ]
    },
    {
     "name": "stderr",
     "output_type": "stream",
     "text": [
      "\rGetting model relationship accuracy:  99%|█████████▉| 413/417 [00:17<00:00, 26.67it/s]"
     ]
    },
    {
     "name": "stderr",
     "output_type": "stream",
     "text": [
      "\rGetting model relationship accuracy: 100%|█████████▉| 416/417 [00:17<00:00, 26.66it/s]"
     ]
    },
    {
     "name": "stderr",
     "output_type": "stream",
     "text": [
      "\rGetting model relationship accuracy: 100%|██████████| 417/417 [00:17<00:00, 23.57it/s]"
     ]
    },
    {
     "name": "stdout",
     "output_type": "stream",
     "text": [
      "==== Final Model Scores =======\n{'subj': 0.8672220775839625, 'verb': 0.314611233260044, 'dobj': 0.4699812382739212, 'pobj': 0.5666666666666667}\n{'subj': 0.7073678729497527, 'verb': 0.1643014191485109, 'dobj': 0.15384615384615385, 'pobj': 0.2719135802469136}\n{'subj': 3, 'verb': 0, 'dobj': 1, 'pobj': 1}\n"
     ]
    },
    {
     "name": "stderr",
     "output_type": "stream",
     "text": [
      "\n"
     ]
    }
   ],
   "source": [
    "def get_encoder_disentanglement_score(data_iter):\n",
    "    rel_idx, att_maxes = [], []\n",
    "    for i, batch in enumerate(tqdm(data_iter, desc=\"Getting model relationship accuracy\")):\n",
    "        rel_idx_i, att_maxes_i = get_att_and_rel_idx(batch.text[..., 1:])\n",
    "        rel_idx.extend(rel_idx_i)\n",
    "        att_maxes.extend(att_maxes_i)\n",
    "        \n",
    "    lv_scores = []\n",
    "    for lv in range(sum(h_params.n_latents)):\n",
    "        found = {'subj':[], 'verb':[], 'dobj':[], 'pobj':[]}\n",
    "        for att, rel_pos in zip(att_maxes, rel_idx):\n",
    "            for k in found.keys():\n",
    "                if len(rel_pos[k]):\n",
    "                    found[k].append(att[lv] in rel_pos[k])\n",
    "        lv_scores.append(found)\n",
    "    enc_att_scores = {'subj':[], 'verb':[], 'dobj':[], 'pobj':[]}\n",
    "    for lv in range(sum(h_params.n_latents)):\n",
    "        for k, v in lv_scores[lv].items():\n",
    "            enc_att_scores[k].append(np.mean(v))\n",
    "    print(\"==== Final Model Scores =======\")\n",
    "    enc_max_score, enc_disent_score, enc_disent_vars = {}, {}, {}\n",
    "    for k, v in enc_att_scores.items():\n",
    "        sort_idx = np.argsort(v) \n",
    "        enc_disent_vars[k], enc_disent_score[k], enc_max_score[k] =\\\n",
    "            sort_idx[-1], v[sort_idx[-1]] - v[sort_idx[-2]], v[sort_idx[-1]]\n",
    "    print(enc_max_score)\n",
    "    print(enc_disent_score)\n",
    "    print(enc_disent_vars)\n",
    "    return enc_att_scores, enc_max_score, enc_disent_score, enc_disent_vars\n",
    "    # # ================= BASELINE ================= \n",
    "    # baseline = []\n",
    "    # for k in ['subj', 'verb', 'dobj', 'pobj']:\n",
    "    #     all_pos = []\n",
    "    #     for pos in rel_idx:\n",
    "    #         all_pos.extend(pos[k])\n",
    "    #     baseline.append(np.median(all_pos))\n",
    "    # baseline_scores = []\n",
    "    # for lv in range(4):\n",
    "    #     found = {'subj':[], 'verb':[], 'dobj':[], 'pobj':[]}\n",
    "    #     for rel_pos in rel_idx:\n",
    "    #         for k in found.keys():\n",
    "    #             if len(rel_pos[k]):\n",
    "    #                 found[k].append(baseline[lv] in rel_pos[k])\n",
    "    #     baseline_scores.append(found)\n",
    "    # \n",
    "    # baseline_enc_att_scores = {'subj':[], 'verb':[], 'dobj':[], 'pobj':[]}\n",
    "    # for lv in range(sum(h_params.n_latents)):\n",
    "    #     for k, v in baseline_scores[lv].items():\n",
    "    #         baseline_enc_att_scores[k].append(np.mean(v))\n",
    "    # print(\"==== Final baseline Scores =======\")\n",
    "    # enc_max_score, enc_disent_score, enc_disent_vars = {}, {}, {}\n",
    "    # for k, v in baseline_enc_att_scores.items():\n",
    "    #     sort_idx = np.argsort(v) \n",
    "    #     enc_disent_vars[k], enc_disent_score[k], enc_max_score[k] =\\\n",
    "    #         sort_idx[-1], v[sort_idx[-1]] - v[sort_idx[-2]], v[sort_idx[-1]]\n",
    "    # print(enc_max_score)\n",
    "    # print(enc_disent_score)\n",
    "    # print(enc_disent_vars)\n",
    "\n",
    "def show_df_hm2(df):\n",
    "    snsplt = sns.heatmap(df, cmap ='Reds', linewidths = 0.20, annot = False)\n",
    "    b, t = plt.ylim() # discover the values for bottom and top\n",
    "    b += 0.5 # Add 0.5 to the bottom\n",
    "    t -= 0.5 # Subtract 0.5 from the top\n",
    "    plt.ylim(b, t) # update the ylim(bottom, top) values\n",
    "    return snsplt.get_figure()\n",
    "enc_att, enc_max, enc_disent, enc_disent_idx = \\\n",
    "    get_encoder_disentanglement_score(data.val_iter)\n",
    "data.reinit_iterator('valid')"
   ]
  },
  {
   "cell_type": "code",
   "execution_count": 186,
   "metadata": {},
   "outputs": [
    {
     "name": "stdout",
     "output_type": "stream",
     "text": [
      "       subj      verb      dobj      pobj\n0  0.159854  0.314611  0.316135  0.238889\n1  0.040614  0.043574  0.469981  0.566667\n2  0.003124  0.004597  0.190432  0.294753\n3  0.867222  0.150310  0.002814  0.001235\n"
     ]
    },
    {
     "data": {
      "image/png": "[encoded data removed]",
      "text/plain": [
       "<Figure size 432x288 with 2 Axes>"
      ]
     },
     "metadata": {},
     "output_type": "display_data"
    }
   ],
   "source": [
    "\n",
    "def show_df_hm2(df):\n",
    "    snsplt = sns.heatmap(df, cmap ='Reds', linewidths = 0.20, annot = True)\n",
    "    b, t = plt.ylim() # discover the values for bottom and top\n",
    "    b += 0.5 # Add 0.5 to the bottom\n",
    "    t -= 0.5 # Subtract 0.5 from the top\n",
    "    plt.ylim(b, t) # update the ylim(bottom, top) values\n",
    "    return snsplt.get_figure()\n",
    "att_df = pd.DataFrame(enc_att)\n",
    "print(att_df)\n",
    "sns_plot = show_df_hm2(att_df)\n",
    "sns_plot.savefig(\"enc_att.eps\", dpi=100, format='eps')"
   ]
  },
  {
   "cell_type": "code",
   "execution_count": 165,
   "metadata": {
    "collapsed": true
   },
   "outputs": [
    {
     "name": "stderr",
     "output_type": "stream",
     "text": [
      "\rGetting model relationship accuracy:   0%|          | 0/417 [00:00<?, ?it/s]"
     ]
    },
    {
     "name": "stderr",
     "output_type": "stream",
     "text": [
      "\rGetting model relationship accuracy:   0%|          | 2/417 [00:00<00:22, 18.74it/s]"
     ]
    },
    {
     "name": "stderr",
     "output_type": "stream",
     "text": [
      "\rGetting model relationship accuracy:   1%|          | 5/417 [00:00<00:20, 19.72it/s]"
     ]
    },
    {
     "name": "stderr",
     "output_type": "stream",
     "text": [
      "\rGetting model relationship accuracy:   2%|▏         | 8/417 [00:00<00:19, 21.29it/s]"
     ]
    },
    {
     "name": "stderr",
     "output_type": "stream",
     "text": [
      "\rGetting model relationship accuracy:   3%|▎         | 11/417 [00:00<00:18, 22.45it/s]"
     ]
    },
    {
     "name": "stderr",
     "output_type": "stream",
     "text": [
      "\rGetting model relationship accuracy:   3%|▎         | 14/417 [00:00<00:17, 23.17it/s]"
     ]
    },
    {
     "name": "stderr",
     "output_type": "stream",
     "text": [
      "\rGetting model relationship accuracy:   4%|▍         | 17/417 [00:00<00:16, 23.77it/s]"
     ]
    },
    {
     "name": "stderr",
     "output_type": "stream",
     "text": [
      "\rGetting model relationship accuracy:   5%|▍         | 20/417 [00:00<00:16, 23.36it/s]"
     ]
    },
    {
     "name": "stderr",
     "output_type": "stream",
     "text": [
      "\rGetting model relationship accuracy:   6%|▌         | 23/417 [00:00<00:16, 24.07it/s]"
     ]
    },
    {
     "name": "stderr",
     "output_type": "stream",
     "text": [
      "\rGetting model relationship accuracy:   6%|▌         | 26/417 [00:01<00:15, 24.48it/s]"
     ]
    },
    {
     "name": "stderr",
     "output_type": "stream",
     "text": [
      "\rGetting model relationship accuracy:   7%|▋         | 29/417 [00:01<00:16, 23.01it/s]"
     ]
    },
    {
     "name": "stderr",
     "output_type": "stream",
     "text": [
      "\rGetting model relationship accuracy:   8%|▊         | 32/417 [00:01<00:16, 23.70it/s]"
     ]
    },
    {
     "name": "stderr",
     "output_type": "stream",
     "text": [
      "\rGetting model relationship accuracy:   8%|▊         | 35/417 [00:01<00:16, 22.94it/s]"
     ]
    },
    {
     "name": "stderr",
     "output_type": "stream",
     "text": [
      "\rGetting model relationship accuracy:   9%|▉         | 38/417 [00:01<00:16, 22.58it/s]"
     ]
    },
    {
     "name": "stderr",
     "output_type": "stream",
     "text": [
      "\rGetting model relationship accuracy:  10%|▉         | 41/417 [00:01<00:16, 22.34it/s]"
     ]
    },
    {
     "name": "stderr",
     "output_type": "stream",
     "text": [
      "\rGetting model relationship accuracy:  11%|█         | 44/417 [00:01<00:16, 22.37it/s]"
     ]
    },
    {
     "name": "stderr",
     "output_type": "stream",
     "text": [
      "\rGetting model relationship accuracy:  11%|█▏        | 47/417 [00:02<00:15, 23.39it/s]"
     ]
    },
    {
     "name": "stderr",
     "output_type": "stream",
     "text": [
      "\rGetting model relationship accuracy:  12%|█▏        | 50/417 [00:02<00:15, 23.59it/s]"
     ]
    },
    {
     "name": "stderr",
     "output_type": "stream",
     "text": [
      "\rGetting model relationship accuracy:  13%|█▎        | 53/417 [00:02<00:15, 23.13it/s]"
     ]
    },
    {
     "name": "stderr",
     "output_type": "stream",
     "text": [
      "\rGetting model relationship accuracy:  13%|█▎        | 56/417 [00:02<00:16, 21.96it/s]"
     ]
    },
    {
     "name": "stderr",
     "output_type": "stream",
     "text": [
      "\rGetting model relationship accuracy:  14%|█▍        | 59/417 [00:02<00:15, 22.61it/s]"
     ]
    },
    {
     "name": "stderr",
     "output_type": "stream",
     "text": [
      "\rGetting model relationship accuracy:  15%|█▍        | 62/417 [00:02<00:16, 21.49it/s]"
     ]
    },
    {
     "name": "stderr",
     "output_type": "stream",
     "text": [
      "\rGetting model relationship accuracy:  16%|█▌        | 65/417 [00:02<00:16, 21.17it/s]"
     ]
    },
    {
     "name": "stderr",
     "output_type": "stream",
     "text": [
      "\rGetting model relationship accuracy:  16%|█▋        | 68/417 [00:02<00:16, 21.59it/s]"
     ]
    },
    {
     "name": "stderr",
     "output_type": "stream",
     "text": [
      "\rGetting model relationship accuracy:  17%|█▋        | 71/417 [00:03<00:15, 22.32it/s]"
     ]
    },
    {
     "name": "stderr",
     "output_type": "stream",
     "text": [
      "\rGetting model relationship accuracy:  18%|█▊        | 74/417 [00:03<00:14, 23.30it/s]"
     ]
    },
    {
     "name": "stderr",
     "output_type": "stream",
     "text": [
      "\rGetting model relationship accuracy:  18%|█▊        | 77/417 [00:03<00:14, 23.80it/s]"
     ]
    },
    {
     "name": "stderr",
     "output_type": "stream",
     "text": [
      "\rGetting model relationship accuracy:  19%|█▉        | 80/417 [00:03<00:13, 24.46it/s]"
     ]
    },
    {
     "name": "stderr",
     "output_type": "stream",
     "text": [
      "\rGetting model relationship accuracy:  20%|█▉        | 83/417 [00:03<00:13, 24.05it/s]"
     ]
    },
    {
     "name": "stderr",
     "output_type": "stream",
     "text": [
      "\rGetting model relationship accuracy:  21%|██        | 86/417 [00:03<00:13, 23.83it/s]"
     ]
    },
    {
     "name": "stderr",
     "output_type": "stream",
     "text": [
      "\rGetting model relationship accuracy:  21%|██▏       | 89/417 [00:03<00:14, 23.39it/s]"
     ]
    },
    {
     "name": "stderr",
     "output_type": "stream",
     "text": [
      "\rGetting model relationship accuracy:  22%|██▏       | 92/417 [00:03<00:13, 23.76it/s]"
     ]
    },
    {
     "name": "stderr",
     "output_type": "stream",
     "text": [
      "\rGetting model relationship accuracy:  23%|██▎       | 95/417 [00:04<00:13, 24.31it/s]"
     ]
    },
    {
     "name": "stderr",
     "output_type": "stream",
     "text": [
      "\rGetting model relationship accuracy:  24%|██▎       | 98/417 [00:04<00:13, 24.30it/s]"
     ]
    },
    {
     "name": "stderr",
     "output_type": "stream",
     "text": [
      "\rGetting model relationship accuracy:  24%|██▍       | 101/417 [00:04<00:13, 23.99it/s]"
     ]
    },
    {
     "name": "stderr",
     "output_type": "stream",
     "text": [
      "\rGetting model relationship accuracy:  25%|██▍       | 104/417 [00:04<00:13, 23.96it/s]"
     ]
    },
    {
     "name": "stderr",
     "output_type": "stream",
     "text": [
      "\rGetting model relationship accuracy:  26%|██▌       | 107/417 [00:04<00:12, 24.40it/s]"
     ]
    },
    {
     "name": "stderr",
     "output_type": "stream",
     "text": [
      "\rGetting model relationship accuracy:  26%|██▋       | 110/417 [00:04<00:12, 24.24it/s]"
     ]
    },
    {
     "name": "stderr",
     "output_type": "stream",
     "text": [
      "\rGetting model relationship accuracy:  27%|██▋       | 113/417 [00:04<00:12, 24.30it/s]"
     ]
    },
    {
     "name": "stderr",
     "output_type": "stream",
     "text": [
      "\rGetting model relationship accuracy:  28%|██▊       | 116/417 [00:04<00:12, 25.02it/s]"
     ]
    },
    {
     "name": "stderr",
     "output_type": "stream",
     "text": [
      "\rGetting model relationship accuracy:  29%|██▊       | 119/417 [00:05<00:11, 25.48it/s]"
     ]
    },
    {
     "name": "stderr",
     "output_type": "stream",
     "text": [
      "\rGetting model relationship accuracy:  29%|██▉       | 122/417 [00:05<00:11, 26.01it/s]"
     ]
    },
    {
     "name": "stderr",
     "output_type": "stream",
     "text": [
      "\rGetting model relationship accuracy:  30%|██▉       | 125/417 [00:05<00:11, 26.33it/s]"
     ]
    },
    {
     "name": "stderr",
     "output_type": "stream",
     "text": [
      "\rGetting model relationship accuracy:  31%|███       | 128/417 [00:05<00:10, 26.48it/s]"
     ]
    },
    {
     "name": "stderr",
     "output_type": "stream",
     "text": [
      "\rGetting model relationship accuracy:  31%|███▏      | 131/417 [00:05<00:10, 26.81it/s]"
     ]
    },
    {
     "name": "stderr",
     "output_type": "stream",
     "text": [
      "\rGetting model relationship accuracy:  32%|███▏      | 134/417 [00:05<00:10, 26.82it/s]"
     ]
    },
    {
     "name": "stderr",
     "output_type": "stream",
     "text": [
      "\rGetting model relationship accuracy:  33%|███▎      | 137/417 [00:05<00:10, 26.98it/s]"
     ]
    },
    {
     "name": "stderr",
     "output_type": "stream",
     "text": [
      "\rGetting model relationship accuracy:  34%|███▎      | 140/417 [00:05<00:10, 27.01it/s]"
     ]
    },
    {
     "name": "stderr",
     "output_type": "stream",
     "text": [
      "\rGetting model relationship accuracy:  34%|███▍      | 143/417 [00:05<00:10, 26.54it/s]"
     ]
    },
    {
     "name": "stderr",
     "output_type": "stream",
     "text": [
      "\rGetting model relationship accuracy:  35%|███▌      | 146/417 [00:06<00:10, 25.55it/s]"
     ]
    },
    {
     "name": "stderr",
     "output_type": "stream",
     "text": [
      "\rGetting model relationship accuracy:  36%|███▌      | 149/417 [00:06<00:10, 24.71it/s]"
     ]
    },
    {
     "name": "stderr",
     "output_type": "stream",
     "text": [
      "\rGetting model relationship accuracy:  36%|███▋      | 152/417 [00:06<00:10, 25.32it/s]"
     ]
    },
    {
     "name": "stderr",
     "output_type": "stream",
     "text": [
      "\rGetting model relationship accuracy:  37%|███▋      | 155/417 [00:06<00:10, 25.56it/s]"
     ]
    },
    {
     "name": "stderr",
     "output_type": "stream",
     "text": [
      "\rGetting model relationship accuracy:  38%|███▊      | 158/417 [00:06<00:10, 24.91it/s]"
     ]
    },
    {
     "name": "stderr",
     "output_type": "stream",
     "text": [
      "\rGetting model relationship accuracy:  39%|███▊      | 161/417 [00:07<00:28,  8.85it/s]"
     ]
    },
    {
     "name": "stderr",
     "output_type": "stream",
     "text": [
      "\rGetting model relationship accuracy:  39%|███▉      | 164/417 [00:07<00:23, 10.89it/s]"
     ]
    },
    {
     "name": "stderr",
     "output_type": "stream",
     "text": [
      "\rGetting model relationship accuracy:  40%|████      | 167/417 [00:07<00:19, 13.15it/s]"
     ]
    },
    {
     "name": "stderr",
     "output_type": "stream",
     "text": [
      "\rGetting model relationship accuracy:  41%|████      | 170/417 [00:07<00:16, 15.41it/s]"
     ]
    },
    {
     "name": "stderr",
     "output_type": "stream",
     "text": [
      "\rGetting model relationship accuracy:  41%|████▏     | 173/417 [00:07<00:14, 17.42it/s]"
     ]
    },
    {
     "name": "stderr",
     "output_type": "stream",
     "text": [
      "\rGetting model relationship accuracy:  42%|████▏     | 176/417 [00:08<00:12, 19.33it/s]"
     ]
    },
    {
     "name": "stderr",
     "output_type": "stream",
     "text": [
      "\rGetting model relationship accuracy:  43%|████▎     | 179/417 [00:08<00:11, 21.10it/s]"
     ]
    },
    {
     "name": "stderr",
     "output_type": "stream",
     "text": [
      "\rGetting model relationship accuracy:  44%|████▎     | 182/417 [00:08<00:10, 22.65it/s]"
     ]
    },
    {
     "name": "stderr",
     "output_type": "stream",
     "text": [
      "\rGetting model relationship accuracy:  44%|████▍     | 185/417 [00:08<00:09, 23.94it/s]"
     ]
    },
    {
     "name": "stderr",
     "output_type": "stream",
     "text": [
      "\rGetting model relationship accuracy:  45%|████▌     | 188/417 [00:08<00:09, 24.75it/s]"
     ]
    },
    {
     "name": "stderr",
     "output_type": "stream",
     "text": [
      "\rGetting model relationship accuracy:  46%|████▌     | 191/417 [00:08<00:08, 25.22it/s]"
     ]
    },
    {
     "name": "stderr",
     "output_type": "stream",
     "text": [
      "\rGetting model relationship accuracy:  47%|████▋     | 194/417 [00:08<00:08, 25.89it/s]"
     ]
    },
    {
     "name": "stderr",
     "output_type": "stream",
     "text": [
      "\rGetting model relationship accuracy:  47%|████▋     | 197/417 [00:08<00:08, 25.83it/s]"
     ]
    },
    {
     "name": "stderr",
     "output_type": "stream",
     "text": [
      "\rGetting model relationship accuracy:  48%|████▊     | 200/417 [00:08<00:08, 25.93it/s]"
     ]
    },
    {
     "name": "stderr",
     "output_type": "stream",
     "text": [
      "\rGetting model relationship accuracy:  49%|████▊     | 203/417 [00:09<00:08, 26.00it/s]"
     ]
    },
    {
     "name": "stderr",
     "output_type": "stream",
     "text": [
      "\rGetting model relationship accuracy:  49%|████▉     | 206/417 [00:09<00:08, 26.11it/s]"
     ]
    },
    {
     "name": "stderr",
     "output_type": "stream",
     "text": [
      "\rGetting model relationship accuracy:  50%|█████     | 209/417 [00:09<00:08, 25.14it/s]"
     ]
    },
    {
     "name": "stderr",
     "output_type": "stream",
     "text": [
      "\rGetting model relationship accuracy:  51%|█████     | 212/417 [00:09<00:08, 24.81it/s]"
     ]
    },
    {
     "name": "stderr",
     "output_type": "stream",
     "text": [
      "\rGetting model relationship accuracy:  52%|█████▏    | 215/417 [00:09<00:08, 24.58it/s]"
     ]
    },
    {
     "name": "stderr",
     "output_type": "stream",
     "text": [
      "\rGetting model relationship accuracy:  52%|█████▏    | 218/417 [00:09<00:07, 25.22it/s]"
     ]
    },
    {
     "name": "stderr",
     "output_type": "stream",
     "text": [
      "\rGetting model relationship accuracy:  53%|█████▎    | 221/417 [00:09<00:07, 25.30it/s]"
     ]
    },
    {
     "name": "stderr",
     "output_type": "stream",
     "text": [
      "\rGetting model relationship accuracy:  54%|█████▎    | 224/417 [00:09<00:07, 25.62it/s]"
     ]
    },
    {
     "name": "stderr",
     "output_type": "stream",
     "text": [
      "\rGetting model relationship accuracy:  54%|█████▍    | 227/417 [00:09<00:07, 25.71it/s]"
     ]
    },
    {
     "name": "stderr",
     "output_type": "stream",
     "text": [
      "\rGetting model relationship accuracy:  55%|█████▌    | 230/417 [00:10<00:07, 24.10it/s]"
     ]
    },
    {
     "name": "stderr",
     "output_type": "stream",
     "text": [
      "\rGetting model relationship accuracy:  56%|█████▌    | 233/417 [00:10<00:07, 24.03it/s]"
     ]
    },
    {
     "name": "stderr",
     "output_type": "stream",
     "text": [
      "\rGetting model relationship accuracy:  57%|█████▋    | 236/417 [00:10<00:07, 23.10it/s]"
     ]
    },
    {
     "name": "stderr",
     "output_type": "stream",
     "text": [
      "\rGetting model relationship accuracy:  57%|█████▋    | 239/417 [00:10<00:08, 22.09it/s]"
     ]
    },
    {
     "name": "stderr",
     "output_type": "stream",
     "text": [
      "\rGetting model relationship accuracy:  58%|█████▊    | 242/417 [00:10<00:07, 22.25it/s]"
     ]
    },
    {
     "name": "stderr",
     "output_type": "stream",
     "text": [
      "\rGetting model relationship accuracy:  59%|█████▉    | 245/417 [00:10<00:07, 23.02it/s]"
     ]
    },
    {
     "name": "stderr",
     "output_type": "stream",
     "text": [
      "\rGetting model relationship accuracy:  59%|█████▉    | 248/417 [00:10<00:07, 22.90it/s]"
     ]
    },
    {
     "name": "stderr",
     "output_type": "stream",
     "text": [
      "\rGetting model relationship accuracy:  60%|██████    | 251/417 [00:11<00:06, 23.85it/s]"
     ]
    },
    {
     "name": "stderr",
     "output_type": "stream",
     "text": [
      "\rGetting model relationship accuracy:  61%|██████    | 254/417 [00:11<00:06, 23.41it/s]"
     ]
    },
    {
     "name": "stderr",
     "output_type": "stream",
     "text": [
      "\rGetting model relationship accuracy:  62%|██████▏   | 257/417 [00:11<00:06, 23.11it/s]"
     ]
    },
    {
     "name": "stderr",
     "output_type": "stream",
     "text": [
      "\rGetting model relationship accuracy:  62%|██████▏   | 260/417 [00:11<00:06, 23.07it/s]"
     ]
    },
    {
     "name": "stderr",
     "output_type": "stream",
     "text": [
      "\rGetting model relationship accuracy:  63%|██████▎   | 263/417 [00:11<00:06, 23.09it/s]"
     ]
    },
    {
     "name": "stderr",
     "output_type": "stream",
     "text": [
      "\rGetting model relationship accuracy:  64%|██████▍   | 266/417 [00:11<00:06, 22.79it/s]"
     ]
    },
    {
     "name": "stderr",
     "output_type": "stream",
     "text": [
      "\rGetting model relationship accuracy:  65%|██████▍   | 269/417 [00:11<00:06, 23.00it/s]"
     ]
    },
    {
     "name": "stderr",
     "output_type": "stream",
     "text": [
      "\rGetting model relationship accuracy:  65%|██████▌   | 272/417 [00:11<00:06, 22.47it/s]"
     ]
    },
    {
     "name": "stderr",
     "output_type": "stream",
     "text": [
      "\rGetting model relationship accuracy:  66%|██████▌   | 275/417 [00:12<00:06, 23.19it/s]"
     ]
    },
    {
     "name": "stderr",
     "output_type": "stream",
     "text": [
      "\rGetting model relationship accuracy:  67%|██████▋   | 278/417 [00:12<00:06, 22.45it/s]"
     ]
    },
    {
     "name": "stderr",
     "output_type": "stream",
     "text": [
      "\rGetting model relationship accuracy:  67%|██████▋   | 281/417 [00:12<00:06, 21.40it/s]"
     ]
    },
    {
     "name": "stderr",
     "output_type": "stream",
     "text": [
      "\rGetting model relationship accuracy:  68%|██████▊   | 284/417 [00:12<00:06, 20.97it/s]"
     ]
    },
    {
     "name": "stderr",
     "output_type": "stream",
     "text": [
      "\rGetting model relationship accuracy:  69%|██████▉   | 287/417 [00:12<00:06, 20.65it/s]"
     ]
    },
    {
     "name": "stderr",
     "output_type": "stream",
     "text": [
      "\rGetting model relationship accuracy:  70%|██████▉   | 290/417 [00:12<00:05, 21.20it/s]"
     ]
    },
    {
     "name": "stderr",
     "output_type": "stream",
     "text": [
      "\rGetting model relationship accuracy:  70%|███████   | 293/417 [00:12<00:05, 21.99it/s]"
     ]
    },
    {
     "name": "stderr",
     "output_type": "stream",
     "text": [
      "\rGetting model relationship accuracy:  71%|███████   | 296/417 [00:13<00:05, 22.83it/s]"
     ]
    },
    {
     "name": "stderr",
     "output_type": "stream",
     "text": [
      "\rGetting model relationship accuracy:  72%|███████▏  | 299/417 [00:13<00:05, 23.18it/s]"
     ]
    },
    {
     "name": "stderr",
     "output_type": "stream",
     "text": [
      "\rGetting model relationship accuracy:  72%|███████▏  | 302/417 [00:13<00:04, 23.78it/s]"
     ]
    },
    {
     "name": "stderr",
     "output_type": "stream",
     "text": [
      "\rGetting model relationship accuracy:  73%|███████▎  | 305/417 [00:13<00:04, 23.25it/s]"
     ]
    },
    {
     "name": "stderr",
     "output_type": "stream",
     "text": [
      "\rGetting model relationship accuracy:  74%|███████▍  | 308/417 [00:13<00:04, 23.22it/s]"
     ]
    },
    {
     "name": "stderr",
     "output_type": "stream",
     "text": [
      "\rGetting model relationship accuracy:  75%|███████▍  | 311/417 [00:13<00:04, 23.41it/s]"
     ]
    },
    {
     "name": "stderr",
     "output_type": "stream",
     "text": [
      "\rGetting model relationship accuracy:  75%|███████▌  | 314/417 [00:13<00:04, 23.77it/s]"
     ]
    },
    {
     "name": "stderr",
     "output_type": "stream",
     "text": [
      "\rGetting model relationship accuracy:  76%|███████▌  | 317/417 [00:13<00:04, 23.92it/s]"
     ]
    },
    {
     "name": "stderr",
     "output_type": "stream",
     "text": [
      "\rGetting model relationship accuracy:  77%|███████▋  | 320/417 [00:14<00:04, 23.90it/s]"
     ]
    },
    {
     "name": "stderr",
     "output_type": "stream",
     "text": [
      "\rGetting model relationship accuracy:  77%|███████▋  | 323/417 [00:14<00:03, 24.54it/s]"
     ]
    },
    {
     "name": "stderr",
     "output_type": "stream",
     "text": [
      "\rGetting model relationship accuracy:  78%|███████▊  | 326/417 [00:14<00:03, 25.19it/s]"
     ]
    },
    {
     "name": "stderr",
     "output_type": "stream",
     "text": [
      "\rGetting model relationship accuracy:  79%|███████▉  | 329/417 [00:14<00:03, 25.73it/s]"
     ]
    },
    {
     "name": "stderr",
     "output_type": "stream",
     "text": [
      "\rGetting model relationship accuracy:  80%|███████▉  | 332/417 [00:14<00:03, 26.13it/s]"
     ]
    },
    {
     "name": "stderr",
     "output_type": "stream",
     "text": [
      "\rGetting model relationship accuracy:  80%|████████  | 335/417 [00:14<00:03, 26.48it/s]"
     ]
    },
    {
     "name": "stderr",
     "output_type": "stream",
     "text": [
      "\rGetting model relationship accuracy:  81%|████████  | 338/417 [00:14<00:02, 26.45it/s]"
     ]
    },
    {
     "name": "stderr",
     "output_type": "stream",
     "text": [
      "\rGetting model relationship accuracy:  82%|████████▏ | 341/417 [00:14<00:02, 26.43it/s]"
     ]
    },
    {
     "name": "stderr",
     "output_type": "stream",
     "text": [
      "\rGetting model relationship accuracy:  82%|████████▏ | 344/417 [00:14<00:02, 26.35it/s]"
     ]
    },
    {
     "name": "stderr",
     "output_type": "stream",
     "text": [
      "\rGetting model relationship accuracy:  83%|████████▎ | 347/417 [00:15<00:02, 26.57it/s]"
     ]
    },
    {
     "name": "stderr",
     "output_type": "stream",
     "text": [
      "\rGetting model relationship accuracy:  84%|████████▍ | 350/417 [00:15<00:02, 26.87it/s]"
     ]
    },
    {
     "name": "stderr",
     "output_type": "stream",
     "text": [
      "\rGetting model relationship accuracy:  85%|████████▍ | 353/417 [00:15<00:02, 26.65it/s]"
     ]
    },
    {
     "name": "stderr",
     "output_type": "stream",
     "text": [
      "\rGetting model relationship accuracy:  85%|████████▌ | 356/417 [00:15<00:02, 26.02it/s]"
     ]
    },
    {
     "name": "stderr",
     "output_type": "stream",
     "text": [
      "\rGetting model relationship accuracy:  86%|████████▌ | 359/417 [00:15<00:02, 26.27it/s]"
     ]
    },
    {
     "name": "stderr",
     "output_type": "stream",
     "text": [
      "\rGetting model relationship accuracy:  87%|████████▋ | 362/417 [00:15<00:02, 25.83it/s]"
     ]
    },
    {
     "name": "stderr",
     "output_type": "stream",
     "text": [
      "\rGetting model relationship accuracy:  88%|████████▊ | 365/417 [00:15<00:01, 26.13it/s]"
     ]
    },
    {
     "name": "stderr",
     "output_type": "stream",
     "text": [
      "\rGetting model relationship accuracy:  88%|████████▊ | 368/417 [00:15<00:01, 26.27it/s]"
     ]
    },
    {
     "name": "stderr",
     "output_type": "stream",
     "text": [
      "\rGetting model relationship accuracy:  89%|████████▉ | 371/417 [00:15<00:01, 26.52it/s]"
     ]
    },
    {
     "name": "stderr",
     "output_type": "stream",
     "text": [
      "\rGetting model relationship accuracy:  90%|████████▉ | 374/417 [00:16<00:01, 26.55it/s]"
     ]
    },
    {
     "name": "stderr",
     "output_type": "stream",
     "text": [
      "\rGetting model relationship accuracy:  90%|█████████ | 377/417 [00:16<00:01, 26.50it/s]"
     ]
    },
    {
     "name": "stderr",
     "output_type": "stream",
     "text": [
      "\rGetting model relationship accuracy:  91%|█████████ | 380/417 [00:16<00:01, 26.75it/s]"
     ]
    },
    {
     "name": "stderr",
     "output_type": "stream",
     "text": [
      "\rGetting model relationship accuracy:  92%|█████████▏| 383/417 [00:16<00:01, 26.78it/s]"
     ]
    },
    {
     "name": "stderr",
     "output_type": "stream",
     "text": [
      "\rGetting model relationship accuracy:  93%|█████████▎| 386/417 [00:16<00:01, 26.95it/s]"
     ]
    },
    {
     "name": "stderr",
     "output_type": "stream",
     "text": [
      "\rGetting model relationship accuracy:  93%|█████████▎| 389/417 [00:16<00:01, 26.99it/s]"
     ]
    },
    {
     "name": "stderr",
     "output_type": "stream",
     "text": [
      "\rGetting model relationship accuracy:  94%|█████████▍| 392/417 [00:16<00:00, 27.10it/s]"
     ]
    },
    {
     "name": "stderr",
     "output_type": "stream",
     "text": [
      "\rGetting model relationship accuracy:  95%|█████████▍| 395/417 [00:16<00:00, 26.95it/s]"
     ]
    },
    {
     "name": "stderr",
     "output_type": "stream",
     "text": [
      "\rGetting model relationship accuracy:  95%|█████████▌| 398/417 [00:16<00:00, 26.92it/s]"
     ]
    },
    {
     "name": "stderr",
     "output_type": "stream",
     "text": [
      "\rGetting model relationship accuracy:  96%|█████████▌| 401/417 [00:17<00:00, 26.69it/s]"
     ]
    },
    {
     "name": "stderr",
     "output_type": "stream",
     "text": [
      "\rGetting model relationship accuracy:  97%|█████████▋| 404/417 [00:17<00:00, 26.53it/s]"
     ]
    },
    {
     "name": "stderr",
     "output_type": "stream",
     "text": [
      "\rGetting model relationship accuracy:  98%|█████████▊| 407/417 [00:17<00:00, 26.63it/s]"
     ]
    },
    {
     "name": "stderr",
     "output_type": "stream",
     "text": [
      "\rGetting model relationship accuracy:  98%|█████████▊| 410/417 [00:17<00:00, 26.69it/s]"
     ]
    },
    {
     "name": "stderr",
     "output_type": "stream",
     "text": [
      "\rGetting model relationship accuracy:  99%|█████████▉| 413/417 [00:17<00:00, 26.67it/s]"
     ]
    },
    {
     "name": "stderr",
     "output_type": "stream",
     "text": [
      "\rGetting model relationship accuracy: 100%|█████████▉| 416/417 [00:17<00:00, 26.66it/s]"
     ]
    },
    {
     "name": "stderr",
     "output_type": "stream",
     "text": [
      "\rGetting model relationship accuracy: 100%|██████████| 417/417 [00:17<00:00, 23.57it/s]"
     ]
    },
    {
     "name": "stdout",
     "output_type": "stream",
     "text": [
      "==== Final Model Scores =======\n{'subj': 0.8672220775839625, 'verb': 0.314611233260044, 'dobj': 0.4699812382739212, 'pobj': 0.5666666666666667}\n{'subj': 0.7073678729497527, 'verb': 0.1643014191485109, 'dobj': 0.15384615384615385, 'pobj': 0.2719135802469136}\n{'subj': 3, 'verb': 0, 'dobj': 1, 'pobj': 1}\n"
     ]
    },
    {
     "name": "stderr",
     "output_type": "stream",
     "text": [
      "\n"
     ]
    }
   ],
   "source": [
    "\n",
    "# for i, batch in enumerate(data.val_iter):\n",
    "#     text_sents = [' '.join([model.index[model.generated_v].itos[w] \n",
    "#                             for w in s]).replace(' <pad>', '').replace(' <eos>', '')\n",
    "#                   for s in batch.text[:, 1:]]\n",
    "#     # Getting relations' positions\n",
    "#     rel_idx = shallow_dependencies(text_sents)\n",
    "#     for r, t in zip(rel_idx, text_sents):\n",
    "#         # if r['idx']['verb'][0] > 10:\n",
    "#         print(r, t)\n",
    "#     if i>10: break\n",
    "lv_scores = []\n",
    "for lv in range(sum(h_params.n_latents)):\n",
    "    found = {'subj':[], 'verb':[], 'dobj':[], 'pobj':[]}\n",
    "    for att, rel_pos in zip(att_maxes, rel_idx):\n",
    "        for k in found.keys():\n",
    "            if len(rel_pos[k]):\n",
    "                found[k].append(att[lv] in rel_pos[k])\n",
    "    lv_scores.append(found)\n",
    "\n",
    "baseline = []\n",
    "for k in ['subj', 'verb', 'dobj', 'pobj']:\n",
    "    all_pos = []\n",
    "    for pos in rel_idx:\n",
    "        all_pos.extend(pos[k])\n",
    "    baseline.append(np.median(all_pos))\n",
    "print(baseline)\n",
    "\n",
    "baseline_scores = []\n",
    "for lv in range(4):\n",
    "    found = {'subj':[], 'verb':[], 'dobj':[], 'pobj':[]}\n",
    "    for rel_pos in rel_idx:\n",
    "        for k in found.keys():\n",
    "            if len(rel_pos[k]):\n",
    "                found[k].append(baseline[lv] in rel_pos[k])\n",
    "    baseline_scores.append(found)\n",
    "            \n",
    "\n",
    "# found = {'subj':[], 'verb':[], 'dobj':[], 'pobj':[]}\n",
    "# for att, rel_pos in zip(att_maxes, rel_idx):\n",
    "#     for k in found.keys():\n",
    "#         if len(rel_pos[k]):\n",
    "#             found[k].append(att[lv][layer] in rel_pos[k])\n"
   ]
  },
  {
   "cell_type": "code",
   "execution_count": 167,
   "metadata": {
    "collapsed": false
   },
   "outputs": [
    {
     "name": "stdout",
     "output_type": "stream",
     "text": [
      "========our Model ========\nScores for lv 0, layer 0:\n{'subj': 0.15490757615204373, 'verb': 0.31960823505896463, 'dobj': 0.3058161350844278, 'pobj': 0.22777777777777777}\nScores for lv 1, layer 0:\n{'subj': 0.03827128351991669, 'verb': 0.04797121726963822, 'dobj': 0.44934333958724204, 'pobj': 0.5645061728395062}\nScores for lv 2, layer 0:\n{'subj': 0.0036448841447539702, 'verb': 0.005996402158704777, 'dobj': 0.19277673545966229, 'pobj': 0.3021604938271605}\nScores for lv 3, layer 0:\n{'subj': 0.8646185889091382, 'verb': 0.15630621627023786, 'dobj': 0.00046904315196998124, 'pobj': 0.0015432098765432098}\n==== Final Scores =======\n{'subj': 0.8646185889091382, 'verb': 0.31960823505896463, 'dobj': 0.44934333958724204, 'pobj': 0.5645061728395062}\n{'subj': 0.7097110127570945, 'verb': 0.16330201878872677, 'dobj': 0.14352720450281425, 'pobj': 0.26234567901234573}\n{'subj': 3, 'verb': 0, 'dobj': 1, 'pobj': 1}\n========our baseline ========\nScores for lv 0, layer 0:\n{'subj': 0.8838844051028378, 'verb': 0.17409554267439536, 'dobj': 0.001876172607879925, 'pobj': 0.002777777777777778}\nScores for lv 1, layer 0:\n{'subj': 0.1780786253579797, 'verb': 0.2988207075754547, 'dobj': 0.2969043151969981, 'pobj': 0.21203703703703702}\nScores for lv 2, layer 0:\n{'subj': 0.05701640197865139, 'verb': 0.05276833899660204, 'dobj': 0.4629455909943715, 'pobj': 0.512962962962963}\nScores for lv 3, layer 0:\n{'subj': 0.028117677688102055, 'verb': 0.033379972016789924, 'dobj': 0.33911819887429645, 'pobj': 0.4648148148148148}\n==== Final Scores =======\n{'subj': 0.8838844051028378, 'verb': 0.2988207075754547, 'dobj': 0.4629455909943715, 'pobj': 0.512962962962963}\n{'subj': 0.7058057797448581, 'verb': 0.12472516490105934, 'dobj': 0.12382739212007504, 'pobj': 0.04814814814814816}\n{'subj': 0, 'verb': 1, 'dobj': 2, 'pobj': 2}\n"
     ]
    }
   ],
   "source": [
    "print(\"========our Model ========\")\n",
    "Enc_att_scores = {'subj':[], 'verb':[], 'dobj':[], 'pobj':[]}\n",
    "for lv in range(sum(h_params.n_latents)):\n",
    "    for layer in range(1):#h_params.encoder_l):\n",
    "        print(\"Scores for lv {}, layer {}:\".format(lv, layer))\n",
    "        print({k:np.mean(v)for k, v in lv_scores[lv].items()})\n",
    "        for k, v in lv_scores[lv].items():\n",
    "            Enc_att_scores[k].append(np.mean(v))\n",
    "print(\"==== Final Scores =======\")\n",
    "enc_max_score = {}\n",
    "enc_disent_score = {}\n",
    "enc_disent_vars = {}\n",
    "for k, v in Enc_att_scores.items():\n",
    "    sort_idx = np.argsort(v) \n",
    "    enc_disent_vars[k] = sort_idx[-1]\n",
    "    enc_disent_score[k] = v[sort_idx[-1]] - v[sort_idx[-2]]\n",
    "    enc_max_score[k] = v[sort_idx[-1]]\n",
    "print(enc_max_score)\n",
    "print(enc_disent_score)\n",
    "print(enc_disent_vars)\n",
    "print(\"========our baseline ========\")\n",
    "\n",
    "baseline_enc_att_scores = {'subj':[], 'verb':[], 'dobj':[], 'pobj':[]}\n",
    "for lv in range(sum(h_params.n_latents)):\n",
    "    for layer in range(1):#h_params.encoder_l):\n",
    "        print(\"Scores for lv {}, layer {}:\".format(lv, layer))\n",
    "        print({k:np.mean(v)for k, v in baseline_scores[lv].items()})\n",
    "        for k, v in baseline_scores[lv].items():\n",
    "            baseline_enc_att_scores[k].append(np.mean(v))\n",
    "print(\"==== Final Scores =======\")\n",
    "enc_max_score = {}\n",
    "enc_disent_score = {}\n",
    "enc_disent_vars = {}\n",
    "for k, v in baseline_enc_att_scores.items():\n",
    "    sort_idx = np.argsort(v) \n",
    "    enc_disent_vars[k] = sort_idx[-1]\n",
    "    enc_disent_score[k] = v[sort_idx[-1]] - v[sort_idx[-2]]\n",
    "    enc_max_score[k] = v[sort_idx[-1]]\n",
    "print(enc_max_score)\n",
    "print(enc_disent_score)\n",
    "print(enc_disent_vars)"
   ]
  },
  {
   "cell_type": "code",
   "execution_count": 7,
   "metadata": {
    "collapsed": true
   },
   "outputs": [],
   "source": [
    ""
   ]
  },
  {
   "cell_type": "code",
   "execution_count": 13,
   "metadata": {
    "collapsed": true
   },
   "outputs": [
    {
     "name": "stdout",
     "output_type": "stream",
     "text": [
      "[{'subj': 'A man in a yellow jacket', 'verb': 'is going', 'np': '', 'pp': ' to the beach'}, {'subj': 'a man', 'verb': 'is running', 'np': '', 'pp': ' on a beach'}]\n((True, False), (True, False), (False, False), (True, False), True, False)\n"
     ]
    }
   ],
   "source": [
    ""
   ]
  },
  {
   "cell_type": "code",
   "execution_count": 14,
   "metadata": {
    "collapsed": true
   },
   "outputs": [
    {
     "name": "stdout",
     "output_type": "stream",
     "text": [
      "dict_keys(['class_probabilities', 'spans', 'tokens', 'pos_tags', 'num_spans', 'hierplane_tree', 'trees'])\n"
     ]
    }
   ],
   "source": [
    ""
   ]
  },
  {
   "cell_type": "code",
   "execution_count": 15,
   "metadata": {
    "collapsed": true
   },
   "outputs": [
    {
     "name": "stdout",
     "output_type": "stream",
     "text": [
      "[[0, 0], [0, 1], [0, 2], [0, 3], [0, 4], [0, 5], [0, 6], [0, 7], [0, 8], [0, 9], [0, 10], [1, 1], [1, 2], [1, 3], [1, 4], [1, 5], [1, 6], [1, 7], [1, 8], [1, 9], [1, 10], [2, 2], [2, 3], [2, 4], [2, 5], [2, 6], [2, 7], [2, 8], [2, 9], [2, 10], [3, 3], [3, 4], [3, 5], [3, 6], [3, 7], [3, 8], [3, 9], [3, 10], [4, 4], [4, 5], [4, 6], [4, 7], [4, 8], [4, 9], [4, 10], [5, 5], [5, 6], [5, 7], [5, 8], [5, 9], [5, 10], [6, 6], [6, 7], [6, 8], [6, 9], [6, 10], [7, 7], [7, 8], [7, 9], [7, 10], [8, 8], [8, 9], [8, 10], [9, 9], [9, 10], [10, 10]]\n['A', 'man', 'in', 'a', 'yellow', 'jacket', 'is', 'going', 'to', 'the', 'beach']\n(S (NP (NP (DT A) (NN man)) (PP (IN in) (NP (DT a) (JJ yellow) (NN jacket)))) (VP (VBZ is) (VP (VBG going) (PP (IN to) (NP (DT the) (NN beach))))))\n"
     ]
    }
   ],
   "source": [
    ""
   ]
  },
  {
   "cell_type": "code",
   "execution_count": null,
   "metadata": {
    "collapsed": true
   },
   "outputs": [
    {
     "name": "stdout",
     "output_type": "stream",
     "text": [
      "[['a man in a yellow jacket', [0, 1, 2, 3, 4, 5]]] ['throwing', [7]] [['a ball and a towel in the beach', [8, 9, 10, 11, 12, 13, 14, 15]]] [['a yellow jacket', [3, 4, 5]]]\n"
     ]
    }
   ],
   "source": [
    ""
   ]
  },
  {
   "cell_type": "code",
   "execution_count": null,
   "metadata": {
    "collapsed": true
   },
   "outputs": [
    {
     "name": "stdout",
     "output_type": "stream",
     "text": [
      "[['a man in a yellow jacket', [0, 1, 2, 3, 4, 5]]] ['throwing', [7]] [['a ball and a towel in the beach', [8, 9, 10, 11, 12, 13, 14, 15]]] [['a yellow jacket', [3, 4, 5]]]\n"
     ]
    }
   ],
   "source": [
    ""
   ]
  },
  {
   "cell_type": "code",
   "execution_count": 34,
   "metadata": {
    "collapsed": true
   },
   "outputs": [
    {
     "name": "stdout",
     "output_type": "stream",
     "text": [
      "[['a man in a yellow jacket', [0, 1, 2, 3, 4, 5]]] ['throwing', [7]] [['a ball and a towel in the beach', [8, 9, 10, 11, 12, 13, 14, 15]]] [['a yellow jacket', [3, 4, 5]]]\n"
     ]
    }
   ],
   "source": [
    ""
   ]
  },
  {
   "cell_type": "code",
   "execution_count": null,
   "metadata": {},
   "outputs": [],
   "source": []
  }
 ],
 "metadata": {
  "kernelspec": {
   "display_name": "Python 2",
   "language": "python",
   "name": "python2"
  },
  "language_info": {
   "codemirror_mode": {
    "name": "ipython",
    "version": 2
   },
   "file_extension": ".py",
   "mimetype": "text/x-python",
   "name": "python",
   "nbconvert_exporter": "python",
   "pygments_lexer": "ipython2",
   "version": "2.7.6"
  }
 },
 "nbformat": 4,
 "nbformat_minor": 0
}
