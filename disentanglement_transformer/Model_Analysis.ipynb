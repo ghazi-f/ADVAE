{
 "cells": [
  {
   "cell_type": "code",
   "execution_count": 1,
   "metadata": {
    "collapsed": false
   },
   "outputs": [
    {
     "name": "stdout",
     "output_type": "stream",
     "text": [
      "E:\\Experiments\\GLUE_BENCH\n"
     ]
    },
    {
     "name": "stderr",
     "output_type": "stream",
     "text": [
      "E:\\ProgramData\\Anaconda3\\lib\\site-packages\\spacy\\util.py:275: UserWarning: [W031] Model 'en_core_web_sm' (2.2.0) requires spaCy v2.2 and is incompatible with the current spaCy version (2.3.2). This may lead to unexpected results or runtime errors. To resolve this, download a newer compatible model or retrain your custom model with the current spaCy version. For more details and available updates, run: python -m spacy validate\n  warnings.warn(warn_msg)\n"
     ]
    },
    {
     "name": "stderr",
     "output_type": "stream",
     "text": [
      "error loading _jsonnet (this is expected on Windows), treating C:\\Users\\ghazy\\AppData\\Local\\Temp\\tmp252fivzm\\config.json as plain json\n"
     ]
    },
    {
     "name": "stdout",
     "output_type": "stream",
     "text": [
      "Mean length:  8.900745464443235  Quantiles .25, 0.5, 0.7, and 0.9 : [ 7.  8. 10. 13. 14. 15.]\nMean length:  8.920423872838148  Quantiles .25, 0.5, 0.7, and 0.9 : [ 7.  9. 10. 13. 14. 15.]\n"
     ]
    },
    {
     "name": "stdout",
     "output_type": "stream",
     "text": [
      "Mean length:  8.920423872838148  Quantiles .25, 0.5, 0.7, and 0.9 : [ 7.  9. 10. 13. 14. 15.]\n"
     ]
    },
    {
     "name": "stdout",
     "output_type": "stream",
     "text": [
      "Words:  11895 , On device:  cuda\nLoss Type:  VAE\n"
     ]
    },
    {
     "name": "stdout",
     "output_type": "stream",
     "text": [
      "Loaded model at step 25936\nUnsupervised training examples:  90112\nNumber of parameters:  03.77 M\nInference parameters:  02.21 M\nGeneration parameters:  03.08 M\nEmbedding parameters:  01.52 M\n"
     ]
    }
   ],
   "source": [
    "# This file will implement the main training loop for a model\n",
    "# Model 1\n",
    "from time import time\n",
    "import sys\n",
    "import os\n",
    "import argparse\n",
    "# os.chdir('..')\n",
    "print(os.getcwd())\n",
    "#sys.path.append('../..')\n",
    "\n",
    "from torch import device\n",
    "import torch\n",
    "from torch import optim\n",
    "import numpy as np\n",
    "\n",
    "from data_prep import NLIGenData2 as Data\n",
    "from disentanglement_transformer.models import DisentanglementTransformerVAE as Model\n",
    "from disentanglement_transformer.h_params import DefaultTransformerHParams as HParams\n",
    "from disentanglement_transformer.graphs import *\n",
    "from disentanglement_transformer.graphs import get_structured_auto_regressive_graph\n",
    "from components.criteria import *\n",
    "parser = argparse.ArgumentParser()\n",
    "\n",
    "# Training and Optimization\n",
    "parser.add_argument(\"--test_name\", default='nliLM/StructuredAutoreg5', type=str)\n",
    "parser.add_argument(\"--max_len\", default=17, type=int)\n",
    "parser.add_argument(\"--batch_size\", default=128, type=int)\n",
    "parser.add_argument(\"--grad_accu\", default=1, type=int)\n",
    "parser.add_argument(\"--n_epochs\", default=10000, type=int)\n",
    "parser.add_argument(\"--test_freq\", default=32, type=int)\n",
    "parser.add_argument(\"--complete_test_freq\", default=160, type=int)\n",
    "parser.add_argument(\"--generation_weight\", default=1, type=float)\n",
    "parser.add_argument(\"--device\", default='cuda:0', choices=[\"cuda:0\", \"cuda:1\", \"cuda:2\", \"cpu\"], type=str)\n",
    "parser.add_argument(\"--embedding_dim\", default=128, type=int)#################\"\n",
    "parser.add_argument(\"--z_size\", default=768, type=int)#################\"\n",
    "parser.add_argument(\"--n_latents\", default=[16, 16, 16], type=int)#################\"\n",
    "parser.add_argument(\"--text_rep_l\", default=2, type=int)\n",
    "parser.add_argument(\"--text_rep_h\", default=768, type=int)\n",
    "parser.add_argument(\"--encoder_h\", default=768, type=int)#################\"\n",
    "parser.add_argument(\"--encoder_l\", default=2, type=int)#################\"\n",
    "parser.add_argument(\"--decoder_h\", default=768, type=int)\n",
    "parser.add_argument(\"--decoder_l\", default=3, type=int)#################\"\n",
    "parser.add_argument(\"--highway\", default=False, type=bool)\n",
    "parser.add_argument(\"--markovian\", default=True, type=bool)\n",
    "parser.add_argument(\"--losses\", default='VAE', choices=[\"VAE\", \"IWAE\"], type=str)\n",
    "parser.add_argument(\"--training_iw_samples\", default=5, type=int)\n",
    "parser.add_argument(\"--testing_iw_samples\", default=20, type=int)\n",
    "parser.add_argument(\"--test_prior_samples\", default=10, type=int)\n",
    "parser.add_argument(\"--anneal_kl0\", default=2000, type=int)\n",
    "parser.add_argument(\"--anneal_kl1\", default=4000, type=int)\n",
    "parser.add_argument(\"--grad_clip\", default=100., type=float)\n",
    "parser.add_argument(\"--kl_th\", default=0/(768*3), type=float or None)\n",
    "parser.add_argument(\"--dropout\", default=0.0, type=float)\n",
    "parser.add_argument(\"--word_dropout\", default=.0, type=float)\n",
    "parser.add_argument(\"--l2_reg\", default=0, type=float)\n",
    "parser.add_argument(\"--lr\", default=2e-4, type=float)\n",
    "parser.add_argument(\"--lr_reduction\", default=4., type=float)\n",
    "parser.add_argument(\"--wait_epochs\", default=3, type=float)\n",
    "parser.add_argument(\"--save_all\", default=True, type=bool)\n",
    "\n",
    "flags, _ = parser.parse_known_args()\n",
    "\n",
    "# torch.autograd.set_detect_anomaly(True)\n",
    "MAX_LEN = flags.max_len\n",
    "BATCH_SIZE = flags.batch_size\n",
    "GRAD_ACCU = flags.grad_accu\n",
    "N_EPOCHS = flags.n_epochs\n",
    "TEST_FREQ = flags.test_freq\n",
    "COMPLETE_TEST_FREQ = flags.complete_test_freq\n",
    "DEVICE = device(flags.device)\n",
    "# This prevents illegal memory access on multigpu machines (unresolved issue on torch's github)\n",
    "if flags.device.startswith('cuda'):\n",
    "    torch.cuda.set_device(int(flags.device[-1]))\n",
    "LOSSES = {'IWAE': [IWLBo],\n",
    "          'VAE': [ELBo]}[flags.losses]\n",
    "#  LOSSES = [IWLBo]\n",
    "ANNEAL_KL = [flags.anneal_kl0*flags.grad_accu, flags.anneal_kl1*flags.grad_accu]\n",
    "LOSS_PARAMS = [1]\n",
    "if flags.grad_accu > 1:\n",
    "    LOSS_PARAMS = [w/flags.grad_accu for w in LOSS_PARAMS]\n",
    "\n",
    "data = Data(MAX_LEN, BATCH_SIZE, N_EPOCHS, DEVICE, False)\n",
    "h_params = HParams(len(data.vocab.itos), len(data.tags.itos), MAX_LEN, BATCH_SIZE, N_EPOCHS,\n",
    "                   device=DEVICE, vocab_ignore_index=data.vocab.stoi['<pad>'], decoder_h=flags.decoder_h,\n",
    "                   decoder_l=flags.decoder_l, encoder_h=flags.encoder_h, encoder_l=flags.encoder_l,\n",
    "                   text_rep_h=flags.text_rep_h, text_rep_l=flags.text_rep_l,\n",
    "                   test_name=flags.test_name, grad_accumulation_steps=GRAD_ACCU,\n",
    "                   optimizer_kwargs={'lr': flags.lr, #'weight_decay': flags.l2_reg, 't0':100, 'lambd':0.},\n",
    "                                     'weight_decay': flags.l2_reg, 'betas': (0.9, 0.85)},\n",
    "                   is_weighted=[], graph_generator=get_structured_auto_regressive_graph,\n",
    "                   z_size=flags.z_size, embedding_dim=flags.embedding_dim, anneal_kl=ANNEAL_KL,\n",
    "                   grad_clip=flags.grad_clip*flags.grad_accu, kl_th=flags.kl_th, highway=flags.highway,\n",
    "                   losses=LOSSES, dropout=flags.dropout, training_iw_samples=flags.training_iw_samples,\n",
    "                   testing_iw_samples=flags.testing_iw_samples, loss_params=LOSS_PARAMS, optimizer=optim.AdamW,\n",
    "                   markovian=flags.markovian, word_dropout=flags.word_dropout, contiguous_lm=False,\n",
    "                   test_prior_samples=flags.test_prior_samples, n_latents=flags.n_latents)\n",
    "val_iterator = iter(data.val_iter)\n",
    "print(\"Words: \", len(data.vocab.itos), \", On device: \", DEVICE.type)\n",
    "print(\"Loss Type: \", flags.losses)\n",
    "model = Model(data.vocab, data.tags, h_params, wvs=data.wvs)\n",
    "if DEVICE.type == 'cuda':\n",
    "    model.cuda(DEVICE)\n",
    "\n",
    "total_unsupervised_train_samples = len(data.train_iter)*BATCH_SIZE\n",
    "print(\"Unsupervised training examples: \", total_unsupervised_train_samples)\n",
    "current_time = time()\n",
    "#print(model)\n",
    "number_parameters = sum(p.numel() for p in model.parameters() if p.requires_grad)\n",
    "print(\"Number of parameters: \", \"{0:05.2f} M\".format(number_parameters/1e6))\n",
    "number_parameters = sum(p.numel() for p in model.infer_bn.parameters() if p.requires_grad)\n",
    "print(\"Inference parameters: \", \"{0:05.2f} M\".format(number_parameters/1e6))\n",
    "number_parameters = sum(p.numel() for p in model.gen_bn.parameters() if p.requires_grad)\n",
    "print(\"Generation parameters: \", \"{0:05.2f} M\".format(number_parameters/1e6))\n",
    "number_parameters = sum(p.numel() for p in model.word_embeddings.parameters() if p.requires_grad)\n",
    "print(\"Embedding parameters: \", \"{0:05.2f} M\".format(number_parameters/1e6))\n"
   ]
  },
  {
   "cell_type": "code",
   "execution_count": null,
   "metadata": {},
   "outputs": [
    {
     "name": "stdout",
     "output_type": "stream",
     "text": [
      "E:\\Experiments\\GLUE_BENCH\n"
     ]
    },
    {
     "name": "stdout",
     "output_type": "stream",
     "text": [
      "Mean length:  8.900745464443235  Quantiles .25, 0.5, 0.7, and 0.9 : [ 7.  8. 10. 13. 14. 15.]\n"
     ]
    },
    {
     "name": "stdout",
     "output_type": "stream",
     "text": [
      "Mean length:  8.920423872838148  Quantiles .25, 0.5, 0.7, and 0.9 : [ 7.  9. 10. 13. 14. 15.]\nMean length:  8.920423872838148  Quantiles .25, 0.5, 0.7, and 0.9 : [ 7.  9. 10. 13. 14. 15.]\n"
     ]
    },
    {
     "name": "stdout",
     "output_type": "stream",
     "text": [
      "Words:  11895 , On device:  cuda\nLoss Type:  VAE\n"
     ]
    },
    {
     "name": "stdout",
     "output_type": "stream",
     "text": [
      "Loaded model at step 116781\nUnsupervised training examples:  90048\nNumber of parameters:  13.13 M\nInference parameters:  06.42 M\nGeneration parameters:  10.28 M\nEmbedding parameters:  03.57 M\n"
     ]
    }
   ],
   "source": [
    "# Model 2\n",
    "import sys\n",
    "import os\n",
    "import argparse\n",
    "print(os.getcwd())\n",
    "#sys.path.append('../..')\n",
    "# os.chdir('../..')\n",
    "\n",
    "from torch import device\n",
    "import torch\n",
    "from torch import optim\n",
    "import numpy as np\n",
    "\n",
    "from data_prep import NLIGenData2 as Data\n",
    "from disentanglement_transformer.models import DisentanglementTransformerVAE as Model\n",
    "from disentanglement_transformer.h_params import DefaultTransformerHParams as HParams\n",
    "from disentanglement_transformer.graphs import *\n",
    "from components.criteria import *\n",
    "parser = argparse.ArgumentParser()\n",
    "\n",
    "# Training and Optimization\n",
    "# k, kz =1, 10\n",
    "# parser.add_argument(\"--test_name\", default='unnamed', type=str)\n",
    "# parser.add_argument(\"--max_len\", default=20, type=int)\n",
    "# parser.add_argument(\"--batch_size\", default=512, type=int)\n",
    "# parser.add_argument(\"--grad_accu\", default=1, type=int)\n",
    "# parser.add_argument(\"--n_epochs\", default=10000, type=int)\n",
    "# parser.add_argument(\"--test_freq\", default=32, type=int)\n",
    "# parser.add_argument(\"--complete_test_freq\", default=32, type=int)\n",
    "# parser.add_argument(\"--generation_weight\", default=1, type=float)\n",
    "# parser.add_argument(\"--device\", default='cuda:0', choices=[\"cuda:0\", \"cuda:1\", \"cuda:2\", \"cpu\"], type=str)\n",
    "# parser.add_argument(\"--embedding_dim\", default=300, type=int)#################\"\n",
    "# parser.add_argument(\"--pretrained_embeddings\", default=True, type=bool)#################\"\n",
    "# parser.add_argument(\"--z_size\", default=768*kz, type=int)#################\"\n",
    "# parser.add_argument(\"--z_emb_dim\", default=768*k, type=int)#################\"\n",
    "# parser.add_argument(\"--n_latents\", default=[16, 16, 16], type=list)#################\"\n",
    "# parser.add_argument(\"--text_rep_l\", default=2, type=int)\n",
    "# parser.add_argument(\"--text_rep_h\", default=768*k, type=int)\n",
    "# parser.add_argument(\"--encoder_h\", default=768*k, type=int)#################\"\n",
    "# parser.add_argument(\"--encoder_l\", default=2, type=int)#################\"\n",
    "# parser.add_argument(\"--decoder_h\", default=768*k, type=int)\n",
    "# parser.add_argument(\"--decoder_l\", default=2, type=int)#################\"\n",
    "# parser.add_argument(\"--highway\", default=False, type=bool)\n",
    "# parser.add_argument(\"--markovian\", default=True, type=bool)\n",
    "# parser.add_argument(\"--losses\", default='VAE', choices=[\"VAE\", \"IWAE\"], type=str)\n",
    "# parser.add_argument(\"--graph\", default='Discrete', choices=[\"Discrete\", \"Normal\"], type=str)\n",
    "# parser.add_argument(\"--training_iw_samples\", default=5, type=int)\n",
    "# parser.add_argument(\"--testing_iw_samples\", default=20, type=int)\n",
    "# parser.add_argument(\"--test_prior_samples\", default=10, type=int)\n",
    "# parser.add_argument(\"--anneal_kl0\", default=3000, type=int)\n",
    "# parser.add_argument(\"--anneal_kl1\", default=6000, type=int)\n",
    "# parser.add_argument(\"--grad_clip\", default=10., type=float)\n",
    "# parser.add_argument(\"--kl_th\", default=0*12/(1536*28/16), type=float or None)\n",
    "# parser.add_argument(\"--dropout\", default=0.0, type=float)\n",
    "# parser.add_argument(\"--word_dropout\", default=.0, type=float)\n",
    "# parser.add_argument(\"--l2_reg\", default=0, type=float)\n",
    "# parser.add_argument(\"--lr\", default=2e-4, type=float)\n",
    "# parser.add_argument(\"--lr_reduction\", default=4., type=float)\n",
    "# parser.add_argument(\"--wait_epochs\", default=3, type=float)\n",
    "# parser.add_argument(\"--save_all\", default=True, type=bool)\n",
    "# \n",
    "# flags, _ = parser.parse_known_args()\n",
    "# \n",
    "# # Manual Settings, Deactivate before pushing\n",
    "# if True:\n",
    "#     flags.losses = 'VAE'\n",
    "#     flags.batch_size = 64\n",
    "#     flags.grad_accu = 1\n",
    "#     flags.max_len = 17\n",
    "#     flags.test_name = \"nliLM/Discrete3\"\n",
    "\n",
    "k, kz = 1, 1\n",
    "parser.add_argument(\"--test_name\", default='unnamed', type=str)\n",
    "parser.add_argument(\"--max_len\", default=20, type=int)\n",
    "parser.add_argument(\"--batch_size\", default=512, type=int)\n",
    "parser.add_argument(\"--grad_accu\", default=1, type=int)\n",
    "parser.add_argument(\"--n_epochs\", default=10000, type=int)\n",
    "parser.add_argument(\"--test_freq\", default=32, type=int)\n",
    "parser.add_argument(\"--complete_test_freq\", default=160, type=int)\n",
    "parser.add_argument(\"--generation_weight\", default=1, type=float)\n",
    "parser.add_argument(\"--device\", default='cuda:0', choices=[\"cuda:0\", \"cuda:1\", \"cuda:2\", \"cpu\"], type=str)\n",
    "parser.add_argument(\"--embedding_dim\", default=300, type=int)#################\"\n",
    "parser.add_argument(\"--pretrained_embeddings\", default=True, type=bool)#################\"\n",
    "parser.add_argument(\"--z_size\", default=768*kz, type=int)#################\"\n",
    "parser.add_argument(\"--z_emb_dim\", default=768*k, type=int)#################\"\n",
    "parser.add_argument(\"--n_latents\", default=[4, 4, 4], type=list)#################\"\n",
    "parser.add_argument(\"--text_rep_l\", default=2, type=int)\n",
    "parser.add_argument(\"--text_rep_h\", default=768*k, type=int)\n",
    "parser.add_argument(\"--encoder_h\", default=768*k, type=int)#################\"\n",
    "parser.add_argument(\"--encoder_l\", default=1, type=int)#################\"\n",
    "parser.add_argument(\"--decoder_h\", default=768*k, type=int)\n",
    "parser.add_argument(\"--decoder_l\", default=2, type=int)#################\"\n",
    "parser.add_argument(\"--highway\", default=False, type=bool)\n",
    "parser.add_argument(\"--markovian\", default=True, type=bool)\n",
    "parser.add_argument(\"--losses\", default='VAE', choices=[\"VAE\", \"IWAE\"], type=str)\n",
    "parser.add_argument(\"--graph\", default='Normal', choices=[\"Discrete\", \"Normal\"], type=str)\n",
    "parser.add_argument(\"--training_iw_samples\", default=5, type=int)\n",
    "parser.add_argument(\"--testing_iw_samples\", default=20, type=int)\n",
    "parser.add_argument(\"--test_prior_samples\", default=10, type=int)\n",
    "parser.add_argument(\"--anneal_kl0\", default=00, type=int)\n",
    "parser.add_argument(\"--anneal_kl1\", default=3000, type=int)\n",
    "parser.add_argument(\"--grad_clip\", default=10., type=float)\n",
    "parser.add_argument(\"--kl_th\", default=0/(768*k/2), type=float or None)\n",
    "parser.add_argument(\"--dropout\", default=0.0, type=float)\n",
    "parser.add_argument(\"--word_dropout\", default=.0, type=float)\n",
    "parser.add_argument(\"--l2_reg\", default=0, type=float)\n",
    "parser.add_argument(\"--lr\", default=2e-4, type=float)\n",
    "parser.add_argument(\"--lr_reduction\", default=4., type=float)\n",
    "parser.add_argument(\"--wait_epochs\", default=6, type=float)\n",
    "parser.add_argument(\"--save_all\", default=True, type=bool)\n",
    "\n",
    "flags, _ = parser.parse_known_args()\n",
    "\n",
    "# Manual Settings, Deactivate before pushing\n",
    "if True:\n",
    "    flags.losses = 'VAE'\n",
    "    flags.batch_size = 64\n",
    "    flags.grad_accu = 1\n",
    "    flags.max_len = 17\n",
    "    flags.test_name = \"nliLM/NormalRe2\"\n",
    "\n",
    "# torch.autograd.set_detect_anomaly(True)\n",
    "GRAPH = {\"Discrete\": get_discrete_auto_regressive_disentanglement_graph,\n",
    "         \"Normal\": get_structured_auto_regressive_disentanglement_graph}[flags.graph]\n",
    "MAX_LEN = flags.max_len\n",
    "BATCH_SIZE = flags.batch_size\n",
    "MAS_ELBO = 5\n",
    "GRAD_ACCU = flags.grad_accu\n",
    "N_EPOCHS = flags.n_epochs\n",
    "TEST_FREQ = flags.test_freq\n",
    "COMPLETE_TEST_FREQ = flags.complete_test_freq\n",
    "DEVICE = device(flags.device)\n",
    "# This prevents illegal memory access on multigpu machines (unresolved issue on torch's github)\n",
    "if flags.device.startswith('cuda'):\n",
    "    torch.cuda.set_device(int(flags.device[-1]))\n",
    "LOSSES = {'IWAE': [IWLBo],\n",
    "          'VAE': [ELBo]}[flags.losses]\n",
    "#  LOSSES = [IWLBo]\n",
    "ANNEAL_KL = [flags.anneal_kl0*flags.grad_accu, flags.anneal_kl1*flags.grad_accu]\n",
    "LOSS_PARAMS = [1]\n",
    "if flags.grad_accu > 1:\n",
    "    LOSS_PARAMS = [w/flags.grad_accu for w in LOSS_PARAMS]\n",
    "\n",
    "data = Data(MAX_LEN, BATCH_SIZE, N_EPOCHS, DEVICE, flags.pretrained_embeddings)\n",
    "h_params = HParams(len(data.vocab.itos), len(data.tags.itos), MAX_LEN, BATCH_SIZE, N_EPOCHS,\n",
    "                   device=DEVICE, vocab_ignore_index=data.vocab.stoi['<pad>'], decoder_h=flags.decoder_h,\n",
    "                   decoder_l=flags.decoder_l, encoder_h=flags.encoder_h, encoder_l=flags.encoder_l,\n",
    "                   text_rep_h=flags.text_rep_h, text_rep_l=flags.text_rep_l,\n",
    "                   test_name=flags.test_name, grad_accumulation_steps=GRAD_ACCU,\n",
    "                   optimizer_kwargs={'lr': flags.lr, #'weight_decay': flags.l2_reg, 't0':100, 'lambd':0.},\n",
    "                                     'weight_decay': flags.l2_reg, 'betas': (0.9, 0.85)},\n",
    "                   is_weighted=[], graph_generator=GRAPH,\n",
    "                   z_size=flags.z_size, embedding_dim=flags.embedding_dim, anneal_kl=ANNEAL_KL,\n",
    "                   grad_clip=flags.grad_clip*flags.grad_accu, kl_th=flags.kl_th, highway=flags.highway,\n",
    "                   losses=LOSSES, dropout=flags.dropout, training_iw_samples=flags.training_iw_samples,\n",
    "                   testing_iw_samples=flags.testing_iw_samples, loss_params=LOSS_PARAMS, optimizer=optim.AdamW,\n",
    "                   markovian=flags.markovian, word_dropout=flags.word_dropout, contiguous_lm=False,\n",
    "                   test_prior_samples=flags.test_prior_samples, n_latents=flags.n_latents, max_elbo=5,\n",
    "                   z_emb_dim=flags.z_emb_dim)\n",
    "val_iterator = iter(data.val_iter)\n",
    "print(\"Words: \", len(data.vocab.itos), \", On device: \", DEVICE.type)\n",
    "print(\"Loss Type: \", flags.losses)\n",
    "model = Model(data.vocab, data.tags, h_params, wvs=data.wvs)\n",
    "if DEVICE.type == 'cuda':\n",
    "    model.cuda(DEVICE)\n",
    "\n",
    "total_unsupervised_train_samples = len(data.train_iter)*BATCH_SIZE\n",
    "print(\"Unsupervised training examples: \", total_unsupervised_train_samples)\n",
    "current_time = time()\n",
    "#print(model)\n",
    "number_parameters = sum(p.numel() for p in model.parameters() if p.requires_grad)\n",
    "print(\"Number of parameters: \", \"{0:05.2f} M\".format(number_parameters/1e6))\n",
    "number_parameters = sum(p.numel() for p in model.infer_bn.parameters() if p.requires_grad)\n",
    "print(\"Inference parameters: \", \"{0:05.2f} M\".format(number_parameters/1e6))\n",
    "number_parameters = sum(p.numel() for p in model.gen_bn.parameters() if p.requires_grad)\n",
    "print(\"Generation parameters: \", \"{0:05.2f} M\".format(number_parameters/1e6))\n",
    "number_parameters = sum(p.numel() for p in model.word_embeddings.parameters() if p.requires_grad)\n",
    "print(\"Embedding parameters: \", \"{0:05.2f} M\".format(number_parameters/1e6))"
   ]
  },
  {
   "cell_type": "code",
   "execution_count": 2,
   "metadata": {},
   "outputs": [
    {
     "name": "stdout",
     "output_type": "stream",
     "text": [
      "[' a man is wearing a red dress .. ', ' a man is outside playing a game .. ', ' a man is taking a break from a hole .. ', ' a man and a child are sitting at a table .. ', ' a man is doing a trick in front of a building .. ']\n"
     ]
    }
   ],
   "source": [
    "model.eval()\n",
    "def decode_to_text(x_hat_params, vocab_size, vocab_index):\n",
    "    # It is assumed that this function is used at test time for display purposes\n",
    "    # Getting the argmax from the one hot if it's not done\n",
    "    while x_hat_params.shape[-1] == vocab_size and x_hat_params.ndim > 3:\n",
    "        x_hat_params = x_hat_params.mean(0)\n",
    "    while x_hat_params.ndim > 2 and x_hat_params.shape[-1] != self.h_params.vocab_size:\n",
    "        x_hat_params = x_hat_params[0]\n",
    "    if x_hat_params.shape[-1] == vocab_size:\n",
    "        x_hat_params = torch.argmax(x_hat_params, dim=-1)\n",
    "    assert x_hat_params.ndim == 2, \"Mis-shaped generated sequence: {}\".format(x_hat_params.shape)\n",
    "    \n",
    "    samples = [' '.join([vocab_index.itos[w]\n",
    "                         for w in sen]).split('<eos>')[0].replace('<go>', '').replace('</go>', '')\n",
    "               .replace('<pad>', '_').replace('_unk', '<?>')\n",
    "               for sen in x_hat_params]\n",
    "\n",
    "    return samples\n",
    "\n",
    "\n",
    "def get_sentences(mdl, n_samples, gen_len=16, sample_w=False, vary_z=True, complete=None, contains=None, max_tries=100):\n",
    "            final_text, final_samples, final_params = [], \\\n",
    "                                                      {'z1':[], 'z2':[], 'z3':[]} , \\\n",
    "                                                      {'z2':None, 'z3':None}\n",
    "            trys = 0\n",
    "            while n_samples>0:\n",
    "                trys += 1\n",
    "                go_symbol = torch.ones([n_samples]).long() * \\\n",
    "                            mdl.index[mdl.generated_v].stoi['<go>']\n",
    "                go_symbol = go_symbol.to(mdl.h_params.device).unsqueeze(-1)\n",
    "                x_prev = go_symbol\n",
    "                if complete is not None:\n",
    "                    for token in complete.split(' '):\n",
    "                        x_prev = torch.cat([x_prev, torch.ones([n_samples, 1]).long().to(mdl.h_params.device) * \\\n",
    "                            mdl.index[mdl.generated_v].stoi[token]], dim=1)\n",
    "                    gen_len = gen_len - len(complete.split(' '))\n",
    "                temp = 1.\n",
    "                z_gen = mdl.gen_bn.name_to_v['z1']\n",
    "                if vary_z:\n",
    "                    z_sample = z_gen.prior_sample((n_samples,))[0]\n",
    "                else:\n",
    "                    z_sample = z_gen.prior_sample((1,))[0]\n",
    "                    z_sample = z_sample.repeat(n_samples, 1)\n",
    "                z_input = {'z1': z_sample.unsqueeze(1)}\n",
    "                # Structured Z case\n",
    "                z1, z2 = mdl.gen_bn.name_to_v['z2'], mdl.gen_bn.name_to_v['z3']\n",
    "                if vary_z:\n",
    "                    mdl.gen_bn({'z1': z_sample.unsqueeze(1),\n",
    "                                 'x_prev':torch.zeros((n_samples, 1, mdl.generated_v.size)).to(mdl.h_params.device)})\n",
    "                    z1_sample, z2_sample = z1.post_samples.squeeze(1), z2.post_samples.squeeze(1)\n",
    "                    z1_params, z2_params = z1.post_params, z2.post_params\n",
    "                else:\n",
    "                    mdl.gen_bn({'z1': z_sample[0].unsqueeze(0).unsqueeze(1),\n",
    "                                 'x_prev':torch.zeros((1, 1, mdl.generated_v.size)).to(mdl.h_params.device)})\n",
    "                    z1_sample, z2_sample = z1.post_samples.squeeze(1).repeat(n_samples, 1), z2.post_samples.squeeze(1).repeat(n_samples, 1)\n",
    "                    z1_params, z2_params = {k: v.squeeze(1).repeat(n_samples, 1) for k, v in z1.post_params.items()}, \\\n",
    "                                           {k: v.squeeze(1).repeat(n_samples, 1) for k, v in z2.post_params.items()}\n",
    "                z_input['z2'] = z1_sample.unsqueeze(1)\n",
    "                z_input['z3'] = z2_sample.unsqueeze(1)\n",
    "                \n",
    "                # Normal Autoregressive generation\n",
    "                for i in range(gen_len):\n",
    "                    mdl.gen_bn({'x_prev': x_prev, **{k: v.expand(v.shape[0], i+1, v.shape[-1])\n",
    "                                                      for k, v in z_input.items()}})\n",
    "                    if not sample_w:\n",
    "                        samples_i = mdl.generated_v.post_params['logits']\n",
    "                    else:\n",
    "                        samples_i = mdl.generated_v.posterior(logits=mdl.generated_v.post_params['logits']/temp,\n",
    "                                                               temperature=1).rsample()\n",
    "                    x_prev = torch.cat([x_prev, torch.argmax(samples_i,     dim=-1)[..., -1].unsqueeze(-1)],\n",
    "                                       dim=-1)\n",
    "    \n",
    "                text = decode_to_text(x_prev, mdl.h_params.vocab_size, mdl.index[mdl.generated_v])\n",
    "                if contains is None:\n",
    "                    return text, {'z1':z_sample, 'z2':z1_sample, 'z3':z2_sample} , {'z2':z1_params, 'z3':z2_params}\n",
    "                else:\n",
    "                    for i in range(n_samples):\n",
    "                        if any([w in text[i].split(' ') for w in contains]):\n",
    "                            n_samples -= 1\n",
    "                            final_text.append(text[i])\n",
    "                            final_samples['z1'].append(z_sample[i])\n",
    "                            final_samples['z2'].append(z1_sample[i])\n",
    "                            final_samples['z3'].append(z2_sample[i])\n",
    "                            if final_params['z2'] is None:\n",
    "                                final_params['z2'] = {k: v[i].unsqueeze(0) for k, v in z1_params.items()}\n",
    "                                final_params['z3'] = {k: v[i].unsqueeze(0) for k, v in z2_params.items()}\n",
    "                            else:\n",
    "                                \n",
    "                                final_params['z2'] = {k: torch.cat([final_params['z2'][k], v[i].unsqueeze(0)]) \n",
    "                                                      for k, v in z1_params.items()}\n",
    "                                final_params['z3'] = {k: torch.cat([final_params['z3'][k], v[i].unsqueeze(0)]) \n",
    "                                                      for k, v in z2_params.items()}\n",
    "                                \n",
    "                if max_tries == trys:\n",
    "                    raise TimeoutError('Could only find {} sentences containing \"{}\" in {} samples'\n",
    "                                       ''.format(len(final_text), contains, n_samples*max_tries))\n",
    "            \n",
    "            final_samples = {k: torch.cat([v_i.unsqueeze(0)for v_i in v]) for k, v in final_samples.items()}\n",
    "            return final_text, final_samples, final_params\n",
    "\n",
    "\n",
    "text, samples, params = get_sentences(model, 5, 16, sample_w=False, vary_z=True, complete=None, \n",
    "                                      contains=None, max_tries=150)\n",
    "print(text)"
   ]
  },
  {
   "cell_type": "code",
   "execution_count": 3,
   "metadata": {},
   "outputs": [
    {
     "name": "stdout",
     "output_type": "stream",
     "text": [
      "> a man is wearing a red dress .. &11& a man is wearing a red dress .. & a man is wearing a red dress .. & a man is wearing a red shirt .. & a man is wearing a red shirt .. & a man is wearing a red dress .. & a man is wearing a red dress .. & a man is wearing a red dress .. & a man is wearing a red shirt .. & a man is wearing a red shirt .. & a man is wearing a red shirt ..  \\\\hline\n> a man is outside playing a game .. &11& a man is outside playing a game .. & a man is outside playing a game .. & a man is outside playing a game .. & a man is outside playing a game .. & a man is outside playing a game .. & a man is outside playing a game .. & a man is outside playing a game .. & a man is outside playing a game .. & a man is outside playing a game .. & a man is outside playing a game ..  \\\\hline\n> a man is taking a break from a hole .. &11& a man is taking a break from a hole .. & a man is taking a break from a hole .. & a man is taking a break from a hole .. & a man is taking a break from a hole .. & a man is taking a break from a hole .. & a man is taking a break from a hole .. & a man is taking a break from a hole .. & a man is taking a break from a hole .. & a man is taking a break from a hole .. & a man is taking a break from a hole ..  \\\\hline\n> a man and a child are sitting at a table .. &11& a man and a child are sitting at a table .. & a man and a child are sitting at a table .. & a man and a child are sitting at a table .. & a man and a child are sitting in a field .. & a man and a child are sitting in a field .. & a man and a child are sitting at a table .. & a man and a child are sitting in a field .. & a man and a child are sitting at a table .. & a man and a child are sitting at a table .. & a man and a child are sitting at a table ..  \\\\hline\n> a man is doing a trick in front of a building .. &11& a man is doing a trick in front of a building .. & a man is doing a trick in front of a building .. & a man is doing a trick in front of a building .. & a man is doing a trick in front of a building .. & a man is doing a trick in front of a building .. & a man is doing a trick in front of a building .. & a man is doing a trick in front of a building .. & a man is doing a trick in front of a building .. & a man is doing a trick in front of a building .. & a man is doing a trick in front of a building ..  \\\\hline\n"
     ]
    }
   ],
   "source": [
    "def get_alternative_sentences(mdl, prev_latent_vals, params, var_z_ids, n_samples, gen_len, complete=None):\n",
    "            n_orig_sentences = prev_latent_vals['z1'].shape[0]\n",
    "            go_symbol = torch.ones([n_samples * n_orig_sentences]).long() * \\\n",
    "                        mdl.index[mdl.generated_v].stoi['<go>']\n",
    "            go_symbol = go_symbol.to(mdl.h_params.device).unsqueeze(-1)\n",
    "            x_prev = go_symbol\n",
    "            if complete is not None:\n",
    "                for token in complete.split(' '):\n",
    "                    x_prev = torch.cat([x_prev, torch.ones([n_samples * n_orig_sentences, 1]).long().to(mdl.h_params.device) * \\\n",
    "                        mdl.index[mdl.generated_v].stoi[token]], dim=1)\n",
    "                gen_len = gen_len - len(complete.split(' '))\n",
    "            temp = 1.\n",
    "            orig_z = prev_latent_vals['z1'].repeat(n_samples, 1)\n",
    "            orig_z1 = prev_latent_vals['z2'].repeat(n_samples, 1)\n",
    "            orig_z2 = prev_latent_vals['z3'].repeat(n_samples, 1)\n",
    "            z_gen, z1, z2 = mdl.gen_bn.name_to_v['z1'], mdl.gen_bn.name_to_v['z2'], mdl.gen_bn.name_to_v['z3']\n",
    "            \n",
    "            mdl.gen_bn({'z1': orig_z.unsqueeze(1), 'z2':orig_z1.unsqueeze(1),\n",
    "                        'z3': orig_z2.unsqueeze(1), \n",
    "                        'x_prev': torch.zeros((n_samples * n_orig_sentences, 1, mdl.generated_v.size)).to(mdl.h_params.device)})\n",
    "            z_sample = z_gen.prior_sample((n_samples * n_orig_sentences,))[0]\n",
    "            z1_sample, z2_sample = z1.post_samples.squeeze(1), z2.post_samples.squeeze(1)\n",
    "            z1_params, z2_params = z1.post_params, z2.post_params\n",
    "            for id in var_z_ids:\n",
    "                assert id <sum(h_params.n_latents)\n",
    "                z_number = sum([id> sum(h_params.n_latents[:i+1]) for i in range(len(h_params.n_latents))])\n",
    "                z_index = id - sum(h_params.n_latents[:z_number])\n",
    "                start, end = int(h_params.z_size/max(h_params.n_latents)*z_index), int(h_params.z_size/max(h_params.n_latents)*(z_index+1))\n",
    "                source, destination = [z_sample, z1_sample, z2_sample][z_number], [orig_z, orig_z1, orig_z2][z_number]\n",
    "                destination[:, start:end] = source[:, start:end]\n",
    "            \n",
    "            z_input = {'z1': orig_z.unsqueeze(1), 'z2': orig_z1.unsqueeze(1), 'z3': orig_z2.unsqueeze(1)}\n",
    "            \n",
    "            # Normal Autoregressive generation\n",
    "            for i in range(gen_len):\n",
    "                mdl.gen_bn({'x_prev': x_prev, **{k: v.expand(v.shape[0], i+1, v.shape[-1])\n",
    "                                                  for k, v in z_input.items()}})\n",
    "                samples_i = mdl.generated_v.post_params['logits']\n",
    "                \n",
    "                x_prev = torch.cat([x_prev, torch.argmax(samples_i,     dim=-1)[..., -1].unsqueeze(-1)],\n",
    "                                   dim=-1)\n",
    "            \n",
    "            text = decode_to_text(x_prev, mdl.h_params.vocab_size, mdl.index[mdl.generated_v])\n",
    "            return text, {'z1': z_sample.tolist(), 'z2': z1_sample.tolist(), 'z3': z2_sample} , None#{'z1': z1_params, 'z2': z2_params}\n",
    "\n",
    "\n",
    "\n",
    "# for i in range(48):\n",
    "#     alt_text, alt_samples, alt_params = get_alternative_sentences(model, {k:v[:5] for k, v in samples.items()},\n",
    "#                                                                   None,# [i for i in range(36,37)],\n",
    "#                                                                   [i],\n",
    "#                                                                   5, 16, complete=None)\n",
    "#     print(i, alt_text[2::5])\n",
    "lv = [11]\n",
    "alt_text, alt_samples, alt_params = get_alternative_sentences(model, {k:v[:5] for k, v in samples.items()},\n",
    "                                                              None,# [i for i in range(36,37)],\n",
    "                                                              lv,\n",
    "                                                              10, 16, complete=None)\n",
    "\n",
    "print('>'+'&'.join([text[0], str(lv[0])]+alt_text[0::5]), '\\\\\\hline')\n",
    "print('>'+'&'.join([text[1], str(lv[0])]+alt_text[1::5]), '\\\\\\hline')\n",
    "print('>'+'&'.join([text[2], str(lv[0])]+alt_text[2::5]), '\\\\\\hline')\n",
    "print('>'+'&'.join([text[3], str(lv[0])]+alt_text[3::5]), '\\\\\\hline')\n",
    "print('>'+'&'.join([text[4], str(lv[0])]+alt_text[4::5]), '\\\\\\hline')\n",
    "\n",
    "    "
   ]
  },
  {
   "cell_type": "code",
   "execution_count": 5,
   "metadata": {},
   "outputs": [
    {
     "name": "stdout",
     "output_type": "stream",
     "text": [
      "[' a man is about to get his skateboard .. ', ' a person is riding a bicycle .. ', ' two men are talking to a new dog .. ', ' a man is riding a bicycle .. ', ' a person is sitting on a bench .. ']\n",
      " a man is about to get his skateboard .. & a person is riding a bicycle .. &30& a group of people are playing in a restaurant .. & a man is riding a bicycle .. \n",
      " a man is about to get his skateboard .. & two men are talking to a new dog .. &30& a crowd of people are playing in a restaurant .. & a man is jumping over a tree .. \n",
      " a man is about to get his skateboard .. & a man is riding a bicycle .. &30& a man is about to go .. & a man is riding a bicycle in the snow .. \n",
      " a man is about to get his skateboard .. & a person is sitting on a bench .. &30& a person is about to go to a party .. & a man is sitting on a bench .. \n",
      " a person is riding a bicycle .. & a man is about to get his skateboard .. &30& a man is riding a bicycle .. & a group of people are playing in a restaurant .. \n",
      " a person is riding a bicycle .. & two men are talking to a new dog .. &30& two men are in a city .. & a group of people are dancing in the street .. \n",
      " a person is riding a bicycle .. & a man is riding a bicycle .. &30& a man is riding a bicycle .. & a person is riding a horse .. \n",
      " a person is riding a bicycle .. & a person is sitting on a bench .. &30& a person is riding a bicycle .. & a man is sitting on a bench .. \n",
      " two men are talking to a new dog .. & a man is about to get his skateboard .. &30& a man is jumping over a tree .. & a crowd of people are playing in a restaurant .. \n",
      " two men are talking to a new dog .. & a person is riding a bicycle .. &30& a group of people are dancing in the street .. & two men are in a city .. \n",
      " two men are talking to a new dog .. & a man is riding a bicycle .. &30& a man is jumping over a tree .. & a crowd of people are sitting in a <?> .. \n",
      " two men are talking to a new dog .. & a person is sitting on a bench .. &30& a person is jumping off a tree .. & a crowd of people are sitting around a park .. \n",
      " a man is riding a bicycle .. & a man is about to get his skateboard .. &30& a man is riding a bicycle in the snow .. & a man is about to go .. \n",
      " a man is riding a bicycle .. & a person is riding a bicycle .. &30& a person is riding a horse .. & a man is riding a bicycle .. \n",
      " a man is riding a bicycle .. & two men are talking to a new dog .. &30& a crowd of people are sitting in a <?> .. & a man is jumping over a tree .. \n",
      " a man is riding a bicycle .. & a person is sitting on a bench .. &30& a person is riding a horse .. & a man is sitting on a bench .. \n",
      " a person is sitting on a bench .. & a man is about to get his skateboard .. &30& a man is sitting on a bench .. & a person is about to go to a party .. \n",
      " a person is sitting on a bench .. & a person is riding a bicycle .. &30& a man is sitting on a bench .. & a person is riding a bicycle .. \n",
      " a person is sitting on a bench .. & two men are talking to a new dog .. &30& a crowd of people are sitting around a park .. & a person is jumping off a tree .. \n",
      " a person is sitting on a bench .. & a man is riding a bicycle .. &30& a man is sitting on a bench .. & a person is riding a horse .. \n"
     ]
    }
   ],
   "source": [
    "def swap_latents(mdl, prev_latent_vals, var_z_ids, gen_len, complete=None):\n",
    "            n_orig_sentences = prev_latent_vals['z1'].shape[0]\n",
    "            n_samples = n_orig_sentences\n",
    "            go_symbol = torch.ones([n_samples * n_orig_sentences]).long() * \\\n",
    "                        mdl.index[mdl.generated_v].stoi['<go>']\n",
    "            go_symbol = go_symbol.to(mdl.h_params.device).unsqueeze(-1)\n",
    "            x_prev = go_symbol\n",
    "            if complete is not None:\n",
    "                for token in complete.split(' '):\n",
    "                    x_prev = torch.cat([x_prev, torch.ones([n_samples * n_orig_sentences, 1]).long().to(mdl.h_params.device) * \\\n",
    "                        mdl.index[mdl.generated_v].stoi[token]], dim=1)\n",
    "                gen_len = gen_len - len(complete.split(' '))\n",
    "            temp = 1.\n",
    "            orig_z = prev_latent_vals['z1'].unsqueeze(1).repeat(1, n_samples, 1)\n",
    "            orig_z1 = prev_latent_vals['z2'].unsqueeze(1).repeat(1, n_samples, 1)\n",
    "            orig_z2 = prev_latent_vals['z3'].unsqueeze(1).repeat(1, n_samples, 1)\n",
    "            z_sample, z1_sample, z2_sample = orig_z.reshape(n_samples*n_orig_sentences, -1), \\\n",
    "                                             orig_z1.reshape(n_samples*n_orig_sentences, -1), \\\n",
    "                                             orig_z2.reshape(n_samples*n_orig_sentences, -1)\n",
    "            orig_z, orig_z1, orig_z2 = orig_z.transpose(0, 1).reshape(n_samples*n_orig_sentences, -1), orig_z1.transpose(0, 1).reshape(n_samples*n_orig_sentences, -1), \\\n",
    "                                             orig_z2.transpose(0, 1).reshape(n_samples*n_orig_sentences, -1)\n",
    "            \n",
    "\n",
    "            for id in var_z_ids:\n",
    "                z_number = sum([id> sum(h_params.n_latents[:i+1]) for i in range(len(h_params.n_latents))])\n",
    "                z_index = id - sum(h_params.n_latents[:z_number])\n",
    "                start, end = int(h_params.z_size/max(h_params.n_latents)*z_index),\\\n",
    "                             int(h_params.z_size/max(h_params.n_latents)*(z_index+1))\n",
    "                source, destination = [z_sample, z1_sample, z2_sample][z_number], [orig_z, orig_z1, orig_z2][z_number]\n",
    "                destination[:, start:end] = source[:, start:end]\n",
    "            \n",
    "            z_input = {'z1': orig_z.unsqueeze(1), 'z2': orig_z1.unsqueeze(1), 'z3': orig_z2.unsqueeze(1)}\n",
    "            \n",
    "            # Normal Autoregressive generation\n",
    "            for i in range(gen_len):\n",
    "                mdl.gen_bn({'x_prev': x_prev, **{k: v.expand(v.shape[0], i+1, v.shape[-1])\n",
    "                                                  for k, v in z_input.items()}})\n",
    "                samples_i = mdl.generated_v.post_params['logits']\n",
    "                \n",
    "                x_prev = torch.cat([x_prev, torch.argmax(samples_i,     dim=-1)[..., -1].unsqueeze(-1)],\n",
    "                                   dim=-1)\n",
    "            \n",
    "            text = decode_to_text(x_prev, mdl.h_params.vocab_size, mdl.index[mdl.generated_v])\n",
    "            return text, {'z1': orig_z, 'z2': orig_z1, 'z3': orig_z2} ,\\\n",
    "                   None#{'z1': z1_params, 'z2': z2_params}\n",
    " \n",
    "lv = [30]\n",
    "alt_text, alt_samples, alt_params = swap_latents(model, {k:v[:5] for k, v in samples.items()},\n",
    "                                                 lv,#10, 30, 43\n",
    "                                                              #list(range(20, 48)), #[],\n",
    "                                                 16, complete=None)\n",
    "# Each line here is a single sentence taking each of the other sentences' specified lv(s) one at a time\n",
    "# location : 3, 39, 47 ... meh\n",
    "print(text)\n",
    "# print(alt_text[0::5])\n",
    "# print(alt_text[1::5])\n",
    "# print(alt_text[2::5])\n",
    "# print(alt_text[3::5])\n",
    "# print(alt_text[4::5])\n",
    "for i in range(5):\n",
    "    for j in range(5):\n",
    "        if i!=j:\n",
    "            print('&'.join([text[i], text[j], str(lv[0]), alt_text[j*5+i], alt_text[i*5+j]]))"
   ]
  },
  {
   "cell_type": "code",
   "execution_count": 4,
   "metadata": {},
   "outputs": [],
   "source": [
    "import spacy\n",
    "\n",
    "nlp = spacy.load(\"en_core_web_sm\")\n"
   ]
  },
  {
   "cell_type": "code",
   "execution_count": 5,
   "metadata": {},
   "outputs": [
    {
     "name": "stderr",
     "output_type": "stream",
     "text": [
      "WARNING:allennlp.common.params:error loading _jsonnet (this is expected on Windows), treating C:\\Users\\ghazy\\AppData\\Local\\Temp\\tmpm_s4sey3\\config.json as plain json\n"
     ]
    }
   ],
   "source": [
    "\n",
    "from allennlp.predictors.predictor import Predictor\n",
    "import allennlp_models.structured_prediction\n",
    "predictor = Predictor.from_path(\"https://storage.googleapis.com/allennlp-public-models/openie-model.2020.03.26.tar.gz\")\n"
   ]
  },
  {
   "cell_type": "code",
   "execution_count": 6,
   "metadata": {
    "collapsed": true
   },
   "outputs": [
    {
     "name": "stdout",
     "output_type": "stream",
     "text": [
      "[]\n[{'ARG1': ' a blond woman', 'V': ' throws', 'ARGM-LOC': ' on the floor'}]\n"
     ]
    },
    {
     "name": "stdout",
     "output_type": "stream",
     "text": [
      "[{'verb': 'goes', 'description': '[ARG0: The man] [V: goes] [ARG4: to the car]', 'tags': ['B-ARG0', 'I-ARG0', 'B-V', 'B-ARG4', 'I-ARG4', 'I-ARG4']}]\n[[{'ARG1': ' a blond woman', 'V': ' throws', 'ARGM-LOC': ' on the floor'}], [{'ARG0': ' The man', 'V': ' goes', 'ARG4': ' to the car'}]]\n"
     ]
    }
   ],
   "source": [
    "\n",
    "def get_sent_relations(sent):\n",
    "    pred = predictor.predict(\n",
    "      sentence=sent\n",
    "    )\n",
    "    sent_dict = []\n",
    "    for el in pred['verbs']:\n",
    "        sent_dict.append({})\n",
    "        for v_i in el['description'].split('[')[1:]:\n",
    "            in_bracket = v_i.split(']')[0]\n",
    "            arg_l, arg_str = in_bracket.split(':')\n",
    "            sent_dict[-1][arg_l] = arg_str\n",
    "    return sent_dict\n",
    "\n",
    "def batch_sent_relations(sents):\n",
    "    target = [{'sentence': sent} for sent in sents]\n",
    "    preds = predictor.predict_batch_json(target)\n",
    "    sent_dicts = []\n",
    "    for pred in preds:\n",
    "        sent_dict = []\n",
    "        for el in pred['verbs']:\n",
    "            sent_dict.append({})\n",
    "            for v_i in el['description'].split('[')[1:]:\n",
    "                in_bracket = v_i.split(']')[0]\n",
    "                arg_l, arg_str = in_bracket.split(':')\n",
    "                sent_dict[-1][arg_l] = arg_str\n",
    "        sent_dicts.append(sent_dict)\n",
    "    return sent_dicts\n",
    "\n",
    "print(get_sent_relations(\"a man is in a car .. \"))\n",
    "print(get_sent_relations('a blond woman throws on the floor.. '))\n",
    "print(predictor.predict(sentence=\"The man goes to the car\")['verbs'])\n",
    "print(batch_sent_relations(['a blond woman throws on the floor.. ', \n",
    "                              \"The man goes to the car\"]))"
   ]
  },
  {
   "cell_type": "code",
   "execution_count": 7,
   "metadata": {
    "collapsed": true
   },
   "outputs": [
    {
     "name": "stdout",
     "output_type": "stream",
     "text": [
      " a man is wearing a red dress ..   a man is taking a break from a hole .. \n"
     ]
    },
    {
     "name": "stdout",
     "output_type": "stream",
     "text": [
      "(2, 0, 1, -1, [], [], [], ['amod', 'pobj', 'prep'], ['prep'], ['break', 'dress', 'from'], ['ARGM-DIR'], [])\n"
     ]
    },
    {
     "name": "stdout",
     "output_type": "stream",
     "text": [
      "(0, 0, 0, 1, [('shirt', 'tie')], [('NOUN', 'NOUN')], [('dobj', 'dobj')], [], [], ['shirt', 'tie'], [], ['ARG1'])\n"
     ]
    }
   ],
   "source": [
    "from time import time\n",
    "def get_depth(root, toks, tree, depth=0):\n",
    "    root_tree = list([tok for tok in tree[root]])\n",
    "    if len(root_tree)>0:\n",
    "        child_ids = [i for i, tok in enumerate(toks) if tok in root_tree]\n",
    "        return 1+max([get_depth(child_id, toks, tree) for child_id in child_ids])\n",
    "    else: return depth\n",
    "\n",
    "def get_sentence_statistics2(orig, sen, orig_relations=None, relations=None):\n",
    "    #print(orig, sen)\n",
    "    orig, sen = orig.replace('<?>', 'UNK'), sen.replace('<?>', 'UNK')\n",
    "    # Orig properties\n",
    "    orig_relations = orig_relations or get_sent_relations(orig)\n",
    "    orig_rel_labs = list(orig_relations[0].keys()) if len(orig_relations) else []\n",
    "        \n",
    "    # Alt properties\n",
    "    relations = relations or get_sent_relations(sen)\n",
    "    rel_labs = list(relations[0].keys()) if len(relations) else []\n",
    "    # Differences \n",
    "    new_rels = np.union1d(np.setdiff1d(orig_rel_labs, rel_labs), np.setdiff1d(rel_labs, orig_rel_labs)).tolist()\n",
    "\n",
    "    if len(new_rels) or len(rel_labs) == 0 or len(orig_rel_labs) == 0:\n",
    "        rel_diff = []\n",
    "    else:\n",
    "        rel_diff = [k for k, v in orig_relations[0].items() if orig_relations[0][k] != relations[0][k]]\n",
    "    return new_rels, rel_diff\n",
    "    \n",
    "def get_sentence_statistics(orig, sen, orig_relations=None, relations=None):\n",
    "    #print(orig, sen)\n",
    "    orig, sen = orig.replace('<?>', 'UNK'), sen.replace('<?>', 'UNK')\n",
    "    # Orig properties\n",
    "    orig_doc = nlp(orig)\n",
    "    orig_pos = [token.pos_ for token in orig_doc]\n",
    "    orig_toks = [token.text for token in orig_doc]\n",
    "    orig_length = len(orig_pos)\n",
    "    orig_dep_label = [token.dep_ for token in orig_doc]\n",
    "    orig_dep_tree = [list(token.children) for token in orig_doc]\n",
    "    orig_depth = get_depth(orig_dep_label.index('ROOT'), orig_doc, orig_dep_tree)\n",
    "    orig_root_children_text = [tok.text for tok in orig_dep_tree[orig_dep_label.index('ROOT')]]\n",
    "    orig_root_children_dep = [tok.dep_ for tok in orig_dep_tree[orig_dep_label.index('ROOT')]]\n",
    "    n_orig_root_children = len([tok.text for tok in orig_dep_tree[orig_dep_label.index('ROOT')]])\n",
    "    orig_relations = orig_relations or get_sent_relations(orig)\n",
    "    orig_rel_labs = list(orig_relations[0].keys()) if len(orig_relations) else []\n",
    "        \n",
    "    # Alt properties\n",
    "    doc = nlp(sen)\n",
    "    pos = [token.pos_ for token in doc]\n",
    "    toks = [token.text for token in doc]\n",
    "    length = len(pos)\n",
    "    dep_label = [token.dep_ for token in doc]\n",
    "    dep_tree = [list(token.children) for token in doc]\n",
    "    depth = get_depth(dep_label.index('ROOT'), doc, dep_tree)\n",
    "    root_children_text = [tok.text for tok in dep_tree[dep_label.index('ROOT')]]\n",
    "    root_children_dep = [tok.dep_ for tok in dep_tree[dep_label.index('ROOT')]]\n",
    "    n_root_children = len([tok.text for tok in dep_tree[dep_label.index('ROOT')]])\n",
    "    relations = relations or get_sent_relations(sen)\n",
    "    rel_labs = list(relations[0].keys()) if len(relations) else []\n",
    "    # Differences \n",
    "    len_diff = np.abs(length - orig_length)\n",
    "    depth_diff = np.abs(depth - orig_depth)\n",
    "    n_root_children_diff = np.abs(n_root_children-n_orig_root_children)\n",
    "    root_children_text_diff = np.union1d(np.setdiff1d(orig_root_children_text, root_children_text),\n",
    "                                        np.setdiff1d(root_children_text, orig_root_children_text)).tolist()\n",
    "    root_children_dep_diff = np.union1d(np.setdiff1d(orig_root_children_dep, root_children_dep),\n",
    "                                        np.setdiff1d(root_children_dep, orig_root_children_dep)).tolist()\n",
    "    new_deps = np.union1d(np.setdiff1d(orig_dep_label, dep_label), np.setdiff1d(dep_label, orig_dep_label)).tolist()\n",
    "    new_rels = np.union1d(np.setdiff1d(orig_rel_labs, rel_labs), np.setdiff1d(rel_labs, orig_rel_labs)).tolist()\n",
    "\n",
    "    if len(new_rels) or len(rel_labs) == 0 or len(orig_rel_labs) == 0:\n",
    "        rel_diff = []\n",
    "    else:\n",
    "        rel_diff = [k for k, v in orig_relations[0].items() if orig_relations[0][k] != relations[0][k]]\n",
    "    if len_diff:\n",
    "        word_diff = []\n",
    "        diff_pos = []\n",
    "        diff_dep = []\n",
    "        n_word_diff = -1\n",
    "    else:\n",
    "        word_diff = [(orig_tok, tok) for orig_tok, tok in zip(orig_toks, toks) if orig_tok != tok]\n",
    "        n_word_diff = len(word_diff)\n",
    "        diff_pos = [(orig_tok.pos_, tok.pos_) for orig_tok, tok in zip(orig_doc, doc) if orig_tok.text != tok.text]\n",
    "        diff_dep = [(orig_tok.dep_, tok.dep_) for orig_tok, tok in zip(orig_doc, doc) if orig_tok.text != tok.text]\n",
    "    return len_diff, depth_diff, n_root_children_diff, n_word_diff, word_diff, diff_pos, diff_dep, new_deps, root_children_dep_diff, \\\n",
    "           root_children_text_diff, new_rels, rel_diff\n",
    "    \n",
    "print(text[0], alt_text[2])\n",
    "# print(get_sentence_statistics('a blond woman wearing a white shirt and white shirt .. ', 'a blond woman wearing a white shirt and white shirt .. '))\n",
    "print(get_sentence_statistics(text[0], alt_text[2]))\n",
    "print(get_sentence_statistics('a blond woman wears a shirt .. ', 'a blond woman wears a tie .. '))"
   ]
  },
  {
   "cell_type": "code",
   "execution_count": 8,
   "metadata": {
    "collapsed": true
   },
   "outputs": [
    {
     "name": "stderr",
     "output_type": "stream",
     "text": [
      "\rProcessing sample 0:   0%|                                                                      | 0/48 [00:00<?, ?it/s]"
     ]
    },
    {
     "name": "stdout",
     "output_type": "stream",
     "text": [
      "alt time  3.8467113971710205\n"
     ]
    },
    {
     "name": "stderr",
     "output_type": "stream",
     "text": [
      "\rProcessing sample 0:   2%|█▎                                                            | 1/48 [00:04<03:15,  4.17s/it]"
     ]
    },
    {
     "name": "stdout",
     "output_type": "stream",
     "text": [
      "stat_time 0.32114243507385254\n"
     ]
    },
    {
     "name": "stdout",
     "output_type": "stream",
     "text": [
      "alt time  3.496647357940674\n"
     ]
    },
    {
     "name": "stderr",
     "output_type": "stream",
     "text": [
      "\rProcessing sample 0:   4%|██▌                                                           | 2/48 [00:07<03:06,  4.05s/it]"
     ]
    },
    {
     "name": "stdout",
     "output_type": "stream",
     "text": [
      "stat_time 0.2812466621398926\n"
     ]
    },
    {
     "name": "stdout",
     "output_type": "stream",
     "text": [
      "alt time  2.808487892150879\n"
     ]
    },
    {
     "name": "stderr",
     "output_type": "stream",
     "text": [
      "\rProcessing sample 0:   6%|███▉                                                          | 3/48 [00:10<02:48,  3.75s/it]"
     ]
    },
    {
     "name": "stdout",
     "output_type": "stream",
     "text": [
      "stat_time 0.22243976593017578\n"
     ]
    },
    {
     "name": "stdout",
     "output_type": "stream",
     "text": [
      "alt time  2.751607656478882\n"
     ]
    },
    {
     "name": "stderr",
     "output_type": "stream",
     "text": [
      "\rProcessing sample 0:   8%|█████▏                                                        | 4/48 [00:13<02:34,  3.51s/it]"
     ]
    },
    {
     "name": "stdout",
     "output_type": "stream",
     "text": [
      "stat_time 0.20744609832763672\n"
     ]
    },
    {
     "name": "stderr",
     "output_type": "stream",
     "text": [
      "\rProcessing sample 0:  10%|██████▍                                                       | 5/48 [00:16<02:24,  3.36s/it]"
     ]
    },
    {
     "name": "stdout",
     "output_type": "stream",
     "text": [
      "alt time  2.8314592838287354\nstat_time 0.19448018074035645\n"
     ]
    },
    {
     "name": "stdout",
     "output_type": "stream",
     "text": [
      "alt time  2.7356836795806885\nstat_time"
     ]
    },
    {
     "name": "stderr",
     "output_type": "stream",
     "text": [
      "\rProcessing sample 0:  12%|███████▊                                                      | 6/48 [00:19<02:15,  3.23s/it]"
     ]
    },
    {
     "name": "stdout",
     "output_type": "stream",
     "text": [
      " 0.1904911994934082\n"
     ]
    },
    {
     "name": "stderr",
     "output_type": "stream",
     "text": [
      "\rProcessing sample 0:  12%|███████▊                                                      | 6/48 [00:22<02:34,  3.67s/it]"
     ]
    },
    {
     "name": "stderr",
     "output_type": "stream",
     "text": [
      "\n"
     ]
    },
    {
     "ename": "KeyboardInterrupt",
     "evalue": "",
     "traceback": [
      "\u001b[1;31m---------------------------------------------------------------------------\u001b[0m",
      "\u001b[1;31mKeyboardInterrupt\u001b[0m                         Traceback (most recent call last)",
      "\u001b[1;32m<ipython-input-8-d2054feb6555>\u001b[0m in \u001b[0;36m<module>\u001b[1;34m\u001b[0m\n\u001b[0;32m     18\u001b[0m                                                    gen_len=16, complete=None)\n\u001b[0;32m     19\u001b[0m \u001b[1;33m\u001b[0m\u001b[0m\n\u001b[1;32m---> 20\u001b[1;33m         \u001b[0malt_rels\u001b[0m \u001b[1;33m=\u001b[0m \u001b[0mbatch_sent_relations\u001b[0m\u001b[1;33m(\u001b[0m\u001b[0malt_text\u001b[0m\u001b[1;33m)\u001b[0m\u001b[1;33m\u001b[0m\u001b[1;33m\u001b[0m\u001b[0m\n\u001b[0m\u001b[0;32m     21\u001b[0m         \u001b[0mprint\u001b[0m\u001b[1;33m(\u001b[0m\u001b[1;34m\"alt time \"\u001b[0m\u001b[1;33m,\u001b[0m \u001b[0mtime\u001b[0m\u001b[1;33m(\u001b[0m\u001b[1;33m)\u001b[0m\u001b[1;33m-\u001b[0m\u001b[0malt_start\u001b[0m\u001b[1;33m)\u001b[0m\u001b[1;33m\u001b[0m\u001b[1;33m\u001b[0m\u001b[0m\n\u001b[0;32m     22\u001b[0m         \u001b[0mstat_start\u001b[0m \u001b[1;33m=\u001b[0m \u001b[0mtime\u001b[0m\u001b[1;33m(\u001b[0m\u001b[1;33m)\u001b[0m\u001b[1;33m\u001b[0m\u001b[1;33m\u001b[0m\u001b[0m\n",
      "\u001b[1;32m<ipython-input-6-9f2afaebb546>\u001b[0m in \u001b[0;36mbatch_sent_relations\u001b[1;34m(sents)\u001b[0m\n\u001b[0;32m     14\u001b[0m \u001b[1;32mdef\u001b[0m \u001b[0mbatch_sent_relations\u001b[0m\u001b[1;33m(\u001b[0m\u001b[0msents\u001b[0m\u001b[1;33m)\u001b[0m\u001b[1;33m:\u001b[0m\u001b[1;33m\u001b[0m\u001b[1;33m\u001b[0m\u001b[0m\n\u001b[0;32m     15\u001b[0m     \u001b[0mtarget\u001b[0m \u001b[1;33m=\u001b[0m \u001b[1;33m[\u001b[0m\u001b[1;33m{\u001b[0m\u001b[1;34m'sentence'\u001b[0m\u001b[1;33m:\u001b[0m \u001b[0msent\u001b[0m\u001b[1;33m}\u001b[0m \u001b[1;32mfor\u001b[0m \u001b[0msent\u001b[0m \u001b[1;32min\u001b[0m \u001b[0msents\u001b[0m\u001b[1;33m]\u001b[0m\u001b[1;33m\u001b[0m\u001b[1;33m\u001b[0m\u001b[0m\n\u001b[1;32m---> 16\u001b[1;33m     \u001b[0mpreds\u001b[0m \u001b[1;33m=\u001b[0m \u001b[0mpredictor\u001b[0m\u001b[1;33m.\u001b[0m\u001b[0mpredict_batch_json\u001b[0m\u001b[1;33m(\u001b[0m\u001b[0mtarget\u001b[0m\u001b[1;33m)\u001b[0m\u001b[1;33m\u001b[0m\u001b[1;33m\u001b[0m\u001b[0m\n\u001b[0m\u001b[0;32m     17\u001b[0m     \u001b[0msent_dicts\u001b[0m \u001b[1;33m=\u001b[0m \u001b[1;33m[\u001b[0m\u001b[1;33m]\u001b[0m\u001b[1;33m\u001b[0m\u001b[1;33m\u001b[0m\u001b[0m\n\u001b[0;32m     18\u001b[0m     \u001b[1;32mfor\u001b[0m \u001b[0mpred\u001b[0m \u001b[1;32min\u001b[0m \u001b[0mpreds\u001b[0m\u001b[1;33m:\u001b[0m\u001b[1;33m\u001b[0m\u001b[1;33m\u001b[0m\u001b[0m\n",
      "\u001b[1;32mE:\\ProgramData\\Anaconda3\\lib\\site-packages\\allennlp_models\\structured_prediction\\predictors\\srl.py\u001b[0m in \u001b[0;36mpredict_batch_json\u001b[1;34m(self, inputs)\u001b[0m\n\u001b[0;32m    187\u001b[0m         \u001b[0moutputs\u001b[0m\u001b[1;33m:\u001b[0m \u001b[0mList\u001b[0m\u001b[1;33m[\u001b[0m\u001b[0mDict\u001b[0m\u001b[1;33m[\u001b[0m\u001b[0mstr\u001b[0m\u001b[1;33m,\u001b[0m \u001b[0mnumpy\u001b[0m\u001b[1;33m.\u001b[0m\u001b[0mndarray\u001b[0m\u001b[1;33m]\u001b[0m\u001b[1;33m]\u001b[0m \u001b[1;33m=\u001b[0m \u001b[1;33m[\u001b[0m\u001b[1;33m]\u001b[0m\u001b[1;33m\u001b[0m\u001b[1;33m\u001b[0m\u001b[0m\n\u001b[0;32m    188\u001b[0m         \u001b[1;32mfor\u001b[0m \u001b[0mbatch\u001b[0m \u001b[1;32min\u001b[0m \u001b[0mbatched_instances\u001b[0m\u001b[1;33m:\u001b[0m\u001b[1;33m\u001b[0m\u001b[1;33m\u001b[0m\u001b[0m\n\u001b[1;32m--> 189\u001b[1;33m             \u001b[0moutputs\u001b[0m\u001b[1;33m.\u001b[0m\u001b[0mextend\u001b[0m\u001b[1;33m(\u001b[0m\u001b[0mself\u001b[0m\u001b[1;33m.\u001b[0m\u001b[0m_model\u001b[0m\u001b[1;33m.\u001b[0m\u001b[0mforward_on_instances\u001b[0m\u001b[1;33m(\u001b[0m\u001b[0mbatch\u001b[0m\u001b[1;33m)\u001b[0m\u001b[1;33m)\u001b[0m\u001b[1;33m\u001b[0m\u001b[1;33m\u001b[0m\u001b[0m\n\u001b[0m\u001b[0;32m    190\u001b[0m \u001b[1;33m\u001b[0m\u001b[0m\n\u001b[0;32m    191\u001b[0m         \u001b[0mverbs_per_sentence\u001b[0m \u001b[1;33m=\u001b[0m \u001b[1;33m[\u001b[0m\u001b[0mlen\u001b[0m\u001b[1;33m(\u001b[0m\u001b[0msent\u001b[0m\u001b[1;33m)\u001b[0m \u001b[1;32mfor\u001b[0m \u001b[0msent\u001b[0m \u001b[1;32min\u001b[0m \u001b[0minstances_per_sentence\u001b[0m\u001b[1;33m]\u001b[0m\u001b[1;33m\u001b[0m\u001b[1;33m\u001b[0m\u001b[0m\n",
      "\u001b[1;32mE:\\ProgramData\\Anaconda3\\lib\\site-packages\\allennlp\\models\\model.py\u001b[0m in \u001b[0;36mforward_on_instances\u001b[1;34m(self, instances)\u001b[0m\n\u001b[0;32m    174\u001b[0m             \u001b[0mdataset\u001b[0m\u001b[1;33m.\u001b[0m\u001b[0mindex_instances\u001b[0m\u001b[1;33m(\u001b[0m\u001b[0mself\u001b[0m\u001b[1;33m.\u001b[0m\u001b[0mvocab\u001b[0m\u001b[1;33m)\u001b[0m\u001b[1;33m\u001b[0m\u001b[1;33m\u001b[0m\u001b[0m\n\u001b[0;32m    175\u001b[0m             \u001b[0mmodel_input\u001b[0m \u001b[1;33m=\u001b[0m \u001b[0mutil\u001b[0m\u001b[1;33m.\u001b[0m\u001b[0mmove_to_device\u001b[0m\u001b[1;33m(\u001b[0m\u001b[0mdataset\u001b[0m\u001b[1;33m.\u001b[0m\u001b[0mas_tensor_dict\u001b[0m\u001b[1;33m(\u001b[0m\u001b[1;33m)\u001b[0m\u001b[1;33m,\u001b[0m \u001b[0mcuda_device\u001b[0m\u001b[1;33m)\u001b[0m\u001b[1;33m\u001b[0m\u001b[1;33m\u001b[0m\u001b[0m\n\u001b[1;32m--> 176\u001b[1;33m             \u001b[0moutputs\u001b[0m \u001b[1;33m=\u001b[0m \u001b[0mself\u001b[0m\u001b[1;33m.\u001b[0m\u001b[0mmake_output_human_readable\u001b[0m\u001b[1;33m(\u001b[0m\u001b[0mself\u001b[0m\u001b[1;33m(\u001b[0m\u001b[1;33m**\u001b[0m\u001b[0mmodel_input\u001b[0m\u001b[1;33m)\u001b[0m\u001b[1;33m)\u001b[0m\u001b[1;33m\u001b[0m\u001b[1;33m\u001b[0m\u001b[0m\n\u001b[0m\u001b[0;32m    177\u001b[0m \u001b[1;33m\u001b[0m\u001b[0m\n\u001b[0;32m    178\u001b[0m             instance_separated_output: List[Dict[str, numpy.ndarray]] = [\n",
      "\u001b[1;32mE:\\ProgramData\\Anaconda3\\lib\\site-packages\\allennlp_models\\structured_prediction\\models\\srl.py\u001b[0m in \u001b[0;36mmake_output_human_readable\u001b[1;34m(self, output_dict)\u001b[0m\n\u001b[0;32m    370\u001b[0m         \u001b[1;32mfor\u001b[0m \u001b[0mpredictions\u001b[0m\u001b[1;33m,\u001b[0m \u001b[0mlength\u001b[0m \u001b[1;32min\u001b[0m \u001b[0mzip\u001b[0m\u001b[1;33m(\u001b[0m\u001b[0mpredictions_list\u001b[0m\u001b[1;33m,\u001b[0m \u001b[0msequence_lengths\u001b[0m\u001b[1;33m)\u001b[0m\u001b[1;33m:\u001b[0m\u001b[1;33m\u001b[0m\u001b[1;33m\u001b[0m\u001b[0m\n\u001b[0;32m    371\u001b[0m             max_likelihood_sequence, _ = viterbi_decode(\n\u001b[1;32m--> 372\u001b[1;33m                 \u001b[0mpredictions\u001b[0m\u001b[1;33m[\u001b[0m\u001b[1;33m:\u001b[0m\u001b[0mlength\u001b[0m\u001b[1;33m]\u001b[0m\u001b[1;33m,\u001b[0m \u001b[0mtransition_matrix\u001b[0m\u001b[1;33m,\u001b[0m \u001b[0mallowed_start_transitions\u001b[0m\u001b[1;33m=\u001b[0m\u001b[0mstart_transitions\u001b[0m\u001b[1;33m\u001b[0m\u001b[1;33m\u001b[0m\u001b[0m\n\u001b[0m\u001b[0;32m    373\u001b[0m             )\n\u001b[0;32m    374\u001b[0m             tags = [\n",
      "\u001b[1;32mE:\\ProgramData\\Anaconda3\\lib\\site-packages\\allennlp\\nn\\util.py\u001b[0m in \u001b[0;36mviterbi_decode\u001b[1;34m(tag_sequence, transition_matrix, tag_observations, allowed_start_transitions, allowed_end_transitions, top_k)\u001b[0m\n\u001b[0;32m    564\u001b[0m     \u001b[0mpath_scores_v\u001b[0m \u001b[1;33m=\u001b[0m \u001b[0mpath_scores\u001b[0m\u001b[1;33m[\u001b[0m\u001b[1;33m-\u001b[0m\u001b[1;36m1\u001b[0m\u001b[1;33m]\u001b[0m\u001b[1;33m.\u001b[0m\u001b[0mview\u001b[0m\u001b[1;33m(\u001b[0m\u001b[1;33m-\u001b[0m\u001b[1;36m1\u001b[0m\u001b[1;33m)\u001b[0m\u001b[1;33m\u001b[0m\u001b[1;33m\u001b[0m\u001b[0m\n\u001b[0;32m    565\u001b[0m     \u001b[0mmax_k\u001b[0m \u001b[1;33m=\u001b[0m \u001b[0mmin\u001b[0m\u001b[1;33m(\u001b[0m\u001b[0mpath_scores_v\u001b[0m\u001b[1;33m.\u001b[0m\u001b[0msize\u001b[0m\u001b[1;33m(\u001b[0m\u001b[1;33m)\u001b[0m\u001b[1;33m[\u001b[0m\u001b[1;36m0\u001b[0m\u001b[1;33m]\u001b[0m\u001b[1;33m,\u001b[0m \u001b[0mtop_k\u001b[0m\u001b[1;33m)\u001b[0m\u001b[1;33m\u001b[0m\u001b[1;33m\u001b[0m\u001b[0m\n\u001b[1;32m--> 566\u001b[1;33m     \u001b[0mviterbi_scores\u001b[0m\u001b[1;33m,\u001b[0m \u001b[0mbest_paths\u001b[0m \u001b[1;33m=\u001b[0m \u001b[0mtorch\u001b[0m\u001b[1;33m.\u001b[0m\u001b[0mtopk\u001b[0m\u001b[1;33m(\u001b[0m\u001b[0mpath_scores_v\u001b[0m\u001b[1;33m,\u001b[0m \u001b[0mk\u001b[0m\u001b[1;33m=\u001b[0m\u001b[0mmax_k\u001b[0m\u001b[1;33m,\u001b[0m \u001b[0mdim\u001b[0m\u001b[1;33m=\u001b[0m\u001b[1;36m0\u001b[0m\u001b[1;33m)\u001b[0m\u001b[1;33m\u001b[0m\u001b[1;33m\u001b[0m\u001b[0m\n\u001b[0m\u001b[0;32m    567\u001b[0m     \u001b[0mviterbi_paths\u001b[0m \u001b[1;33m=\u001b[0m \u001b[1;33m[\u001b[0m\u001b[1;33m]\u001b[0m\u001b[1;33m\u001b[0m\u001b[1;33m\u001b[0m\u001b[0m\n\u001b[0;32m    568\u001b[0m     \u001b[1;32mfor\u001b[0m \u001b[0mi\u001b[0m \u001b[1;32min\u001b[0m \u001b[0mrange\u001b[0m\u001b[1;33m(\u001b[0m\u001b[0mmax_k\u001b[0m\u001b[1;33m)\u001b[0m\u001b[1;33m:\u001b[0m\u001b[1;33m\u001b[0m\u001b[1;33m\u001b[0m\u001b[0m\n",
      "\u001b[1;31mKeyboardInterrupt\u001b[0m: "
     ],
     "output_type": "error"
    }
   ],
   "source": [
    "from tqdm import tqdm\n",
    "from time import time\n",
    "header = ['original', 'altered', 'alteration_id', 'len_diff', 'depth_diff', 'n_root_children_diff', \n",
    "          'n_word_diff', 'word_diff', 'diff_pos', 'diff_dep', 'new_deps', 'root_children_dep_diff',\n",
    "           'root_children_text_diff', 'new_rels', 'rel_diff']\n",
    "stats = []\n",
    "n_samples, n_alterations, nlatents = 50, 10, h_params.n_latents\n",
    "# Generating a hundred sentences\n",
    "text, samples, params = get_sentences(model, n_samples=n_samples, gen_len=16, sample_w=False, vary_z=True, complete=None)\n",
    "orig_rels = batch_sent_relations(text)\n",
    "batch_size = 25\n",
    "for i in range(int(n_samples/batch_size)):\n",
    "    for j in tqdm(range(sum(nlatents)), desc=\"Processing sample {}\".format(str(i))):\n",
    "        # Altering the sentences\n",
    "        alt_start = time()\n",
    "        alt_text, _, _ = get_alternative_sentences(model, prev_latent_vals={k:v[i*batch_size:(i+1)*batch_size] for k, v in samples.items()},\n",
    "                                                   params=None, var_z_ids=[j], n_samples=n_alterations,\n",
    "                                                   gen_len=16, complete=None)\n",
    "        \n",
    "        alt_rels = batch_sent_relations(alt_text)\n",
    "        print(\"alt time \", time()-alt_start)\n",
    "        stat_start = time()\n",
    "        # Getting alteration statistics\n",
    "        for k in range(n_alterations*batch_size):\n",
    "            orig_text = text[(i*batch_size)+k%batch_size]\n",
    "            try:\n",
    "               #  len_diff, depth_diff, n_root_children_diff, n_word_diff, word_diff, diff_pos, diff_dep, new_deps, root_children_dep_diff, \\\n",
    "               # root_children_text_diff, new_rels, rel_diff = get_sentence_statistics(orig_text, alt_text[k],\n",
    "               #                                                                       orig_rels[(i*batch_size)+k%batch_size],\n",
    "               #                                                                       alt_rels[k])\n",
    "                new_rels, rel_diff = get_sentence_statistics2(orig_text, alt_text[k],\n",
    "                                                                                     orig_rels[(i*batch_size)+k%batch_size],\n",
    "                                                                                     alt_rels[k])\n",
    "                len_diff, depth_diff, n_root_children_diff, n_word_diff, word_diff, diff_pos, diff_dep, new_deps,\\\n",
    "                root_children_dep_diff, root_children_text_diff = 0, 0, 0, 0, 0, 0, 0, 0, 0, 0\n",
    "            except RecursionError or IndexError:\n",
    "                print(orig_text, alt_text[k])\n",
    "                continue\n",
    "            stats.append([orig_text, alt_text[k], j, len_diff, depth_diff, n_root_children_diff, n_word_diff, \n",
    "                          word_diff, diff_pos, diff_dep, new_deps, root_children_dep_diff, \n",
    "                          root_children_text_diff, new_rels, rel_diff])\n",
    "        print(\"stat_time\", time()-stat_start)\n",
    "\n"
   ]
  },
  {
   "cell_type": "code",
   "execution_count": 56,
   "metadata": {
    "collapsed": true
   },
   "outputs": [
    {
     "name": "stdout",
     "output_type": "stream",
     "text": [
      "48000\n3014\n3223\n7          ['ARG2']\n17     ['ARGM-LOC']\n27         ['ARG2']\n32         ['ARG1']\n52         ['ARG1']\n67         ['ARG2']\n72         ['ARG1']\n92         ['ARG1']\n112        ['ARG1']\n119           ['V']\n132        ['ARG1']\n152        ['ARG1']\n172        ['ARG1']\n192        ['ARG1']\n207        ['ARG2']\n212        ['ARG1']\n217    ['ARGM-LOC']\n232        ['ARG1']\n237    ['ARGM-LOC']\n247        ['ARG2']\nName: rel_diff, dtype: object\n<class 'str'>\n"
     ]
    }
   ],
   "source": [
    "import pandas as pd\n",
    "header = ['original', 'altered', 'alteration_id', 'len_diff', 'depth_diff', 'n_root_children_diff', \n",
    "          'n_word_diff', 'word_diff', 'diff_pos', 'diff_dep', 'new_deps', 'root_children_dep_diff',\n",
    "           'root_children_text_diff', 'new_rels', 'rel_diff']\n",
    "# df = pd.DataFrame(stats, columns=header)\n",
    "df = pd.read_csv('Autoreg5stats2.csv')\n",
    "grouped = df.groupby('alteration_id')\n",
    "diff_df = grouped.mean()[['len_diff', 'depth_diff', 'n_root_children_diff']]\n",
    "diff_df['len_diff'] /= diff_df['len_diff'].max()\n",
    "diff_df['depth_diff'] /= diff_df['depth_diff'].max()\n",
    "diff_df['n_root_children_diff'] /= diff_df['n_root_children_diff'].max()\n",
    "# print(diff_df.sort_values('depth_diff', axis=0))\n",
    "print(len(df['rel_diff']))\n",
    "print(len(df['rel_diff'][[len(el)>2 for el in df['rel_diff']]]))\n",
    "print(len(df['new_rels'][[len(el)>2 for el in df['new_rels']]]))\n",
    "print(df['rel_diff'][[len(el)>2 for el in df['rel_diff']]][:20])\n",
    "print(type(df['rel_diff'][[len(el)>2 for el in df['rel_diff']]].array[0]))"
   ]
  },
  {
   "cell_type": "code",
   "execution_count": 156,
   "metadata": {
    "collapsed": true
   },
   "outputs": [
    {
     "name": "stderr",
     "output_type": "stream",
     "text": [
      "E:\\ProgramData\\Anaconda3\\lib\\site-packages\\ipykernel_launcher.py:44: FutureWarning: elementwise comparison failed; returning scalar instead, but in the future will perform elementwise comparison\n"
     ]
    },
    {
     "name": "stderr",
     "output_type": "stream",
     "text": [
      "E:\\ProgramData\\Anaconda3\\lib\\site-packages\\ipykernel_launcher.py:50: FutureWarning: elementwise comparison failed; returning scalar instead, but in the future will perform elementwise comparison\n"
     ]
    },
    {
     "name": "stdout",
     "output_type": "stream",
     "text": [
      "disentanglement scores : 0.135 and 0.43500000000000005\n"
     ]
    },
    {
     "name": "stderr",
     "output_type": "stream",
     "text": [
      "E:\\ProgramData\\Anaconda3\\lib\\site-packages\\ipykernel_launcher.py:16: DeprecationWarning: The binary mode of fromstring is deprecated, as it behaves surprisingly on unicode inputs. Use frombuffer instead\n  app.launch_new_instance()\n"
     ]
    },
    {
     "data": {
      "text/plain": [
       "(0.135, 0.43500000000000005)"
      ]
     },
     "execution_count": 156,
     "metadata": {},
     "output_type": "execute_result"
    },
    {
     "data": {
      "image/png": "[encoded data removed]",
      "text/plain": [
       "<Figure size 1440x360 with 2 Axes>"
      ]
     },
     "metadata": {},
     "output_type": "display_data"
    }
   ],
   "source": [
    "import matplotlib.pyplot as plt\n",
    "import seaborn as sns \n",
    "%matplotlib inline \n",
    "sns.set_style(\"ticks\", {\"xtick.major.color\": 'white', \"ytick.major.color\": 'white'})\n",
    "#dpi = 72\n",
    "\n",
    "def show_df_hm2(df):\n",
    "    snsplt = sns.heatmap(df, cmap ='RdYlGn', linewidths = 0.20, annot = False)#, ax=ax)\n",
    "    b, t = plt.ylim() # discover the values for bottom and top\n",
    "    b += 0.5 # Add 0.5 to the bottom\n",
    "    t -= 0.5 # Subtract 0.5 from the top\n",
    "    plt.ylim(b, t) # update the ylim(bottom, top) values\n",
    "    plt.gcf().canvas.draw()\n",
    "    img_arr = np.fromstring(plt.gcf().canvas.tostring_rgb(), \n",
    "                        dtype=np.uint8,\n",
    "                        sep='').reshape((360, 1440, 3))\n",
    "    swriter.add_image(\"test_hm\", torch.from_numpy(img_arr).permute(2,0,1))\n",
    "    return snsplt.get_figure()\n",
    "\n",
    "pd.set_option(\"display.max_columns\", 100)\n",
    "pd.set_option('display.width', 150)\n",
    "pd.options.display.max_rows = 10000\n",
    "\n",
    "def revert_to_l1(el):\n",
    "    if type(el) == list or type(el) == np.ndarray: \n",
    "        return el\n",
    "    if len(el[1:-1]):\n",
    "        el = el.replace('(', '').replace(\"'\", '').replace(' ', '').replace('),', ')').replace(']', '').replace('[', '')\n",
    "        output = [el_i.split(\",\") for el_i in el.split(')') if len(el_i)>3]\n",
    "        if len(output)>1: \n",
    "            output = np.concatenate(output)\n",
    "        return np.unique(output)\n",
    "    else:\n",
    "        return []\n",
    "\n",
    "\n",
    "def disentang_metric(this_df):\n",
    "    this_df['new_rels'] = this_df['new_rels'].map(revert_to_l1)\n",
    "    this_df['rel_diff'] = this_df['rel_diff'].map(revert_to_l1)\n",
    "    rel_types = np.unique(np.concatenate(this_df['new_rels'].array))\n",
    "    for ty in rel_types:\n",
    "        concerned = []\n",
    "        for deps in this_df['new_rels'].array:\n",
    "            concerned.append(ty in deps)\n",
    "        this_df[ty] = concerned\n",
    "    d_rel_types = ['d_'+ty for ty in np.unique(np.concatenate(this_df['rel_diff'].array))]\n",
    "    for ty in d_rel_types:\n",
    "        concerned = []\n",
    "        for deps in this_df['rel_diff'].array:\n",
    "            concerned.append(str(ty[2:]) in deps)\n",
    "        this_df[ty] = concerned\n",
    "    grouped = this_df.groupby('alteration_id')\n",
    "    \n",
    "    # print(grouped.mean()[rel_types])\n",
    "    dis_diffs1 = 0\n",
    "    for ty in d_rel_types:\n",
    "        largest2 = np.array(grouped.mean().nlargest(2, ty)[ty].array)\n",
    "        dis_diffs1 += largest2[0] - largest2[1]\n",
    "    dis_diffs2 = 0\n",
    "    for ty in rel_types:\n",
    "        largest2 = np.array(grouped.mean().nlargest(2, ty)[ty].array)\n",
    "        dis_diffs2 += largest2[0] - largest2[1]\n",
    "    print(\"disentanglement scores : {} and {}\".format(dis_diffs1, dis_diffs2))\n",
    "    plt.figure(figsize=(20, 5))\n",
    "    show_df_hm2(grouped.mean()[rel_types].transpose())\n",
    "    # plt.figure(figsize=(20, 2))\n",
    "    # show_df_hm2(grouped.mean()[d_rel_types].transpose())\n",
    "    return dis_diffs1, dis_diffs2\n",
    "\n",
    "disentang_metric(df)"
   ]
  },
  {
   "cell_type": "code",
   "execution_count": 126,
   "metadata": {},
   "outputs": [],
   "source": [
    "from torch.utils.tensorboard import SummaryWriter\n",
    "swriter = SummaryWriter(\"tb_logs/test_dis\")"
   ]
  },
  {
   "cell_type": "code",
   "execution_count": 98,
   "metadata": {},
   "outputs": [
    {
     "name": "stderr",
     "output_type": "stream",
     "text": [
      "\r  0%|                                                                                           | 0/50 [00:00<?, ?it/s]"
     ]
    },
    {
     "name": "stderr",
     "output_type": "stream",
     "text": [
      "E:\\ProgramData\\Anaconda3\\lib\\site-packages\\ipykernel_launcher.py:39: FutureWarning: elementwise comparison failed; returning scalar instead, but in the future will perform elementwise comparison\n"
     ]
    },
    {
     "name": "stderr",
     "output_type": "stream",
     "text": [
      "E:\\ProgramData\\Anaconda3\\lib\\site-packages\\ipykernel_launcher.py:45: FutureWarning: elementwise comparison failed; returning scalar instead, but in the future will perform elementwise comparison\n"
     ]
    },
    {
     "name": "stderr",
     "output_type": "stream",
     "text": [
      "\r  2%|█▋                                                                                 | 1/50 [00:00<00:40,  1.22it/s]"
     ]
    },
    {
     "name": "stderr",
     "output_type": "stream",
     "text": [
      "\r  4%|███▎                                                                               | 2/50 [00:01<00:42,  1.13it/s]"
     ]
    },
    {
     "name": "stderr",
     "output_type": "stream",
     "text": [
      "\r  6%|████▉                                                                              | 3/50 [00:02<00:41,  1.13it/s]"
     ]
    },
    {
     "name": "stderr",
     "output_type": "stream",
     "text": [
      "\r  8%|██████▋                                                                            | 4/50 [00:03<00:39,  1.16it/s]"
     ]
    },
    {
     "name": "stderr",
     "output_type": "stream",
     "text": [
      "\r 10%|████████▎                                                                          | 5/50 [00:04<00:38,  1.18it/s]"
     ]
    },
    {
     "name": "stderr",
     "output_type": "stream",
     "text": [
      "\r 12%|█████████▉                                                                         | 6/50 [00:05<00:36,  1.22it/s]"
     ]
    },
    {
     "name": "stderr",
     "output_type": "stream",
     "text": [
      "\r 14%|███████████▌                                                                       | 7/50 [00:05<00:35,  1.21it/s]"
     ]
    },
    {
     "name": "stderr",
     "output_type": "stream",
     "text": [
      "\r 16%|█████████████▎                                                                     | 8/50 [00:06<00:34,  1.23it/s]"
     ]
    },
    {
     "name": "stderr",
     "output_type": "stream",
     "text": [
      "\r 18%|██████████████▉                                                                    | 9/50 [00:07<00:33,  1.24it/s]"
     ]
    },
    {
     "name": "stderr",
     "output_type": "stream",
     "text": [
      "\r 20%|████████████████▍                                                                 | 10/50 [00:08<00:31,  1.25it/s]"
     ]
    },
    {
     "name": "stderr",
     "output_type": "stream",
     "text": [
      "\r 22%|██████████████████                                                                | 11/50 [00:09<00:30,  1.27it/s]"
     ]
    },
    {
     "name": "stderr",
     "output_type": "stream",
     "text": [
      "\r 24%|███████████████████▋                                                              | 12/50 [00:09<00:29,  1.30it/s]"
     ]
    },
    {
     "name": "stderr",
     "output_type": "stream",
     "text": [
      "\r 26%|█████████████████████▎                                                            | 13/50 [00:10<00:27,  1.33it/s]"
     ]
    },
    {
     "name": "stderr",
     "output_type": "stream",
     "text": [
      "\r 28%|██████████████████████▉                                                           | 14/50 [00:11<00:26,  1.35it/s]"
     ]
    },
    {
     "name": "stderr",
     "output_type": "stream",
     "text": [
      "\r 30%|████████████████████████▌                                                         | 15/50 [00:11<00:25,  1.38it/s]"
     ]
    },
    {
     "name": "stderr",
     "output_type": "stream",
     "text": [
      "\r 32%|██████████████████████████▏                                                       | 16/50 [00:12<00:24,  1.41it/s]"
     ]
    },
    {
     "name": "stderr",
     "output_type": "stream",
     "text": [
      "\r 34%|███████████████████████████▉                                                      | 17/50 [00:13<00:22,  1.45it/s]"
     ]
    },
    {
     "name": "stderr",
     "output_type": "stream",
     "text": [
      "\r 36%|█████████████████████████████▌                                                    | 18/50 [00:14<00:22,  1.40it/s]"
     ]
    },
    {
     "name": "stderr",
     "output_type": "stream",
     "text": [
      "\r 38%|███████████████████████████████▏                                                  | 19/50 [00:14<00:21,  1.41it/s]"
     ]
    },
    {
     "name": "stderr",
     "output_type": "stream",
     "text": [
      "\r 40%|████████████████████████████████▊                                                 | 20/50 [00:15<00:20,  1.44it/s]"
     ]
    },
    {
     "name": "stderr",
     "output_type": "stream",
     "text": [
      "\r 42%|██████████████████████████████████▍                                               | 21/50 [00:16<00:20,  1.44it/s]"
     ]
    },
    {
     "name": "stderr",
     "output_type": "stream",
     "text": [
      "\r 44%|████████████████████████████████████                                              | 22/50 [00:16<00:19,  1.44it/s]"
     ]
    },
    {
     "name": "stderr",
     "output_type": "stream",
     "text": [
      "\r 46%|█████████████████████████████████████▋                                            | 23/50 [00:17<00:18,  1.44it/s]"
     ]
    },
    {
     "name": "stderr",
     "output_type": "stream",
     "text": [
      "\r 48%|███████████████████████████████████████▎                                          | 24/50 [00:18<00:17,  1.44it/s]"
     ]
    },
    {
     "name": "stderr",
     "output_type": "stream",
     "text": [
      "\r 50%|█████████████████████████████████████████                                         | 25/50 [00:18<00:17,  1.42it/s]"
     ]
    },
    {
     "name": "stderr",
     "output_type": "stream",
     "text": [
      "\r 52%|██████████████████████████████████████████▋                                       | 26/50 [00:19<00:16,  1.44it/s]"
     ]
    },
    {
     "name": "stderr",
     "output_type": "stream",
     "text": [
      "\r 54%|████████████████████████████████████████████▎                                     | 27/50 [00:20<00:15,  1.44it/s]"
     ]
    },
    {
     "name": "stderr",
     "output_type": "stream",
     "text": [
      "\r 56%|█████████████████████████████████████████████▉                                    | 28/50 [00:20<00:15,  1.44it/s]"
     ]
    },
    {
     "name": "stderr",
     "output_type": "stream",
     "text": [
      "\r 58%|███████████████████████████████████████████████▌                                  | 29/50 [00:21<00:14,  1.42it/s]"
     ]
    },
    {
     "name": "stderr",
     "output_type": "stream",
     "text": [
      "\r 60%|█████████████████████████████████████████████████▏                                | 30/50 [00:22<00:13,  1.43it/s]"
     ]
    },
    {
     "name": "stderr",
     "output_type": "stream",
     "text": [
      "\r 62%|██████████████████████████████████████████████████▊                               | 31/50 [00:23<00:13,  1.43it/s]"
     ]
    },
    {
     "name": "stderr",
     "output_type": "stream",
     "text": [
      "\r 64%|████████████████████████████████████████████████████▍                             | 32/50 [00:23<00:12,  1.47it/s]"
     ]
    },
    {
     "name": "stderr",
     "output_type": "stream",
     "text": [
      "\r 66%|██████████████████████████████████████████████████████                            | 33/50 [00:24<00:11,  1.46it/s]"
     ]
    },
    {
     "name": "stderr",
     "output_type": "stream",
     "text": [
      "\r 68%|███████████████████████████████████████████████████████▊                          | 34/50 [00:25<00:10,  1.47it/s]"
     ]
    },
    {
     "name": "stderr",
     "output_type": "stream",
     "text": [
      "\r 70%|█████████████████████████████████████████████████████████▍                        | 35/50 [00:25<00:10,  1.46it/s]"
     ]
    },
    {
     "name": "stderr",
     "output_type": "stream",
     "text": [
      "\r 72%|███████████████████████████████████████████████████████████                       | 36/50 [00:26<00:09,  1.48it/s]"
     ]
    },
    {
     "name": "stderr",
     "output_type": "stream",
     "text": [
      "\r 74%|████████████████████████████████████████████████████████████▋                     | 37/50 [00:27<00:08,  1.48it/s]"
     ]
    },
    {
     "name": "stderr",
     "output_type": "stream",
     "text": [
      "\r 76%|██████████████████████████████████████████████████████████████▎                   | 38/50 [00:27<00:08,  1.47it/s]"
     ]
    },
    {
     "name": "stderr",
     "output_type": "stream",
     "text": [
      "\r 78%|███████████████████████████████████████████████████████████████▉                  | 39/50 [00:28<00:07,  1.47it/s]"
     ]
    },
    {
     "name": "stderr",
     "output_type": "stream",
     "text": [
      "\r 80%|█████████████████████████████████████████████████████████████████▌                | 40/50 [00:29<00:06,  1.48it/s]"
     ]
    },
    {
     "name": "stderr",
     "output_type": "stream",
     "text": [
      "\r 82%|███████████████████████████████████████████████████████████████████▏              | 41/50 [00:29<00:06,  1.44it/s]"
     ]
    },
    {
     "name": "stderr",
     "output_type": "stream",
     "text": [
      "\r 84%|████████████████████████████████████████████████████████████████████▉             | 42/50 [00:30<00:05,  1.46it/s]"
     ]
    },
    {
     "name": "stderr",
     "output_type": "stream",
     "text": [
      "\r 86%|██████████████████████████████████████████████████████████████████████▌           | 43/50 [00:31<00:04,  1.45it/s]"
     ]
    },
    {
     "name": "stderr",
     "output_type": "stream",
     "text": [
      "\r 88%|████████████████████████████████████████████████████████████████████████▏         | 44/50 [00:31<00:04,  1.45it/s]"
     ]
    },
    {
     "name": "stderr",
     "output_type": "stream",
     "text": [
      "\r 90%|█████████████████████████████████████████████████████████████████████████▊        | 45/50 [00:32<00:03,  1.46it/s]"
     ]
    },
    {
     "name": "stderr",
     "output_type": "stream",
     "text": [
      "\r 92%|███████████████████████████████████████████████████████████████████████████▍      | 46/50 [00:33<00:02,  1.47it/s]"
     ]
    },
    {
     "name": "stderr",
     "output_type": "stream",
     "text": [
      "\r 94%|█████████████████████████████████████████████████████████████████████████████     | 47/50 [00:33<00:02,  1.46it/s]"
     ]
    },
    {
     "name": "stderr",
     "output_type": "stream",
     "text": [
      "\r 96%|██████████████████████████████████████████████████████████████████████████████▋   | 48/50 [00:34<00:01,  1.46it/s]"
     ]
    },
    {
     "name": "stderr",
     "output_type": "stream",
     "text": [
      "\r 98%|████████████████████████████████████████████████████████████████████████████████▎ | 49/50 [00:35<00:00,  1.46it/s]"
     ]
    },
    {
     "name": "stderr",
     "output_type": "stream",
     "text": [
      "\r100%|██████████████████████████████████████████████████████████████████████████████████| 50/50 [00:35<00:00,  1.46it/s]"
     ]
    },
    {
     "name": "stderr",
     "output_type": "stream",
     "text": [
      "\r100%|██████████████████████████████████████████████████████████████████████████████████| 50/50 [00:35<00:00,  1.39it/s]"
     ]
    },
    {
     "name": "stdout",
     "output_type": "stream",
     "text": [
      "Score 1: 0.13728, +-0.024002533199643742\nScore 2: 0.4466400000000001, +-0.06397179378444848\n"
     ]
    },
    {
     "name": "stderr",
     "output_type": "stream",
     "text": [
      "\n"
     ]
    }
   ],
   "source": [
    "proportion, tries, scores1, scores2 = 0.5, 50, [], []\n",
    "for _ in tqdm(range(tries)):\n",
    "    samples = pd.concat([df[df['alteration_id']==i].sample(frac=proportion) for i in range(48)])\n",
    "    sc1, sc2 = disentang_metric(samples)\n",
    "    scores1.append(sc1)\n",
    "    scores2.append(sc2)\n",
    "print(\"Score 1: {}, +-{}\".format(np.mean(scores1), np.std(scores1)))\n",
    "print(\"Score 2: {}, +-{}\".format(np.mean(scores2), np.std(scores2)))"
   ]
  },
  {
   "cell_type": "code",
   "execution_count": 15,
   "metadata": {
    "collapsed": true
   },
   "outputs": [
    {
     "name": "stderr",
     "output_type": "stream",
     "text": [
      "\r  0%|                                                                                           | 0/27 [00:00<?, ?it/s]"
     ]
    },
    {
     "name": "stdout",
     "output_type": "stream",
     "text": [
      "[]\n"
     ]
    },
    {
     "name": "stderr",
     "output_type": "stream",
     "text": [
      "E:\\ProgramData\\Anaconda3\\lib\\site-packages\\ipykernel_launcher.py:34: FutureWarning: elementwise comparison failed; returning scalar instead, but in the future will perform elementwise comparison\n\r 11%|█████████▏                                                                         | 3/27 [00:00<00:00, 25.49it/s]"
     ]
    },
    {
     "name": "stderr",
     "output_type": "stream",
     "text": [
      "\r 19%|███████████████▎                                                                   | 5/27 [00:00<00:01, 21.73it/s]"
     ]
    },
    {
     "name": "stderr",
     "output_type": "stream",
     "text": [
      "\r 30%|████████████████████████▌                                                          | 8/27 [00:00<00:00, 22.69it/s]"
     ]
    },
    {
     "name": "stderr",
     "output_type": "stream",
     "text": [
      "\r 41%|█████████████████████████████████▍                                                | 11/27 [00:00<00:00, 22.93it/s]"
     ]
    },
    {
     "name": "stderr",
     "output_type": "stream",
     "text": [
      "\r 52%|██████████████████████████████████████████▌                                       | 14/27 [00:00<00:00, 23.36it/s]"
     ]
    },
    {
     "name": "stderr",
     "output_type": "stream",
     "text": [
      "\r 63%|███████████████████████████████████████████████████▋                              | 17/27 [00:00<00:00, 22.72it/s]"
     ]
    },
    {
     "name": "stderr",
     "output_type": "stream",
     "text": [
      "\r 74%|████████████████████████████████████████████████████████████▋                     | 20/27 [00:00<00:00, 21.80it/s]"
     ]
    },
    {
     "name": "stderr",
     "output_type": "stream",
     "text": [
      "\r 85%|█████████████████████████████████████████████████████████████████████▊            | 23/27 [00:01<00:00, 21.11it/s]"
     ]
    },
    {
     "name": "stderr",
     "output_type": "stream",
     "text": [
      "\r 93%|███████████████████████████████████████████████████████████████████████████▉      | 25/27 [00:01<00:00, 20.46it/s]"
     ]
    },
    {
     "name": "stderr",
     "output_type": "stream",
     "text": [
      "\r100%|██████████████████████████████████████████████████████████████████████████████████| 27/27 [00:01<00:00, 21.47it/s]"
     ]
    },
    {
     "name": "stderr",
     "output_type": "stream",
     "text": [
      "\n"
     ]
    },
    {
     "name": "stderr",
     "output_type": "stream",
     "text": [
      "\r  0%|                                                                                           | 0/22 [00:00<?, ?it/s]"
     ]
    },
    {
     "name": "stderr",
     "output_type": "stream",
     "text": [
      "E:\\ProgramData\\Anaconda3\\lib\\site-packages\\ipykernel_launcher.py:40: FutureWarning: elementwise comparison failed; returning scalar instead, but in the future will perform elementwise comparison\n"
     ]
    },
    {
     "name": "stderr",
     "output_type": "stream",
     "text": [
      "\r  9%|███████▌                                                                           | 2/22 [00:00<00:01, 18.74it/s]"
     ]
    },
    {
     "name": "stderr",
     "output_type": "stream",
     "text": [
      "\r 18%|███████████████                                                                    | 4/22 [00:00<00:00, 18.90it/s]"
     ]
    },
    {
     "name": "stderr",
     "output_type": "stream",
     "text": [
      "\r 32%|██████████████████████████▍                                                        | 7/22 [00:00<00:00, 19.38it/s]"
     ]
    },
    {
     "name": "stderr",
     "output_type": "stream",
     "text": [
      "\r 41%|█████████████████████████████████▉                                                 | 9/22 [00:00<00:00, 19.30it/s]"
     ]
    },
    {
     "name": "stderr",
     "output_type": "stream",
     "text": [
      "\r 50%|█████████████████████████████████████████                                         | 11/22 [00:00<00:00, 17.34it/s]"
     ]
    },
    {
     "name": "stderr",
     "output_type": "stream",
     "text": [
      "\r 59%|████████████████████████████████████████████████▍                                 | 13/22 [00:00<00:00, 17.02it/s]"
     ]
    },
    {
     "name": "stderr",
     "output_type": "stream",
     "text": [
      "\r 68%|███████████████████████████████████████████████████████▉                          | 15/22 [00:00<00:00, 16.80it/s]"
     ]
    },
    {
     "name": "stderr",
     "output_type": "stream",
     "text": [
      "\r 82%|███████████████████████████████████████████████████████████████████               | 18/22 [00:00<00:00, 18.37it/s]"
     ]
    },
    {
     "name": "stderr",
     "output_type": "stream",
     "text": [
      "\r 95%|██████████████████████████████████████████████████████████████████████████████▎   | 21/22 [00:01<00:00, 19.77it/s]"
     ]
    },
    {
     "name": "stderr",
     "output_type": "stream",
     "text": [
      "\r100%|██████████████████████████████████████████████████████████████████████████████████| 22/22 [00:01<00:00, 19.16it/s]"
     ]
    },
    {
     "name": "stderr",
     "output_type": "stream",
     "text": [
      "\n"
     ]
    },
    {
     "name": "stderr",
     "output_type": "stream",
     "text": [
      "\r  0%|                                                                                           | 0/16 [00:00<?, ?it/s]"
     ]
    },
    {
     "name": "stderr",
     "output_type": "stream",
     "text": [
      "E:\\ProgramData\\Anaconda3\\lib\\site-packages\\ipykernel_launcher.py:47: FutureWarning: elementwise comparison failed; returning scalar instead, but in the future will perform elementwise comparison\n"
     ]
    },
    {
     "name": "stderr",
     "output_type": "stream",
     "text": [
      "\r 19%|███████████████▌                                                                   | 3/16 [00:00<00:00, 25.93it/s]"
     ]
    },
    {
     "name": "stderr",
     "output_type": "stream",
     "text": [
      "\r 38%|███████████████████████████████▏                                                   | 6/16 [00:00<00:00, 26.27it/s]"
     ]
    },
    {
     "name": "stderr",
     "output_type": "stream",
     "text": [
      "\r 56%|██████████████████████████████████████████████▋                                    | 9/16 [00:00<00:00, 26.51it/s]"
     ]
    },
    {
     "name": "stderr",
     "output_type": "stream",
     "text": [
      "\r 75%|█████████████████████████████████████████████████████████████▌                    | 12/16 [00:00<00:00, 26.27it/s]"
     ]
    },
    {
     "name": "stderr",
     "output_type": "stream",
     "text": [
      "\r 94%|████████████████████████████████████████████████████████████████████████████▉     | 15/16 [00:00<00:00, 25.18it/s]"
     ]
    },
    {
     "name": "stderr",
     "output_type": "stream",
     "text": [
      "\r100%|██████████████████████████████████████████████████████████████████████████████████| 16/16 [00:00<00:00, 25.51it/s]"
     ]
    },
    {
     "name": "stderr",
     "output_type": "stream",
     "text": [
      "\n"
     ]
    },
    {
     "name": "stderr",
     "output_type": "stream",
     "text": [
      "\r  0%|                                                                                            | 0/7 [00:00<?, ?it/s]"
     ]
    },
    {
     "name": "stderr",
     "output_type": "stream",
     "text": [
      "E:\\ProgramData\\Anaconda3\\lib\\site-packages\\ipykernel_launcher.py:53: FutureWarning: elementwise comparison failed; returning scalar instead, but in the future will perform elementwise comparison\n"
     ]
    },
    {
     "name": "stderr",
     "output_type": "stream",
     "text": [
      "\r 43%|████████████████████████████████████                                                | 3/7 [00:00<00:00, 24.65it/s]"
     ]
    },
    {
     "name": "stderr",
     "output_type": "stream",
     "text": [
      "\r 86%|████████████████████████████████████████████████████████████████████████            | 6/7 [00:00<00:00, 24.23it/s]"
     ]
    },
    {
     "name": "stderr",
     "output_type": "stream",
     "text": [
      "\r100%|████████████████████████████████████████████████████████████████████████████████████| 7/7 [00:00<00:00, 23.32it/s]"
     ]
    },
    {
     "name": "stderr",
     "output_type": "stream",
     "text": [
      "\n"
     ]
    }
   ],
   "source": [
    "# print(np.unique(df['new_deps'].array, return_counts=True))#'root_children_diff',\n",
    "from tqdm import tqdm\n",
    "import numpy as np\n",
    "header = ['original', 'altered', 'alteration_id', 'len_diff', 'depth_diff', 'n_root_children_diff', \n",
    "          'n_word_diff', 'word_diff', 'diff_pos', 'diff_dep', 'new_deps', 'root_children_dep_diff',\n",
    "           'root_children_text_diff', 'new_rels', 'rel_diff']\n",
    "print(df['diff_dep'].array[116], )\n",
    "\n",
    "#df['diff_dep'] = df['diff_dep'].map(revert_to_l1)\n",
    "# df['new_deps'] = df['new_deps'].map(revert_to_l1)\n",
    "# df['root_children_dep_diff'] = df['root_children_dep_diff'].map(revert_to_l1)\n",
    "# df['new_rels'] = df['new_rels'].map(revert_to_l1)\n",
    "# df['rel_diff'] = df['rel_diff'].map(revert_to_l1)\n",
    "# print(df['diff_dep'].array[0], df['diff_dep'].array[7])\n",
    "# d_dep_types = ['d_'+ty for ty in np.unique(np.concatenate(df['diff_dep'].array))]\n",
    "# for ty in tqdm(d_dep_types):\n",
    "#     concerned = []\n",
    "#     for deps in df['diff_dep'].array.astype(list):\n",
    "#         concerned.append(ty[2:] in deps)\n",
    "#     df[ty] = concerned\n",
    "\n",
    "dep_types = np.unique(np.concatenate(df['new_deps'].array))\n",
    "for ty in tqdm(dep_types):\n",
    "    concerned = []\n",
    "    for deps in df['new_deps'].array:\n",
    "        concerned.append(ty in deps)\n",
    "    df[ty] = concerned\n",
    "c_dep_types = ['c_'+ty for ty in np.unique(np.concatenate(df['root_children_dep_diff'].array))]\n",
    "for ty in tqdm(c_dep_types):\n",
    "    concerned = []\n",
    "    for deps in df['root_children_dep_diff'].array:\n",
    "        concerned.append(ty[2:] in deps)\n",
    "    df[ty] = concerned\n",
    "\n",
    "rel_types = np.unique(np.concatenate(df['new_rels'].array))\n",
    "for ty in tqdm(rel_types):\n",
    "    concerned = []\n",
    "    for deps in df['new_rels'].array:\n",
    "        concerned.append(ty in deps)\n",
    "    df[ty] = concerned\n",
    "d_rel_types = ['d_'+ty for ty in np.unique(np.concatenate(df['rel_diff'].array))]\n",
    "for ty in tqdm(d_rel_types):\n",
    "    concerned = []\n",
    "    for deps in df['rel_diff'].array:\n",
    "        concerned.append(ty[2:] in deps)\n",
    "    df[ty] = concerned\n",
    "\n"
   ]
  },
  {
   "cell_type": "code",
   "execution_count": 16,
   "metadata": {
    "collapsed": true
   },
   "outputs": [
    {
     "name": "stdout",
     "output_type": "stream",
     "text": [
      "************ ANY ****************\n       *** Values ***\nacl          0.013\nacomp        0.081\nadvcl        0.009\nadvmod       0.042\nagent        0.003\namod         0.342\nappos        0.003\nattr         0.019\naux          0.124\nauxpass      0.005\ncc           0.036\ncompound     0.016\nconj         0.036\ndet          0.003\ndobj         0.352\nexpl         0.003\nmark         0.003\nneg          0.007\nnsubj        0.012\nnsubjpass    0.005\nnummod       0.030\npcomp        0.001\npobj         0.314\nposs         0.105\nprep         0.317\nprt          0.048\nxcomp        0.086\ndtype: float64\n       ***  IDX   ***\nacl          30\nacomp        10\nadvcl        30\nadvmod       30\nagent        10\namod         30\nappos        10\nattr         10\naux          30\nauxpass      10\ncc           30\ncompound      3\nconj         30\ndet          33\ndobj         10\nexpl         30\nmark         30\nneg          30\nnsubj        30\nnsubjpass    30\nnummod       30\npcomp        37\npobj         10\nposs         10\nprep         10\nprt          10\nxcomp        10\ndtype: int64\n************ ROOT ****************\n       *** Values ***\nc_acl          0.001\nc_acomp        0.081\nc_advcl        0.008\nc_advmod       0.043\nc_agent        0.003\nc_amod         0.002\nc_appos        0.002\nc_attr         0.018\nc_aux          0.101\nc_auxpass      0.005\nc_cc           0.003\nc_conj         0.003\nc_det          0.005\nc_dobj         0.324\nc_expl         0.003\nc_neg          0.006\nc_nsubj        0.013\nc_nsubjpass    0.005\nc_prep         0.359\nc_prt          0.046\nc_punct        0.001\nc_xcomp        0.026\ndtype: float64\n       ***  IDX   ***\nc_acl          30\nc_acomp        10\nc_advcl        30\nc_advmod       30\nc_agent        10\nc_amod         10\nc_appos        10\nc_attr         10\nc_aux          10\nc_auxpass      30\nc_cc           47\nc_conj         47\nc_det          30\nc_dobj         10\nc_expl         30\nc_neg          30\nc_nsubj        30\nc_nsubjpass    30\nc_prep         10\nc_prt          10\nc_punct         3\nc_xcomp        10\ndtype: int64\n************ relation differences ****************\n       *** Values ***\nARG0        0.397\nARG1        0.401\nARG2        0.238\nARG4        0.008\nARGM-ADV    0.011\nARGM-COM    0.004\nARGM-DIR    0.114\nARGM-EXT    0.009\nARGM-GOL    0.004\nARGM-LOC    0.259\nARGM-MNR    0.117\nARGM-NEG    0.006\nARGM-PRD    0.001\nARGM-PRP    0.001\nARGM-TMP    0.003\nV           0.168\ndtype: float64\n       ***  IDX   ***\n"
     ]
    },
    {
     "name": "stdout",
     "output_type": "stream",
     "text": [
      "ARG0        10\nARG1        10\nARG2        10\nARG4        30\nARGM-ADV    37\nARGM-COM    39\nARGM-DIR    10\nARGM-EXT    10\nARGM-GOL    11\nARGM-LOC    10\nARGM-MNR    10\nARGM-NEG    30\nARGM-PRD    35\nARGM-PRP    10\nARGM-TMP    30\nV           10\ndtype: int64\n************ relation Appearances ****************\n       *** Values ***\nd_ARG0        0.100\nd_ARG1        0.128\nd_ARG2        0.096\nd_ARGM-DIR    0.033\nd_ARGM-LOC    0.046\nd_ARGM-MNR    0.031\nd_V           0.111\ndtype: float64\n       ***  IDX   ***\nd_ARG0        30\nd_ARG1        35\nd_ARG2        43\nd_ARGM-DIR    37\nd_ARGM-LOC    43\nd_ARGM-MNR    43\nd_V           10\ndtype: int64\n"
     ]
    }
   ],
   "source": [
    "\n",
    "\n",
    "header = ['original', 'altered', 'alteration_id', 'len_diff', 'depth_diff', 'n_root_children_diff', \n",
    "          'n_word_diff', 'word_diff', 'diff_pos', 'diff_dep', 'new_deps', 'root_children_dep_diff',\n",
    "           'root_children_text_diff', 'new_rels', 'rel_diff']\n",
    "pd.set_option(\"display.max_columns\", 100)\n",
    "pd.set_option('display.width', 150)\n",
    "pd.options.display.max_rows = 10000\n",
    "\n",
    "\n",
    "grouped = df.groupby('alteration_id')\n",
    "# print(grouped.mean()[dep_types])\n",
    "print('************ ANY ****************')\n",
    "print('       *** Values ***')\n",
    "print(grouped.mean()[dep_types].max())\n",
    "print('       ***  IDX   ***')\n",
    "print(grouped.mean()[dep_types].idxmax())\n",
    "hm_df1 = grouped.mean()[dep_types].transpose()\n",
    "print('************ ROOT ****************')\n",
    "print('       *** Values ***')\n",
    "print(grouped.mean()[c_dep_types].max())\n",
    "print('       ***  IDX   ***')\n",
    "print(grouped.mean()[c_dep_types].idxmax())\n",
    "hm_df2 = grouped.mean()[c_dep_types].transpose()\n",
    "print('************ relation differences ****************')\n",
    "print('       *** Values ***')\n",
    "print(grouped.mean()[rel_types].max())\n",
    "print('       ***  IDX   ***')\n",
    "print(grouped.mean()[rel_types].idxmax())\n",
    "hm_df3 = grouped.mean()[rel_types].transpose()\n",
    "print('************ relation Appearances ****************')\n",
    "print('       *** Values ***')\n",
    "print(grouped.mean()[d_rel_types].max())\n",
    "print('       ***  IDX   ***')\n",
    "print(grouped.mean()[d_rel_types].idxmax())\n",
    "hm_df4 = grouped.mean()[d_rel_types].transpose()"
   ]
  },
  {
   "cell_type": "code",
   "execution_count": 70,
   "metadata": {
    "collapsed": true
   },
   "outputs": [
    {
     "name": "stdout",
     "output_type": "stream",
     "text": [
      " a group of people are walking ..   a man in a blue shirt is sitting on a couch .. \n a man is sitting down in a park ..   a boy is sitting down in a park .. \n a man is trying to get his car ..   a male is about to do n't get .. \n a man is using a phone ..   a boy is jumping into a pool .. \n a man in a blue shirt is riding a bicycle ..   a man is playing with a ball .. \n a man is wearing a dress ..   a female is wearing a dress .. \n a worker is sitting at a park ..   a man is sitting at a table .. \n a man with a pink shirt is holding a white shirt ..   a man is sitting in a subway .. \n a girl is on a bench ..   a man is on a street .. \n a girl is singing her daughter ..   a man is going to a game .. \n a man is walking on a sidewalk ..   a boy is about to climb a new car .. \n a man is looking at a tree ..   a man is looking at a large bird .. \n a man is outside ..   a skateboarder is outside .. \n a man is waiting for a game ..   a man is on a bench .. \n a man is looking at a boy ..   a man is standing at a restaurant .. \n a boy is holding a ball ..   a crowd of people are walking in a city .. \n a man with a hat is laying down ..   a group of people are walking down a street .. \n a group of people are walking ..   a man is walking down the street .. \n a man is sitting down in a park ..   a group of people are walking .. \n a man is trying to get his car ..   a man is wearing a pink shirt .. \n a man in a blue shirt is riding a bicycle ..   a man is playing with a ball .. \n a man is wearing a dress ..   a group of people are on a street .. \n a worker is sitting at a park ..   a person is sitting in a park .. \n a man with a pink shirt is holding a white shirt ..   a man is sitting in a subway and white .. \n a girl is on a bench ..   a man is on a street .. \n a man is looking at a tree ..   a man in a black shirt is holding a white shirt .. \n a man is outside ..   a man is outside on the sidewalk .. \n a man is waiting for a game ..   a man is on a bench .. \n a man is in a blue jacket ..   a man is in a blue dress .. \n a man is looking at a boy ..   a man is riding a horse .. \n a boy is holding a ball ..   a man is holding a child in a blue and white shirt .. \n a man with a hat is laying down ..   a little girl is riding a bicycle while sitting in a race .. \n a group of people are walking ..   there is a man on a sidewalk .. \n a man is sitting down in a park ..   a group of people are walking in a field .. \n a man is trying to get his car ..   a man is wearing a pink shirt .. \n a man in a blue shirt is riding a bicycle ..   a man is playing with a ball .. \n a man is looking at a boy ..   a person is looking at a boy .. \n a man is wearing a dress ..   a man and a woman are in a crowd .. \n a worker is sitting at a park ..   a group of people are sitting on a bench .. \n a man with a pink shirt is holding a white shirt ..   a person is sitting in a subway .. \n a girl is on a bench ..   a man is on a street .. \n a girl is singing her daughter ..   a man is going to a game .. \n a man is outside ..   a group of people are in a restaurant .. \n a man is waiting for a game ..   a lady is waiting for a game .. \n a man is looking at a boy ..   a man and a girl are playing tennis in a restaurant .. \n a man is playing in a field ..   a man in a red shirt is playing a guitar .. \n a boy is holding a ball ..   a young girl is holding a ball .. \n a man with a hat is laying down ..   a person is riding a bike .. \n a group of people are walking ..   a young man is walking down the street .. \n a man is trying to get his car ..   a man wearing a pink shirt is standing in a sand .. \n a man in a blue shirt is riding a bicycle ..   a person is playing in a pool .. \n a man is wearing a dress ..   people are wearing a dress .. \n a worker is sitting at a park ..   a man is sitting at a table .. \n a man with a pink shirt is holding a white shirt ..   a group of people are at a restaurant .. \n a girl is on a bench ..   a man is on a street .. \n a girl is singing her daughter ..   a man is going to a game .. \n a man is looking at a tree ..   a boy is looking at a tree .. \n a man is outside ..   a man is outside on the ground .. \n a man is waiting for a game ..   a man is on a bench .. \n a man is in a blue jacket ..   a small boy in a blue jacket is running .. \n a man is looking at a boy ..   a man is riding a horse .. \n a boy is holding a ball ..   a man is holding a child .. \n a man with a hat is laying down ..   a young girl is holding a bicycle while sitting in a race .. \n a group of people are walking ..   a young man is walking down the street .. \n a man is sitting down in a park ..   a man is sitting down .. \n a man is trying to get his car ..   a girl is trying to get his car .. \n a man in a blue shirt is riding a bicycle ..   a man is playing with a ball .. \n a man is wearing a dress ..   a boy is trying to catch a ball .. \n a worker is sitting at a park ..   a couple of people are sitting on a bench at a table .. \n a man with a pink shirt is holding a white shirt ..   a man is sitting in a subway .. \n a girl is on a bench ..   a man is on a street .. \n a girl is singing her daughter ..   a man is going to a game .. \n a man is walking on a sidewalk ..   two young girls are talking to a new building .. \n a man is looking at a tree ..   a man is looking at a large bird with his face .. \n a man is outside ..   a man is outside with a friend .. \n a man is waiting for a game ..   a person is on a bench .. \n a man is in a blue jacket ..   a man is in a blue dress .. \n a man is looking at a boy ..   a small boy is riding a bike and white .. \n a boy is holding a ball ..   a surfer is holding a sign in a water .. \n a man with a hat is laying down ..   a boy is swimming in the water .. \n a group of people are walking ..   a man is walking down the street .. \n a man is sitting down in a park ..   a man with a child is eating .. \n a man is trying to get his car ..   a young boy is jumping into a lake .. \n a man in a blue shirt is riding a bicycle ..   a man is playing with a ball .. \n a man is looking at a boy ..   a man with a black shirt is wearing a green shirt .. \n a man is wearing a dress ..   a man wearing a helmet is in a crowd .. \n a worker is sitting at a park ..   a group of people are sitting on a bench .. \n a man with a pink shirt is holding a white shirt ..   a man is sitting in a subway .. \n a girl is on a bench ..   a boy is on a street .. \n a girl is singing her daughter ..   a man is going to a game .. \n a man is walking on a sidewalk ..   a group of people are walking down a street .. \n a man is looking at a tree ..   a man is looking at a large bird .. \n a man is outside ..   a man is outside with a friend .. \n a man is waiting for a game ..   a man is on a bench .. \n a man is in a blue jacket ..   a man in a suit is running in the snow .. \n a man is looking at a boy ..   a dog is running into a lake .. \n a boy is holding a ball ..   a man is holding a child .. \n a man with a hat is laying down ..   a man is riding a bike .. \n a group of people are walking ..   a dog is sleeping on a sidewalk .. \n a man is sitting down in a park ..   a group of people are walking in a field .. \n a man is trying to get his car ..   a man is wearing a shirt .. \n a man in a blue shirt is riding a bicycle ..   a boy is playing with his dog .. \n a man is looking at a boy ..   a child is looking at a boy .. \n a worker is sitting at a park ..   a man is sitting at a table .. \n a man with a pink shirt is holding a white shirt ..   a group of people are at a restaurant .. \n a girl is on a bench ..   a young boy is in a park .. \n a girl is singing her daughter ..   a boy is going to a game .. \n a man is looking at a tree ..   a young man is looking down .. \n a man is outside ..   a man is outside on the ground .. \n a man is waiting for a game ..   a boy is on a bench .. \n a man is looking at a boy ..   a group of people are at a restaurant .. \n a man is playing in a field ..   a boy in a red shirt is playing with a baseball .. \n a boy is holding a ball ..   a person is holding a child .. \n a man with a hat is laying down ..   a man is riding a bike .. \n a group of people are walking ..   a man is walking down the street .. \n a man is sitting down in a park ..   a young boy is sitting in a park .. \n a man is trying to get his car ..   a young boy is jumping into a lake .. \n a man in a blue shirt is riding a bicycle ..   a little girl is playing with a helmet .. \n a man is looking at a boy ..   a man with a black shirt is wearing a green shirt .. \n a man is wearing a dress ..   a dog is trying to catch a ball .. \n a worker is sitting at a park ..   a group of people are sitting on a bench .. \n a man with a pink shirt is holding a white shirt ..   a man is sitting in a subway .. \n a girl is on a bench ..   a group of people are sitting on a bench .. \n a girl is singing her daughter ..   a group of people are riding a horse .. \n a man is walking on a sidewalk ..   a group of people are walking down a street .. \n a man is outside ..   a girl is outside .. \n a man is waiting for a game ..   a band is on the ground .. \n a man is in a blue jacket ..   a young man in a black jacket is running .. \n a man is looking at a boy ..   a man is standing at a restaurant .. \n a boy is holding a ball ..   a man is holding a child .. \n a man with a hat is laying down ..   a man is riding a bike .. \n a group of people are walking ..   a man is walking down the street .. \n a man is sitting down in a park ..   a group of people are walking in a field .. \n a man is trying to get his car ..   a young boy is jumping into a car .. \n a man in a blue shirt is riding a bicycle ..   a man is playing with a ball .. \n a man is looking at a boy ..   a person is looking at a boy .. \n a man is wearing a dress ..   a young boy is jumping on a couch .. \n a worker is sitting at a park ..   a man is sitting in a park .. \n a man with a pink shirt is holding a white shirt ..   a man is sitting in a subway .. \n a girl is on a bench ..   a man is on a street .. \n a girl is singing her daughter ..   a man is riding a bicycle .. \n a man is walking on a sidewalk ..   a little girl is walking down the street .. \n a man is looking at a tree ..   a man is looking at a large bird .. \n a man is looking at a boy ..   a man is riding a horse .. \n a boy is holding a ball ..   a person is holding a child .. \n a man with a hat is laying down ..   a man is riding a bike .. \n a group of people are walking ..   a young boy is playing in a chair .. \n a man is sitting down in a park ..   a bunch of people are walking in a park .. \n a man is trying to get his car ..   a man is wearing a pink shirt .. \n a man in a blue shirt is riding a bicycle ..   a female is playing in a pool .. \n a man is wearing a dress ..   a boy is wearing a dress .. \n a worker is sitting at a park ..   a man in a <?> shirt is standing on a street .. \n a man with a pink shirt is holding a white shirt ..   a small crowd of people are gathered on a sidewalk .. \n a girl is on a bench ..   a little girl is in a park .. \n a girl is singing her daughter ..   a man is going to a game .. \n a man is walking on a sidewalk ..   a lady is walking on a sidewalk .. \n a man is looking at a tree ..   a young girl is looking down at a blue pole .. \n a man is outside ..   a man is outside with a friend .. \n a man is waiting for a game ..   a lady is waiting for a game .. \n a man is in a blue jacket ..   a boy is in a pool .. \n a man is looking at a boy ..   a man is riding a horse .. \n a man is playing in a field ..   a man in a red shirt is playing a guitar .. \n a boy is holding a ball ..   a group of people are playing in a park .. \n a man with a hat is laying down ..   a man is riding a bike .. \n a man is walking his dog ..   a boy is playing with his dog .. \n a couple of people are walking in a park ..   a man is standing by a man .. \n a boy is wearing a blue shirt ..   a man is wearing a helmet .. \n a man is holding a child in a red dress ..   a man is holding a child .. \n a little boy is jumping into a blue lake ..   a young boy is jumping into a blue lake .. \n a child is sitting in a park ..   a man is sitting in a park .. \n a man is playing with a ball ..   three people are playing with a woman .. \n a young boy in a red shirt is riding a couch ..   a group of people in a field .. \n a child is jumping over a bridge ..   a man is riding a bicycle .. \n a man is walking down the street ..   a man with a hat is playing a video game .. \n a person is at a restaurant ..   a man is reading a book .. \n a group of people are sitting on a bench ..   a man is wearing a white shirt .. \n a man and a woman are playing outside ..   a dog is running in the snow .. \n a boy is doing a <?> ..   a group of people are in a tent .. \n a man is sitting in a house ..   a female wearing a white shirt and a white shirt .. \n a couple of people are walking in a park ..   a group of people are getting ready for a picture .. \n a boy is wearing a blue shirt ..   a man is wearing a blue shirt .. \n a man is holding a child in a red dress ..   a person is holding a child .. \n a little boy is jumping into a blue lake ..   a man is in a wheelchair .. \n a man is in a restaurant ..   a person is running in the snow .. \n a child is sitting in a park ..   a man is sitting in a park .. \n a man is playing with a ball ..   a group of people are playing in a field .. \n a girl is standing in front of a wall ..   an older man with a red shirt is eating a meal .. \n a young boy in a red shirt is riding a couch ..   a group of people in a field .. \n a child is jumping over a bridge ..   a man is riding a bicycle .. \n a person is at a restaurant ..   a man is reading a book .. \n a group of people are sitting on a bench ..   a man is wearing a hat .. \n a man and a woman are playing outside ..   a man is walking home .. \n a man is walking to a restaurant ..   a small boy is doing a trick in a restaurant .. \n a man is sitting in a house ..   a man is sitting in front of a car .. \n a couple of people are walking in a park ..   a man is standing by a man .. \n a boy is wearing a blue shirt ..   a man is wearing a blue shirt .. \n a man is holding a child in a red dress ..   a young boy is playing outside in a field .. \n a little boy is jumping into a blue lake ..   a boy is in a dress .. \n a man is in a restaurant ..   a young man is in a red jacket .. \n a child is sitting in a park ..   a person is sitting in a park .. \n a girl is standing in front of a wall ..   a group of people are playing with a baseball game .. \n a young boy in a red shirt is riding a couch ..   a man is in a field .. \n a child is jumping over a bridge ..   a man is riding a horse .. \n a man is walking down the street ..   a man is reading a book .. \n a person is at a restaurant ..   a man is reading a book .. \n a group of people are sitting on a bench ..   a man is wearing a hat .. \n a man and a woman are playing outside ..   a man is wearing a red shirt .. \n a boy is doing a <?> ..   a small girl is getting ready to go on the couch .. \n a man is painting a window ..   a little girl is at a baseball putting on a blue slide .. \n a couple of people are walking in a park ..   a group of people are getting ready for a picture .. \n a boy is wearing a blue shirt ..   the boy is wearing a blue shirt .. \n a man is holding a child in a red dress ..   a man is holding a child .. \n a little boy is jumping into a blue lake ..   a man in a green dress is playing a video .. \n a man is in a restaurant ..   a small boy is in a red jacket .. \n a child is sitting in a park ..   a guy is sitting in a park .. \n a man is playing with a ball ..   two young boys are playing in the snow .. \n a girl is standing in front of a wall ..   a man is standing in front of a wall .. \n a child is jumping over a bridge ..   a male is in a crowd .. \n a man is walking down the street ..   a young girl is riding a bike .. \n a person is at a restaurant ..   a group of people are playing with their friends .. \n a group of people are sitting on a bench ..   a boy is wearing a white shirt .. \n a man and a woman are playing outside ..   a little girl is sitting on a roof .. \n a boy is doing a <?> ..   a boy is getting ready for a game .. \n a man is walking down the street ..   a man in a white dress is swimming in a pool .. \n a man is sitting in a house ..   a man wearing a shirt is riding a bike .. \n a man is walking his dog ..   a boy is playing with his dog .. \n a couple of people are walking in a park ..   a girl is making a long ball .. \n a boy is wearing a blue shirt ..   a man is wearing a helmet .. \n a man is holding a child in a red dress ..   a group of people are outside .. \n a little boy is jumping into a blue lake ..   a kid is in a mall .. \n a man is in a restaurant ..   a child is running in the snow .. \n a child is sitting in a park ..   a man is sitting in a park .. \n a girl is standing in front of a wall ..   a man is standing in front of a wall .. \n a young boy in a red shirt is riding a couch ..   a group of people in a field .. \n a child is jumping over a bridge ..   a couple of people are outside .. \n a man is walking down the street ..   a boy is playing on a bench .. \n a person is at a restaurant ..   a boy is playing with his friends .. \n a group of people are sitting on a bench ..   a man is wearing a hat .. \n a man and a woman are playing outside ..   a man is sitting on a bench .. \n a boy is doing a <?> ..   a man is getting ready for a game .. \n a man is walking down the street ..   a group of kids are sitting on a bench .. \n a man is walking to a restaurant ..   a child is jumping up in the snow .. \n a man is walking his dog ..   a small girl is playing with a ball .. \n a couple of people are walking in a park ..   a man with a black jacket is playing a guitar .. \n a boy is wearing a blue shirt ..   a man is wearing a blue shirt .. \n a man is holding a child in a red dress ..   a man is holding a child .. \n a little boy is jumping into a blue lake ..   a man in a green dress is playing a video .. \n a man is in a restaurant ..   a boy is running in the snow .. \n a child is sitting in a park ..   a group of people are walking around a table .. \n a young boy in a red shirt is riding a couch ..   a man is in a field .. \n a child is jumping over a bridge ..   a man with a red shirt is holding a sign .. \n a man is walking down the street ..   a small child is riding a bike .. \n a person is at a restaurant ..   a small girl is playing with a ball .. \n a group of people are sitting on a bench ..   a man is wearing a hat .. \n a man and a woman are playing outside ..   a mother is sitting on a bench next to a large group of people .. \n a boy is doing a <?> ..   a man is getting ready for a game .. \n a man is sitting in a house ..   a girl is sitting in front of a car .. \n a man is walking his dog ..   a man and a young girl are looking for a picture .. \n a couple of people are walking in a park ..   a person is standing by a man .. \n a boy is wearing a blue shirt ..   a man is wearing a helmet .. \n a man is holding a child in a red dress ..   a little boy is playing outside in a field .. \n a little boy is jumping into a blue lake ..   a man is in a wheelchair .. \n a child is sitting in a park ..   a man is sitting in a park .. \n a man is playing with a ball ..   a young man is walking down the street .. \n a girl is standing in front of a wall ..   a man is standing in front of a wall .. \n a young boy in a red shirt is riding a couch ..   a girl is in a kitchen .. \n a child is jumping over a bridge ..   a man in a red shirt is holding a sign .. \n a man is walking down the street ..   a man is playing a game .. \n a person is at a restaurant ..   a child is reading a book .. \n a group of people are sitting on a bench ..   a man is wearing a hat .. \n a man and a woman are playing outside ..   a person is sitting on a bench .. \n a boy is doing a <?> ..   a young man is getting ready to go on a couch .. \n a man is walking to a restaurant ..   a man is using a ball .. \n a man is sitting in a house ..   a man with a white shirt is holding a red and white bicycle .. \n a couple of people are walking in a park ..   a man is standing by a tree .. \n a boy is wearing a blue shirt ..   a man is wearing a blue shirt .. \n a man is holding a child in a red dress ..   a man is holding a child .. \n a little boy is jumping into a blue lake ..   a dog is jumping in a race .. \n a man is in a restaurant ..   a man in a red shirt is doing a walk .. \n a child is sitting in a park ..   a man is sitting in a park .. \n a girl is standing in front of a wall ..   a man is standing in front of a wall .. \n a young boy in a red shirt is riding a couch ..   a man is in a field .. \n a child is jumping over a bridge ..   a girl is jumping in a pool .. \n a man is walking down the street ..   a man with a hat is playing a video game .. \n a person is at a restaurant ..   a man is reading a book .. \n a group of people are sitting on a bench ..   a young girl is wearing a blue dress .. \n a man and a woman are playing outside ..   a person is sitting on a bench .. \n a boy is doing a <?> ..   a man is getting ready for a game .. \n a couple of people are walking in a park ..   a man is standing by a man .. \n a boy is wearing a blue shirt ..   a large group of men are riding a bicycle on the beach .. \n a man is holding a child in a red dress ..   a boy is holding a child .. \n a little boy is jumping into a blue lake ..   a female is in a crowd .. \n a child is sitting in a park ..   a dog is sitting in a park .. \n a girl is standing in front of a wall ..   a worker is standing in front of a lake .. \n a young boy in a red shirt is riding a couch ..   a group of people in a field .. \n a child is jumping over a bridge ..   a person is riding a horse .. \n a man is walking down the street ..   a man stands on a bench in his yard .. \n a person is at a restaurant ..   a man is reading a book .. \n a group of people are sitting on a bench ..   a man is wearing a white shirt .. \n a man and a woman are playing outside ..   a young man is sitting on a roof .. \n a boy is doing a <?> ..   a man is getting ready for a game .. \n a man is walking his dog ..   a blond girl is playing with a ball in a field .. \n a couple of people are walking in a park ..   a man is standing by a man .. \n a boy is wearing a blue shirt ..   a person is wearing a blue shirt .. \n a man is holding a child in a red dress ..   a man is holding a child .. \n a little boy is jumping into a blue lake ..   a man is in a wheelchair .. \n a man is in a restaurant ..   a group of people are in a restaurant .. \n a child is sitting in a park ..   a man is sitting in a park .. \n a man is playing with a ball ..   a person is playing with a ball .. \n a girl is standing in front of a wall ..   a man in a black shirt is eating a meal .. \n a young boy in a red shirt is riding a couch ..   a man is in a field .. \n a child is jumping over a bridge ..   a man is riding a bicycle .. \n a person is at a restaurant ..   a man is reading a book .. \n a group of people are sitting on a bench ..   a young boy is wearing a shirt .. \n a man and a woman are playing outside ..   a person is sitting on a bench .. \n a boy is doing a <?> ..   a group of people are in a tent .. \n a man is painting a window ..   a girl is painting a horse .. \n a young boy is playing in a public area ..   a man is eating a meal .. \n a little girl is walking down a sidewalk ..   a man is <?> .. \n a man is sitting on a bench ..   a boy is sitting on a bench .. \n a man is dancing on a sidewalk ..   two people are dancing on a sidewalk .. \n a young boy is sitting on a bench ..   a man is walking down the sidewalk .. \n a white dog is walking down the mountain ..   a man is walking in a field .. \n a young man is getting ready to get in his father ..   a man is looking at a large crowd .. \n a worker is reading a book ..   a group of people are standing outside .. \n a lady is having a new drink ..   a boy is sitting on a swing .. \n a girl is playing with her dog ..   a young boy is playing outside .. \n a small boy is in a park ..   a girl is running in the park .. \n a little girl is sitting on a small boat ..   a man is sitting on a swing .. \n a man is laying on a sidewalk ..   a man wearing a pink shirt is riding a bike on the beach .. \n a man is getting ready to take a <?> ..   a girl is getting ready to take a <?> .. \n two men are sitting at a table ..   a man is sitting on a bench .. \n a young boy is playing in a public area ..   a boy is playing in a park .. \n a little girl is walking down a sidewalk ..   a young girl is walking down a sidewalk .. \n a man is sitting on a bench ..   a group of people are sitting in a park .. \n a man is riding a horse in a red chair ..   a small dog is sleeping in the snow .. \n a young boy is sitting on a bench ..   a man is walking down the sidewalk .. \n a man is sitting on a bench ..   two women are sitting at a table with a large piece of <?> .. \n a white dog is walking down the mountain ..   a kid is walking in a field .. \n a young man is getting ready to get in his father ..   a little girl is doing a trick .. \n a worker is reading a book ..   a man is reading a book .. \n a man with a black shirt is playing a guitar ..   a man is standing in front of a large crowd .. \n a lady is having a new drink ..   a man is sitting on a swing .. \n a girl is playing with her dog ..   a man is riding a scooter .. \n a small boy is in a park ..   a man is standing in a park .. \n a little girl is sitting on a small boat ..   a man is sitting on a bench .. \n a man is laying on a sidewalk ..   a man is riding a bike .. \n a man is getting ready to take a <?> ..   a group of people are walking .. \n two men are sitting at a table ..   a small child is playing with a big umbrella .. \n a young boy is playing in a public area ..   a little girl is playing in a sport .. \n a man is walking outside ..   a boy is playing outside .. \n a little girl is walking down a sidewalk ..   a man is playing with a lot .. \n a man is sitting on a bench ..   a young boy is sitting on a bench .. \n a man is sitting in a gym ..   a young man is in a yellow dress .. \n a man is riding a horse in a red chair ..   a man in a blue shirt is walking in a park .. \n a man is dancing on a sidewalk ..   a man in a green shirt is walking down a sidewalk .. \n a young boy is sitting on a bench ..   a small girl is walking down the street .. \n a white dog is walking down the mountain ..   a person is walking in a field .. \n a worker is reading a book ..   a man is reading a book .. \n a man with a black shirt is playing a guitar ..   a man is standing in front of a large crowd .. \n a lady is having a new drink ..   a blond man is in a dress .. \n a girl is playing with her dog ..   a man is riding a scooter .. \n a small boy is in a park ..   a boy is running in the park .. \n a little girl is sitting on a small boat ..   a boy is trying to get her hand .. \n a man is laying on a sidewalk ..   a man is riding a bicycle .. \n two men are sitting at a table ..   a man is sitting on a bench .. \n a young boy is playing in a public area ..   a man and his son are playing a game .. \n a man is walking outside ..   a young boy is playing with his friend .. \n a little girl is walking down a sidewalk ..   a man is playing with a lot .. \n a man is sitting on a bench ..   a group of people are sitting in a park .. \n a man is sitting in a gym ..   a boy in a black shirt is looking at a yellow jacket .. \n a man is riding a horse in a red chair ..   a young girl is riding a bike .. \n a man is dancing on a sidewalk ..   a child is swimming in the water .. \n a young boy is sitting on a bench ..   a group of people are sitting on a street .. \n a man is sitting on a bench ..   a small boy is sitting on a bench .. \n a white dog is walking down the mountain ..   a girl is walking in a field .. \n a young man is getting ready to get in his father ..   an older man is getting ready to get in his father .. \n a worker is reading a book ..   a man is reading a book .. \n a man with a black shirt is playing a guitar ..   a boy is standing in front of a large crowd .. \n a lady is having a new drink ..   a group of people are in a restaurant .. \n a girl is playing with her dog ..   a man is riding a scooter .. \n a small boy is in a park ..   a group of people are playing on a field .. \n a little girl is sitting on a small boat ..   a man is sitting on a bench .. \n a man is laying on a sidewalk ..   a man is riding a bike .. \n two men are sitting at a table ..   a man is carrying a white dog .. \n a young boy is playing in a public area ..   a man is eating a meal .. \n a little girl is walking down a sidewalk ..   a man is <?> .. \n a man is sitting on a bench ..   a group of people are sitting in a park .. \n a man is sitting in a gym ..   a <?> is sleeping in the snow .. \n a man is riding a horse in a red chair ..   a young man is riding a bike .. \n a young boy is sitting on a bench ..   two people are walking in a park .. \n a white dog is walking down the mountain ..   a group of people are sitting on a busy street .. \n a young man is getting ready to get in his father ..   a man is looking at a large crowd .. \n a worker is reading a book ..   a lady is reading a book .. \n a man with a black shirt is playing a guitar ..   a man is standing in front of a large crowd .. \n a lady is having a new drink ..   a man is sitting on a swing .. \n a girl is playing with her dog ..   a group of people are outside .. \n a small boy is in a park ..   a group of people are playing on a field .. \n a little girl is sitting on a small boat ..   a man is sitting on a bench .. \n a man is laying on a sidewalk ..   two kids are laying on a sidewalk .. \n two men are sitting at a table ..   a man is carrying a white dog .. \n a young boy is playing in a public area ..   a man is eating a meal .. \n a little girl is walking down a sidewalk ..   a man is performing a trick .. \n a man is sitting on a bench ..   an old man is sitting on a bench .. \n a man is sitting in a gym ..   a man in a black shirt is looking at a yellow jacket .. \n a man is riding a horse in a red chair ..   a little girl is riding a bike .. \n a young boy is sitting on a bench ..   a man is walking in a tree .. \n a man is sitting on a bench ..   a girl is sitting on a bench .. \n a white dog is walking down the mountain ..   a man in a green shirt is riding a bike .. \n a young man is getting ready to get in his father ..   a small girl is doing a trick .. \n a worker is reading a book ..   a man in a blue shirt is at a bar .. \n a man with a black shirt is playing a guitar ..   a man is standing in front of a large crowd .. \n a lady is having a new drink ..   a person is sitting on a swing .. \n a girl is playing with her dog ..   a man is riding a scooter .. \n a small boy is in a park ..   a child is running in the park .. \n a little girl is sitting on a small boat ..   a man is sitting on a swing .. \n a man is laying on a sidewalk ..   a bunch of kids are in a competition .. \n a man is getting ready to take a <?> ..   a boy is getting ready to take a <?> .. \n two men are sitting at a table ..   a man is sitting on a bench .. \n a young boy is playing in a public area ..   a man is eating a meal .. \n a man is walking outside ..   a toddler is playing outside .. \n a little girl is walking down a sidewalk ..   a boy is playing with his daughter .. \n a man is riding a horse in a red chair ..   a man is riding a horse .. \n a man is dancing on a sidewalk ..   a young boy is on a blue floor .. \n a young boy is sitting on a bench ..   a group of people are sitting on a street with a white car .. \n a white dog is walking down the mountain ..   a man and a woman are working at a large crowd .. \n a young man is getting ready to get in his father ..   a girl is doing a play .. \n a worker is reading a book ..   a group of people are standing outside .. \n a man with a black shirt is playing a guitar ..   a small girl is standing outside .. \n a lady is having a new drink ..   a man is sitting on a swing .. \n a girl is playing with her dog ..   a man is playing with his friends .. \n a small boy is in a park ..   a young man is in a park .. \n a little girl is sitting on a small boat ..   a man is sitting on a sidewalk .. \n a man is getting ready to take a <?> ..   two people are at a table .. \n two men are sitting at a table ..   a man is carrying a white dog .. \n a young boy is playing in a public area ..   a man is eating a meal .. \n a little girl is walking down a sidewalk ..   a man is playing with his daughter .. \n a man is sitting in a gym ..   a little girl is in a yellow dress .. \n a young boy is sitting on a bench ..   a man is walking down the sidewalk in the street .. \n a man is sitting on a bench ..   a large group of people are gathered at a table at a table .. \n a white dog is walking down the mountain ..   a girl is walking in a field .. \n a young man is getting ready to get in his father ..   a small girl is doing a trick .. \n a worker is reading a book ..   a man is reading a book .. \n a man with a black shirt is playing a guitar ..   a man is standing in front of a large crowd .. \n a lady is having a new drink ..   a man is sitting on a swing .. \n a girl is playing with her dog ..   a man is riding a scooter in a grassy field .. \n a small boy is in a park ..   a young man is in a park .. \n a little girl is sitting on a small boat ..   a small girl is sitting on a couch .. \n two men are sitting at a table ..   a man is sitting on a bench .. \n a young boy is playing in a public area ..   a man is eating a meal .. \n a man is walking outside ..   a group of people are playing a game .. \n a little girl is walking down a sidewalk ..   a kid is playing with a lot of fish .. \n a man is sitting on a bench ..   a person is sitting on a bench .. \n a man is dancing on a sidewalk ..   a little boy is on a blue floor .. \n a young boy is sitting on a bench ..   a man and a girl are dancing in a park .. \n a man is sitting on a bench ..   a boy is sitting on a bench .. \n a white dog is walking down the mountain ..   a dog is jumping in a field .. \n a young man is getting ready to get in his father ..   a young girl is doing a trick .. \n a worker is reading a book ..   a child is playing with a stick .. \n a man with a black shirt is playing a guitar ..   a white dog is running in the street .. \n a lady is having a new drink ..   a man is sitting on a swing .. \n a girl is playing with her dog ..   a man is playing with his friends .. \n a small boy is in a park ..   a man in a black shirt is walking in a field .. \n a little girl is sitting on a small boat ..   a band is sitting on a bench .. \n a man is laying on a sidewalk ..   a small dog is on a sidewalk .. \n two men are sitting at a table ..   a man is sitting on a bench .. \n a young boy is playing in a public area ..   two people are walking through a field .. \n a little girl is walking down a sidewalk ..   a man is <?> a tree .. \n a man is sitting on a bench ..   an asian man is sitting on a bench .. \n a man is sitting in a gym ..   a small girl is in a kitchen .. \n a man is riding a horse in a red chair ..   a group of people are at a restaurant .. \n a man is dancing on a sidewalk ..   a man in a green shirt is walking on a bench .. \n a young boy is sitting on a bench ..   a man is walking down the sidewalk in the street .. \n a white dog is walking down the mountain ..   a group of people are sitting on a busy street .. \n a young man is getting ready to get in his father ..   a group of people are outdoors .. \n a worker is reading a book ..   a young girl is walking .. \n a man with a black shirt is playing a guitar ..   a man is standing in front of a large crowd .. \n a lady is having a new drink ..   a man is sitting on a swing .. \n a girl is playing with her dog ..   a man is riding a scooter .. \n a small boy is in a park ..   a child is running in the park .. \n a little girl is sitting on a small boat ..   a man is sitting on a bench .. \n a man is laying on a sidewalk ..   a person is laying on a sidewalk .. \n a man is getting ready to take a <?> ..   a group of people are walking in a <?> .. \n two men are sitting at a table ..   a man is sitting on a bench .. \n a band is in a crowd ..   a girl is running in the snow .. \n a kid is in a kitchen ..   a man is in a chair .. \n a little boy is sitting in a cafe ..   a girl is sitting down in a cafe .. \n a man in a green shirt is laying on a sidewalk ..   a man is sitting on a bench .. \n a man and a young girl are enjoying a lunch ..   a man with a red shirt is holding a pink bag .. \n a child is trying to get into a restaurant ..   a man is not using a flag .. \n a man with a helmet is eating a ball ..   a couple of children are walking in a park .. \n a small girl is looking at a house with a horse ..   a man is standing outside .. \n a man is looking at a woman ..   a man is outside watching a woman .. \n a small girl is sitting on a bench ..   a man is taking a picture of a long water .. \n a group of people are playing with a ball ..   a man is riding a bicycle .. \n a girl is holding a child ..   a baby is holding a child .. \n a kid is playing with a toy ..   a group of people are walking through a city .. \n a band is in a crowd ..   a person in a red jacket is going to a concert .. \n a kid is in a kitchen ..   a group of people are sitting down .. \n a little boy is sitting in a cafe ..   a man is sitting down in a cafe .. \n a man is taking pictures of a man ..   a man is taking a picture of a woman .. \n a man in a green shirt is laying on a sidewalk ..   a man is sitting on a bench .. \n a man is <?> ..   a boy is <?> .. \n a man and a young girl are enjoying a lunch ..   a man is sitting at a park .. \n a child is trying to get into a restaurant ..   a man with a pink shirt is playing a video games .. \n a man with a helmet is eating a ball ..   a man is riding a bicycle .. \n a man is sitting down with his hands ..   a man is at a table .. \n a man is in a dress ..   a girl is jumping in a street .. \n a small girl is looking at a house with a horse ..   a man is standing outside .. \n a man is looking at a woman ..   a man is outside watching a woman .. \n a small girl is sitting on a bench ..   a little girl is sitting on a bench .. \n a group of people are playing with a ball ..   a black dog is running down the sidewalk .. \n a girl is holding a child ..   a man is holding a child .. \n a kid is playing with a toy ..   a man is sitting in a chair .. \n a band is in a crowd ..   a man is riding a bicycle .. \n a kid is in a kitchen ..   a group of people are sitting down .. \n a little boy is sitting in a cafe ..   a man is sitting down .. \n a man is taking pictures of a man ..   a little boy is taking a break from a ball .. \n a man in a green shirt is laying on a sidewalk .. "
     ]
    },
    {
     "name": "stdout",
     "output_type": "stream",
     "text": [
      "  a little boy is playing with a small white umbrella .. \n a man is jumping into a lake ..   there is a man in a field .. \n a man and a young girl are enjoying a lunch ..   a man is sitting at a park .. \n a child is trying to get into a restaurant ..   a man is not using a flag .. \n a man with a helmet is eating a ball ..   a man is riding a bicycle .. \n a man is sitting down with his hands ..   a person is at a table .. \n a man is in a dress ..   a group of people are sitting down on a beach .. \n a small girl is looking at a house with a horse ..   a man is standing outside .. \n a man is looking at a woman ..   a child is outside watching a woman .. \n a small girl is sitting on a bench ..   a child is making a cigarette .. \n a group of people are playing with a ball ..   a band is running down the beach .. \n a girl is holding a child ..   a man is holding a child .. \n a man is waiting for a ball ..   a group of people are sitting in front of a crowd .. \n a kid is playing with a toy ..   a man is sitting in a chair .. \n a band is in a crowd ..   a group of people are outside .. \n a kid is in a kitchen ..   a young man is standing in front of a building .. \n a little boy is sitting in a cafe ..   a baseball player is sleeping in the woods .. \n a man is taking pictures of a man ..   a young boy is taking a break from a ball .. \n a man in a green shirt is laying on a sidewalk ..   a man is sitting on a bench .. \n a man is <?> ..   a little girl is <?> .. \n a man and a young girl are enjoying a lunch ..   a man is sitting at a park .. \n a child is trying to get into a restaurant ..   a man is not using a flag .. \n a man with a helmet is eating a ball ..   a man is riding a bicycle in a grassy area .. \n a man is sitting down with his hands ..   a young man is riding a scooter .. \n a man is in a dress ..   a male is in a dress .. \n a small girl is looking at a house with a horse ..   a man is standing outside .. \n a small girl is sitting on a bench ..   a group of people are looking for a party .. \n a group of people are playing with a ball ..   a man wearing a black shirt and a woman is standing in a crowd .. \n a girl is holding a child ..   a man is holding a child .. \n a kid is playing with a toy ..   a man with a red shirt is playing in a small city .. \n a band is in a crowd ..   a man is riding a horse .. \n a kid is in a kitchen ..   a man is in a chair .. \n a little boy is sitting in a cafe ..   a man is sitting down .. \n a man is taking pictures of a man ..   a girl is taking pictures of a ball .. \n a man in a green shirt is laying on a sidewalk ..   a man is sitting on a bench .. \n a man and a young girl are enjoying a lunch ..   a man is sitting at a park .. \n a man is getting ready to get to the train ..   a group of people are having a good event .. \n a child is trying to get into a restaurant ..   a man is not using a flag .. \n a man with a helmet is eating a ball ..   a person is riding a bike .. \n a man is sitting down with his hands ..   a group of people are working together .. \n a man is in a dress ..   a group of people are sitting down on a beach .. \n a small girl is looking at a house with a horse ..   a group of people are sitting in a <?> .. \n a man is looking at a woman ..   a group of people are playing a game .. \n a small girl is sitting on a bench ..   a kid is making a cigarette in his mouth .. \n a group of people are playing with a ball ..   a man is riding a bicycle with a woman .. \n a girl is holding a child ..   two people are sitting outside .. \n a man is waiting for a ball ..   a small child is about to get to a crowd .. \n a kid is playing with a toy ..   a dog is running through the river .. \n a band is in a crowd ..   a group of people are outside .. \n a kid is in a kitchen ..   a man is in a chair .. \n a little boy is sitting in a cafe ..   a group of people are at a cafe .. \n a man in a green shirt is laying on a sidewalk ..   a man is sitting on a bench .. \n a man and a young girl are enjoying a lunch ..   a group of young children are watching others .. \n a man is getting ready to get to the train ..   a group of people are having a good event .. \n a child is trying to get into a restaurant ..   a group of people are sitting inside .. \n a man with a helmet is eating a ball ..   two girls are playing with a baseball game .. \n a man is sitting down with his hands ..   a child is at a table .. \n a man is in a dress ..   a child in a red dress is sitting down on a sidewalk .. \n a small girl is looking at a house with a horse ..   a man with a yellow shirt is at the beach .. \n a man is looking at a woman ..   a boy is outside watching a woman .. \n a small girl is sitting on a bench ..   a child is making a dress in a yellow race .. \n a group of people are playing with a ball ..   a man is riding a bicycle .. \n a girl is holding a child ..   a man is holding a child .. \n a man is waiting for a ball ..   a man in a green shirt is running through a snow .. \n a kid is playing with a toy ..   a man is sitting in a chair .. \n a band is in a crowd ..   a man is riding a bicycle .. \n a kid is in a kitchen ..   a man is in a chair .. \n a little boy is sitting in a cafe ..   a man is sitting down .. \n a man is taking pictures of a man ..   a person is taking pictures of a man .. \n a man in a green shirt is laying on a sidewalk ..   a man is sitting on a bench .. \n a man is <?> ..   a young girl is <?> .. \n a man and a young girl are enjoying a lunch ..   a boy is sitting at a park .. \n a child is trying to get into a restaurant ..   a man in a dress is about his feet .. \n a man with a helmet is eating a ball ..   a man and a woman are eating .. \n a man is sitting down with his hands ..   a kid is sleeping on the ground .. \n a man is in a dress ..   a little boy in a pink shirt is playing in a park .. \n a small girl is looking at a house with a horse ..   a man with a blue shirt is at the beach .. \n a man is looking at a woman ..   a couple of people are sitting on a bus .. \n a small girl is sitting on a bench ..   a man is making a cigarette .. \n a group of people are playing with a ball ..   a man is taking a picture of a <?> .. \n a girl is holding a child ..   a person is holding a child .. \n a man is waiting for a ball ..   a group of people are sitting in front of a crowd .. \n a kid is playing with a toy ..   a man is wearing a pink shirt .. \n a band is in a crowd ..   a girl is running in the snow .. \n a kid is in a kitchen ..   a man in a red shirt is eating a beer .. \n a little boy is sitting in a cafe ..   a group of people are at a cafe .. \n a man in a green shirt is laying on a sidewalk ..   a man is sitting on a bench .. \n a man is <?> ..   a person is <?> .. \n a man and a young girl are enjoying a lunch ..   a child is sitting at a park .. \n a child is trying to get into a restaurant ..   a man is not using a flag .. \n a man with a helmet is eating a ball ..   a young girl is riding a rock .. \n a man is sitting down with his hands ..   a person is at a table .. \n a small girl is looking at a house with a horse ..   a man is standing outside .. \n a man is looking at a woman ..   a young girl is playing with a ball .. \n a small girl is sitting on a bench ..   a man is standing on a field .. \n a group of people are playing with a ball ..   a man wearing a black shirt and a woman is standing in a crowd .. \n a girl is holding a child ..   a dog is holding a ball .. \n a man is waiting for a ball ..   a boy is playing an instrument in front of a crowd .. \n a kid is playing with a toy ..   a man is sitting in a chair .. \n a band is in a crowd ..   a man in a red shirt is going to play a concert .. \n a kid is in a kitchen ..   a man is in a chair .. \n a little boy is sitting in a cafe ..   a young boy is sitting in a cafe .. \n a man is taking pictures of a man ..   a man is taking a <?> .. \n a man in a green shirt is laying on a sidewalk ..   a group of people are standing in front of a large crowd .. \n a man is <?> ..   a group of people are sitting on a field .. \n a man and a young girl are enjoying a lunch ..   a man is sitting at a park .. \n a man is getting ready to get to the train ..   a boy is standing in front of a building .. \n a child is trying to get into a restaurant ..   a boy is trying to get into his mouth .. \n a man with a helmet is eating a ball ..   a man is riding a bicycle .. \n a man is sitting down with his hands ..   a female is at a table .. \n a man is in a dress ..   a young man in a pink shirt is walking on a street .. \n a small girl is looking at a house with a horse ..   a man is standing outside .. \n a man is looking at a woman ..   an old man is watching a woman .. \n a small girl is sitting on a bench ..   a man is standing on a field .. \n a group of people are playing with a ball ..   a man is riding a bicycle .. \n a girl is holding a child ..   a man is holding a child .. \n a man is waiting for a ball ..   a male is waiting for a train .. \n a kid is playing with a toy ..   a man is sitting in a chair .. \n a band is in a crowd ..   a man in a red shirt is going to play a concert .. \n a kid is in a kitchen ..   a little girl is jumping in a field .. \n a little boy is sitting in a cafe ..   a man is sitting down .. \n a man is taking pictures of a man ..   a young boy is taking a break from a ball .. \n a man in a green shirt is laying on a sidewalk ..   a man is sitting on a bench .. \n a man and a young girl are enjoying a lunch ..   a lady is sitting at a park .. \n a man is getting ready to get to the train ..   a girl is wearing a pink shirt .. \n a child is trying to get into a restaurant ..   a man is not using a flag .. \n a man with a helmet is eating a ball ..   a man is wearing a blue shirt .. \n a man is sitting down with his hands ..   a man is at a table .. \n a man is in a dress ..   a person in a red dress is sitting down on the street .. \n a small girl is looking at a house with a horse ..   a person is standing outside .. \n a man is looking at a woman ..   a boy is outside watching a woman .. \n a small girl is sitting on a bench ..   a man is standing on a field .. \n a group of people are playing with a ball ..   a man is riding a bicycle .. \n a girl is holding a child ..   a white dog is playing with a ball .. \n a kid is playing with a toy ..   a young boy is playing with a ball in a small city .. \n a group of people are at a restaurant ..   a couple of people are at a restaurant .. \n a man is looking at a tree ..   a group of people are <?> .. \n a man in a black jacket is walking at a park ..   a man is playing with a ball .. \n a man is walking in a field ..   a white dog is running on the ground in the woods .. \n a group of people are playing a game ..   a man is jumping on a trampoline .. \n a man is standing in a tent ..   a young girl is taking a nap .. \n a man is sitting on a bench ..   a girl is sitting on a bench .. \n a bunch of asian students are wearing a white dress ..   a man is sitting in a park .. \n a man is painting a ball ..   a couple of people are sitting on a bench .. \n a little boy is sitting on a sidewalk ..   a group of people are riding in a street .. \n a man is sitting at a table ..   a man is sitting at a table with his hands .. \n a black dog is jumping through the air ..   a man is in a dress .. \n a group of people are in a restaurant ..   a man is sitting on a bench .. \n a person is playing with a toy ..   a boy is playing with a toy .. \n a group of people are at a restaurant ..   a man is walking by a lake .. \n a man is looking at a tree ..   a man is <?> a <?> .. \n a man is looking at a lot ..   a man with a helmet is riding a horse .. \n a man in a black jacket is walking at a park ..   a man is sitting in a <?> .. \n a man is walking in a field ..   people are walking in a park .. \n a group of people are playing a game ..   a child is jumping on a trampoline .. \n a man is eating a meal ..   a young boy is doing a trick .. \n a man is standing in a tent ..   a man is standing in a grassy park .. \n a man is wearing a pink shirt ..   a snowboarder is wearing a pink shirt .. \n a man is sitting on a bench ..   a boy is sitting on a bench .. \n a bunch of asian students are wearing a white dress ..   a man is sitting in a park .. \n a little boy is sitting on a sidewalk ..   a man is walking in a park .. \n a man is sitting at a table ..   a boy is playing with his friends .. \n a group of men are sitting at a table ..   a man is sitting in a chair .. \n a black dog is jumping through the air ..   a man is in a dress .. \n a group of people are in a restaurant ..   a man is sitting on a bench .. \n a person is playing with a toy ..   a man is walking on a bench .. \n a man is sitting in a park ..   a man in a dress is playing a guitar .. \n a group of people are at a restaurant ..   a person is walking by a lake .. \n a man is looking at a tree ..   a man in a yellow shirt is walking on a sidewalk .. \n a man is looking at a lot ..   there is a man dressed as they are riding a horse .. \n a man in a black jacket is walking at a park ..   a man is sitting in a <?> .. \n a man is walking in a field ..   a young boy is playing in a park .. \n a group of people are playing a game ..   a kid is jumping on a track .. \n a man is standing in a tent ..   a man wearing a hat is holding a baby .. \n a man is wearing a pink shirt ..   a boy is jumping off a red slope .. \n a man is sitting on a bench ..   a man wearing a black shirt is playing a guitar .. \n a bunch of asian students are wearing a white dress ..   a man is sitting in a park .. \n a little boy is sitting on a sidewalk ..   a small boy is sitting on a sidewalk .. \n a man is sitting at a table ..   a boy is holding a child .. \n a group of men are sitting at a table ..   a person is sitting in a chair .. \n a black dog is jumping through the air ..   a man is in a dress .. \n a group of people are in a restaurant ..   a small dog is jumping in the snow .. \n a person is playing with a toy ..   a man with a blue shirt is looking at a woman .. \n a man is sitting in a park ..   a person is sitting in a church .. \n a group of people are at a restaurant ..   a man and a young girl are at a restaurant .. \n a man is looking at a tree ..   a person is looking at a large building .. \n a man in a black jacket is walking at a park ..   a girl is running in the snow .. \n a man is walking in a field ..   a group of people are sitting on a table .. \n a man is eating a meal ..   a young boy is doing a trick .. \n a man is standing in a tent ..   a black man is taking a nap .. \n a man is wearing a pink shirt ..   a man is walking outside .. \n a man is getting ready for a picture ..   a boy is throwing a horse .. \n a bunch of asian students are wearing a white dress ..   a man is sitting in a park .. \n a man is painting a ball ..   a group of people are running in a street .. \n a little boy is sitting on a sidewalk ..   three people are walking in the street .. \n a man is sitting at a table ..   a man is sitting at a table with his hands .. \n a group of men are sitting at a table ..   a man is sitting at a table .. \n a black dog is jumping through the air ..   the dogs are in the grass .. \n a person is playing with a toy ..   a man is walking on a bench .. \n a man is sitting in a park ..   a man is sitting in a church .. \n a group of people are at a restaurant ..   a man with a blue shirt is about to get .. \n a man is looking at a tree ..   a small black dog is <?> out of the ball .. \n a man in a black jacket is walking at a park ..   a man is sitting in a <?> .. \n a group of people are playing a game ..   a man is jumping over a lake .. \n a man is eating a meal ..   a person is eating a meal .. \n a man is standing in a tent ..   a man is standing in a grassy park .. \n a man is sitting on a bench ..   a girl is sitting on a bench .. \n a bunch of asian students are wearing a white dress ..   a man is dressed as a red shirt with his hair .. \n a man is painting a ball ..   a young boy is making a ball .. \n a little boy is sitting on a sidewalk ..   a man is walking in a park .. \n a man is sitting at a table ..   a group of people are walking .. \n a group of men are sitting at a table ..   a man is sitting at a table .. \n a black dog is jumping through the air ..   a man is in a dress .. \n a group of people are in a restaurant ..   a man is sitting on a bench .. \n a person is playing with a toy ..   a man is walking on a bench .. \n a man is sitting in a park ..   a man is sitting in a church .. \n a group of people are at a restaurant ..   a man is walking by a lake .. \n a man is looking at a tree ..   a person is playing with a drink .. \n a man is looking at a lot ..   a man is looking at a lot of friends .. \n a man in a black jacket is walking at a park ..   a group of people are outside .. \n a man is walking in a field ..   a man in a red shirt is holding a bag .. \n a group of people are playing a game ..   a girl is jumping on a bench .. \n a man is standing in a tent ..   a man is standing in a grassy park .. \n a man is wearing a pink shirt ..   a girl is wearing a pink shirt .. \n a man is sitting on a bench ..   a little boy is on a bench .. \n a bunch of asian students are wearing a white dress ..   a dog is running in the street .. \n a man is painting a ball ..   a little girl is throwing a ball in the street .. \n a man is sitting at a table ..   a man is sitting at a table with his hands .. \n a group of men are sitting at a table ..   a young boy is sitting on a bench .. \n a black dog is jumping through the air ..   a little girl in a pink shirt is playing a guitar .. \n a group of people are in a restaurant ..   a man in a black shirt is playing a guitar .. \n a person is playing with a toy ..   a man with a blue shirt is looking at a yellow ball .. \n a group of people are at a restaurant ..   a man is walking by a lake .. \n a man is looking at a lot ..   a person is looking at a lot .. \n a man in a black jacket is walking at a park ..   a man with a black jacket is walking at a table .. \n a group of people are playing a game ..   a boy is jumping on a trampoline .. \n a man is eating a meal ..   a person is eating a meal .. \n a man is standing in a tent ..   a <?> is being held .. \n a man is getting ready for a picture ..   a boy is throwing a horse at a beach .. \n a bunch of asian students are wearing a white dress ..   a worker is dressed as a red boat with his hair .. \n a man is painting a ball ..   a young man is inside a building .. \n a little boy is sitting on a sidewalk ..   a person is walking in the snow .. \n a man is sitting at a table ..   a man is sitting at a table with his hands .. \n a black dog is jumping through the air ..   a girl is in a dress .. \n a group of people are in a restaurant ..   two people are at a table .. \n a person is playing with a toy ..   a man is walking on a bench .. \n a group of people are at a restaurant ..   a group of three people are walking by a building .. \n a man is looking at a tree ..   a man is looking at a large building .. \n a man in a black jacket is walking at a park ..   a man with a black jacket is walking at a table .. \n a man is walking in a field ..   a man in a red shirt is holding a bag .. \n a group of people are playing a game ..   a kid is jumping on a track .. \n a man is eating a meal ..   a group of people are getting ready to go .. \n a man is standing in a tent ..   a man wearing a hat is holding a baby .. \n a man is getting ready for a picture ..   a girl is throwing a horse .. \n a man is sitting on a bench ..   two men are sitting on a bench .. \n a bunch of asian students are wearing a white dress ..   a man is sitting in a park .. \n a man is painting a ball ..   a little girl is making a ball .. \n a little boy is sitting on a sidewalk ..   a man is walking in a park .. \n a man is sitting at a table ..   a girl is sitting at a table with his hands .. \n a black dog is jumping through the air ..   a girl is in a dress .. \n a group of people are in a restaurant ..   a little girl is jumping in a street .. \n a person is playing with a toy ..   a man is walking on a bench .. \n a man is sitting in a park ..   a guy is sitting in a park .. \n a man is looking at a tree ..   a dog is playing with a drink .. \n a man is looking at a lot ..   a man wearing a helmet is riding a horse .. \n a man in a black jacket is walking at a park ..   a man and a woman are looking at a tree .. \n a man is walking in a field ..   a boy is playing in a park .. \n a group of people are playing a game ..   a man is jumping over a lake .. \n a bunch of asian students are wearing a white dress ..   two men are sitting in a restaurant .. \n a little boy is sitting on a sidewalk ..   a young boy is sitting on a sidewalk .. \n a man is sitting at a table ..   a man is sitting at a table with his hands .. \n a group of men are sitting at a table ..   a boy is sitting in a chair .. \n a black dog is jumping through the air ..   a man is in a dress .. \n a group of people are in a restaurant ..   a small girl is jumping in a street .. \n a person is playing with a toy ..   a man is walking on a bench .. \n a group of people are at a restaurant ..   a group of three people are walking by a building .. \n a man is looking at a tree ..   a boy is playing with a drink .. \n a man in a black jacket is walking at a park ..   a group of people are outside in a city .. \n a man is walking in a field ..   a man in a red shirt is holding a bag .. \n a man is eating a meal ..   a person is eating a meal .. \n a man is standing in a tent ..   a man is looking into a pink shirt .. \n a man is wearing a pink shirt ..   two people are outside wearing a red jackets .. \n a man is getting ready for a picture ..   two men are watching a game .. \n a bunch of asian students are wearing a white dress ..   a young boy is wearing a pink shirt with his hair .. \n a man is painting a ball ..   a man is painting a new ball .. \n a little boy is sitting on a sidewalk ..   a boy is walking in the snow .. \n a man is sitting at a table ..   a man is sitting at a table with his hands .. \n a group of men are sitting at a table ..   three people are sitting at a table .. \n a black dog is jumping through the air ..   a man is in a dress .. \n a group of people are in a restaurant ..   a man is sitting on a bench .. \n a person is playing with a toy ..   people are at a restaurant .. \n a man is sitting in a park ..   a young boy is sitting in a subway .. \n"
     ]
    }
   ],
   "source": [
    "\n",
    "pd.set_option(\"display.max_columns\", 100)\n",
    "pd.set_option('display.width', 150)\n",
    "pd.options.display.max_rows = 10000\n",
    "for line in df[df['alteration_id'] == 30][['original', 'altered']].iterrows():    \n",
    "    if line[1]['original'] != line[1]['altered']:\n",
    "        print(line[1]['original'], line[1]['altered'])"
   ]
  },
  {
   "cell_type": "code",
   "execution_count": 12,
   "metadata": {},
   "outputs": [],
   "source": [
    "df.to_csv('Autoreg5stats2.csv')"
   ]
  },
  {
   "cell_type": "code",
   "execution_count": null,
   "metadata": {},
   "outputs": [],
   "source": [
    "pd.read_csv('Autoreg5stats.csv')"
   ]
  },
  {
   "cell_type": "code",
   "execution_count": 22,
   "metadata": {
    "collapsed": true
   },
   "outputs": [
    {
     "data": {
      "image/png": "[encoded data removed]",
      "text/plain": [
       "<Figure size 1440x720 with 2 Axes>"
      ]
     },
     "metadata": {},
     "output_type": "display_data"
    }
   ],
   "source": [
    "import matplotlib.pyplot as plt\n",
    "import seaborn as sns \n",
    "%matplotlib inline \n",
    "# hm_df1.style.background_gradient(cmap ='viridis').set_properties(**{'font-size': '20px'})\n",
    "def show_df_hm1(df):\n",
    "    plt.imshow(df, cmap =\"RdYlBu\") \n",
    "      \n",
    "    # Displaying a color bar to understand \n",
    "    # which color represents which range of data \n",
    "    plt.colorbar() \n",
    "      \n",
    "    # Assigning labels of x-axis  \n",
    "    # according to dataframe \n",
    "    plt.xticks(range(len(df.axes[1])), df.columns) \n",
    "      \n",
    "    # Assigning labels of y-axis  \n",
    "    # according to dataframe \n",
    "    plt.yticks(range(len(df.axes[0])), df.index) \n",
    "      \n",
    "    # Displaying the figure \n",
    "    plt.show()  \n",
    "def show_df_hm2(df):\n",
    "    snsplt = sns.heatmap(df, cmap ='RdYlGn', linewidths = 0.20, annot = False)\n",
    "    b, t = plt.ylim() # discover the values for bottom and top\n",
    "    b += 0.5 # Add 0.5 to the bottom\n",
    "    t -= 0.5 # Subtract 0.5 from the top\n",
    "    plt.ylim(b, t) # update the ylim(bottom, top) values\n",
    "    return snsplt.get_figure()\n",
    "\n",
    "sns.set_style(\"ticks\", {\"xtick.major.color\": 'white', \"ytick.major.color\": 'white'})\n",
    "plt.figure(figsize=(20, 10))\n",
    "sns_plot = show_df_hm2(hm_df1)\n",
    "sns_plot.savefig(\"output.png\")"
   ]
  },
  {
   "cell_type": "code",
   "execution_count": 134,
   "metadata": {
    "collapsed": true
   },
   "outputs": [
    {
     "data": {
      "image/png": "[encoded data removed]",
      "text/plain": [
       "<Figure size 1440x720 with 2 Axes>"
      ]
     },
     "metadata": {},
     "output_type": "display_data"
    }
   ],
   "source": [
    " \n",
    "plt.figure(figsize=(20, 10))\n",
    "show_df_hm2(hm_df2)"
   ]
  },
  {
   "cell_type": "code",
   "execution_count": 25,
   "metadata": {},
   "outputs": [
    {
     "data": {
      "image/png": "[encoded data removed]",
      "text/plain": [
       "<Figure size 1440x360 with 2 Axes>"
      ]
     },
     "metadata": {},
     "output_type": "display_data"
    }
   ],
   "source": [
    " \n",
    "sns_plot = plt.figure(figsize=(20, 5))\n",
    "show_df_hm2(hm_df3)\n",
    "sns_plot.savefig(\"new_rels.png\")"
   ]
  },
  {
   "cell_type": "code",
   "execution_count": 26,
   "metadata": {
    "collapsed": true
   },
   "outputs": [
    {
     "data": {
      "image/png": "[encoded data removed]",
      "text/plain": [
       "<Figure size 1440x216 with 2 Axes>"
      ]
     },
     "metadata": {},
     "output_type": "display_data"
    }
   ],
   "source": [
    " \n",
    "sns_plot = plt.figure(figsize=(20, 3))\n",
    "show_df_hm2(hm_df4)\n",
    "sns_plot.savefig(\"rel_diff.png\")"
   ]
  },
  {
   "cell_type": "code",
   "execution_count": null,
   "metadata": {},
   "outputs": [],
   "source": [
    "[0, 1, 3, 6, 7, 9, 11, 12, 15, 30, 35, 37, 39, 42, 43, 47]"
   ]
  }
 ],
 "metadata": {
  "kernelspec": {
   "name": "python3",
   "language": "python",
   "display_name": "Python 3"
  },
  "language_info": {
   "codemirror_mode": {
    "name": "ipython",
    "version": 2
   },
   "file_extension": ".py",
   "mimetype": "text/x-python",
   "name": "python",
   "nbconvert_exporter": "python",
   "pygments_lexer": "ipython2",
   "version": "2.7.6"
  }
 },
 "nbformat": 4,
 "nbformat_minor": 0
}
